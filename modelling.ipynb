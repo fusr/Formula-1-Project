{
 "cells": [
  {
   "cell_type": "code",
   "execution_count": 1,
   "metadata": {},
   "outputs": [],
   "source": [
    "import pandas as pd"
   ]
  },
  {
   "cell_type": "code",
   "execution_count": 2,
   "metadata": {},
   "outputs": [],
   "source": [
    "modelling_data = pd.read_csv(\"data/df_deduplicated.csv\")"
   ]
  },
  {
   "cell_type": "code",
   "execution_count": 13,
   "metadata": {},
   "outputs": [
    {
     "name": "stdout",
     "output_type": "stream",
     "text": [
      "      Unnamed: 0             Tyres  From  To  #Laps  year_x  raceId  driverId   \n",
      "0              0         Soft Used     1  16     16    2012     860      18.0  \\\n",
      "1              2        Medium New    17  36     20    2012     860      18.0   \n",
      "2              4        Medium New    37  58     22    2012     860      18.0   \n",
      "3              6    Supersoft Used     1   4      4    2013     880      18.0   \n",
      "4              9        Medium New     5  20     16    2013     880      18.0   \n",
      "...          ...               ...   ...  ..    ...     ...     ...       ...   \n",
      "4696       24304  Intermediate New    13  23     11    2021    1053     853.0   \n",
      "4697       24308         Soft Used    24  31      8    2021    1053     853.0   \n",
      "4698       24334        Medium New     1  31     31    2021    1051     853.0   \n",
      "4699       24364        Medium New    15  41     27    2015     944     834.0   \n",
      "4700       24368          Soft New     1  27     27    2015     943     834.0   \n",
      "\n",
      "     driverRef_x  round  ...  fastestLapTime fastestLapSpeed statusId   \n",
      "0         button      1  ...        1:29.187         214.053        1  \\\n",
      "1         button      1  ...        1:29.187         214.053        1   \n",
      "2         button      1  ...        1:29.187         214.053        1   \n",
      "3         button      1  ...        1:30.198         211.654        1   \n",
      "4         button      1  ...        1:30.198         211.654        1   \n",
      "...          ...    ...  ...             ...             ...      ...   \n",
      "4696     mazepin      2  ...        1:20.402         219.800       12   \n",
      "4697     mazepin      2  ...        1:20.402         219.800       12   \n",
      "4698     mazepin     20  ...        1:27.340         221.754       12   \n",
      "4699       rossi     18  ...        1:18.617         197.316       14   \n",
      "4700       rossi     17  ...        1:25.005         182.276       12   \n",
      "\n",
      "     driverRef_y  surname  stop  lap      time  duration  milliseconds_y  \n",
      "0         button   Button     1   16  17:28:30    23.275           23275  \n",
      "1         button   Button     1   16  17:28:30    23.275           23275  \n",
      "2         button   Button     1   16  17:28:30    23.275           23275  \n",
      "3         button   Button     1    4  17:09:54    22.282           22282  \n",
      "4         button   Button     1    4  17:09:54    22.282           22282  \n",
      "...          ...      ...   ...  ...       ...       ...             ...  \n",
      "4696     mazepin  Mazepin     1   12  15:27:20    31.168           31168  \n",
      "4697     mazepin  Mazepin     1   12  15:27:20    31.168           31168  \n",
      "4698     mazepin  Mazepin     1   31  17:51:36    26.515           26515  \n",
      "4699       rossi    Rossi     1   14  14:22:03    25.492           25492  \n",
      "4700       rossi    Rossi     1   27  13:43:29    25.367           25367  \n",
      "\n",
      "[4701 rows x 41 columns]\n"
     ]
    }
   ],
   "source": [
    "print(modelling_data)"
   ]
  },
  {
   "cell_type": "code",
   "execution_count": 3,
   "metadata": {},
   "outputs": [
    {
     "data": {
      "text/html": [
       "<div>\n",
       "<style scoped>\n",
       "    .dataframe tbody tr th:only-of-type {\n",
       "        vertical-align: middle;\n",
       "    }\n",
       "\n",
       "    .dataframe tbody tr th {\n",
       "        vertical-align: top;\n",
       "    }\n",
       "\n",
       "    .dataframe thead th {\n",
       "        text-align: right;\n",
       "    }\n",
       "</style>\n",
       "<table border=\"1\" class=\"dataframe\">\n",
       "  <thead>\n",
       "    <tr style=\"text-align: right;\">\n",
       "      <th></th>\n",
       "      <th>Unnamed: 0</th>\n",
       "      <th>Tyres</th>\n",
       "      <th>From</th>\n",
       "      <th>To</th>\n",
       "      <th>#Laps</th>\n",
       "      <th>year_x</th>\n",
       "      <th>raceId</th>\n",
       "      <th>driverId</th>\n",
       "      <th>driverRef_x</th>\n",
       "      <th>round</th>\n",
       "      <th>...</th>\n",
       "      <th>fastestLapTime</th>\n",
       "      <th>fastestLapSpeed</th>\n",
       "      <th>statusId</th>\n",
       "      <th>driverRef_y</th>\n",
       "      <th>surname</th>\n",
       "      <th>stop</th>\n",
       "      <th>lap</th>\n",
       "      <th>time</th>\n",
       "      <th>duration</th>\n",
       "      <th>milliseconds_y</th>\n",
       "    </tr>\n",
       "  </thead>\n",
       "  <tbody>\n",
       "    <tr>\n",
       "      <th>0</th>\n",
       "      <td>0</td>\n",
       "      <td>Soft Used</td>\n",
       "      <td>1</td>\n",
       "      <td>16</td>\n",
       "      <td>16</td>\n",
       "      <td>2012</td>\n",
       "      <td>860</td>\n",
       "      <td>18.0</td>\n",
       "      <td>button</td>\n",
       "      <td>1</td>\n",
       "      <td>...</td>\n",
       "      <td>1:29.187</td>\n",
       "      <td>214.053</td>\n",
       "      <td>1</td>\n",
       "      <td>button</td>\n",
       "      <td>Button</td>\n",
       "      <td>1</td>\n",
       "      <td>16</td>\n",
       "      <td>17:28:30</td>\n",
       "      <td>23.275</td>\n",
       "      <td>23275</td>\n",
       "    </tr>\n",
       "    <tr>\n",
       "      <th>1</th>\n",
       "      <td>2</td>\n",
       "      <td>Medium New</td>\n",
       "      <td>17</td>\n",
       "      <td>36</td>\n",
       "      <td>20</td>\n",
       "      <td>2012</td>\n",
       "      <td>860</td>\n",
       "      <td>18.0</td>\n",
       "      <td>button</td>\n",
       "      <td>1</td>\n",
       "      <td>...</td>\n",
       "      <td>1:29.187</td>\n",
       "      <td>214.053</td>\n",
       "      <td>1</td>\n",
       "      <td>button</td>\n",
       "      <td>Button</td>\n",
       "      <td>1</td>\n",
       "      <td>16</td>\n",
       "      <td>17:28:30</td>\n",
       "      <td>23.275</td>\n",
       "      <td>23275</td>\n",
       "    </tr>\n",
       "    <tr>\n",
       "      <th>2</th>\n",
       "      <td>4</td>\n",
       "      <td>Medium New</td>\n",
       "      <td>37</td>\n",
       "      <td>58</td>\n",
       "      <td>22</td>\n",
       "      <td>2012</td>\n",
       "      <td>860</td>\n",
       "      <td>18.0</td>\n",
       "      <td>button</td>\n",
       "      <td>1</td>\n",
       "      <td>...</td>\n",
       "      <td>1:29.187</td>\n",
       "      <td>214.053</td>\n",
       "      <td>1</td>\n",
       "      <td>button</td>\n",
       "      <td>Button</td>\n",
       "      <td>1</td>\n",
       "      <td>16</td>\n",
       "      <td>17:28:30</td>\n",
       "      <td>23.275</td>\n",
       "      <td>23275</td>\n",
       "    </tr>\n",
       "    <tr>\n",
       "      <th>3</th>\n",
       "      <td>6</td>\n",
       "      <td>Supersoft Used</td>\n",
       "      <td>1</td>\n",
       "      <td>4</td>\n",
       "      <td>4</td>\n",
       "      <td>2013</td>\n",
       "      <td>880</td>\n",
       "      <td>18.0</td>\n",
       "      <td>button</td>\n",
       "      <td>1</td>\n",
       "      <td>...</td>\n",
       "      <td>1:30.198</td>\n",
       "      <td>211.654</td>\n",
       "      <td>1</td>\n",
       "      <td>button</td>\n",
       "      <td>Button</td>\n",
       "      <td>1</td>\n",
       "      <td>4</td>\n",
       "      <td>17:09:54</td>\n",
       "      <td>22.282</td>\n",
       "      <td>22282</td>\n",
       "    </tr>\n",
       "    <tr>\n",
       "      <th>4</th>\n",
       "      <td>9</td>\n",
       "      <td>Medium New</td>\n",
       "      <td>5</td>\n",
       "      <td>20</td>\n",
       "      <td>16</td>\n",
       "      <td>2013</td>\n",
       "      <td>880</td>\n",
       "      <td>18.0</td>\n",
       "      <td>button</td>\n",
       "      <td>1</td>\n",
       "      <td>...</td>\n",
       "      <td>1:30.198</td>\n",
       "      <td>211.654</td>\n",
       "      <td>1</td>\n",
       "      <td>button</td>\n",
       "      <td>Button</td>\n",
       "      <td>1</td>\n",
       "      <td>4</td>\n",
       "      <td>17:09:54</td>\n",
       "      <td>22.282</td>\n",
       "      <td>22282</td>\n",
       "    </tr>\n",
       "  </tbody>\n",
       "</table>\n",
       "<p>5 rows × 41 columns</p>\n",
       "</div>"
      ],
      "text/plain": [
       "   Unnamed: 0           Tyres  From  To  #Laps  year_x  raceId  driverId   \n",
       "0           0       Soft Used     1  16     16    2012     860      18.0  \\\n",
       "1           2      Medium New    17  36     20    2012     860      18.0   \n",
       "2           4      Medium New    37  58     22    2012     860      18.0   \n",
       "3           6  Supersoft Used     1   4      4    2013     880      18.0   \n",
       "4           9      Medium New     5  20     16    2013     880      18.0   \n",
       "\n",
       "  driverRef_x  round  ...  fastestLapTime fastestLapSpeed statusId   \n",
       "0      button      1  ...        1:29.187         214.053        1  \\\n",
       "1      button      1  ...        1:29.187         214.053        1   \n",
       "2      button      1  ...        1:29.187         214.053        1   \n",
       "3      button      1  ...        1:30.198         211.654        1   \n",
       "4      button      1  ...        1:30.198         211.654        1   \n",
       "\n",
       "  driverRef_y  surname  stop  lap      time  duration  milliseconds_y  \n",
       "0      button   Button     1   16  17:28:30    23.275           23275  \n",
       "1      button   Button     1   16  17:28:30    23.275           23275  \n",
       "2      button   Button     1   16  17:28:30    23.275           23275  \n",
       "3      button   Button     1    4  17:09:54    22.282           22282  \n",
       "4      button   Button     1    4  17:09:54    22.282           22282  \n",
       "\n",
       "[5 rows x 41 columns]"
      ]
     },
     "execution_count": 3,
     "metadata": {},
     "output_type": "execute_result"
    }
   ],
   "source": [
    "modelling_data.head()"
   ]
  },
  {
   "cell_type": "code",
   "execution_count": 4,
   "metadata": {},
   "outputs": [
    {
     "name": "stdout",
     "output_type": "stream",
     "text": [
      "<class 'pandas.core.frame.DataFrame'>\n",
      "RangeIndex: 4701 entries, 0 to 4700\n",
      "Data columns (total 41 columns):\n",
      " #   Column           Non-Null Count  Dtype  \n",
      "---  ------           --------------  -----  \n",
      " 0   Unnamed: 0       4701 non-null   int64  \n",
      " 1   Tyres            4701 non-null   object \n",
      " 2   From             4701 non-null   int64  \n",
      " 3   To               4701 non-null   int64  \n",
      " 4   #Laps            4701 non-null   int64  \n",
      " 5   year_x           4701 non-null   int64  \n",
      " 6   raceId           4701 non-null   int64  \n",
      " 7   driverId         4701 non-null   float64\n",
      " 8   driverRef_x      4701 non-null   object \n",
      " 9   round            4701 non-null   int64  \n",
      " 10  circuitId        4701 non-null   int64  \n",
      " 11  name_x           4701 non-null   object \n",
      " 12  date             4701 non-null   object \n",
      " 13  time_x           4701 non-null   object \n",
      " 14  weather_cloudy   4701 non-null   bool   \n",
      " 15  weather_cold     4701 non-null   bool   \n",
      " 16  weather_dry      4701 non-null   bool   \n",
      " 17  weather_warm     4701 non-null   bool   \n",
      " 18  weather_wet      4701 non-null   bool   \n",
      " 19  resultId         4701 non-null   int64  \n",
      " 20  constructorId    4701 non-null   int64  \n",
      " 21  number_x         4701 non-null   int64  \n",
      " 22  grid             4701 non-null   int64  \n",
      " 23  position         4701 non-null   object \n",
      " 24  positionOrder    4701 non-null   int64  \n",
      " 25  points           4701 non-null   float64\n",
      " 26  laps             4701 non-null   int64  \n",
      " 27  time_y           4701 non-null   object \n",
      " 28  milliseconds_x   4701 non-null   object \n",
      " 29  fastestLap       4701 non-null   object \n",
      " 30  rank             4701 non-null   int64  \n",
      " 31  fastestLapTime   4701 non-null   object \n",
      " 32  fastestLapSpeed  4701 non-null   object \n",
      " 33  statusId         4701 non-null   int64  \n",
      " 34  driverRef_y      4701 non-null   object \n",
      " 35  surname          4701 non-null   object \n",
      " 36  stop             4701 non-null   int64  \n",
      " 37  lap              4701 non-null   int64  \n",
      " 38  time             4701 non-null   object \n",
      " 39  duration         4701 non-null   object \n",
      " 40  milliseconds_y   4701 non-null   int64  \n",
      "dtypes: bool(5), float64(2), int64(19), object(15)\n",
      "memory usage: 1.3+ MB\n"
     ]
    }
   ],
   "source": [
    "modelling_data.info()"
   ]
  },
  {
   "cell_type": "code",
   "execution_count": 7,
   "metadata": {},
   "outputs": [
    {
     "data": {
      "text/plain": [
       "4701"
      ]
     },
     "execution_count": 7,
     "metadata": {},
     "output_type": "execute_result"
    }
   ],
   "source": [
    "modelling_data.duplicated().count()"
   ]
  },
  {
   "cell_type": "code",
   "execution_count": 9,
   "metadata": {},
   "outputs": [
    {
     "data": {
      "text/plain": [
       "array([2012, 2013, 2014, 2015, 2016, 2017, 2018, 2019, 2020, 2021, 2022])"
      ]
     },
     "execution_count": 9,
     "metadata": {},
     "output_type": "execute_result"
    }
   ],
   "source": [
    "modelling_data.year_x.unique()"
   ]
  },
  {
   "cell_type": "code",
   "execution_count": 10,
   "metadata": {},
   "outputs": [
    {
     "data": {
      "text/plain": [
       "array(['Button', 'Vettel', 'Hamilton', 'Webber', 'Alonso', 'Kobayashi',\n",
       "       'Räikkönen', 'Pérez', 'Ricciardo', 'di Resta', 'Vergne', 'Rosberg',\n",
       "       'Maldonado', 'Glock', 'Pic', 'Massa', 'Kovalainen', 'Petrov',\n",
       "       'Schumacher', 'Grosjean', 'Hülkenberg', 'Sutil', 'Gutiérrez',\n",
       "       'Bottas', 'Chilton', 'van der Garde', 'Kvyat', 'Ericsson', 'Nasr',\n",
       "       'Sainz', 'Wehrlein', 'Haryanto', 'Ocon', 'Vandoorne', 'Stroll',\n",
       "       'Giovinazzi', 'Leclerc', 'Gasly', 'Sirotkin', 'Norris', 'Albon',\n",
       "       'Russell', 'Kubica', 'Tsunoda', 'Latifi', 'de la Rosa',\n",
       "       'Karthikeyan', 'Merhi', 'Stevens', 'Aitken', 'Mazepin', 'Rossi'],\n",
       "      dtype=object)"
      ]
     },
     "execution_count": 10,
     "metadata": {},
     "output_type": "execute_result"
    }
   ],
   "source": [
    "modelling_data.surname.unique()"
   ]
  },
  {
   "cell_type": "code",
   "execution_count": 11,
   "metadata": {},
   "outputs": [
    {
     "data": {
      "text/plain": [
       "Index(['Unnamed: 0', 'Tyres', 'From', 'To', '#Laps', 'year_x', 'raceId',\n",
       "       'driverId', 'driverRef_x', 'round', 'circuitId', 'name_x', 'date',\n",
       "       'time_x', 'weather_cloudy', 'weather_cold', 'weather_dry',\n",
       "       'weather_warm', 'weather_wet', 'resultId', 'constructorId', 'number_x',\n",
       "       'grid', 'position', 'positionOrder', 'points', 'laps', 'time_y',\n",
       "       'milliseconds_x', 'fastestLap', 'rank', 'fastestLapTime',\n",
       "       'fastestLapSpeed', 'statusId', 'driverRef_y', 'surname', 'stop', 'lap',\n",
       "       'time', 'duration', 'milliseconds_y'],\n",
       "      dtype='object')"
      ]
     },
     "execution_count": 11,
     "metadata": {},
     "output_type": "execute_result"
    }
   ],
   "source": [
    "modelling_data.columns"
   ]
  }
 ],
 "metadata": {
  "kernelspec": {
   "display_name": ".venv",
   "language": "python",
   "name": "python3"
  },
  "language_info": {
   "codemirror_mode": {
    "name": "ipython",
    "version": 3
   },
   "file_extension": ".py",
   "mimetype": "text/x-python",
   "name": "python",
   "nbconvert_exporter": "python",
   "pygments_lexer": "ipython3",
   "version": "3.11.3"
  },
  "orig_nbformat": 4
 },
 "nbformat": 4,
 "nbformat_minor": 2
}
