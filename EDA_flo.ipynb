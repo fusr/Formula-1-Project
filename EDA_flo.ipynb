{
 "cells": [
  {
   "cell_type": "code",
   "execution_count": 7,
   "metadata": {},
   "outputs": [],
   "source": [
    "# importing required libraries \n",
    "\n",
    "import pandas as pd\n",
    "import plotly as plt\n",
    "import seaborn as sns\n",
    "#import matplotlib.pyplot as plt \n",
    "import numpy as np\n",
    "from sklearn.model_selection import train_test_split\n",
    "import warnings\n",
    "warnings.simplefilter(\"ignore\")\n",
    "pd.set_option('display.max_columns', None)"
   ]
  },
  {
   "cell_type": "code",
   "execution_count": 34,
   "metadata": {},
   "outputs": [],
   "source": [
    "circuit_df = pd.read_csv(\"data/circuits.csv\")\n",
    "constructor_results_df = pd.read_csv(\"data/constructor_results.csv\")\n",
    "constructors_df = pd.read_csv(\"data/constructors.csv\")\n",
    "driver_standings_df = pd.read_csv(\"data/driver_standings.csv\")\n",
    "drivers_df = pd.read_csv(\"data/drivers.csv\")\n",
    "lap_times_df = pd.read_csv(\"data/lap_times.csv\")\n",
    "pit_stops_df = pd.read_csv(\"data/pit_stops.csv\")\n",
    "qualifying_df = pd.read_csv(\"data/qualifying.csv\")\n",
    "races_df = pd.read_csv(\"data/races.csv\")\n",
    "results_df = pd.read_csv(\"data/results.csv\")\n",
    "seasons_df = pd.read_csv(\"data/seasons.csv\")\n",
    "sprint_res_df = pd.read_csv(\"data/sprint_results.csv\")\n",
    "status_df = pd.read_csv(\"data/status.csv\")\n",
    "tyre_data_df = pd.read_csv(\"data/tyre_data.csv\")\n",
    "races_with_weather_df = pd.read_csv(\"data/races_with_weather.csv\")\n",
    "races_with_dummies_df = pd.read_csv(\"data/races_with_dummies.csv\")"
   ]
  },
  {
   "cell_type": "code",
   "execution_count": 35,
   "metadata": {},
   "outputs": [
    {
     "name": "stdout",
     "output_type": "stream",
     "text": [
      "     driverId  Unnamed: 0           Driver           GP              Tyres   \n",
      "0          50           0   Max Verstappen      Bahrain          Soft Used  \\\n",
      "1          50           1   Max Verstappen      Bahrain          Soft Used   \n",
      "2          50           2   Max Verstappen      Bahrain           Hard New   \n",
      "3         815           3     Sergio Perez      Bahrain          Soft Used   \n",
      "4         815           4     Sergio Perez      Bahrain          Soft Used   \n",
      "..        ...         ...              ...          ...                ...   \n",
      "763      <NA>         763      Zhou Guanyu  Netherlands           Soft New   \n",
      "764       858         764   Logan Sargeant  Netherlands           Soft New   \n",
      "765        50         765   Max Verstappen  Netherlands  Intermediate Used   \n",
      "766       842         766     Pierre Gasly  Netherlands           Soft New   \n",
      "767       807         767  Nico Hulkenberg  Netherlands         Medium New   \n",
      "\n",
      "     From  To  #Laps  year  \n",
      "0       1  14     14  2023  \n",
      "1      15  36     22  2023  \n",
      "2      37  57     21  2023  \n",
      "3       1  17     17  2023  \n",
      "4      18  34     17  2023  \n",
      "..    ...  ..    ...   ...  \n",
      "763    38  60     23  2023  \n",
      "764     1  14     14  2023  \n",
      "765    65  72      8  2023  \n",
      "766    47  60     14  2023  \n",
      "767    17  48     32  2023  \n",
      "\n",
      "[768 rows x 9 columns]\n"
     ]
    }
   ],
   "source": [
    "# add driverId to the tyre_data_df\n",
    "\n",
    "\n",
    "# Convert driverRef to lowercase for case-insensitive matching\n",
    "drivers_df['driverRef'] = drivers_df['driverRef'].str.lower()\n",
    "\n",
    "# Initialize a dictionary to store driverIds\n",
    "driver_id_dict = {}\n",
    "\n",
    "# Populate the driver_id_dict with driverRefs and corresponding driverIds\n",
    "for _, row in drivers_df.iterrows():\n",
    "    driver_id_dict[row['driverRef']] = row['driverId']\n",
    "\n",
    "# Function to get driverId based on last name\n",
    "def get_driver_id(last_name):\n",
    "    return driver_id_dict.get(last_name, None)\n",
    "\n",
    "# Split the Driver column if it's not null or empty, and apply the get_driver_id function\n",
    "tyre_data_df['last_name'] = tyre_data_df['Driver'].apply(lambda x: x.split()[-1].lower() if isinstance(x, str) and x.strip() != '' else None)\n",
    "tyre_data_df['driverId'] = tyre_data_df['last_name'].apply(get_driver_id)\n",
    "\n",
    "# Convert driverId column to integers\n",
    "tyre_data_df['driverId'] = pd.to_numeric(tyre_data_df['driverId'], errors='coerce').astype(pd.Int32Dtype())\n",
    "\n",
    "# Drop the intermediate last_name column\n",
    "tyre_data_df.drop('last_name', axis=1, inplace=True)\n",
    "\n",
    "# Move the \"driverId\" column to the first position\n",
    "columns = ['driverId'] + [col for col in tyre_data_df if col != 'driverId']\n",
    "tyre_data_df = tyre_data_df[columns]\n",
    "\n",
    "print(tyre_data_df)\n",
    "\n",
    "\n",
    "\n",
    "\n"
   ]
  },
  {
   "cell_type": "code",
   "execution_count": 27,
   "metadata": {},
   "outputs": [
    {
     "data": {
      "text/html": [
       "<div>\n",
       "<style scoped>\n",
       "    .dataframe tbody tr th:only-of-type {\n",
       "        vertical-align: middle;\n",
       "    }\n",
       "\n",
       "    .dataframe tbody tr th {\n",
       "        vertical-align: top;\n",
       "    }\n",
       "\n",
       "    .dataframe thead th {\n",
       "        text-align: right;\n",
       "    }\n",
       "</style>\n",
       "<table border=\"1\" class=\"dataframe\">\n",
       "  <thead>\n",
       "    <tr style=\"text-align: right;\">\n",
       "      <th></th>\n",
       "      <th>driverId</th>\n",
       "      <th>Unnamed: 0</th>\n",
       "      <th>Driver</th>\n",
       "      <th>GP</th>\n",
       "      <th>Tyres</th>\n",
       "      <th>From</th>\n",
       "      <th>To</th>\n",
       "      <th>#Laps</th>\n",
       "    </tr>\n",
       "  </thead>\n",
       "  <tbody>\n",
       "    <tr>\n",
       "      <th>0</th>\n",
       "      <td>50</td>\n",
       "      <td>0</td>\n",
       "      <td>Max Verstappen</td>\n",
       "      <td>Bahrain</td>\n",
       "      <td>Soft Used</td>\n",
       "      <td>1</td>\n",
       "      <td>14</td>\n",
       "      <td>14</td>\n",
       "    </tr>\n",
       "    <tr>\n",
       "      <th>1</th>\n",
       "      <td>50</td>\n",
       "      <td>1</td>\n",
       "      <td>Max Verstappen</td>\n",
       "      <td>Bahrain</td>\n",
       "      <td>Soft Used</td>\n",
       "      <td>15</td>\n",
       "      <td>36</td>\n",
       "      <td>22</td>\n",
       "    </tr>\n",
       "    <tr>\n",
       "      <th>2</th>\n",
       "      <td>50</td>\n",
       "      <td>2</td>\n",
       "      <td>Max Verstappen</td>\n",
       "      <td>Bahrain</td>\n",
       "      <td>Hard New</td>\n",
       "      <td>37</td>\n",
       "      <td>57</td>\n",
       "      <td>21</td>\n",
       "    </tr>\n",
       "    <tr>\n",
       "      <th>3</th>\n",
       "      <td>815</td>\n",
       "      <td>3</td>\n",
       "      <td>Sergio Perez</td>\n",
       "      <td>Bahrain</td>\n",
       "      <td>Soft Used</td>\n",
       "      <td>1</td>\n",
       "      <td>17</td>\n",
       "      <td>17</td>\n",
       "    </tr>\n",
       "    <tr>\n",
       "      <th>4</th>\n",
       "      <td>815</td>\n",
       "      <td>4</td>\n",
       "      <td>Sergio Perez</td>\n",
       "      <td>Bahrain</td>\n",
       "      <td>Soft Used</td>\n",
       "      <td>18</td>\n",
       "      <td>34</td>\n",
       "      <td>17</td>\n",
       "    </tr>\n",
       "  </tbody>\n",
       "</table>\n",
       "</div>"
      ],
      "text/plain": [
       "   driverId  Unnamed: 0          Driver       GP      Tyres  From  To  #Laps\n",
       "0        50           0  Max Verstappen  Bahrain  Soft Used     1  14     14\n",
       "1        50           1  Max Verstappen  Bahrain  Soft Used    15  36     22\n",
       "2        50           2  Max Verstappen  Bahrain   Hard New    37  57     21\n",
       "3       815           3    Sergio Perez  Bahrain  Soft Used     1  17     17\n",
       "4       815           4    Sergio Perez  Bahrain  Soft Used    18  34     17"
      ]
     },
     "execution_count": 27,
     "metadata": {},
     "output_type": "execute_result"
    }
   ],
   "source": [
    "tyre_data_df.head()"
   ]
  },
  {
   "cell_type": "code",
   "execution_count": 30,
   "metadata": {},
   "outputs": [
    {
     "ename": "KeyError",
     "evalue": "\"['Unnamed: 0'] not found in axis\"",
     "output_type": "error",
     "traceback": [
      "\u001b[0;31m---------------------------------------------------------------------------\u001b[0m",
      "\u001b[0;31mKeyError\u001b[0m                                  Traceback (most recent call last)",
      "Cell \u001b[0;32mIn[30], line 2\u001b[0m\n\u001b[1;32m      1\u001b[0m \u001b[39m# drop Unnamed\u001b[39;00m\n\u001b[0;32m----> 2\u001b[0m tyre_data_df \u001b[39m=\u001b[39m tyre_data_df\u001b[39m.\u001b[39;49mdrop(\u001b[39m\"\u001b[39;49m\u001b[39mUnnamed: 0\u001b[39;49m\u001b[39m\"\u001b[39;49m,axis\u001b[39m=\u001b[39;49m\u001b[39m1\u001b[39;49m)\n\u001b[1;32m      3\u001b[0m tyre_data_df\u001b[39m.\u001b[39mto_csv(data\u001b[39m/\u001b[39mtyre_data\u001b[39m.\u001b[39mcsv, sep\u001b[39m=\u001b[39m\u001b[39m'\u001b[39m\u001b[39m\\t\u001b[39;00m\u001b[39m'\u001b[39m)\n",
      "File \u001b[0;32m~/neuefische/Formula-1-Project/.venv/lib/python3.9/site-packages/pandas/core/frame.py:5268\u001b[0m, in \u001b[0;36mDataFrame.drop\u001b[0;34m(self, labels, axis, index, columns, level, inplace, errors)\u001b[0m\n\u001b[1;32m   5120\u001b[0m \u001b[39mdef\u001b[39;00m \u001b[39mdrop\u001b[39m(\n\u001b[1;32m   5121\u001b[0m     \u001b[39mself\u001b[39m,\n\u001b[1;32m   5122\u001b[0m     labels: IndexLabel \u001b[39m=\u001b[39m \u001b[39mNone\u001b[39;00m,\n\u001b[0;32m   (...)\u001b[0m\n\u001b[1;32m   5129\u001b[0m     errors: IgnoreRaise \u001b[39m=\u001b[39m \u001b[39m\"\u001b[39m\u001b[39mraise\u001b[39m\u001b[39m\"\u001b[39m,\n\u001b[1;32m   5130\u001b[0m ) \u001b[39m-\u001b[39m\u001b[39m>\u001b[39m DataFrame \u001b[39m|\u001b[39m \u001b[39mNone\u001b[39;00m:\n\u001b[1;32m   5131\u001b[0m \u001b[39m    \u001b[39m\u001b[39m\"\"\"\u001b[39;00m\n\u001b[1;32m   5132\u001b[0m \u001b[39m    Drop specified labels from rows or columns.\u001b[39;00m\n\u001b[1;32m   5133\u001b[0m \n\u001b[0;32m   (...)\u001b[0m\n\u001b[1;32m   5266\u001b[0m \u001b[39m            weight  1.0     0.8\u001b[39;00m\n\u001b[1;32m   5267\u001b[0m \u001b[39m    \"\"\"\u001b[39;00m\n\u001b[0;32m-> 5268\u001b[0m     \u001b[39mreturn\u001b[39;00m \u001b[39msuper\u001b[39;49m()\u001b[39m.\u001b[39;49mdrop(\n\u001b[1;32m   5269\u001b[0m         labels\u001b[39m=\u001b[39;49mlabels,\n\u001b[1;32m   5270\u001b[0m         axis\u001b[39m=\u001b[39;49maxis,\n\u001b[1;32m   5271\u001b[0m         index\u001b[39m=\u001b[39;49mindex,\n\u001b[1;32m   5272\u001b[0m         columns\u001b[39m=\u001b[39;49mcolumns,\n\u001b[1;32m   5273\u001b[0m         level\u001b[39m=\u001b[39;49mlevel,\n\u001b[1;32m   5274\u001b[0m         inplace\u001b[39m=\u001b[39;49minplace,\n\u001b[1;32m   5275\u001b[0m         errors\u001b[39m=\u001b[39;49merrors,\n\u001b[1;32m   5276\u001b[0m     )\n",
      "File \u001b[0;32m~/neuefische/Formula-1-Project/.venv/lib/python3.9/site-packages/pandas/core/generic.py:4549\u001b[0m, in \u001b[0;36mNDFrame.drop\u001b[0;34m(self, labels, axis, index, columns, level, inplace, errors)\u001b[0m\n\u001b[1;32m   4547\u001b[0m \u001b[39mfor\u001b[39;00m axis, labels \u001b[39min\u001b[39;00m axes\u001b[39m.\u001b[39mitems():\n\u001b[1;32m   4548\u001b[0m     \u001b[39mif\u001b[39;00m labels \u001b[39mis\u001b[39;00m \u001b[39mnot\u001b[39;00m \u001b[39mNone\u001b[39;00m:\n\u001b[0;32m-> 4549\u001b[0m         obj \u001b[39m=\u001b[39m obj\u001b[39m.\u001b[39;49m_drop_axis(labels, axis, level\u001b[39m=\u001b[39;49mlevel, errors\u001b[39m=\u001b[39;49merrors)\n\u001b[1;32m   4551\u001b[0m \u001b[39mif\u001b[39;00m inplace:\n\u001b[1;32m   4552\u001b[0m     \u001b[39mself\u001b[39m\u001b[39m.\u001b[39m_update_inplace(obj)\n",
      "File \u001b[0;32m~/neuefische/Formula-1-Project/.venv/lib/python3.9/site-packages/pandas/core/generic.py:4591\u001b[0m, in \u001b[0;36mNDFrame._drop_axis\u001b[0;34m(self, labels, axis, level, errors, only_slice)\u001b[0m\n\u001b[1;32m   4589\u001b[0m         new_axis \u001b[39m=\u001b[39m axis\u001b[39m.\u001b[39mdrop(labels, level\u001b[39m=\u001b[39mlevel, errors\u001b[39m=\u001b[39merrors)\n\u001b[1;32m   4590\u001b[0m     \u001b[39melse\u001b[39;00m:\n\u001b[0;32m-> 4591\u001b[0m         new_axis \u001b[39m=\u001b[39m axis\u001b[39m.\u001b[39;49mdrop(labels, errors\u001b[39m=\u001b[39;49merrors)\n\u001b[1;32m   4592\u001b[0m     indexer \u001b[39m=\u001b[39m axis\u001b[39m.\u001b[39mget_indexer(new_axis)\n\u001b[1;32m   4594\u001b[0m \u001b[39m# Case for non-unique axis\u001b[39;00m\n\u001b[1;32m   4595\u001b[0m \u001b[39melse\u001b[39;00m:\n",
      "File \u001b[0;32m~/neuefische/Formula-1-Project/.venv/lib/python3.9/site-packages/pandas/core/indexes/base.py:6696\u001b[0m, in \u001b[0;36mIndex.drop\u001b[0;34m(self, labels, errors)\u001b[0m\n\u001b[1;32m   6694\u001b[0m \u001b[39mif\u001b[39;00m mask\u001b[39m.\u001b[39many():\n\u001b[1;32m   6695\u001b[0m     \u001b[39mif\u001b[39;00m errors \u001b[39m!=\u001b[39m \u001b[39m\"\u001b[39m\u001b[39mignore\u001b[39m\u001b[39m\"\u001b[39m:\n\u001b[0;32m-> 6696\u001b[0m         \u001b[39mraise\u001b[39;00m \u001b[39mKeyError\u001b[39;00m(\u001b[39mf\u001b[39m\u001b[39m\"\u001b[39m\u001b[39m{\u001b[39;00m\u001b[39mlist\u001b[39m(labels[mask])\u001b[39m}\u001b[39;00m\u001b[39m not found in axis\u001b[39m\u001b[39m\"\u001b[39m)\n\u001b[1;32m   6697\u001b[0m     indexer \u001b[39m=\u001b[39m indexer[\u001b[39m~\u001b[39mmask]\n\u001b[1;32m   6698\u001b[0m \u001b[39mreturn\u001b[39;00m \u001b[39mself\u001b[39m\u001b[39m.\u001b[39mdelete(indexer)\n",
      "\u001b[0;31mKeyError\u001b[0m: \"['Unnamed: 0'] not found in axis\""
     ]
    }
   ],
   "source": [
    "# drop Unnamed\n",
    "tyre_data_df = tyre_data_df.drop(\"Unnamed: 0\",axis=1)\n"
   ]
  },
  {
   "cell_type": "code",
   "execution_count": 33,
   "metadata": {},
   "outputs": [],
   "source": [
    "tyre_data_df.to_csv(\"data/tyre_data.csv\")"
   ]
  },
  {
   "cell_type": "code",
   "execution_count": 29,
   "metadata": {},
   "outputs": [
    {
     "data": {
      "text/html": [
       "<div>\n",
       "<style scoped>\n",
       "    .dataframe tbody tr th:only-of-type {\n",
       "        vertical-align: middle;\n",
       "    }\n",
       "\n",
       "    .dataframe tbody tr th {\n",
       "        vertical-align: top;\n",
       "    }\n",
       "\n",
       "    .dataframe thead th {\n",
       "        text-align: right;\n",
       "    }\n",
       "</style>\n",
       "<table border=\"1\" class=\"dataframe\">\n",
       "  <thead>\n",
       "    <tr style=\"text-align: right;\">\n",
       "      <th></th>\n",
       "      <th>driverId</th>\n",
       "      <th>Driver</th>\n",
       "      <th>GP</th>\n",
       "      <th>Tyres</th>\n",
       "      <th>From</th>\n",
       "      <th>To</th>\n",
       "      <th>#Laps</th>\n",
       "    </tr>\n",
       "  </thead>\n",
       "  <tbody>\n",
       "    <tr>\n",
       "      <th>0</th>\n",
       "      <td>50</td>\n",
       "      <td>Max Verstappen</td>\n",
       "      <td>Bahrain</td>\n",
       "      <td>Soft Used</td>\n",
       "      <td>1</td>\n",
       "      <td>14</td>\n",
       "      <td>14</td>\n",
       "    </tr>\n",
       "    <tr>\n",
       "      <th>1</th>\n",
       "      <td>50</td>\n",
       "      <td>Max Verstappen</td>\n",
       "      <td>Bahrain</td>\n",
       "      <td>Soft Used</td>\n",
       "      <td>15</td>\n",
       "      <td>36</td>\n",
       "      <td>22</td>\n",
       "    </tr>\n",
       "    <tr>\n",
       "      <th>2</th>\n",
       "      <td>50</td>\n",
       "      <td>Max Verstappen</td>\n",
       "      <td>Bahrain</td>\n",
       "      <td>Hard New</td>\n",
       "      <td>37</td>\n",
       "      <td>57</td>\n",
       "      <td>21</td>\n",
       "    </tr>\n",
       "    <tr>\n",
       "      <th>3</th>\n",
       "      <td>815</td>\n",
       "      <td>Sergio Perez</td>\n",
       "      <td>Bahrain</td>\n",
       "      <td>Soft Used</td>\n",
       "      <td>1</td>\n",
       "      <td>17</td>\n",
       "      <td>17</td>\n",
       "    </tr>\n",
       "    <tr>\n",
       "      <th>4</th>\n",
       "      <td>815</td>\n",
       "      <td>Sergio Perez</td>\n",
       "      <td>Bahrain</td>\n",
       "      <td>Soft Used</td>\n",
       "      <td>18</td>\n",
       "      <td>34</td>\n",
       "      <td>17</td>\n",
       "    </tr>\n",
       "    <tr>\n",
       "      <th>...</th>\n",
       "      <td>...</td>\n",
       "      <td>...</td>\n",
       "      <td>...</td>\n",
       "      <td>...</td>\n",
       "      <td>...</td>\n",
       "      <td>...</td>\n",
       "      <td>...</td>\n",
       "    </tr>\n",
       "    <tr>\n",
       "      <th>654</th>\n",
       "      <td>832</td>\n",
       "      <td>Carlos Sainz</td>\n",
       "      <td>Belgium</td>\n",
       "      <td>Medium New</td>\n",
       "      <td>8</td>\n",
       "      <td>23</td>\n",
       "      <td>16</td>\n",
       "    </tr>\n",
       "    <tr>\n",
       "      <th>655</th>\n",
       "      <td>857</td>\n",
       "      <td>Oscar Piastri</td>\n",
       "      <td>Belgium</td>\n",
       "      <td>Medium New</td>\n",
       "      <td>1</td>\n",
       "      <td>1</td>\n",
       "      <td>1</td>\n",
       "    </tr>\n",
       "    <tr>\n",
       "      <th>656</th>\n",
       "      <td>844</td>\n",
       "      <td>Charles Leclerc</td>\n",
       "      <td>Belgium</td>\n",
       "      <td>Soft New</td>\n",
       "      <td>1</td>\n",
       "      <td>13</td>\n",
       "      <td>13</td>\n",
       "    </tr>\n",
       "    <tr>\n",
       "      <th>657</th>\n",
       "      <td>844</td>\n",
       "      <td>Charles Leclerc</td>\n",
       "      <td>Belgium</td>\n",
       "      <td>Medium New</td>\n",
       "      <td>14</td>\n",
       "      <td>28</td>\n",
       "      <td>15</td>\n",
       "    </tr>\n",
       "    <tr>\n",
       "      <th>658</th>\n",
       "      <td>844</td>\n",
       "      <td>Charles Leclerc</td>\n",
       "      <td>Belgium</td>\n",
       "      <td>Soft New</td>\n",
       "      <td>29</td>\n",
       "      <td>44</td>\n",
       "      <td>16</td>\n",
       "    </tr>\n",
       "  </tbody>\n",
       "</table>\n",
       "<p>659 rows × 7 columns</p>\n",
       "</div>"
      ],
      "text/plain": [
       "     driverId           Driver       GP       Tyres  From  To  #Laps\n",
       "0          50   Max Verstappen  Bahrain   Soft Used     1  14     14\n",
       "1          50   Max Verstappen  Bahrain   Soft Used    15  36     22\n",
       "2          50   Max Verstappen  Bahrain    Hard New    37  57     21\n",
       "3         815     Sergio Perez  Bahrain   Soft Used     1  17     17\n",
       "4         815     Sergio Perez  Bahrain   Soft Used    18  34     17\n",
       "..        ...              ...      ...         ...   ...  ..    ...\n",
       "654       832     Carlos Sainz  Belgium  Medium New     8  23     16\n",
       "655       857    Oscar Piastri  Belgium  Medium New     1   1      1\n",
       "656       844  Charles Leclerc  Belgium    Soft New     1  13     13\n",
       "657       844  Charles Leclerc  Belgium  Medium New    14  28     15\n",
       "658       844  Charles Leclerc  Belgium    Soft New    29  44     16\n",
       "\n",
       "[659 rows x 7 columns]"
      ]
     },
     "execution_count": 29,
     "metadata": {},
     "output_type": "execute_result"
    }
   ],
   "source": [
    "tyre_data_df"
   ]
  },
  {
   "cell_type": "code",
   "execution_count": 18,
   "metadata": {},
   "outputs": [
    {
     "name": "stdout",
     "output_type": "stream",
     "text": [
      "<class 'pandas.core.frame.DataFrame'>\n",
      "RangeIndex: 857 entries, 0 to 856\n",
      "Data columns (total 9 columns):\n",
      " #   Column       Non-Null Count  Dtype \n",
      "---  ------       --------------  ----- \n",
      " 0   driverId     857 non-null    int64 \n",
      " 1   driverRef    857 non-null    object\n",
      " 2   number       857 non-null    object\n",
      " 3   code         857 non-null    object\n",
      " 4   forename     857 non-null    object\n",
      " 5   surname      857 non-null    object\n",
      " 6   dob          857 non-null    object\n",
      " 7   nationality  857 non-null    object\n",
      " 8   url          857 non-null    object\n",
      "dtypes: int64(1), object(8)\n",
      "memory usage: 60.4+ KB\n"
     ]
    }
   ],
   "source": [
    "drivers_df.info()"
   ]
  },
  {
   "cell_type": "code",
   "execution_count": null,
   "metadata": {},
   "outputs": [],
   "source": [
    "pit_stops_df.info()"
   ]
  },
  {
   "cell_type": "code",
   "execution_count": null,
   "metadata": {},
   "outputs": [],
   "source": [
    "pit_stops_df.describe()"
   ]
  },
  {
   "cell_type": "markdown",
   "metadata": {},
   "source": [
    "Hypothesis: \n",
    "Pit stop duration -> the more pit stops and the longer the duration the worse the race results will be.\n",
    "(maybe consider the different pit lane losses of different cicuits. Depending on these, max. speed in pit lanes is different)\n",
    "\n",
    "Does the position influence the choice to make a pit stop?"
   ]
  },
  {
   "cell_type": "code",
   "execution_count": null,
   "metadata": {},
   "outputs": [],
   "source": [
    "# Does the position during the race influence the choice to make a pit stop? Do drivers on bad positions tend to \n",
    "\n"
   ]
  },
  {
   "cell_type": "code",
   "execution_count": null,
   "metadata": {},
   "outputs": [],
   "source": [
    "# wait longer to gain better positions?\n",
    "# Are there circuits where pit stops are taken more frequently?\n",
    "# How does the weather influence the choice to make a pit stop? (can't measure it)\n",
    "# Are pit lanes included in pit stop duration? \n",
    "# How did the duration of pit stops change over time? (technical improvements?!)\n",
    "# How high is the variance of pit stop duration between the teams?\n",
    "# Is there a connection between pit stop duration and race results? (hard to measure correlation)\n",
    "# Are the lap times faster after a pit stop and increase the more rounds after one pit stop?"
   ]
  },
  {
   "cell_type": "markdown",
   "metadata": {},
   "source": [
    "What tables do we need?\n",
    "\n",
    "1. x pit_stops_df\n",
    "2. x results_df\n",
    "3. x races_df(/ races_with_dummies_df / races_with_weather_df) -> first without weather, need to  look for missing values\n",
    "4. x constructors_df\n",
    "5. x lap_times_df\n",
    "6. x drivers_df\n",
    "7. status_df\n",
    "8. (tyre_data_df) -> we need to add a column with driverId to this data frame based on the name column!"
   ]
  },
  {
   "cell_type": "code",
   "execution_count": 3,
   "metadata": {},
   "outputs": [],
   "source": [
    "# merging the necessary data frames\n",
    "\n",
    "part_1 = pd.merge(results_df, races_with_weather_df, on=\"raceId\")\n",
    "part_2 = pd.merge(part_1, pit_stops_df, on=\"raceId\")\n",
    "part_3 = pd.merge(part_2, constructors_df, on=\"constructorId\")\n",
    "\n"
   ]
  },
  {
   "cell_type": "code",
   "execution_count": 4,
   "metadata": {},
   "outputs": [],
   "source": [
    "# rename \"time_x\" because of merge conflicts (same suffixes)\n",
    "part_3 = part_3.rename(columns={'time_x': 'time_x_df1'})\n"
   ]
  },
  {
   "cell_type": "code",
   "execution_count": 8,
   "metadata": {},
   "outputs": [
    {
     "name": "stdout",
     "output_type": "stream",
     "text": [
      "<class 'pandas.core.frame.DataFrame'>\n",
      "RangeIndex: 205941 entries, 0 to 205940\n",
      "Data columns (total 46 columns):\n",
      " #   Column            Non-Null Count   Dtype  \n",
      "---  ------            --------------   -----  \n",
      " 0   resultId          205941 non-null  int64  \n",
      " 1   raceId            205941 non-null  int64  \n",
      " 2   driverId_x        205941 non-null  int64  \n",
      " 3   constructorId     205941 non-null  int64  \n",
      " 4   number            205941 non-null  object \n",
      " 5   grid              205941 non-null  int64  \n",
      " 6   position          205941 non-null  object \n",
      " 7   positionText      205941 non-null  object \n",
      " 8   positionOrder     205941 non-null  int64  \n",
      " 9   points            205941 non-null  float64\n",
      " 10  laps              205941 non-null  int64  \n",
      " 11  time_x_df1        205941 non-null  object \n",
      " 12  milliseconds_x    205941 non-null  object \n",
      " 13  fastestLap        205941 non-null  object \n",
      " 14  rank              205941 non-null  object \n",
      " 15  fastestLapTime    205941 non-null  object \n",
      " 16  fastestLapSpeed   205941 non-null  object \n",
      " 17  statusId          205941 non-null  int64  \n",
      " 18  year              205941 non-null  int64  \n",
      " 19  round             205941 non-null  int64  \n",
      " 20  circuitId         205941 non-null  int64  \n",
      " 21  name_x            205941 non-null  object \n",
      " 22  date              205941 non-null  object \n",
      " 23  time_y            205941 non-null  object \n",
      " 24  url_x             205941 non-null  object \n",
      " 25  fp1_date          205941 non-null  object \n",
      " 26  fp1_time          205941 non-null  object \n",
      " 27  fp2_date          205941 non-null  object \n",
      " 28  fp2_time          205941 non-null  object \n",
      " 29  fp3_date          205941 non-null  object \n",
      " 30  fp3_time          205941 non-null  object \n",
      " 31  quali_date        205941 non-null  object \n",
      " 32  quali_time        205941 non-null  object \n",
      " 33  sprint_date       205941 non-null  object \n",
      " 34  sprint_time       205941 non-null  object \n",
      " 35  weather_category  205941 non-null  object \n",
      " 36  driverId_y        205941 non-null  int64  \n",
      " 37  stop              205941 non-null  int64  \n",
      " 38  lap               205941 non-null  int64  \n",
      " 39  time              205941 non-null  object \n",
      " 40  duration          205941 non-null  object \n",
      " 41  milliseconds_y    205941 non-null  int64  \n",
      " 42  constructorRef    205941 non-null  object \n",
      " 43  name_y            205941 non-null  object \n",
      " 44  nationality       205941 non-null  object \n",
      " 45  url_y             205941 non-null  object \n",
      "dtypes: float64(1), int64(15), object(30)\n",
      "memory usage: 72.3+ MB\n"
     ]
    }
   ],
   "source": [
    "part_3.info()"
   ]
  },
  {
   "cell_type": "code",
   "execution_count": 5,
   "metadata": {},
   "outputs": [
    {
     "ename": "KeyError",
     "evalue": "'driverId'",
     "output_type": "error",
     "traceback": [
      "\u001b[0;31m---------------------------------------------------------------------------\u001b[0m",
      "\u001b[0;31mKeyError\u001b[0m                                  Traceback (most recent call last)",
      "\u001b[0;32m/var/folders/jr/p21bhxh16zs45yz56c_h0pbw0000gn/T/ipykernel_97160/69075981.py\u001b[0m in \u001b[0;36m?\u001b[0;34m()\u001b[0m\n\u001b[0;32m----> 1\u001b[0;31m \u001b[0mpart_4\u001b[0m \u001b[0;34m=\u001b[0m \u001b[0mpd\u001b[0m\u001b[0;34m.\u001b[0m\u001b[0mmerge\u001b[0m\u001b[0;34m(\u001b[0m\u001b[0mpart_3\u001b[0m\u001b[0;34m,\u001b[0m \u001b[0mdrivers_df\u001b[0m\u001b[0;34m,\u001b[0m \u001b[0mon\u001b[0m\u001b[0;34m=\u001b[0m\u001b[0;34m\"driverId\"\u001b[0m\u001b[0;34m)\u001b[0m\u001b[0;34m\u001b[0m\u001b[0;34m\u001b[0m\u001b[0m\n\u001b[0m\u001b[1;32m      2\u001b[0m \u001b[0mpit_stop_EDA_df\u001b[0m \u001b[0;34m=\u001b[0m \u001b[0mpd\u001b[0m\u001b[0;34m.\u001b[0m\u001b[0mmerge\u001b[0m\u001b[0;34m(\u001b[0m\u001b[0mpart_4\u001b[0m\u001b[0;34m,\u001b[0m \u001b[0mstatus_df\u001b[0m\u001b[0;34m,\u001b[0m \u001b[0mon\u001b[0m\u001b[0;34m=\u001b[0m\u001b[0;34m\"statusId\"\u001b[0m\u001b[0;34m)\u001b[0m\u001b[0;34m\u001b[0m\u001b[0;34m\u001b[0m\u001b[0m\n",
      "\u001b[0;32m~/neuefische/Formula-1-Project/.venv/lib/python3.9/site-packages/pandas/core/reshape/merge.py\u001b[0m in \u001b[0;36m?\u001b[0;34m(left, right, how, on, left_on, right_on, left_index, right_index, sort, suffixes, copy, indicator, validate)\u001b[0m\n\u001b[1;32m    140\u001b[0m     \u001b[0mcopy\u001b[0m\u001b[0;34m:\u001b[0m \u001b[0mbool\u001b[0m \u001b[0;34m|\u001b[0m \u001b[0;32mNone\u001b[0m \u001b[0;34m=\u001b[0m \u001b[0;32mNone\u001b[0m\u001b[0;34m,\u001b[0m\u001b[0;34m\u001b[0m\u001b[0;34m\u001b[0m\u001b[0m\n\u001b[1;32m    141\u001b[0m     \u001b[0mindicator\u001b[0m\u001b[0;34m:\u001b[0m \u001b[0mstr\u001b[0m \u001b[0;34m|\u001b[0m \u001b[0mbool\u001b[0m \u001b[0;34m=\u001b[0m \u001b[0;32mFalse\u001b[0m\u001b[0;34m,\u001b[0m\u001b[0;34m\u001b[0m\u001b[0;34m\u001b[0m\u001b[0m\n\u001b[1;32m    142\u001b[0m     \u001b[0mvalidate\u001b[0m\u001b[0;34m:\u001b[0m \u001b[0mstr\u001b[0m \u001b[0;34m|\u001b[0m \u001b[0;32mNone\u001b[0m \u001b[0;34m=\u001b[0m \u001b[0;32mNone\u001b[0m\u001b[0;34m,\u001b[0m\u001b[0;34m\u001b[0m\u001b[0;34m\u001b[0m\u001b[0m\n\u001b[1;32m    143\u001b[0m ) -> DataFrame:\n\u001b[0;32m--> 144\u001b[0;31m     op = _MergeOperation(\n\u001b[0m\u001b[1;32m    145\u001b[0m         \u001b[0mleft\u001b[0m\u001b[0;34m,\u001b[0m\u001b[0;34m\u001b[0m\u001b[0;34m\u001b[0m\u001b[0m\n\u001b[1;32m    146\u001b[0m         \u001b[0mright\u001b[0m\u001b[0;34m,\u001b[0m\u001b[0;34m\u001b[0m\u001b[0;34m\u001b[0m\u001b[0m\n\u001b[1;32m    147\u001b[0m         \u001b[0mhow\u001b[0m\u001b[0;34m=\u001b[0m\u001b[0mhow\u001b[0m\u001b[0;34m,\u001b[0m\u001b[0;34m\u001b[0m\u001b[0;34m\u001b[0m\u001b[0m\n",
      "\u001b[0;32m~/neuefische/Formula-1-Project/.venv/lib/python3.9/site-packages/pandas/core/reshape/merge.py\u001b[0m in \u001b[0;36m?\u001b[0;34m(self, left, right, how, on, left_on, right_on, axis, left_index, right_index, sort, suffixes, indicator, validate)\u001b[0m\n\u001b[1;32m    729\u001b[0m         (\n\u001b[1;32m    730\u001b[0m             \u001b[0mself\u001b[0m\u001b[0;34m.\u001b[0m\u001b[0mleft_join_keys\u001b[0m\u001b[0;34m,\u001b[0m\u001b[0;34m\u001b[0m\u001b[0;34m\u001b[0m\u001b[0m\n\u001b[1;32m    731\u001b[0m             \u001b[0mself\u001b[0m\u001b[0;34m.\u001b[0m\u001b[0mright_join_keys\u001b[0m\u001b[0;34m,\u001b[0m\u001b[0;34m\u001b[0m\u001b[0;34m\u001b[0m\u001b[0m\n\u001b[1;32m    732\u001b[0m             \u001b[0mself\u001b[0m\u001b[0;34m.\u001b[0m\u001b[0mjoin_names\u001b[0m\u001b[0;34m,\u001b[0m\u001b[0;34m\u001b[0m\u001b[0;34m\u001b[0m\u001b[0m\n\u001b[0;32m--> 733\u001b[0;31m         ) = self._get_merge_keys()\n\u001b[0m\u001b[1;32m    734\u001b[0m \u001b[0;34m\u001b[0m\u001b[0m\n\u001b[1;32m    735\u001b[0m         \u001b[0;31m# validate the merge keys dtypes. We may need to coerce\u001b[0m\u001b[0;34m\u001b[0m\u001b[0;34m\u001b[0m\u001b[0m\n\u001b[1;32m    736\u001b[0m         \u001b[0;31m# to avoid incompatible dtypes\u001b[0m\u001b[0;34m\u001b[0m\u001b[0;34m\u001b[0m\u001b[0m\n",
      "\u001b[0;32m~/neuefische/Formula-1-Project/.venv/lib/python3.9/site-packages/pandas/core/reshape/merge.py\u001b[0m in \u001b[0;36m?\u001b[0;34m(self)\u001b[0m\n\u001b[1;32m   1205\u001b[0m                     \u001b[0;32mif\u001b[0m \u001b[0mlk\u001b[0m \u001b[0;32mis\u001b[0m \u001b[0;32mnot\u001b[0m \u001b[0;32mNone\u001b[0m\u001b[0;34m:\u001b[0m\u001b[0;34m\u001b[0m\u001b[0;34m\u001b[0m\u001b[0m\n\u001b[1;32m   1206\u001b[0m                         \u001b[0;31m# Then we're either Hashable or a wrong-length arraylike,\u001b[0m\u001b[0;34m\u001b[0m\u001b[0;34m\u001b[0m\u001b[0m\n\u001b[1;32m   1207\u001b[0m                         \u001b[0;31m#  the latter of which will raise\u001b[0m\u001b[0;34m\u001b[0m\u001b[0;34m\u001b[0m\u001b[0m\n\u001b[1;32m   1208\u001b[0m                         \u001b[0mlk\u001b[0m \u001b[0;34m=\u001b[0m \u001b[0mcast\u001b[0m\u001b[0;34m(\u001b[0m\u001b[0mHashable\u001b[0m\u001b[0;34m,\u001b[0m \u001b[0mlk\u001b[0m\u001b[0;34m)\u001b[0m\u001b[0;34m\u001b[0m\u001b[0;34m\u001b[0m\u001b[0m\n\u001b[0;32m-> 1209\u001b[0;31m                         \u001b[0mleft_keys\u001b[0m\u001b[0;34m.\u001b[0m\u001b[0mappend\u001b[0m\u001b[0;34m(\u001b[0m\u001b[0mleft\u001b[0m\u001b[0;34m.\u001b[0m\u001b[0m_get_label_or_level_values\u001b[0m\u001b[0;34m(\u001b[0m\u001b[0mlk\u001b[0m\u001b[0;34m)\u001b[0m\u001b[0;34m)\u001b[0m\u001b[0;34m\u001b[0m\u001b[0;34m\u001b[0m\u001b[0m\n\u001b[0m\u001b[1;32m   1210\u001b[0m                         \u001b[0mjoin_names\u001b[0m\u001b[0;34m.\u001b[0m\u001b[0mappend\u001b[0m\u001b[0;34m(\u001b[0m\u001b[0mlk\u001b[0m\u001b[0;34m)\u001b[0m\u001b[0;34m\u001b[0m\u001b[0;34m\u001b[0m\u001b[0m\n\u001b[1;32m   1211\u001b[0m                     \u001b[0;32melse\u001b[0m\u001b[0;34m:\u001b[0m\u001b[0;34m\u001b[0m\u001b[0;34m\u001b[0m\u001b[0m\n\u001b[1;32m   1212\u001b[0m                         \u001b[0;31m# work-around for merge_asof(left_index=True)\u001b[0m\u001b[0;34m\u001b[0m\u001b[0;34m\u001b[0m\u001b[0m\n",
      "\u001b[0;32m~/neuefische/Formula-1-Project/.venv/lib/python3.9/site-packages/pandas/core/generic.py\u001b[0m in \u001b[0;36m?\u001b[0;34m(self, key, axis)\u001b[0m\n\u001b[1;32m   1774\u001b[0m             \u001b[0mvalues\u001b[0m \u001b[0;34m=\u001b[0m \u001b[0mself\u001b[0m\u001b[0;34m.\u001b[0m\u001b[0mxs\u001b[0m\u001b[0;34m(\u001b[0m\u001b[0mkey\u001b[0m\u001b[0;34m,\u001b[0m \u001b[0maxis\u001b[0m\u001b[0;34m=\u001b[0m\u001b[0mother_axes\u001b[0m\u001b[0;34m[\u001b[0m\u001b[0;36m0\u001b[0m\u001b[0;34m]\u001b[0m\u001b[0;34m)\u001b[0m\u001b[0;34m.\u001b[0m\u001b[0m_values\u001b[0m\u001b[0;34m\u001b[0m\u001b[0;34m\u001b[0m\u001b[0m\n\u001b[1;32m   1775\u001b[0m         \u001b[0;32melif\u001b[0m \u001b[0mself\u001b[0m\u001b[0;34m.\u001b[0m\u001b[0m_is_level_reference\u001b[0m\u001b[0;34m(\u001b[0m\u001b[0mkey\u001b[0m\u001b[0;34m,\u001b[0m \u001b[0maxis\u001b[0m\u001b[0;34m=\u001b[0m\u001b[0maxis\u001b[0m\u001b[0;34m)\u001b[0m\u001b[0;34m:\u001b[0m\u001b[0;34m\u001b[0m\u001b[0;34m\u001b[0m\u001b[0m\n\u001b[1;32m   1776\u001b[0m             \u001b[0mvalues\u001b[0m \u001b[0;34m=\u001b[0m \u001b[0mself\u001b[0m\u001b[0;34m.\u001b[0m\u001b[0maxes\u001b[0m\u001b[0;34m[\u001b[0m\u001b[0maxis\u001b[0m\u001b[0;34m]\u001b[0m\u001b[0;34m.\u001b[0m\u001b[0mget_level_values\u001b[0m\u001b[0;34m(\u001b[0m\u001b[0mkey\u001b[0m\u001b[0;34m)\u001b[0m\u001b[0;34m.\u001b[0m\u001b[0m_values\u001b[0m\u001b[0;34m\u001b[0m\u001b[0;34m\u001b[0m\u001b[0m\n\u001b[1;32m   1777\u001b[0m         \u001b[0;32melse\u001b[0m\u001b[0;34m:\u001b[0m\u001b[0;34m\u001b[0m\u001b[0;34m\u001b[0m\u001b[0m\n\u001b[0;32m-> 1778\u001b[0;31m             \u001b[0;32mraise\u001b[0m \u001b[0mKeyError\u001b[0m\u001b[0;34m(\u001b[0m\u001b[0mkey\u001b[0m\u001b[0;34m)\u001b[0m\u001b[0;34m\u001b[0m\u001b[0;34m\u001b[0m\u001b[0m\n\u001b[0m\u001b[1;32m   1779\u001b[0m \u001b[0;34m\u001b[0m\u001b[0m\n\u001b[1;32m   1780\u001b[0m         \u001b[0;31m# Check for duplicates\u001b[0m\u001b[0;34m\u001b[0m\u001b[0;34m\u001b[0m\u001b[0m\n\u001b[1;32m   1781\u001b[0m         \u001b[0;32mif\u001b[0m \u001b[0mvalues\u001b[0m\u001b[0;34m.\u001b[0m\u001b[0mndim\u001b[0m \u001b[0;34m>\u001b[0m \u001b[0;36m1\u001b[0m\u001b[0;34m:\u001b[0m\u001b[0;34m\u001b[0m\u001b[0;34m\u001b[0m\u001b[0m\n",
      "\u001b[0;31mKeyError\u001b[0m: 'driverId'"
     ]
    }
   ],
   "source": [
    "part_4 = pd.merge(part_3, drivers_df, on=\"driverId\")\n",
    "pit_stop_EDA_df = pd.merge(part_4, status_df, on=\"statusId\")"
   ]
  },
  {
   "cell_type": "code",
   "execution_count": 9,
   "metadata": {},
   "outputs": [
    {
     "ename": "",
     "evalue": "",
     "output_type": "error",
     "traceback": [
      "\u001b[1;31mDer Code kann nicht ausgeführt werden, die Sitzung wurde verworfen. Versuchen Sie, den Kernel neu zu starten."
     ]
    },
    {
     "ename": "",
     "evalue": "",
     "output_type": "error",
     "traceback": [
      "\u001b[1;31mDer Kernel ist beim Ausführen von Code in der aktuellen Zelle oder einer vorherigen Zelle abgestürzt. Bitte überprüfen Sie den Code in der/den Zelle(n), um eine mögliche Fehlerursache zu identifizieren. Klicken Sie <a href='https://aka.ms/vscodeJupyterKernelCrash'>hier</a>, um weitere Informationen zu erhalten. Weitere Details finden Sie in Jupyter <a href='command:jupyter.viewOutput'>log</a>."
     ]
    }
   ],
   "source": [
    "part_5 = pd.merge(part_4, lap_times_df, on=\"raceId\")"
   ]
  },
  {
   "cell_type": "code",
   "execution_count": null,
   "metadata": {},
   "outputs": [],
   "source": [
    "\n",
    "\n",
    "#pit_stop_EDA_df.get_option(\"display.max_columns\",None)"
   ]
  }
 ],
 "metadata": {
  "kernelspec": {
   "display_name": ".venv",
   "language": "python",
   "name": "python3"
  },
  "language_info": {
   "codemirror_mode": {
    "name": "ipython",
    "version": 3
   },
   "file_extension": ".py",
   "mimetype": "text/x-python",
   "name": "python",
   "nbconvert_exporter": "python",
   "pygments_lexer": "ipython3",
   "version": "3.9.8"
  },
  "orig_nbformat": 4
 },
 "nbformat": 4,
 "nbformat_minor": 2
}
