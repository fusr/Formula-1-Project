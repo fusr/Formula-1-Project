{
 "cells": [
  {
   "cell_type": "code",
   "execution_count": 1,
   "metadata": {},
   "outputs": [],
   "source": [
    "# importing required libraries \n",
    "\n",
    "import pandas as pd\n",
    "import seaborn as sns\n",
    "import matplotlib.pyplot as plt \n",
    "import numpy as np\n",
    "from sklearn.model_selection import train_test_split\n",
    "import warnings\n",
    "warnings.simplefilter(\"ignore\")\n",
    "pd.set_option('display.max_columns', None)"
   ]
  },
  {
   "cell_type": "code",
   "execution_count": 3,
   "metadata": {},
   "outputs": [],
   "source": [
    "circuit_df = pd.read_csv(\"data/circuits.csv\")\n",
    "constructor_results_df = pd.read_csv(\"data/constructor_results.csv\")\n",
    "constructors_df = pd.read_csv(\"data/constructors.csv\")\n",
    "driver_standings_df = pd.read_csv(\"data/driver_standings.csv\")\n",
    "drivers_df = pd.read_csv(\"data/drivers.csv\")\n",
    "lap_times_df = pd.read_csv(\"data/lap_times.csv\")\n",
    "pit_stops_df = pd.read_csv(\"data/pit_stops.csv\")\n",
    "qualifying_df = pd.read_csv(\"data/qualifying.csv\")\n",
    "races_df = pd.read_csv(\"data/races.csv\")\n",
    "results_df = pd.read_csv(\"data/results.csv\")\n",
    "seasons_df = pd.read_csv(\"data/seasons.csv\")\n",
    "sprint_res_df = pd.read_csv(\"data/sprint_results.csv\")\n",
    "status_df = pd.read_csv(\"data/status.csv\")\n",
    "tyre_data_df = pd.read_csv(\"data/tyre_data.csv\")"
   ]
  },
  {
   "cell_type": "code",
   "execution_count": 11,
   "metadata": {},
   "outputs": [
    {
     "data": {
      "text/plain": [
       "array(['Soft Used', 'Hard New', 'Soft New', 'Medium New', 'Hard Used',\n",
       "       'Medium Used', 'Intermediate New', 'Wet New'], dtype=object)"
      ]
     },
     "execution_count": 11,
     "metadata": {},
     "output_type": "execute_result"
    }
   ],
   "source": [
    "tyre_data_df[\"Tyres\"].unique()"
   ]
  }
 ],
 "metadata": {
  "kernelspec": {
   "display_name": ".venv",
   "language": "python",
   "name": "python3"
  },
  "language_info": {
   "codemirror_mode": {
    "name": "ipython",
    "version": 3
   },
   "file_extension": ".py",
   "mimetype": "text/x-python",
   "name": "python",
   "nbconvert_exporter": "python",
   "pygments_lexer": "ipython3",
   "version": "3.9.8"
  },
  "orig_nbformat": 4
 },
 "nbformat": 4,
 "nbformat_minor": 2
}
