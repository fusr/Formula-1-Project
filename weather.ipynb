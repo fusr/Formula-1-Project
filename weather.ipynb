{
 "cells": [
  {
   "cell_type": "code",
   "execution_count": 118,
   "metadata": {},
   "outputs": [],
   "source": [
    "# importing required libraries \n",
    "\n",
    "import pandas as pd\n",
    "import seaborn as sns\n",
    "import plotly.express as px\n",
    "import plotly.figure_factory as ff\n",
    "import plotly.graph_objects as go\n",
    "import matplotlib.pyplot as plt \n",
    "import numpy as np\n",
    "from sklearn.model_selection import train_test_split\n",
    "import warnings\n",
    "warnings.simplefilter(\"ignore\")\n",
    "pd.set_option('display.max_columns', None)"
   ]
  },
  {
   "cell_type": "code",
   "execution_count": 119,
   "metadata": {},
   "outputs": [],
   "source": [
    "races_with_weather_df = pd.read_csv(\"data/races_with_weather.csv\")\n",
    "tyre_data_df = pd.read_csv(\"data/tyre_data.csv\")\n",
    "tyre_new_data = pd.read_csv(\"data/tyre_data_new.csv\")\n"
   ]
  },
  {
   "cell_type": "code",
   "execution_count": 120,
   "metadata": {},
   "outputs": [
    {
     "data": {
      "text/html": [
       "<div>\n",
       "<style scoped>\n",
       "    .dataframe tbody tr th:only-of-type {\n",
       "        vertical-align: middle;\n",
       "    }\n",
       "\n",
       "    .dataframe tbody tr th {\n",
       "        vertical-align: top;\n",
       "    }\n",
       "\n",
       "    .dataframe thead th {\n",
       "        text-align: right;\n",
       "    }\n",
       "</style>\n",
       "<table border=\"1\" class=\"dataframe\">\n",
       "  <thead>\n",
       "    <tr style=\"text-align: right;\">\n",
       "      <th></th>\n",
       "      <th>raceId</th>\n",
       "      <th>year</th>\n",
       "      <th>round</th>\n",
       "      <th>circuitId</th>\n",
       "      <th>name</th>\n",
       "      <th>date</th>\n",
       "      <th>time</th>\n",
       "      <th>url</th>\n",
       "      <th>fp1_date</th>\n",
       "      <th>fp1_time</th>\n",
       "      <th>fp2_date</th>\n",
       "      <th>fp2_time</th>\n",
       "      <th>fp3_date</th>\n",
       "      <th>fp3_time</th>\n",
       "      <th>quali_date</th>\n",
       "      <th>quali_time</th>\n",
       "      <th>sprint_date</th>\n",
       "      <th>sprint_time</th>\n",
       "      <th>weather_category</th>\n",
       "    </tr>\n",
       "  </thead>\n",
       "  <tbody>\n",
       "    <tr>\n",
       "      <th>0</th>\n",
       "      <td>1</td>\n",
       "      <td>2009</td>\n",
       "      <td>1</td>\n",
       "      <td>1</td>\n",
       "      <td>Australian Grand Prix</td>\n",
       "      <td>2009-03-29</td>\n",
       "      <td>06:00:00</td>\n",
       "      <td>http://en.wikipedia.org/wiki/2009_Australian_G...</td>\n",
       "      <td>\\N</td>\n",
       "      <td>\\N</td>\n",
       "      <td>\\N</td>\n",
       "      <td>\\N</td>\n",
       "      <td>\\N</td>\n",
       "      <td>\\N</td>\n",
       "      <td>\\N</td>\n",
       "      <td>\\N</td>\n",
       "      <td>\\N</td>\n",
       "      <td>\\N</td>\n",
       "      <td>weather_warm</td>\n",
       "    </tr>\n",
       "    <tr>\n",
       "      <th>1</th>\n",
       "      <td>2</td>\n",
       "      <td>2009</td>\n",
       "      <td>2</td>\n",
       "      <td>2</td>\n",
       "      <td>Malaysian Grand Prix</td>\n",
       "      <td>2009-04-05</td>\n",
       "      <td>09:00:00</td>\n",
       "      <td>http://en.wikipedia.org/wiki/2009_Malaysian_Gr...</td>\n",
       "      <td>\\N</td>\n",
       "      <td>\\N</td>\n",
       "      <td>\\N</td>\n",
       "      <td>\\N</td>\n",
       "      <td>\\N</td>\n",
       "      <td>\\N</td>\n",
       "      <td>\\N</td>\n",
       "      <td>\\N</td>\n",
       "      <td>\\N</td>\n",
       "      <td>\\N</td>\n",
       "      <td>weather_dry</td>\n",
       "    </tr>\n",
       "    <tr>\n",
       "      <th>2</th>\n",
       "      <td>3</td>\n",
       "      <td>2009</td>\n",
       "      <td>3</td>\n",
       "      <td>17</td>\n",
       "      <td>Chinese Grand Prix</td>\n",
       "      <td>2009-04-19</td>\n",
       "      <td>07:00:00</td>\n",
       "      <td>http://en.wikipedia.org/wiki/2009_Chinese_Gran...</td>\n",
       "      <td>\\N</td>\n",
       "      <td>\\N</td>\n",
       "      <td>\\N</td>\n",
       "      <td>\\N</td>\n",
       "      <td>\\N</td>\n",
       "      <td>\\N</td>\n",
       "      <td>\\N</td>\n",
       "      <td>\\N</td>\n",
       "      <td>\\N</td>\n",
       "      <td>\\N</td>\n",
       "      <td>weather_wet</td>\n",
       "    </tr>\n",
       "    <tr>\n",
       "      <th>3</th>\n",
       "      <td>4</td>\n",
       "      <td>2009</td>\n",
       "      <td>4</td>\n",
       "      <td>3</td>\n",
       "      <td>Bahrain Grand Prix</td>\n",
       "      <td>2009-04-26</td>\n",
       "      <td>12:00:00</td>\n",
       "      <td>http://en.wikipedia.org/wiki/2009_Bahrain_Gran...</td>\n",
       "      <td>\\N</td>\n",
       "      <td>\\N</td>\n",
       "      <td>\\N</td>\n",
       "      <td>\\N</td>\n",
       "      <td>\\N</td>\n",
       "      <td>\\N</td>\n",
       "      <td>\\N</td>\n",
       "      <td>\\N</td>\n",
       "      <td>\\N</td>\n",
       "      <td>\\N</td>\n",
       "      <td>weather_warm</td>\n",
       "    </tr>\n",
       "    <tr>\n",
       "      <th>4</th>\n",
       "      <td>5</td>\n",
       "      <td>2009</td>\n",
       "      <td>5</td>\n",
       "      <td>4</td>\n",
       "      <td>Spanish Grand Prix</td>\n",
       "      <td>2009-05-10</td>\n",
       "      <td>12:00:00</td>\n",
       "      <td>http://en.wikipedia.org/wiki/2009_Spanish_Gran...</td>\n",
       "      <td>\\N</td>\n",
       "      <td>\\N</td>\n",
       "      <td>\\N</td>\n",
       "      <td>\\N</td>\n",
       "      <td>\\N</td>\n",
       "      <td>\\N</td>\n",
       "      <td>\\N</td>\n",
       "      <td>\\N</td>\n",
       "      <td>\\N</td>\n",
       "      <td>\\N</td>\n",
       "      <td>weather_warm</td>\n",
       "    </tr>\n",
       "  </tbody>\n",
       "</table>\n",
       "</div>"
      ],
      "text/plain": [
       "   raceId  year  round  circuitId                   name        date   \n",
       "0       1  2009      1          1  Australian Grand Prix  2009-03-29  \\\n",
       "1       2  2009      2          2   Malaysian Grand Prix  2009-04-05   \n",
       "2       3  2009      3         17     Chinese Grand Prix  2009-04-19   \n",
       "3       4  2009      4          3     Bahrain Grand Prix  2009-04-26   \n",
       "4       5  2009      5          4     Spanish Grand Prix  2009-05-10   \n",
       "\n",
       "       time                                                url fp1_date   \n",
       "0  06:00:00  http://en.wikipedia.org/wiki/2009_Australian_G...       \\N  \\\n",
       "1  09:00:00  http://en.wikipedia.org/wiki/2009_Malaysian_Gr...       \\N   \n",
       "2  07:00:00  http://en.wikipedia.org/wiki/2009_Chinese_Gran...       \\N   \n",
       "3  12:00:00  http://en.wikipedia.org/wiki/2009_Bahrain_Gran...       \\N   \n",
       "4  12:00:00  http://en.wikipedia.org/wiki/2009_Spanish_Gran...       \\N   \n",
       "\n",
       "  fp1_time fp2_date fp2_time fp3_date fp3_time quali_date quali_time   \n",
       "0       \\N       \\N       \\N       \\N       \\N         \\N         \\N  \\\n",
       "1       \\N       \\N       \\N       \\N       \\N         \\N         \\N   \n",
       "2       \\N       \\N       \\N       \\N       \\N         \\N         \\N   \n",
       "3       \\N       \\N       \\N       \\N       \\N         \\N         \\N   \n",
       "4       \\N       \\N       \\N       \\N       \\N         \\N         \\N   \n",
       "\n",
       "  sprint_date sprint_time weather_category  \n",
       "0          \\N          \\N     weather_warm  \n",
       "1          \\N          \\N      weather_dry  \n",
       "2          \\N          \\N      weather_wet  \n",
       "3          \\N          \\N     weather_warm  \n",
       "4          \\N          \\N     weather_warm  "
      ]
     },
     "execution_count": 120,
     "metadata": {},
     "output_type": "execute_result"
    }
   ],
   "source": [
    "races_with_weather_df.head()"
   ]
  },
  {
   "cell_type": "code",
   "execution_count": 121,
   "metadata": {},
   "outputs": [
    {
     "name": "stdout",
     "output_type": "stream",
     "text": [
      "<class 'pandas.core.frame.DataFrame'>\n",
      "RangeIndex: 1102 entries, 0 to 1101\n",
      "Data columns (total 19 columns):\n",
      " #   Column            Non-Null Count  Dtype \n",
      "---  ------            --------------  ----- \n",
      " 0   raceId            1102 non-null   int64 \n",
      " 1   year              1102 non-null   int64 \n",
      " 2   round             1102 non-null   int64 \n",
      " 3   circuitId         1102 non-null   int64 \n",
      " 4   name              1102 non-null   object\n",
      " 5   date              1102 non-null   object\n",
      " 6   time              1102 non-null   object\n",
      " 7   url               1102 non-null   object\n",
      " 8   fp1_date          1102 non-null   object\n",
      " 9   fp1_time          1102 non-null   object\n",
      " 10  fp2_date          1102 non-null   object\n",
      " 11  fp2_time          1102 non-null   object\n",
      " 12  fp3_date          1102 non-null   object\n",
      " 13  fp3_time          1102 non-null   object\n",
      " 14  quali_date        1102 non-null   object\n",
      " 15  quali_time        1102 non-null   object\n",
      " 16  sprint_date       1102 non-null   object\n",
      " 17  sprint_time       1102 non-null   object\n",
      " 18  weather_category  1102 non-null   object\n",
      "dtypes: int64(4), object(15)\n",
      "memory usage: 163.7+ KB\n"
     ]
    }
   ],
   "source": [
    "races_with_weather_df.info()"
   ]
  },
  {
   "cell_type": "code",
   "execution_count": 122,
   "metadata": {},
   "outputs": [
    {
     "data": {
      "text/html": [
       "<div>\n",
       "<style scoped>\n",
       "    .dataframe tbody tr th:only-of-type {\n",
       "        vertical-align: middle;\n",
       "    }\n",
       "\n",
       "    .dataframe tbody tr th {\n",
       "        vertical-align: top;\n",
       "    }\n",
       "\n",
       "    .dataframe thead th {\n",
       "        text-align: right;\n",
       "    }\n",
       "</style>\n",
       "<table border=\"1\" class=\"dataframe\">\n",
       "  <thead>\n",
       "    <tr style=\"text-align: right;\">\n",
       "      <th></th>\n",
       "      <th>Unnamed: 0</th>\n",
       "      <th>Driver</th>\n",
       "      <th>GP</th>\n",
       "      <th>Tyres</th>\n",
       "      <th>From</th>\n",
       "      <th>To</th>\n",
       "      <th>#Laps</th>\n",
       "      <th>year</th>\n",
       "    </tr>\n",
       "  </thead>\n",
       "  <tbody>\n",
       "    <tr>\n",
       "      <th>0</th>\n",
       "      <td>0</td>\n",
       "      <td>Jenson Button</td>\n",
       "      <td>Australia</td>\n",
       "      <td>Soft Used</td>\n",
       "      <td>1</td>\n",
       "      <td>16</td>\n",
       "      <td>16</td>\n",
       "      <td>2012</td>\n",
       "    </tr>\n",
       "    <tr>\n",
       "      <th>1</th>\n",
       "      <td>1</td>\n",
       "      <td>Jenson Button</td>\n",
       "      <td>Australia</td>\n",
       "      <td>Medium New</td>\n",
       "      <td>17</td>\n",
       "      <td>36</td>\n",
       "      <td>20</td>\n",
       "      <td>2012</td>\n",
       "    </tr>\n",
       "    <tr>\n",
       "      <th>2</th>\n",
       "      <td>2</td>\n",
       "      <td>Jenson Button</td>\n",
       "      <td>Australia</td>\n",
       "      <td>Medium New</td>\n",
       "      <td>37</td>\n",
       "      <td>58</td>\n",
       "      <td>22</td>\n",
       "      <td>2012</td>\n",
       "    </tr>\n",
       "    <tr>\n",
       "      <th>3</th>\n",
       "      <td>3</td>\n",
       "      <td>Sebastian Vettel</td>\n",
       "      <td>Australia</td>\n",
       "      <td>Soft Used</td>\n",
       "      <td>1</td>\n",
       "      <td>16</td>\n",
       "      <td>16</td>\n",
       "      <td>2012</td>\n",
       "    </tr>\n",
       "    <tr>\n",
       "      <th>4</th>\n",
       "      <td>4</td>\n",
       "      <td>Sebastian Vettel</td>\n",
       "      <td>Australia</td>\n",
       "      <td>Soft Used</td>\n",
       "      <td>17</td>\n",
       "      <td>37</td>\n",
       "      <td>21</td>\n",
       "      <td>2012</td>\n",
       "    </tr>\n",
       "  </tbody>\n",
       "</table>\n",
       "</div>"
      ],
      "text/plain": [
       "   Unnamed: 0            Driver         GP       Tyres  From  To  #Laps  year\n",
       "0           0     Jenson Button  Australia   Soft Used     1  16     16  2012\n",
       "1           1     Jenson Button  Australia  Medium New    17  36     20  2012\n",
       "2           2     Jenson Button  Australia  Medium New    37  58     22  2012\n",
       "3           3  Sebastian Vettel  Australia   Soft Used     1  16     16  2012\n",
       "4           4  Sebastian Vettel  Australia   Soft Used    17  37     21  2012"
      ]
     },
     "execution_count": 122,
     "metadata": {},
     "output_type": "execute_result"
    }
   ],
   "source": [
    "tyre_data_df.head()"
   ]
  },
  {
   "cell_type": "code",
   "execution_count": 123,
   "metadata": {},
   "outputs": [
    {
     "name": "stdout",
     "output_type": "stream",
     "text": [
      "<class 'pandas.core.frame.DataFrame'>\n",
      "RangeIndex: 13302 entries, 0 to 13301\n",
      "Data columns (total 8 columns):\n",
      " #   Column      Non-Null Count  Dtype \n",
      "---  ------      --------------  ----- \n",
      " 0   Unnamed: 0  13302 non-null  int64 \n",
      " 1   Driver      13297 non-null  object\n",
      " 2   GP          13302 non-null  object\n",
      " 3   Tyres       13302 non-null  object\n",
      " 4   From        13302 non-null  int64 \n",
      " 5   To          13302 non-null  int64 \n",
      " 6   #Laps       13302 non-null  int64 \n",
      " 7   year        13302 non-null  int64 \n",
      "dtypes: int64(5), object(3)\n",
      "memory usage: 831.5+ KB\n"
     ]
    }
   ],
   "source": [
    "tyre_data_df.info()"
   ]
  },
  {
   "cell_type": "code",
   "execution_count": 124,
   "metadata": {},
   "outputs": [],
   "source": [
    "merged_tyre_weather = pd.merge(tyre_data_df,races_with_weather_df, on= 'year')"
   ]
  },
  {
   "cell_type": "code",
   "execution_count": 125,
   "metadata": {},
   "outputs": [
    {
     "data": {
      "text/html": [
       "<div>\n",
       "<style scoped>\n",
       "    .dataframe tbody tr th:only-of-type {\n",
       "        vertical-align: middle;\n",
       "    }\n",
       "\n",
       "    .dataframe tbody tr th {\n",
       "        vertical-align: top;\n",
       "    }\n",
       "\n",
       "    .dataframe thead th {\n",
       "        text-align: right;\n",
       "    }\n",
       "</style>\n",
       "<table border=\"1\" class=\"dataframe\">\n",
       "  <thead>\n",
       "    <tr style=\"text-align: right;\">\n",
       "      <th></th>\n",
       "      <th>Unnamed: 0</th>\n",
       "      <th>Driver</th>\n",
       "      <th>GP</th>\n",
       "      <th>Tyres</th>\n",
       "      <th>From</th>\n",
       "      <th>To</th>\n",
       "      <th>#Laps</th>\n",
       "      <th>year</th>\n",
       "      <th>raceId</th>\n",
       "      <th>round</th>\n",
       "      <th>circuitId</th>\n",
       "      <th>name</th>\n",
       "      <th>date</th>\n",
       "      <th>time</th>\n",
       "      <th>url</th>\n",
       "      <th>fp1_date</th>\n",
       "      <th>fp1_time</th>\n",
       "      <th>fp2_date</th>\n",
       "      <th>fp2_time</th>\n",
       "      <th>fp3_date</th>\n",
       "      <th>fp3_time</th>\n",
       "      <th>quali_date</th>\n",
       "      <th>quali_time</th>\n",
       "      <th>sprint_date</th>\n",
       "      <th>sprint_time</th>\n",
       "      <th>weather_category</th>\n",
       "    </tr>\n",
       "  </thead>\n",
       "  <tbody>\n",
       "    <tr>\n",
       "      <th>0</th>\n",
       "      <td>0</td>\n",
       "      <td>Jenson Button</td>\n",
       "      <td>Australia</td>\n",
       "      <td>Soft Used</td>\n",
       "      <td>1</td>\n",
       "      <td>16</td>\n",
       "      <td>16</td>\n",
       "      <td>2012</td>\n",
       "      <td>860</td>\n",
       "      <td>1</td>\n",
       "      <td>1</td>\n",
       "      <td>Australian Grand Prix</td>\n",
       "      <td>2012-03-18</td>\n",
       "      <td>06:00:00</td>\n",
       "      <td>http://en.wikipedia.org/wiki/2012_Australian_G...</td>\n",
       "      <td>\\N</td>\n",
       "      <td>\\N</td>\n",
       "      <td>\\N</td>\n",
       "      <td>\\N</td>\n",
       "      <td>\\N</td>\n",
       "      <td>\\N</td>\n",
       "      <td>\\N</td>\n",
       "      <td>\\N</td>\n",
       "      <td>\\N</td>\n",
       "      <td>\\N</td>\n",
       "      <td>weather_warm</td>\n",
       "    </tr>\n",
       "    <tr>\n",
       "      <th>1</th>\n",
       "      <td>0</td>\n",
       "      <td>Jenson Button</td>\n",
       "      <td>Australia</td>\n",
       "      <td>Soft Used</td>\n",
       "      <td>1</td>\n",
       "      <td>16</td>\n",
       "      <td>16</td>\n",
       "      <td>2012</td>\n",
       "      <td>861</td>\n",
       "      <td>2</td>\n",
       "      <td>2</td>\n",
       "      <td>Malaysian Grand Prix</td>\n",
       "      <td>2012-03-25</td>\n",
       "      <td>08:00:00</td>\n",
       "      <td>http://en.wikipedia.org/wiki/2012_Malaysian_Gr...</td>\n",
       "      <td>\\N</td>\n",
       "      <td>\\N</td>\n",
       "      <td>\\N</td>\n",
       "      <td>\\N</td>\n",
       "      <td>\\N</td>\n",
       "      <td>\\N</td>\n",
       "      <td>\\N</td>\n",
       "      <td>\\N</td>\n",
       "      <td>\\N</td>\n",
       "      <td>\\N</td>\n",
       "      <td>weather_warm</td>\n",
       "    </tr>\n",
       "    <tr>\n",
       "      <th>2</th>\n",
       "      <td>0</td>\n",
       "      <td>Jenson Button</td>\n",
       "      <td>Australia</td>\n",
       "      <td>Soft Used</td>\n",
       "      <td>1</td>\n",
       "      <td>16</td>\n",
       "      <td>16</td>\n",
       "      <td>2012</td>\n",
       "      <td>862</td>\n",
       "      <td>3</td>\n",
       "      <td>17</td>\n",
       "      <td>Chinese Grand Prix</td>\n",
       "      <td>2012-04-15</td>\n",
       "      <td>07:00:00</td>\n",
       "      <td>http://en.wikipedia.org/wiki/2012_Chinese_Gran...</td>\n",
       "      <td>\\N</td>\n",
       "      <td>\\N</td>\n",
       "      <td>\\N</td>\n",
       "      <td>\\N</td>\n",
       "      <td>\\N</td>\n",
       "      <td>\\N</td>\n",
       "      <td>\\N</td>\n",
       "      <td>\\N</td>\n",
       "      <td>\\N</td>\n",
       "      <td>\\N</td>\n",
       "      <td>weather_dry</td>\n",
       "    </tr>\n",
       "    <tr>\n",
       "      <th>3</th>\n",
       "      <td>0</td>\n",
       "      <td>Jenson Button</td>\n",
       "      <td>Australia</td>\n",
       "      <td>Soft Used</td>\n",
       "      <td>1</td>\n",
       "      <td>16</td>\n",
       "      <td>16</td>\n",
       "      <td>2012</td>\n",
       "      <td>863</td>\n",
       "      <td>4</td>\n",
       "      <td>3</td>\n",
       "      <td>Bahrain Grand Prix</td>\n",
       "      <td>2012-04-22</td>\n",
       "      <td>12:00:00</td>\n",
       "      <td>http://en.wikipedia.org/wiki/2012_Bahrain_Gran...</td>\n",
       "      <td>\\N</td>\n",
       "      <td>\\N</td>\n",
       "      <td>\\N</td>\n",
       "      <td>\\N</td>\n",
       "      <td>\\N</td>\n",
       "      <td>\\N</td>\n",
       "      <td>\\N</td>\n",
       "      <td>\\N</td>\n",
       "      <td>\\N</td>\n",
       "      <td>\\N</td>\n",
       "      <td>weather_warm</td>\n",
       "    </tr>\n",
       "    <tr>\n",
       "      <th>4</th>\n",
       "      <td>0</td>\n",
       "      <td>Jenson Button</td>\n",
       "      <td>Australia</td>\n",
       "      <td>Soft Used</td>\n",
       "      <td>1</td>\n",
       "      <td>16</td>\n",
       "      <td>16</td>\n",
       "      <td>2012</td>\n",
       "      <td>864</td>\n",
       "      <td>5</td>\n",
       "      <td>4</td>\n",
       "      <td>Spanish Grand Prix</td>\n",
       "      <td>2012-05-13</td>\n",
       "      <td>12:00:00</td>\n",
       "      <td>http://en.wikipedia.org/wiki/2012_Spanish_Gran...</td>\n",
       "      <td>\\N</td>\n",
       "      <td>\\N</td>\n",
       "      <td>\\N</td>\n",
       "      <td>\\N</td>\n",
       "      <td>\\N</td>\n",
       "      <td>\\N</td>\n",
       "      <td>\\N</td>\n",
       "      <td>\\N</td>\n",
       "      <td>\\N</td>\n",
       "      <td>\\N</td>\n",
       "      <td>weather_dry</td>\n",
       "    </tr>\n",
       "  </tbody>\n",
       "</table>\n",
       "</div>"
      ],
      "text/plain": [
       "   Unnamed: 0         Driver         GP      Tyres  From  To  #Laps  year   \n",
       "0           0  Jenson Button  Australia  Soft Used     1  16     16  2012  \\\n",
       "1           0  Jenson Button  Australia  Soft Used     1  16     16  2012   \n",
       "2           0  Jenson Button  Australia  Soft Used     1  16     16  2012   \n",
       "3           0  Jenson Button  Australia  Soft Used     1  16     16  2012   \n",
       "4           0  Jenson Button  Australia  Soft Used     1  16     16  2012   \n",
       "\n",
       "   raceId  round  circuitId                   name        date      time   \n",
       "0     860      1          1  Australian Grand Prix  2012-03-18  06:00:00  \\\n",
       "1     861      2          2   Malaysian Grand Prix  2012-03-25  08:00:00   \n",
       "2     862      3         17     Chinese Grand Prix  2012-04-15  07:00:00   \n",
       "3     863      4          3     Bahrain Grand Prix  2012-04-22  12:00:00   \n",
       "4     864      5          4     Spanish Grand Prix  2012-05-13  12:00:00   \n",
       "\n",
       "                                                 url fp1_date fp1_time   \n",
       "0  http://en.wikipedia.org/wiki/2012_Australian_G...       \\N       \\N  \\\n",
       "1  http://en.wikipedia.org/wiki/2012_Malaysian_Gr...       \\N       \\N   \n",
       "2  http://en.wikipedia.org/wiki/2012_Chinese_Gran...       \\N       \\N   \n",
       "3  http://en.wikipedia.org/wiki/2012_Bahrain_Gran...       \\N       \\N   \n",
       "4  http://en.wikipedia.org/wiki/2012_Spanish_Gran...       \\N       \\N   \n",
       "\n",
       "  fp2_date fp2_time fp3_date fp3_time quali_date quali_time sprint_date   \n",
       "0       \\N       \\N       \\N       \\N         \\N         \\N          \\N  \\\n",
       "1       \\N       \\N       \\N       \\N         \\N         \\N          \\N   \n",
       "2       \\N       \\N       \\N       \\N         \\N         \\N          \\N   \n",
       "3       \\N       \\N       \\N       \\N         \\N         \\N          \\N   \n",
       "4       \\N       \\N       \\N       \\N         \\N         \\N          \\N   \n",
       "\n",
       "  sprint_time weather_category  \n",
       "0          \\N     weather_warm  \n",
       "1          \\N     weather_warm  \n",
       "2          \\N      weather_dry  \n",
       "3          \\N     weather_warm  \n",
       "4          \\N      weather_dry  "
      ]
     },
     "execution_count": 125,
     "metadata": {},
     "output_type": "execute_result"
    }
   ],
   "source": [
    "merged_tyre_weather.head()"
   ]
  },
  {
   "cell_type": "code",
   "execution_count": 126,
   "metadata": {},
   "outputs": [
    {
     "name": "stdout",
     "output_type": "stream",
     "text": [
      "['Jenson Button' 'Sebastian Vettel' 'Lewis Hamilton' 'Mark Webber'\n",
      " 'Fernando Alonso' 'Kamui Kobayashi' 'Kimi Räikkönen' 'Sergio Perez'\n",
      " 'Daniel Ricciardo' 'Paul di Resta' 'Jean-Eric Vergne' 'Nico Rosberg'\n",
      " 'Pastor Maldonado' 'Timo Glock' 'Charles Pic' 'Bruno Senna'\n",
      " 'Felipe Massa' 'Heikki Kovalainen' 'Vitaly Petrov' 'Michael Schumacher'\n",
      " 'Romain Grosjean' 'Nico Hulkenberg' 'Pedro de la Rosa'\n",
      " 'Narain Karthikeyan' \"Jerome d'Ambrosio\" 'Adrian Sutil'\n",
      " 'Esteban Gutierrez' 'Valtteri Bottas' 'Jules Bianchi' 'Max Chilton'\n",
      " 'Giedo van der Garde' 'Kevin Magnussen' 'Daniil Kvyat' 'Marcus Ericsson'\n",
      " 'Andre Lotterer' 'Will Stevens' 'Felipe Nasr' 'Carlos Sainz'\n",
      " 'Max Verstappen' 'Roberto Merhi' 'Alexander Rossi' 'Jolyon Palmer'\n",
      " 'Pascal Wehrlein' 'Rio Haryanto' 'Stoffel Vandoorne' 'Esteban Ocon'\n",
      " 'Lance Stroll' 'Antonio Giovinazzi' 'Pierre Gasly' 'Brendon Hartley'\n",
      " 'Charles Leclerc' 'Sergey Sirotkin' 'Lando Norris' 'Alexander Albon'\n",
      " 'George Russell' 'Robert Kubica' nan 'Nicholas Latifi' 'Jack Aitken'\n",
      " 'Pietro Fittipaldi' 'Yuki Tsunoda' 'Mick Schumacher' 'Nikita Mazepin'\n",
      " 'Zhou Guanyu' 'Nyck de Vries' 'Logan Sargeant' 'Oscar Piastri'\n",
      " 'Liam Lawson']\n"
     ]
    }
   ],
   "source": [
    "unique_levels = merged_tyre_weather['Driver'].unique()\n",
    "print(unique_levels)\n"
   ]
  },
  {
   "cell_type": "code",
   "execution_count": 127,
   "metadata": {},
   "outputs": [
    {
     "name": "stdout",
     "output_type": "stream",
     "text": [
      "Driver\n",
      "Lewis Hamilton       13048\n",
      "Sergio Perez         12808\n",
      "Daniel Ricciardo     12280\n",
      "Sebastian Vettel     12159\n",
      "Valtteri Bottas      11755\n",
      "                     ...  \n",
      "Liam Lawson            161\n",
      "Pietro Fittipaldi      136\n",
      "Jack Aitken             68\n",
      "Jerome d'Ambrosio       40\n",
      "Andre Lotterer          19\n",
      "Name: count, Length: 67, dtype: int64\n"
     ]
    }
   ],
   "source": [
    "level_counts = merged_tyre_weather['Driver'].value_counts()\n",
    "print(level_counts)\n"
   ]
  },
  {
   "cell_type": "code",
   "execution_count": 128,
   "metadata": {},
   "outputs": [
    {
     "name": "stdout",
     "output_type": "stream",
     "text": [
      "Unnamed: 0          13302\n",
      "Driver                 67\n",
      "GP                     40\n",
      "Tyres                  16\n",
      "From                   75\n",
      "To                     79\n",
      "#Laps                  71\n",
      "year                   12\n",
      "raceId                244\n",
      "round                  23\n",
      "circuitId              35\n",
      "name                   40\n",
      "date                  244\n",
      "time                   28\n",
      "url                   244\n",
      "fp1_date               68\n",
      "fp1_time               19\n",
      "fp2_date               68\n",
      "fp2_time               16\n",
      "fp3_date               56\n",
      "fp3_time               17\n",
      "quali_date             68\n",
      "quali_time             13\n",
      "sprint_date            13\n",
      "sprint_time             6\n",
      "weather_category        6\n",
      "dtype: int64\n"
     ]
    }
   ],
   "source": [
    "unique_counts = merged_tyre_weather.nunique()\n",
    "print(unique_counts)\n"
   ]
  },
  {
   "cell_type": "code",
   "execution_count": 129,
   "metadata": {},
   "outputs": [],
   "source": [
    "grouped_by_race = merged_tyre_weather.groupby('raceId')\n"
   ]
  },
  {
   "cell_type": "code",
   "execution_count": 130,
   "metadata": {},
   "outputs": [
    {
     "data": {
      "text/html": [
       "<div>\n",
       "<style scoped>\n",
       "    .dataframe tbody tr th:only-of-type {\n",
       "        vertical-align: middle;\n",
       "    }\n",
       "\n",
       "    .dataframe tbody tr th {\n",
       "        vertical-align: top;\n",
       "    }\n",
       "\n",
       "    .dataframe thead th {\n",
       "        text-align: right;\n",
       "    }\n",
       "</style>\n",
       "<table border=\"1\" class=\"dataframe\">\n",
       "  <thead>\n",
       "    <tr style=\"text-align: right;\">\n",
       "      <th></th>\n",
       "      <th>Unnamed: 0</th>\n",
       "      <th>Driver</th>\n",
       "      <th>GP</th>\n",
       "      <th>Tyres</th>\n",
       "      <th>From</th>\n",
       "      <th>To</th>\n",
       "      <th>#Laps</th>\n",
       "      <th>year</th>\n",
       "      <th>raceId</th>\n",
       "      <th>round</th>\n",
       "      <th>circuitId</th>\n",
       "      <th>name</th>\n",
       "      <th>date</th>\n",
       "      <th>time</th>\n",
       "      <th>url</th>\n",
       "      <th>fp1_date</th>\n",
       "      <th>fp1_time</th>\n",
       "      <th>fp2_date</th>\n",
       "      <th>fp2_time</th>\n",
       "      <th>fp3_date</th>\n",
       "      <th>fp3_time</th>\n",
       "      <th>quali_date</th>\n",
       "      <th>quali_time</th>\n",
       "      <th>sprint_date</th>\n",
       "      <th>sprint_time</th>\n",
       "      <th>weather_category</th>\n",
       "    </tr>\n",
       "  </thead>\n",
       "  <tbody>\n",
       "    <tr>\n",
       "      <th>0</th>\n",
       "      <td>0</td>\n",
       "      <td>Jenson Button</td>\n",
       "      <td>Australia</td>\n",
       "      <td>Soft Used</td>\n",
       "      <td>1</td>\n",
       "      <td>16</td>\n",
       "      <td>16</td>\n",
       "      <td>2012</td>\n",
       "      <td>860</td>\n",
       "      <td>1</td>\n",
       "      <td>1</td>\n",
       "      <td>Australian Grand Prix</td>\n",
       "      <td>2012-03-18</td>\n",
       "      <td>06:00:00</td>\n",
       "      <td>http://en.wikipedia.org/wiki/2012_Australian_G...</td>\n",
       "      <td>\\N</td>\n",
       "      <td>\\N</td>\n",
       "      <td>\\N</td>\n",
       "      <td>\\N</td>\n",
       "      <td>\\N</td>\n",
       "      <td>\\N</td>\n",
       "      <td>\\N</td>\n",
       "      <td>\\N</td>\n",
       "      <td>\\N</td>\n",
       "      <td>\\N</td>\n",
       "      <td>weather_warm</td>\n",
       "    </tr>\n",
       "    <tr>\n",
       "      <th>1</th>\n",
       "      <td>0</td>\n",
       "      <td>Jenson Button</td>\n",
       "      <td>Australia</td>\n",
       "      <td>Soft Used</td>\n",
       "      <td>1</td>\n",
       "      <td>16</td>\n",
       "      <td>16</td>\n",
       "      <td>2012</td>\n",
       "      <td>861</td>\n",
       "      <td>2</td>\n",
       "      <td>2</td>\n",
       "      <td>Malaysian Grand Prix</td>\n",
       "      <td>2012-03-25</td>\n",
       "      <td>08:00:00</td>\n",
       "      <td>http://en.wikipedia.org/wiki/2012_Malaysian_Gr...</td>\n",
       "      <td>\\N</td>\n",
       "      <td>\\N</td>\n",
       "      <td>\\N</td>\n",
       "      <td>\\N</td>\n",
       "      <td>\\N</td>\n",
       "      <td>\\N</td>\n",
       "      <td>\\N</td>\n",
       "      <td>\\N</td>\n",
       "      <td>\\N</td>\n",
       "      <td>\\N</td>\n",
       "      <td>weather_warm</td>\n",
       "    </tr>\n",
       "    <tr>\n",
       "      <th>2</th>\n",
       "      <td>0</td>\n",
       "      <td>Jenson Button</td>\n",
       "      <td>Australia</td>\n",
       "      <td>Soft Used</td>\n",
       "      <td>1</td>\n",
       "      <td>16</td>\n",
       "      <td>16</td>\n",
       "      <td>2012</td>\n",
       "      <td>862</td>\n",
       "      <td>3</td>\n",
       "      <td>17</td>\n",
       "      <td>Chinese Grand Prix</td>\n",
       "      <td>2012-04-15</td>\n",
       "      <td>07:00:00</td>\n",
       "      <td>http://en.wikipedia.org/wiki/2012_Chinese_Gran...</td>\n",
       "      <td>\\N</td>\n",
       "      <td>\\N</td>\n",
       "      <td>\\N</td>\n",
       "      <td>\\N</td>\n",
       "      <td>\\N</td>\n",
       "      <td>\\N</td>\n",
       "      <td>\\N</td>\n",
       "      <td>\\N</td>\n",
       "      <td>\\N</td>\n",
       "      <td>\\N</td>\n",
       "      <td>weather_dry</td>\n",
       "    </tr>\n",
       "    <tr>\n",
       "      <th>3</th>\n",
       "      <td>0</td>\n",
       "      <td>Jenson Button</td>\n",
       "      <td>Australia</td>\n",
       "      <td>Soft Used</td>\n",
       "      <td>1</td>\n",
       "      <td>16</td>\n",
       "      <td>16</td>\n",
       "      <td>2012</td>\n",
       "      <td>863</td>\n",
       "      <td>4</td>\n",
       "      <td>3</td>\n",
       "      <td>Bahrain Grand Prix</td>\n",
       "      <td>2012-04-22</td>\n",
       "      <td>12:00:00</td>\n",
       "      <td>http://en.wikipedia.org/wiki/2012_Bahrain_Gran...</td>\n",
       "      <td>\\N</td>\n",
       "      <td>\\N</td>\n",
       "      <td>\\N</td>\n",
       "      <td>\\N</td>\n",
       "      <td>\\N</td>\n",
       "      <td>\\N</td>\n",
       "      <td>\\N</td>\n",
       "      <td>\\N</td>\n",
       "      <td>\\N</td>\n",
       "      <td>\\N</td>\n",
       "      <td>weather_warm</td>\n",
       "    </tr>\n",
       "    <tr>\n",
       "      <th>4</th>\n",
       "      <td>0</td>\n",
       "      <td>Jenson Button</td>\n",
       "      <td>Australia</td>\n",
       "      <td>Soft Used</td>\n",
       "      <td>1</td>\n",
       "      <td>16</td>\n",
       "      <td>16</td>\n",
       "      <td>2012</td>\n",
       "      <td>864</td>\n",
       "      <td>5</td>\n",
       "      <td>4</td>\n",
       "      <td>Spanish Grand Prix</td>\n",
       "      <td>2012-05-13</td>\n",
       "      <td>12:00:00</td>\n",
       "      <td>http://en.wikipedia.org/wiki/2012_Spanish_Gran...</td>\n",
       "      <td>\\N</td>\n",
       "      <td>\\N</td>\n",
       "      <td>\\N</td>\n",
       "      <td>\\N</td>\n",
       "      <td>\\N</td>\n",
       "      <td>\\N</td>\n",
       "      <td>\\N</td>\n",
       "      <td>\\N</td>\n",
       "      <td>\\N</td>\n",
       "      <td>\\N</td>\n",
       "      <td>weather_dry</td>\n",
       "    </tr>\n",
       "    <tr>\n",
       "      <th>...</th>\n",
       "      <td>...</td>\n",
       "      <td>...</td>\n",
       "      <td>...</td>\n",
       "      <td>...</td>\n",
       "      <td>...</td>\n",
       "      <td>...</td>\n",
       "      <td>...</td>\n",
       "      <td>...</td>\n",
       "      <td>...</td>\n",
       "      <td>...</td>\n",
       "      <td>...</td>\n",
       "      <td>...</td>\n",
       "      <td>...</td>\n",
       "      <td>...</td>\n",
       "      <td>...</td>\n",
       "      <td>...</td>\n",
       "      <td>...</td>\n",
       "      <td>...</td>\n",
       "      <td>...</td>\n",
       "      <td>...</td>\n",
       "      <td>...</td>\n",
       "      <td>...</td>\n",
       "      <td>...</td>\n",
       "      <td>...</td>\n",
       "      <td>...</td>\n",
       "      <td>...</td>\n",
       "    </tr>\n",
       "    <tr>\n",
       "      <th>252392</th>\n",
       "      <td>12538</td>\n",
       "      <td>Sergio Perez</td>\n",
       "      <td>Bahrain</td>\n",
       "      <td>Soft Used</td>\n",
       "      <td>18</td>\n",
       "      <td>34</td>\n",
       "      <td>17</td>\n",
       "      <td>2023</td>\n",
       "      <td>1116</td>\n",
       "      <td>19</td>\n",
       "      <td>69</td>\n",
       "      <td>United States Grand Prix</td>\n",
       "      <td>2023-10-22</td>\n",
       "      <td>19:00:00</td>\n",
       "      <td>https://en.wikipedia.org/wiki/2023_United_Stat...</td>\n",
       "      <td>2023-10-20</td>\n",
       "      <td>17:30:00</td>\n",
       "      <td>2023-10-21</td>\n",
       "      <td>18:00:00</td>\n",
       "      <td>\\N</td>\n",
       "      <td>\\N</td>\n",
       "      <td>2023-10-20</td>\n",
       "      <td>21:00:00</td>\n",
       "      <td>2023-10-21</td>\n",
       "      <td>22:00:00</td>\n",
       "      <td>weather_unknown</td>\n",
       "    </tr>\n",
       "    <tr>\n",
       "      <th>252393</th>\n",
       "      <td>12538</td>\n",
       "      <td>Sergio Perez</td>\n",
       "      <td>Bahrain</td>\n",
       "      <td>Soft Used</td>\n",
       "      <td>18</td>\n",
       "      <td>34</td>\n",
       "      <td>17</td>\n",
       "      <td>2023</td>\n",
       "      <td>1117</td>\n",
       "      <td>20</td>\n",
       "      <td>32</td>\n",
       "      <td>Mexico City Grand Prix</td>\n",
       "      <td>2023-10-29</td>\n",
       "      <td>20:00:00</td>\n",
       "      <td>https://en.wikipedia.org/wiki/2023_Mexico_City...</td>\n",
       "      <td>2023-10-27</td>\n",
       "      <td>18:30:00</td>\n",
       "      <td>2023-10-27</td>\n",
       "      <td>22:00:00</td>\n",
       "      <td>2023-10-28</td>\n",
       "      <td>17:30:00</td>\n",
       "      <td>2023-10-28</td>\n",
       "      <td>21:00:00</td>\n",
       "      <td>\\N</td>\n",
       "      <td>\\N</td>\n",
       "      <td>weather_unknown</td>\n",
       "    </tr>\n",
       "    <tr>\n",
       "      <th>252394</th>\n",
       "      <td>12538</td>\n",
       "      <td>Sergio Perez</td>\n",
       "      <td>Bahrain</td>\n",
       "      <td>Soft Used</td>\n",
       "      <td>18</td>\n",
       "      <td>34</td>\n",
       "      <td>17</td>\n",
       "      <td>2023</td>\n",
       "      <td>1118</td>\n",
       "      <td>21</td>\n",
       "      <td>18</td>\n",
       "      <td>São Paulo Grand Prix</td>\n",
       "      <td>2023-11-05</td>\n",
       "      <td>17:00:00</td>\n",
       "      <td>https://en.wikipedia.org/wiki/2023_S%C3%A3o_Pa...</td>\n",
       "      <td>2023-11-03</td>\n",
       "      <td>14:30:00</td>\n",
       "      <td>2023-11-04</td>\n",
       "      <td>14:30:00</td>\n",
       "      <td>\\N</td>\n",
       "      <td>\\N</td>\n",
       "      <td>2023-11-03</td>\n",
       "      <td>18:00:00</td>\n",
       "      <td>2023-11-04</td>\n",
       "      <td>18:30:00</td>\n",
       "      <td>weather_unknown</td>\n",
       "    </tr>\n",
       "    <tr>\n",
       "      <th>252395</th>\n",
       "      <td>12538</td>\n",
       "      <td>Sergio Perez</td>\n",
       "      <td>Bahrain</td>\n",
       "      <td>Soft Used</td>\n",
       "      <td>18</td>\n",
       "      <td>34</td>\n",
       "      <td>17</td>\n",
       "      <td>2023</td>\n",
       "      <td>1119</td>\n",
       "      <td>22</td>\n",
       "      <td>80</td>\n",
       "      <td>Las Vegas Grand Prix</td>\n",
       "      <td>2023-11-19</td>\n",
       "      <td>06:00:00</td>\n",
       "      <td>https://en.wikipedia.org/wiki/2023_Las_Vegas_G...</td>\n",
       "      <td>2023-11-17</td>\n",
       "      <td>04:30:00</td>\n",
       "      <td>2023-11-17</td>\n",
       "      <td>08:00:00</td>\n",
       "      <td>2023-11-18</td>\n",
       "      <td>04:30:00</td>\n",
       "      <td>2023-11-18</td>\n",
       "      <td>08:00:00</td>\n",
       "      <td>\\N</td>\n",
       "      <td>\\N</td>\n",
       "      <td>weather_unknown</td>\n",
       "    </tr>\n",
       "    <tr>\n",
       "      <th>252396</th>\n",
       "      <td>12538</td>\n",
       "      <td>Sergio Perez</td>\n",
       "      <td>Bahrain</td>\n",
       "      <td>Soft Used</td>\n",
       "      <td>18</td>\n",
       "      <td>34</td>\n",
       "      <td>17</td>\n",
       "      <td>2023</td>\n",
       "      <td>1120</td>\n",
       "      <td>23</td>\n",
       "      <td>24</td>\n",
       "      <td>Abu Dhabi Grand Prix</td>\n",
       "      <td>2023-11-26</td>\n",
       "      <td>13:00:00</td>\n",
       "      <td>https://en.wikipedia.org/wiki/2023_Abu_Dhabi_G...</td>\n",
       "      <td>2023-11-24</td>\n",
       "      <td>09:30:00</td>\n",
       "      <td>2023-11-24</td>\n",
       "      <td>13:00:00</td>\n",
       "      <td>2023-11-25</td>\n",
       "      <td>10:30:00</td>\n",
       "      <td>2023-11-25</td>\n",
       "      <td>14:00:00</td>\n",
       "      <td>\\N</td>\n",
       "      <td>\\N</td>\n",
       "      <td>weather_unknown</td>\n",
       "    </tr>\n",
       "  </tbody>\n",
       "</table>\n",
       "<p>1220 rows × 26 columns</p>\n",
       "</div>"
      ],
      "text/plain": [
       "        Unnamed: 0         Driver         GP      Tyres  From  To  #Laps   \n",
       "0                0  Jenson Button  Australia  Soft Used     1  16     16  \\\n",
       "1                0  Jenson Button  Australia  Soft Used     1  16     16   \n",
       "2                0  Jenson Button  Australia  Soft Used     1  16     16   \n",
       "3                0  Jenson Button  Australia  Soft Used     1  16     16   \n",
       "4                0  Jenson Button  Australia  Soft Used     1  16     16   \n",
       "...            ...            ...        ...        ...   ...  ..    ...   \n",
       "252392       12538   Sergio Perez    Bahrain  Soft Used    18  34     17   \n",
       "252393       12538   Sergio Perez    Bahrain  Soft Used    18  34     17   \n",
       "252394       12538   Sergio Perez    Bahrain  Soft Used    18  34     17   \n",
       "252395       12538   Sergio Perez    Bahrain  Soft Used    18  34     17   \n",
       "252396       12538   Sergio Perez    Bahrain  Soft Used    18  34     17   \n",
       "\n",
       "        year  raceId  round  circuitId                      name        date   \n",
       "0       2012     860      1          1     Australian Grand Prix  2012-03-18  \\\n",
       "1       2012     861      2          2      Malaysian Grand Prix  2012-03-25   \n",
       "2       2012     862      3         17        Chinese Grand Prix  2012-04-15   \n",
       "3       2012     863      4          3        Bahrain Grand Prix  2012-04-22   \n",
       "4       2012     864      5          4        Spanish Grand Prix  2012-05-13   \n",
       "...      ...     ...    ...        ...                       ...         ...   \n",
       "252392  2023    1116     19         69  United States Grand Prix  2023-10-22   \n",
       "252393  2023    1117     20         32    Mexico City Grand Prix  2023-10-29   \n",
       "252394  2023    1118     21         18      São Paulo Grand Prix  2023-11-05   \n",
       "252395  2023    1119     22         80      Las Vegas Grand Prix  2023-11-19   \n",
       "252396  2023    1120     23         24      Abu Dhabi Grand Prix  2023-11-26   \n",
       "\n",
       "            time                                                url   \n",
       "0       06:00:00  http://en.wikipedia.org/wiki/2012_Australian_G...  \\\n",
       "1       08:00:00  http://en.wikipedia.org/wiki/2012_Malaysian_Gr...   \n",
       "2       07:00:00  http://en.wikipedia.org/wiki/2012_Chinese_Gran...   \n",
       "3       12:00:00  http://en.wikipedia.org/wiki/2012_Bahrain_Gran...   \n",
       "4       12:00:00  http://en.wikipedia.org/wiki/2012_Spanish_Gran...   \n",
       "...          ...                                                ...   \n",
       "252392  19:00:00  https://en.wikipedia.org/wiki/2023_United_Stat...   \n",
       "252393  20:00:00  https://en.wikipedia.org/wiki/2023_Mexico_City...   \n",
       "252394  17:00:00  https://en.wikipedia.org/wiki/2023_S%C3%A3o_Pa...   \n",
       "252395  06:00:00  https://en.wikipedia.org/wiki/2023_Las_Vegas_G...   \n",
       "252396  13:00:00  https://en.wikipedia.org/wiki/2023_Abu_Dhabi_G...   \n",
       "\n",
       "          fp1_date  fp1_time    fp2_date  fp2_time    fp3_date  fp3_time   \n",
       "0               \\N        \\N          \\N        \\N          \\N        \\N  \\\n",
       "1               \\N        \\N          \\N        \\N          \\N        \\N   \n",
       "2               \\N        \\N          \\N        \\N          \\N        \\N   \n",
       "3               \\N        \\N          \\N        \\N          \\N        \\N   \n",
       "4               \\N        \\N          \\N        \\N          \\N        \\N   \n",
       "...            ...       ...         ...       ...         ...       ...   \n",
       "252392  2023-10-20  17:30:00  2023-10-21  18:00:00          \\N        \\N   \n",
       "252393  2023-10-27  18:30:00  2023-10-27  22:00:00  2023-10-28  17:30:00   \n",
       "252394  2023-11-03  14:30:00  2023-11-04  14:30:00          \\N        \\N   \n",
       "252395  2023-11-17  04:30:00  2023-11-17  08:00:00  2023-11-18  04:30:00   \n",
       "252396  2023-11-24  09:30:00  2023-11-24  13:00:00  2023-11-25  10:30:00   \n",
       "\n",
       "        quali_date quali_time sprint_date sprint_time weather_category  \n",
       "0               \\N         \\N          \\N          \\N     weather_warm  \n",
       "1               \\N         \\N          \\N          \\N     weather_warm  \n",
       "2               \\N         \\N          \\N          \\N      weather_dry  \n",
       "3               \\N         \\N          \\N          \\N     weather_warm  \n",
       "4               \\N         \\N          \\N          \\N      weather_dry  \n",
       "...            ...        ...         ...         ...              ...  \n",
       "252392  2023-10-20   21:00:00  2023-10-21    22:00:00  weather_unknown  \n",
       "252393  2023-10-28   21:00:00          \\N          \\N  weather_unknown  \n",
       "252394  2023-11-03   18:00:00  2023-11-04    18:30:00  weather_unknown  \n",
       "252395  2023-11-18   08:00:00          \\N          \\N  weather_unknown  \n",
       "252396  2023-11-25   14:00:00          \\N          \\N  weather_unknown  \n",
       "\n",
       "[1220 rows x 26 columns]"
      ]
     },
     "execution_count": 130,
     "metadata": {},
     "output_type": "execute_result"
    }
   ],
   "source": [
    "grouped_by_race.head()"
   ]
  },
  {
   "cell_type": "code",
   "execution_count": 131,
   "metadata": {},
   "outputs": [],
   "source": [
    "merged_new_tyre_weather = pd.merge(tyre_new_data,races_with_weather_df, on= 'raceId')"
   ]
  },
  {
   "cell_type": "code",
   "execution_count": 132,
   "metadata": {},
   "outputs": [
    {
     "data": {
      "text/html": [
       "<div>\n",
       "<style scoped>\n",
       "    .dataframe tbody tr th:only-of-type {\n",
       "        vertical-align: middle;\n",
       "    }\n",
       "\n",
       "    .dataframe tbody tr th {\n",
       "        vertical-align: top;\n",
       "    }\n",
       "\n",
       "    .dataframe thead th {\n",
       "        text-align: right;\n",
       "    }\n",
       "</style>\n",
       "<table border=\"1\" class=\"dataframe\">\n",
       "  <thead>\n",
       "    <tr style=\"text-align: right;\">\n",
       "      <th></th>\n",
       "      <th>Unnamed: 0.1</th>\n",
       "      <th>Unnamed: 0</th>\n",
       "      <th>Driver</th>\n",
       "      <th>GP</th>\n",
       "      <th>Tyres</th>\n",
       "      <th>From</th>\n",
       "      <th>To</th>\n",
       "      <th>#Laps</th>\n",
       "      <th>year_x</th>\n",
       "      <th>location</th>\n",
       "      <th>raceId</th>\n",
       "      <th>year_y</th>\n",
       "      <th>round</th>\n",
       "      <th>circuitId</th>\n",
       "      <th>name</th>\n",
       "      <th>date</th>\n",
       "      <th>time</th>\n",
       "      <th>url</th>\n",
       "      <th>fp1_date</th>\n",
       "      <th>fp1_time</th>\n",
       "      <th>fp2_date</th>\n",
       "      <th>fp2_time</th>\n",
       "      <th>fp3_date</th>\n",
       "      <th>fp3_time</th>\n",
       "      <th>quali_date</th>\n",
       "      <th>quali_time</th>\n",
       "      <th>sprint_date</th>\n",
       "      <th>sprint_time</th>\n",
       "      <th>weather_category</th>\n",
       "    </tr>\n",
       "  </thead>\n",
       "  <tbody>\n",
       "    <tr>\n",
       "      <th>0</th>\n",
       "      <td>0</td>\n",
       "      <td>0</td>\n",
       "      <td>Jenson Button</td>\n",
       "      <td>Australia</td>\n",
       "      <td>Soft Used</td>\n",
       "      <td>1</td>\n",
       "      <td>16</td>\n",
       "      <td>16</td>\n",
       "      <td>2012</td>\n",
       "      <td>Adelaide</td>\n",
       "      <td>860</td>\n",
       "      <td>2012</td>\n",
       "      <td>1</td>\n",
       "      <td>1</td>\n",
       "      <td>Australian Grand Prix</td>\n",
       "      <td>2012-03-18</td>\n",
       "      <td>06:00:00</td>\n",
       "      <td>http://en.wikipedia.org/wiki/2012_Australian_G...</td>\n",
       "      <td>\\N</td>\n",
       "      <td>\\N</td>\n",
       "      <td>\\N</td>\n",
       "      <td>\\N</td>\n",
       "      <td>\\N</td>\n",
       "      <td>\\N</td>\n",
       "      <td>\\N</td>\n",
       "      <td>\\N</td>\n",
       "      <td>\\N</td>\n",
       "      <td>\\N</td>\n",
       "      <td>weather_warm</td>\n",
       "    </tr>\n",
       "    <tr>\n",
       "      <th>1</th>\n",
       "      <td>1</td>\n",
       "      <td>1</td>\n",
       "      <td>Jenson Button</td>\n",
       "      <td>Australia</td>\n",
       "      <td>Medium New</td>\n",
       "      <td>17</td>\n",
       "      <td>36</td>\n",
       "      <td>20</td>\n",
       "      <td>2012</td>\n",
       "      <td>Adelaide</td>\n",
       "      <td>860</td>\n",
       "      <td>2012</td>\n",
       "      <td>1</td>\n",
       "      <td>1</td>\n",
       "      <td>Australian Grand Prix</td>\n",
       "      <td>2012-03-18</td>\n",
       "      <td>06:00:00</td>\n",
       "      <td>http://en.wikipedia.org/wiki/2012_Australian_G...</td>\n",
       "      <td>\\N</td>\n",
       "      <td>\\N</td>\n",
       "      <td>\\N</td>\n",
       "      <td>\\N</td>\n",
       "      <td>\\N</td>\n",
       "      <td>\\N</td>\n",
       "      <td>\\N</td>\n",
       "      <td>\\N</td>\n",
       "      <td>\\N</td>\n",
       "      <td>\\N</td>\n",
       "      <td>weather_warm</td>\n",
       "    </tr>\n",
       "    <tr>\n",
       "      <th>2</th>\n",
       "      <td>2</td>\n",
       "      <td>2</td>\n",
       "      <td>Jenson Button</td>\n",
       "      <td>Australia</td>\n",
       "      <td>Medium New</td>\n",
       "      <td>37</td>\n",
       "      <td>58</td>\n",
       "      <td>22</td>\n",
       "      <td>2012</td>\n",
       "      <td>Adelaide</td>\n",
       "      <td>860</td>\n",
       "      <td>2012</td>\n",
       "      <td>1</td>\n",
       "      <td>1</td>\n",
       "      <td>Australian Grand Prix</td>\n",
       "      <td>2012-03-18</td>\n",
       "      <td>06:00:00</td>\n",
       "      <td>http://en.wikipedia.org/wiki/2012_Australian_G...</td>\n",
       "      <td>\\N</td>\n",
       "      <td>\\N</td>\n",
       "      <td>\\N</td>\n",
       "      <td>\\N</td>\n",
       "      <td>\\N</td>\n",
       "      <td>\\N</td>\n",
       "      <td>\\N</td>\n",
       "      <td>\\N</td>\n",
       "      <td>\\N</td>\n",
       "      <td>\\N</td>\n",
       "      <td>weather_warm</td>\n",
       "    </tr>\n",
       "    <tr>\n",
       "      <th>3</th>\n",
       "      <td>3</td>\n",
       "      <td>3</td>\n",
       "      <td>Sebastian Vettel</td>\n",
       "      <td>Australia</td>\n",
       "      <td>Soft Used</td>\n",
       "      <td>1</td>\n",
       "      <td>16</td>\n",
       "      <td>16</td>\n",
       "      <td>2012</td>\n",
       "      <td>Adelaide</td>\n",
       "      <td>860</td>\n",
       "      <td>2012</td>\n",
       "      <td>1</td>\n",
       "      <td>1</td>\n",
       "      <td>Australian Grand Prix</td>\n",
       "      <td>2012-03-18</td>\n",
       "      <td>06:00:00</td>\n",
       "      <td>http://en.wikipedia.org/wiki/2012_Australian_G...</td>\n",
       "      <td>\\N</td>\n",
       "      <td>\\N</td>\n",
       "      <td>\\N</td>\n",
       "      <td>\\N</td>\n",
       "      <td>\\N</td>\n",
       "      <td>\\N</td>\n",
       "      <td>\\N</td>\n",
       "      <td>\\N</td>\n",
       "      <td>\\N</td>\n",
       "      <td>\\N</td>\n",
       "      <td>weather_warm</td>\n",
       "    </tr>\n",
       "    <tr>\n",
       "      <th>4</th>\n",
       "      <td>4</td>\n",
       "      <td>4</td>\n",
       "      <td>Sebastian Vettel</td>\n",
       "      <td>Australia</td>\n",
       "      <td>Soft Used</td>\n",
       "      <td>17</td>\n",
       "      <td>37</td>\n",
       "      <td>21</td>\n",
       "      <td>2012</td>\n",
       "      <td>Adelaide</td>\n",
       "      <td>860</td>\n",
       "      <td>2012</td>\n",
       "      <td>1</td>\n",
       "      <td>1</td>\n",
       "      <td>Australian Grand Prix</td>\n",
       "      <td>2012-03-18</td>\n",
       "      <td>06:00:00</td>\n",
       "      <td>http://en.wikipedia.org/wiki/2012_Australian_G...</td>\n",
       "      <td>\\N</td>\n",
       "      <td>\\N</td>\n",
       "      <td>\\N</td>\n",
       "      <td>\\N</td>\n",
       "      <td>\\N</td>\n",
       "      <td>\\N</td>\n",
       "      <td>\\N</td>\n",
       "      <td>\\N</td>\n",
       "      <td>\\N</td>\n",
       "      <td>\\N</td>\n",
       "      <td>weather_warm</td>\n",
       "    </tr>\n",
       "  </tbody>\n",
       "</table>\n",
       "</div>"
      ],
      "text/plain": [
       "   Unnamed: 0.1  Unnamed: 0            Driver         GP       Tyres  From   \n",
       "0             0           0     Jenson Button  Australia   Soft Used     1  \\\n",
       "1             1           1     Jenson Button  Australia  Medium New    17   \n",
       "2             2           2     Jenson Button  Australia  Medium New    37   \n",
       "3             3           3  Sebastian Vettel  Australia   Soft Used     1   \n",
       "4             4           4  Sebastian Vettel  Australia   Soft Used    17   \n",
       "\n",
       "   To  #Laps  year_x  location  raceId  year_y  round  circuitId   \n",
       "0  16     16    2012  Adelaide     860    2012      1          1  \\\n",
       "1  36     20    2012  Adelaide     860    2012      1          1   \n",
       "2  58     22    2012  Adelaide     860    2012      1          1   \n",
       "3  16     16    2012  Adelaide     860    2012      1          1   \n",
       "4  37     21    2012  Adelaide     860    2012      1          1   \n",
       "\n",
       "                    name        date      time   \n",
       "0  Australian Grand Prix  2012-03-18  06:00:00  \\\n",
       "1  Australian Grand Prix  2012-03-18  06:00:00   \n",
       "2  Australian Grand Prix  2012-03-18  06:00:00   \n",
       "3  Australian Grand Prix  2012-03-18  06:00:00   \n",
       "4  Australian Grand Prix  2012-03-18  06:00:00   \n",
       "\n",
       "                                                 url fp1_date fp1_time   \n",
       "0  http://en.wikipedia.org/wiki/2012_Australian_G...       \\N       \\N  \\\n",
       "1  http://en.wikipedia.org/wiki/2012_Australian_G...       \\N       \\N   \n",
       "2  http://en.wikipedia.org/wiki/2012_Australian_G...       \\N       \\N   \n",
       "3  http://en.wikipedia.org/wiki/2012_Australian_G...       \\N       \\N   \n",
       "4  http://en.wikipedia.org/wiki/2012_Australian_G...       \\N       \\N   \n",
       "\n",
       "  fp2_date fp2_time fp3_date fp3_time quali_date quali_time sprint_date   \n",
       "0       \\N       \\N       \\N       \\N         \\N         \\N          \\N  \\\n",
       "1       \\N       \\N       \\N       \\N         \\N         \\N          \\N   \n",
       "2       \\N       \\N       \\N       \\N         \\N         \\N          \\N   \n",
       "3       \\N       \\N       \\N       \\N         \\N         \\N          \\N   \n",
       "4       \\N       \\N       \\N       \\N         \\N         \\N          \\N   \n",
       "\n",
       "  sprint_time weather_category  \n",
       "0          \\N     weather_warm  \n",
       "1          \\N     weather_warm  \n",
       "2          \\N     weather_warm  \n",
       "3          \\N     weather_warm  \n",
       "4          \\N     weather_warm  "
      ]
     },
     "execution_count": 132,
     "metadata": {},
     "output_type": "execute_result"
    }
   ],
   "source": [
    "merged_new_tyre_weather.head()"
   ]
  },
  {
   "cell_type": "code",
   "execution_count": 133,
   "metadata": {},
   "outputs": [
    {
     "name": "stdout",
     "output_type": "stream",
     "text": [
      "<class 'pandas.core.frame.DataFrame'>\n",
      "RangeIndex: 13302 entries, 0 to 13301\n",
      "Data columns (total 29 columns):\n",
      " #   Column            Non-Null Count  Dtype \n",
      "---  ------            --------------  ----- \n",
      " 0   Unnamed: 0.1      13302 non-null  int64 \n",
      " 1   Unnamed: 0        13302 non-null  int64 \n",
      " 2   Driver            13297 non-null  object\n",
      " 3   GP                13302 non-null  object\n",
      " 4   Tyres             13302 non-null  object\n",
      " 5   From              13302 non-null  int64 \n",
      " 6   To                13302 non-null  int64 \n",
      " 7   #Laps             13302 non-null  int64 \n",
      " 8   year_x            13302 non-null  int64 \n",
      " 9   location          11353 non-null  object\n",
      " 10  raceId            13302 non-null  int64 \n",
      " 11  year_y            13302 non-null  int64 \n",
      " 12  round             13302 non-null  int64 \n",
      " 13  circuitId         13302 non-null  int64 \n",
      " 14  name              13302 non-null  object\n",
      " 15  date              13302 non-null  object\n",
      " 16  time              13302 non-null  object\n",
      " 17  url               13302 non-null  object\n",
      " 18  fp1_date          13302 non-null  object\n",
      " 19  fp1_time          13302 non-null  object\n",
      " 20  fp2_date          13302 non-null  object\n",
      " 21  fp2_time          13302 non-null  object\n",
      " 22  fp3_date          13302 non-null  object\n",
      " 23  fp3_time          13302 non-null  object\n",
      " 24  quali_date        13302 non-null  object\n",
      " 25  quali_time        13302 non-null  object\n",
      " 26  sprint_date       13302 non-null  object\n",
      " 27  sprint_time       13302 non-null  object\n",
      " 28  weather_category  13302 non-null  object\n",
      "dtypes: int64(10), object(19)\n",
      "memory usage: 2.9+ MB\n"
     ]
    }
   ],
   "source": [
    "merged_new_tyre_weather.info()"
   ]
  },
  {
   "cell_type": "code",
   "execution_count": 134,
   "metadata": {},
   "outputs": [],
   "source": [
    "columns_to_drop = [\n",
    "    'Unnamed: 0.1',\n",
    "    'Unnamed: 0',\n",
    "    'url',\n",
    "    'fp1_date',\n",
    "    'fp1_time',\n",
    "    'fp2_date',\n",
    "    'fp2_time',\n",
    "    'fp3_date',\n",
    "    'fp3_time',\n",
    "    'quali_date',\n",
    "    'quali_time',\n",
    "    'sprint_date',\n",
    "    'sprint_time'\n",
    "]\n",
    "\n",
    "merged_new_tyre_weather = merged_new_tyre_weather.drop(columns=columns_to_drop)\n"
   ]
  },
  {
   "cell_type": "code",
   "execution_count": 135,
   "metadata": {},
   "outputs": [
    {
     "data": {
      "text/html": [
       "<div>\n",
       "<style scoped>\n",
       "    .dataframe tbody tr th:only-of-type {\n",
       "        vertical-align: middle;\n",
       "    }\n",
       "\n",
       "    .dataframe tbody tr th {\n",
       "        vertical-align: top;\n",
       "    }\n",
       "\n",
       "    .dataframe thead th {\n",
       "        text-align: right;\n",
       "    }\n",
       "</style>\n",
       "<table border=\"1\" class=\"dataframe\">\n",
       "  <thead>\n",
       "    <tr style=\"text-align: right;\">\n",
       "      <th></th>\n",
       "      <th>Driver</th>\n",
       "      <th>GP</th>\n",
       "      <th>Tyres</th>\n",
       "      <th>From</th>\n",
       "      <th>To</th>\n",
       "      <th>#Laps</th>\n",
       "      <th>year_x</th>\n",
       "      <th>location</th>\n",
       "      <th>raceId</th>\n",
       "      <th>year_y</th>\n",
       "      <th>round</th>\n",
       "      <th>circuitId</th>\n",
       "      <th>name</th>\n",
       "      <th>date</th>\n",
       "      <th>time</th>\n",
       "      <th>weather_category</th>\n",
       "    </tr>\n",
       "  </thead>\n",
       "  <tbody>\n",
       "    <tr>\n",
       "      <th>0</th>\n",
       "      <td>Jenson Button</td>\n",
       "      <td>Australia</td>\n",
       "      <td>Soft Used</td>\n",
       "      <td>1</td>\n",
       "      <td>16</td>\n",
       "      <td>16</td>\n",
       "      <td>2012</td>\n",
       "      <td>Adelaide</td>\n",
       "      <td>860</td>\n",
       "      <td>2012</td>\n",
       "      <td>1</td>\n",
       "      <td>1</td>\n",
       "      <td>Australian Grand Prix</td>\n",
       "      <td>2012-03-18</td>\n",
       "      <td>06:00:00</td>\n",
       "      <td>weather_warm</td>\n",
       "    </tr>\n",
       "    <tr>\n",
       "      <th>1</th>\n",
       "      <td>Jenson Button</td>\n",
       "      <td>Australia</td>\n",
       "      <td>Medium New</td>\n",
       "      <td>17</td>\n",
       "      <td>36</td>\n",
       "      <td>20</td>\n",
       "      <td>2012</td>\n",
       "      <td>Adelaide</td>\n",
       "      <td>860</td>\n",
       "      <td>2012</td>\n",
       "      <td>1</td>\n",
       "      <td>1</td>\n",
       "      <td>Australian Grand Prix</td>\n",
       "      <td>2012-03-18</td>\n",
       "      <td>06:00:00</td>\n",
       "      <td>weather_warm</td>\n",
       "    </tr>\n",
       "    <tr>\n",
       "      <th>2</th>\n",
       "      <td>Jenson Button</td>\n",
       "      <td>Australia</td>\n",
       "      <td>Medium New</td>\n",
       "      <td>37</td>\n",
       "      <td>58</td>\n",
       "      <td>22</td>\n",
       "      <td>2012</td>\n",
       "      <td>Adelaide</td>\n",
       "      <td>860</td>\n",
       "      <td>2012</td>\n",
       "      <td>1</td>\n",
       "      <td>1</td>\n",
       "      <td>Australian Grand Prix</td>\n",
       "      <td>2012-03-18</td>\n",
       "      <td>06:00:00</td>\n",
       "      <td>weather_warm</td>\n",
       "    </tr>\n",
       "    <tr>\n",
       "      <th>3</th>\n",
       "      <td>Sebastian Vettel</td>\n",
       "      <td>Australia</td>\n",
       "      <td>Soft Used</td>\n",
       "      <td>1</td>\n",
       "      <td>16</td>\n",
       "      <td>16</td>\n",
       "      <td>2012</td>\n",
       "      <td>Adelaide</td>\n",
       "      <td>860</td>\n",
       "      <td>2012</td>\n",
       "      <td>1</td>\n",
       "      <td>1</td>\n",
       "      <td>Australian Grand Prix</td>\n",
       "      <td>2012-03-18</td>\n",
       "      <td>06:00:00</td>\n",
       "      <td>weather_warm</td>\n",
       "    </tr>\n",
       "    <tr>\n",
       "      <th>4</th>\n",
       "      <td>Sebastian Vettel</td>\n",
       "      <td>Australia</td>\n",
       "      <td>Soft Used</td>\n",
       "      <td>17</td>\n",
       "      <td>37</td>\n",
       "      <td>21</td>\n",
       "      <td>2012</td>\n",
       "      <td>Adelaide</td>\n",
       "      <td>860</td>\n",
       "      <td>2012</td>\n",
       "      <td>1</td>\n",
       "      <td>1</td>\n",
       "      <td>Australian Grand Prix</td>\n",
       "      <td>2012-03-18</td>\n",
       "      <td>06:00:00</td>\n",
       "      <td>weather_warm</td>\n",
       "    </tr>\n",
       "    <tr>\n",
       "      <th>5</th>\n",
       "      <td>Sebastian Vettel</td>\n",
       "      <td>Australia</td>\n",
       "      <td>Medium New</td>\n",
       "      <td>38</td>\n",
       "      <td>58</td>\n",
       "      <td>21</td>\n",
       "      <td>2012</td>\n",
       "      <td>Adelaide</td>\n",
       "      <td>860</td>\n",
       "      <td>2012</td>\n",
       "      <td>1</td>\n",
       "      <td>1</td>\n",
       "      <td>Australian Grand Prix</td>\n",
       "      <td>2012-03-18</td>\n",
       "      <td>06:00:00</td>\n",
       "      <td>weather_warm</td>\n",
       "    </tr>\n",
       "    <tr>\n",
       "      <th>6</th>\n",
       "      <td>Lewis Hamilton</td>\n",
       "      <td>Australia</td>\n",
       "      <td>Soft Used</td>\n",
       "      <td>1</td>\n",
       "      <td>17</td>\n",
       "      <td>17</td>\n",
       "      <td>2012</td>\n",
       "      <td>Adelaide</td>\n",
       "      <td>860</td>\n",
       "      <td>2012</td>\n",
       "      <td>1</td>\n",
       "      <td>1</td>\n",
       "      <td>Australian Grand Prix</td>\n",
       "      <td>2012-03-18</td>\n",
       "      <td>06:00:00</td>\n",
       "      <td>weather_warm</td>\n",
       "    </tr>\n",
       "    <tr>\n",
       "      <th>7</th>\n",
       "      <td>Lewis Hamilton</td>\n",
       "      <td>Australia</td>\n",
       "      <td>Medium New</td>\n",
       "      <td>18</td>\n",
       "      <td>36</td>\n",
       "      <td>19</td>\n",
       "      <td>2012</td>\n",
       "      <td>Adelaide</td>\n",
       "      <td>860</td>\n",
       "      <td>2012</td>\n",
       "      <td>1</td>\n",
       "      <td>1</td>\n",
       "      <td>Australian Grand Prix</td>\n",
       "      <td>2012-03-18</td>\n",
       "      <td>06:00:00</td>\n",
       "      <td>weather_warm</td>\n",
       "    </tr>\n",
       "    <tr>\n",
       "      <th>8</th>\n",
       "      <td>Lewis Hamilton</td>\n",
       "      <td>Australia</td>\n",
       "      <td>Medium New</td>\n",
       "      <td>37</td>\n",
       "      <td>58</td>\n",
       "      <td>22</td>\n",
       "      <td>2012</td>\n",
       "      <td>Adelaide</td>\n",
       "      <td>860</td>\n",
       "      <td>2012</td>\n",
       "      <td>1</td>\n",
       "      <td>1</td>\n",
       "      <td>Australian Grand Prix</td>\n",
       "      <td>2012-03-18</td>\n",
       "      <td>06:00:00</td>\n",
       "      <td>weather_warm</td>\n",
       "    </tr>\n",
       "    <tr>\n",
       "      <th>9</th>\n",
       "      <td>Mark Webber</td>\n",
       "      <td>Australia</td>\n",
       "      <td>Soft Used</td>\n",
       "      <td>1</td>\n",
       "      <td>14</td>\n",
       "      <td>14</td>\n",
       "      <td>2012</td>\n",
       "      <td>Adelaide</td>\n",
       "      <td>860</td>\n",
       "      <td>2012</td>\n",
       "      <td>1</td>\n",
       "      <td>1</td>\n",
       "      <td>Australian Grand Prix</td>\n",
       "      <td>2012-03-18</td>\n",
       "      <td>06:00:00</td>\n",
       "      <td>weather_warm</td>\n",
       "    </tr>\n",
       "    <tr>\n",
       "      <th>10</th>\n",
       "      <td>Mark Webber</td>\n",
       "      <td>Australia</td>\n",
       "      <td>Medium New</td>\n",
       "      <td>15</td>\n",
       "      <td>37</td>\n",
       "      <td>23</td>\n",
       "      <td>2012</td>\n",
       "      <td>Adelaide</td>\n",
       "      <td>860</td>\n",
       "      <td>2012</td>\n",
       "      <td>1</td>\n",
       "      <td>1</td>\n",
       "      <td>Australian Grand Prix</td>\n",
       "      <td>2012-03-18</td>\n",
       "      <td>06:00:00</td>\n",
       "      <td>weather_warm</td>\n",
       "    </tr>\n",
       "    <tr>\n",
       "      <th>11</th>\n",
       "      <td>Mark Webber</td>\n",
       "      <td>Australia</td>\n",
       "      <td>Medium New</td>\n",
       "      <td>38</td>\n",
       "      <td>58</td>\n",
       "      <td>21</td>\n",
       "      <td>2012</td>\n",
       "      <td>Adelaide</td>\n",
       "      <td>860</td>\n",
       "      <td>2012</td>\n",
       "      <td>1</td>\n",
       "      <td>1</td>\n",
       "      <td>Australian Grand Prix</td>\n",
       "      <td>2012-03-18</td>\n",
       "      <td>06:00:00</td>\n",
       "      <td>weather_warm</td>\n",
       "    </tr>\n",
       "    <tr>\n",
       "      <th>12</th>\n",
       "      <td>Fernando Alonso</td>\n",
       "      <td>Australia</td>\n",
       "      <td>Medium New</td>\n",
       "      <td>14</td>\n",
       "      <td>33</td>\n",
       "      <td>20</td>\n",
       "      <td>2012</td>\n",
       "      <td>Adelaide</td>\n",
       "      <td>860</td>\n",
       "      <td>2012</td>\n",
       "      <td>1</td>\n",
       "      <td>1</td>\n",
       "      <td>Australian Grand Prix</td>\n",
       "      <td>2012-03-18</td>\n",
       "      <td>06:00:00</td>\n",
       "      <td>weather_warm</td>\n",
       "    </tr>\n",
       "    <tr>\n",
       "      <th>13</th>\n",
       "      <td>Fernando Alonso</td>\n",
       "      <td>Australia</td>\n",
       "      <td>Medium New</td>\n",
       "      <td>34</td>\n",
       "      <td>58</td>\n",
       "      <td>25</td>\n",
       "      <td>2012</td>\n",
       "      <td>Adelaide</td>\n",
       "      <td>860</td>\n",
       "      <td>2012</td>\n",
       "      <td>1</td>\n",
       "      <td>1</td>\n",
       "      <td>Australian Grand Prix</td>\n",
       "      <td>2012-03-18</td>\n",
       "      <td>06:00:00</td>\n",
       "      <td>weather_warm</td>\n",
       "    </tr>\n",
       "    <tr>\n",
       "      <th>14</th>\n",
       "      <td>Kamui Kobayashi</td>\n",
       "      <td>Australia</td>\n",
       "      <td>Soft Used</td>\n",
       "      <td>1</td>\n",
       "      <td>13</td>\n",
       "      <td>13</td>\n",
       "      <td>2012</td>\n",
       "      <td>Adelaide</td>\n",
       "      <td>860</td>\n",
       "      <td>2012</td>\n",
       "      <td>1</td>\n",
       "      <td>1</td>\n",
       "      <td>Australian Grand Prix</td>\n",
       "      <td>2012-03-18</td>\n",
       "      <td>06:00:00</td>\n",
       "      <td>weather_warm</td>\n",
       "    </tr>\n",
       "    <tr>\n",
       "      <th>15</th>\n",
       "      <td>Kamui Kobayashi</td>\n",
       "      <td>Australia</td>\n",
       "      <td>Soft New</td>\n",
       "      <td>14</td>\n",
       "      <td>36</td>\n",
       "      <td>23</td>\n",
       "      <td>2012</td>\n",
       "      <td>Adelaide</td>\n",
       "      <td>860</td>\n",
       "      <td>2012</td>\n",
       "      <td>1</td>\n",
       "      <td>1</td>\n",
       "      <td>Australian Grand Prix</td>\n",
       "      <td>2012-03-18</td>\n",
       "      <td>06:00:00</td>\n",
       "      <td>weather_warm</td>\n",
       "    </tr>\n",
       "    <tr>\n",
       "      <th>16</th>\n",
       "      <td>Kamui Kobayashi</td>\n",
       "      <td>Australia</td>\n",
       "      <td>Medium New</td>\n",
       "      <td>37</td>\n",
       "      <td>58</td>\n",
       "      <td>22</td>\n",
       "      <td>2012</td>\n",
       "      <td>Adelaide</td>\n",
       "      <td>860</td>\n",
       "      <td>2012</td>\n",
       "      <td>1</td>\n",
       "      <td>1</td>\n",
       "      <td>Australian Grand Prix</td>\n",
       "      <td>2012-03-18</td>\n",
       "      <td>06:00:00</td>\n",
       "      <td>weather_warm</td>\n",
       "    </tr>\n",
       "    <tr>\n",
       "      <th>17</th>\n",
       "      <td>Fernando Alonso</td>\n",
       "      <td>Australia</td>\n",
       "      <td>Soft Used</td>\n",
       "      <td>1</td>\n",
       "      <td>13</td>\n",
       "      <td>13</td>\n",
       "      <td>2012</td>\n",
       "      <td>Adelaide</td>\n",
       "      <td>860</td>\n",
       "      <td>2012</td>\n",
       "      <td>1</td>\n",
       "      <td>1</td>\n",
       "      <td>Australian Grand Prix</td>\n",
       "      <td>2012-03-18</td>\n",
       "      <td>06:00:00</td>\n",
       "      <td>weather_warm</td>\n",
       "    </tr>\n",
       "    <tr>\n",
       "      <th>18</th>\n",
       "      <td>Kimi Räikkönen</td>\n",
       "      <td>Australia</td>\n",
       "      <td>Soft New</td>\n",
       "      <td>1</td>\n",
       "      <td>19</td>\n",
       "      <td>19</td>\n",
       "      <td>2012</td>\n",
       "      <td>Adelaide</td>\n",
       "      <td>860</td>\n",
       "      <td>2012</td>\n",
       "      <td>1</td>\n",
       "      <td>1</td>\n",
       "      <td>Australian Grand Prix</td>\n",
       "      <td>2012-03-18</td>\n",
       "      <td>06:00:00</td>\n",
       "      <td>weather_warm</td>\n",
       "    </tr>\n",
       "    <tr>\n",
       "      <th>19</th>\n",
       "      <td>Kimi Räikkönen</td>\n",
       "      <td>Australia</td>\n",
       "      <td>Soft New</td>\n",
       "      <td>20</td>\n",
       "      <td>37</td>\n",
       "      <td>18</td>\n",
       "      <td>2012</td>\n",
       "      <td>Adelaide</td>\n",
       "      <td>860</td>\n",
       "      <td>2012</td>\n",
       "      <td>1</td>\n",
       "      <td>1</td>\n",
       "      <td>Australian Grand Prix</td>\n",
       "      <td>2012-03-18</td>\n",
       "      <td>06:00:00</td>\n",
       "      <td>weather_warm</td>\n",
       "    </tr>\n",
       "    <tr>\n",
       "      <th>20</th>\n",
       "      <td>Kimi Räikkönen</td>\n",
       "      <td>Australia</td>\n",
       "      <td>Medium New</td>\n",
       "      <td>38</td>\n",
       "      <td>58</td>\n",
       "      <td>21</td>\n",
       "      <td>2012</td>\n",
       "      <td>Adelaide</td>\n",
       "      <td>860</td>\n",
       "      <td>2012</td>\n",
       "      <td>1</td>\n",
       "      <td>1</td>\n",
       "      <td>Australian Grand Prix</td>\n",
       "      <td>2012-03-18</td>\n",
       "      <td>06:00:00</td>\n",
       "      <td>weather_warm</td>\n",
       "    </tr>\n",
       "    <tr>\n",
       "      <th>21</th>\n",
       "      <td>Sergio Perez</td>\n",
       "      <td>Australia</td>\n",
       "      <td>Medium Used</td>\n",
       "      <td>1</td>\n",
       "      <td>24</td>\n",
       "      <td>24</td>\n",
       "      <td>2012</td>\n",
       "      <td>Adelaide</td>\n",
       "      <td>860</td>\n",
       "      <td>2012</td>\n",
       "      <td>1</td>\n",
       "      <td>1</td>\n",
       "      <td>Australian Grand Prix</td>\n",
       "      <td>2012-03-18</td>\n",
       "      <td>06:00:00</td>\n",
       "      <td>weather_warm</td>\n",
       "    </tr>\n",
       "    <tr>\n",
       "      <th>22</th>\n",
       "      <td>Sergio Perez</td>\n",
       "      <td>Australia</td>\n",
       "      <td>Soft New</td>\n",
       "      <td>25</td>\n",
       "      <td>58</td>\n",
       "      <td>34</td>\n",
       "      <td>2012</td>\n",
       "      <td>Adelaide</td>\n",
       "      <td>860</td>\n",
       "      <td>2012</td>\n",
       "      <td>1</td>\n",
       "      <td>1</td>\n",
       "      <td>Australian Grand Prix</td>\n",
       "      <td>2012-03-18</td>\n",
       "      <td>06:00:00</td>\n",
       "      <td>weather_warm</td>\n",
       "    </tr>\n",
       "    <tr>\n",
       "      <th>23</th>\n",
       "      <td>Daniel Ricciardo</td>\n",
       "      <td>Australia</td>\n",
       "      <td>Soft Used</td>\n",
       "      <td>1</td>\n",
       "      <td>1</td>\n",
       "      <td>1</td>\n",
       "      <td>2012</td>\n",
       "      <td>Adelaide</td>\n",
       "      <td>860</td>\n",
       "      <td>2012</td>\n",
       "      <td>1</td>\n",
       "      <td>1</td>\n",
       "      <td>Australian Grand Prix</td>\n",
       "      <td>2012-03-18</td>\n",
       "      <td>06:00:00</td>\n",
       "      <td>weather_warm</td>\n",
       "    </tr>\n",
       "    <tr>\n",
       "      <th>24</th>\n",
       "      <td>Daniel Ricciardo</td>\n",
       "      <td>Australia</td>\n",
       "      <td>Medium New</td>\n",
       "      <td>2</td>\n",
       "      <td>22</td>\n",
       "      <td>21</td>\n",
       "      <td>2012</td>\n",
       "      <td>Adelaide</td>\n",
       "      <td>860</td>\n",
       "      <td>2012</td>\n",
       "      <td>1</td>\n",
       "      <td>1</td>\n",
       "      <td>Australian Grand Prix</td>\n",
       "      <td>2012-03-18</td>\n",
       "      <td>06:00:00</td>\n",
       "      <td>weather_warm</td>\n",
       "    </tr>\n",
       "    <tr>\n",
       "      <th>25</th>\n",
       "      <td>Daniel Ricciardo</td>\n",
       "      <td>Australia</td>\n",
       "      <td>Soft New</td>\n",
       "      <td>23</td>\n",
       "      <td>38</td>\n",
       "      <td>16</td>\n",
       "      <td>2012</td>\n",
       "      <td>Adelaide</td>\n",
       "      <td>860</td>\n",
       "      <td>2012</td>\n",
       "      <td>1</td>\n",
       "      <td>1</td>\n",
       "      <td>Australian Grand Prix</td>\n",
       "      <td>2012-03-18</td>\n",
       "      <td>06:00:00</td>\n",
       "      <td>weather_warm</td>\n",
       "    </tr>\n",
       "    <tr>\n",
       "      <th>26</th>\n",
       "      <td>Daniel Ricciardo</td>\n",
       "      <td>Australia</td>\n",
       "      <td>Soft Used</td>\n",
       "      <td>39</td>\n",
       "      <td>58</td>\n",
       "      <td>20</td>\n",
       "      <td>2012</td>\n",
       "      <td>Adelaide</td>\n",
       "      <td>860</td>\n",
       "      <td>2012</td>\n",
       "      <td>1</td>\n",
       "      <td>1</td>\n",
       "      <td>Australian Grand Prix</td>\n",
       "      <td>2012-03-18</td>\n",
       "      <td>06:00:00</td>\n",
       "      <td>weather_warm</td>\n",
       "    </tr>\n",
       "    <tr>\n",
       "      <th>27</th>\n",
       "      <td>Paul di Resta</td>\n",
       "      <td>Australia</td>\n",
       "      <td>Soft Used</td>\n",
       "      <td>1</td>\n",
       "      <td>13</td>\n",
       "      <td>13</td>\n",
       "      <td>2012</td>\n",
       "      <td>Adelaide</td>\n",
       "      <td>860</td>\n",
       "      <td>2012</td>\n",
       "      <td>1</td>\n",
       "      <td>1</td>\n",
       "      <td>Australian Grand Prix</td>\n",
       "      <td>2012-03-18</td>\n",
       "      <td>06:00:00</td>\n",
       "      <td>weather_warm</td>\n",
       "    </tr>\n",
       "    <tr>\n",
       "      <th>28</th>\n",
       "      <td>Paul di Resta</td>\n",
       "      <td>Australia</td>\n",
       "      <td>Soft New</td>\n",
       "      <td>14</td>\n",
       "      <td>33</td>\n",
       "      <td>20</td>\n",
       "      <td>2012</td>\n",
       "      <td>Adelaide</td>\n",
       "      <td>860</td>\n",
       "      <td>2012</td>\n",
       "      <td>1</td>\n",
       "      <td>1</td>\n",
       "      <td>Australian Grand Prix</td>\n",
       "      <td>2012-03-18</td>\n",
       "      <td>06:00:00</td>\n",
       "      <td>weather_warm</td>\n",
       "    </tr>\n",
       "    <tr>\n",
       "      <th>29</th>\n",
       "      <td>Paul di Resta</td>\n",
       "      <td>Australia</td>\n",
       "      <td>Medium New</td>\n",
       "      <td>34</td>\n",
       "      <td>58</td>\n",
       "      <td>25</td>\n",
       "      <td>2012</td>\n",
       "      <td>Adelaide</td>\n",
       "      <td>860</td>\n",
       "      <td>2012</td>\n",
       "      <td>1</td>\n",
       "      <td>1</td>\n",
       "      <td>Australian Grand Prix</td>\n",
       "      <td>2012-03-18</td>\n",
       "      <td>06:00:00</td>\n",
       "      <td>weather_warm</td>\n",
       "    </tr>\n",
       "    <tr>\n",
       "      <th>30</th>\n",
       "      <td>Jean-Eric Vergne</td>\n",
       "      <td>Australia</td>\n",
       "      <td>Medium New</td>\n",
       "      <td>1</td>\n",
       "      <td>19</td>\n",
       "      <td>19</td>\n",
       "      <td>2012</td>\n",
       "      <td>Adelaide</td>\n",
       "      <td>860</td>\n",
       "      <td>2012</td>\n",
       "      <td>1</td>\n",
       "      <td>1</td>\n",
       "      <td>Australian Grand Prix</td>\n",
       "      <td>2012-03-18</td>\n",
       "      <td>06:00:00</td>\n",
       "      <td>weather_warm</td>\n",
       "    </tr>\n",
       "    <tr>\n",
       "      <th>31</th>\n",
       "      <td>Jean-Eric Vergne</td>\n",
       "      <td>Australia</td>\n",
       "      <td>Soft New</td>\n",
       "      <td>20</td>\n",
       "      <td>37</td>\n",
       "      <td>18</td>\n",
       "      <td>2012</td>\n",
       "      <td>Adelaide</td>\n",
       "      <td>860</td>\n",
       "      <td>2012</td>\n",
       "      <td>1</td>\n",
       "      <td>1</td>\n",
       "      <td>Australian Grand Prix</td>\n",
       "      <td>2012-03-18</td>\n",
       "      <td>06:00:00</td>\n",
       "      <td>weather_warm</td>\n",
       "    </tr>\n",
       "    <tr>\n",
       "      <th>32</th>\n",
       "      <td>Jean-Eric Vergne</td>\n",
       "      <td>Australia</td>\n",
       "      <td>Soft Used</td>\n",
       "      <td>38</td>\n",
       "      <td>58</td>\n",
       "      <td>21</td>\n",
       "      <td>2012</td>\n",
       "      <td>Adelaide</td>\n",
       "      <td>860</td>\n",
       "      <td>2012</td>\n",
       "      <td>1</td>\n",
       "      <td>1</td>\n",
       "      <td>Australian Grand Prix</td>\n",
       "      <td>2012-03-18</td>\n",
       "      <td>06:00:00</td>\n",
       "      <td>weather_warm</td>\n",
       "    </tr>\n",
       "    <tr>\n",
       "      <th>33</th>\n",
       "      <td>Nico Rosberg</td>\n",
       "      <td>Australia</td>\n",
       "      <td>Soft Used</td>\n",
       "      <td>1</td>\n",
       "      <td>12</td>\n",
       "      <td>12</td>\n",
       "      <td>2012</td>\n",
       "      <td>Adelaide</td>\n",
       "      <td>860</td>\n",
       "      <td>2012</td>\n",
       "      <td>1</td>\n",
       "      <td>1</td>\n",
       "      <td>Australian Grand Prix</td>\n",
       "      <td>2012-03-18</td>\n",
       "      <td>06:00:00</td>\n",
       "      <td>weather_warm</td>\n",
       "    </tr>\n",
       "    <tr>\n",
       "      <th>34</th>\n",
       "      <td>Nico Rosberg</td>\n",
       "      <td>Australia</td>\n",
       "      <td>Soft Used</td>\n",
       "      <td>13</td>\n",
       "      <td>31</td>\n",
       "      <td>19</td>\n",
       "      <td>2012</td>\n",
       "      <td>Adelaide</td>\n",
       "      <td>860</td>\n",
       "      <td>2012</td>\n",
       "      <td>1</td>\n",
       "      <td>1</td>\n",
       "      <td>Australian Grand Prix</td>\n",
       "      <td>2012-03-18</td>\n",
       "      <td>06:00:00</td>\n",
       "      <td>weather_warm</td>\n",
       "    </tr>\n",
       "    <tr>\n",
       "      <th>35</th>\n",
       "      <td>Nico Rosberg</td>\n",
       "      <td>Australia</td>\n",
       "      <td>Medium New</td>\n",
       "      <td>32</td>\n",
       "      <td>58</td>\n",
       "      <td>27</td>\n",
       "      <td>2012</td>\n",
       "      <td>Adelaide</td>\n",
       "      <td>860</td>\n",
       "      <td>2012</td>\n",
       "      <td>1</td>\n",
       "      <td>1</td>\n",
       "      <td>Australian Grand Prix</td>\n",
       "      <td>2012-03-18</td>\n",
       "      <td>06:00:00</td>\n",
       "      <td>weather_warm</td>\n",
       "    </tr>\n",
       "    <tr>\n",
       "      <th>36</th>\n",
       "      <td>Pastor Maldonado</td>\n",
       "      <td>Australia</td>\n",
       "      <td>Soft Used</td>\n",
       "      <td>1</td>\n",
       "      <td>16</td>\n",
       "      <td>16</td>\n",
       "      <td>2012</td>\n",
       "      <td>Adelaide</td>\n",
       "      <td>860</td>\n",
       "      <td>2012</td>\n",
       "      <td>1</td>\n",
       "      <td>1</td>\n",
       "      <td>Australian Grand Prix</td>\n",
       "      <td>2012-03-18</td>\n",
       "      <td>06:00:00</td>\n",
       "      <td>weather_warm</td>\n",
       "    </tr>\n",
       "    <tr>\n",
       "      <th>37</th>\n",
       "      <td>Pastor Maldonado</td>\n",
       "      <td>Australia</td>\n",
       "      <td>Soft Used</td>\n",
       "      <td>17</td>\n",
       "      <td>37</td>\n",
       "      <td>21</td>\n",
       "      <td>2012</td>\n",
       "      <td>Adelaide</td>\n",
       "      <td>860</td>\n",
       "      <td>2012</td>\n",
       "      <td>1</td>\n",
       "      <td>1</td>\n",
       "      <td>Australian Grand Prix</td>\n",
       "      <td>2012-03-18</td>\n",
       "      <td>06:00:00</td>\n",
       "      <td>weather_warm</td>\n",
       "    </tr>\n",
       "    <tr>\n",
       "      <th>38</th>\n",
       "      <td>Pastor Maldonado</td>\n",
       "      <td>Australia</td>\n",
       "      <td>Medium New</td>\n",
       "      <td>38</td>\n",
       "      <td>57</td>\n",
       "      <td>20</td>\n",
       "      <td>2012</td>\n",
       "      <td>Adelaide</td>\n",
       "      <td>860</td>\n",
       "      <td>2012</td>\n",
       "      <td>1</td>\n",
       "      <td>1</td>\n",
       "      <td>Australian Grand Prix</td>\n",
       "      <td>2012-03-18</td>\n",
       "      <td>06:00:00</td>\n",
       "      <td>weather_warm</td>\n",
       "    </tr>\n",
       "    <tr>\n",
       "      <th>39</th>\n",
       "      <td>Timo Glock</td>\n",
       "      <td>Australia</td>\n",
       "      <td>Medium New</td>\n",
       "      <td>1</td>\n",
       "      <td>20</td>\n",
       "      <td>20</td>\n",
       "      <td>2012</td>\n",
       "      <td>Adelaide</td>\n",
       "      <td>860</td>\n",
       "      <td>2012</td>\n",
       "      <td>1</td>\n",
       "      <td>1</td>\n",
       "      <td>Australian Grand Prix</td>\n",
       "      <td>2012-03-18</td>\n",
       "      <td>06:00:00</td>\n",
       "      <td>weather_warm</td>\n",
       "    </tr>\n",
       "  </tbody>\n",
       "</table>\n",
       "</div>"
      ],
      "text/plain": [
       "              Driver         GP        Tyres  From  To  #Laps  year_x   \n",
       "0      Jenson Button  Australia    Soft Used     1  16     16    2012  \\\n",
       "1      Jenson Button  Australia   Medium New    17  36     20    2012   \n",
       "2      Jenson Button  Australia   Medium New    37  58     22    2012   \n",
       "3   Sebastian Vettel  Australia    Soft Used     1  16     16    2012   \n",
       "4   Sebastian Vettel  Australia    Soft Used    17  37     21    2012   \n",
       "5   Sebastian Vettel  Australia   Medium New    38  58     21    2012   \n",
       "6     Lewis Hamilton  Australia    Soft Used     1  17     17    2012   \n",
       "7     Lewis Hamilton  Australia   Medium New    18  36     19    2012   \n",
       "8     Lewis Hamilton  Australia   Medium New    37  58     22    2012   \n",
       "9        Mark Webber  Australia    Soft Used     1  14     14    2012   \n",
       "10       Mark Webber  Australia   Medium New    15  37     23    2012   \n",
       "11       Mark Webber  Australia   Medium New    38  58     21    2012   \n",
       "12   Fernando Alonso  Australia   Medium New    14  33     20    2012   \n",
       "13   Fernando Alonso  Australia   Medium New    34  58     25    2012   \n",
       "14   Kamui Kobayashi  Australia    Soft Used     1  13     13    2012   \n",
       "15   Kamui Kobayashi  Australia     Soft New    14  36     23    2012   \n",
       "16   Kamui Kobayashi  Australia   Medium New    37  58     22    2012   \n",
       "17   Fernando Alonso  Australia    Soft Used     1  13     13    2012   \n",
       "18    Kimi Räikkönen  Australia     Soft New     1  19     19    2012   \n",
       "19    Kimi Räikkönen  Australia     Soft New    20  37     18    2012   \n",
       "20    Kimi Räikkönen  Australia   Medium New    38  58     21    2012   \n",
       "21      Sergio Perez  Australia  Medium Used     1  24     24    2012   \n",
       "22      Sergio Perez  Australia     Soft New    25  58     34    2012   \n",
       "23  Daniel Ricciardo  Australia    Soft Used     1   1      1    2012   \n",
       "24  Daniel Ricciardo  Australia   Medium New     2  22     21    2012   \n",
       "25  Daniel Ricciardo  Australia     Soft New    23  38     16    2012   \n",
       "26  Daniel Ricciardo  Australia    Soft Used    39  58     20    2012   \n",
       "27     Paul di Resta  Australia    Soft Used     1  13     13    2012   \n",
       "28     Paul di Resta  Australia     Soft New    14  33     20    2012   \n",
       "29     Paul di Resta  Australia   Medium New    34  58     25    2012   \n",
       "30  Jean-Eric Vergne  Australia   Medium New     1  19     19    2012   \n",
       "31  Jean-Eric Vergne  Australia     Soft New    20  37     18    2012   \n",
       "32  Jean-Eric Vergne  Australia    Soft Used    38  58     21    2012   \n",
       "33      Nico Rosberg  Australia    Soft Used     1  12     12    2012   \n",
       "34      Nico Rosberg  Australia    Soft Used    13  31     19    2012   \n",
       "35      Nico Rosberg  Australia   Medium New    32  58     27    2012   \n",
       "36  Pastor Maldonado  Australia    Soft Used     1  16     16    2012   \n",
       "37  Pastor Maldonado  Australia    Soft Used    17  37     21    2012   \n",
       "38  Pastor Maldonado  Australia   Medium New    38  57     20    2012   \n",
       "39        Timo Glock  Australia   Medium New     1  20     20    2012   \n",
       "\n",
       "    location  raceId  year_y  round  circuitId                   name   \n",
       "0   Adelaide     860    2012      1          1  Australian Grand Prix  \\\n",
       "1   Adelaide     860    2012      1          1  Australian Grand Prix   \n",
       "2   Adelaide     860    2012      1          1  Australian Grand Prix   \n",
       "3   Adelaide     860    2012      1          1  Australian Grand Prix   \n",
       "4   Adelaide     860    2012      1          1  Australian Grand Prix   \n",
       "5   Adelaide     860    2012      1          1  Australian Grand Prix   \n",
       "6   Adelaide     860    2012      1          1  Australian Grand Prix   \n",
       "7   Adelaide     860    2012      1          1  Australian Grand Prix   \n",
       "8   Adelaide     860    2012      1          1  Australian Grand Prix   \n",
       "9   Adelaide     860    2012      1          1  Australian Grand Prix   \n",
       "10  Adelaide     860    2012      1          1  Australian Grand Prix   \n",
       "11  Adelaide     860    2012      1          1  Australian Grand Prix   \n",
       "12  Adelaide     860    2012      1          1  Australian Grand Prix   \n",
       "13  Adelaide     860    2012      1          1  Australian Grand Prix   \n",
       "14  Adelaide     860    2012      1          1  Australian Grand Prix   \n",
       "15  Adelaide     860    2012      1          1  Australian Grand Prix   \n",
       "16  Adelaide     860    2012      1          1  Australian Grand Prix   \n",
       "17  Adelaide     860    2012      1          1  Australian Grand Prix   \n",
       "18  Adelaide     860    2012      1          1  Australian Grand Prix   \n",
       "19  Adelaide     860    2012      1          1  Australian Grand Prix   \n",
       "20  Adelaide     860    2012      1          1  Australian Grand Prix   \n",
       "21  Adelaide     860    2012      1          1  Australian Grand Prix   \n",
       "22  Adelaide     860    2012      1          1  Australian Grand Prix   \n",
       "23  Adelaide     860    2012      1          1  Australian Grand Prix   \n",
       "24  Adelaide     860    2012      1          1  Australian Grand Prix   \n",
       "25  Adelaide     860    2012      1          1  Australian Grand Prix   \n",
       "26  Adelaide     860    2012      1          1  Australian Grand Prix   \n",
       "27  Adelaide     860    2012      1          1  Australian Grand Prix   \n",
       "28  Adelaide     860    2012      1          1  Australian Grand Prix   \n",
       "29  Adelaide     860    2012      1          1  Australian Grand Prix   \n",
       "30  Adelaide     860    2012      1          1  Australian Grand Prix   \n",
       "31  Adelaide     860    2012      1          1  Australian Grand Prix   \n",
       "32  Adelaide     860    2012      1          1  Australian Grand Prix   \n",
       "33  Adelaide     860    2012      1          1  Australian Grand Prix   \n",
       "34  Adelaide     860    2012      1          1  Australian Grand Prix   \n",
       "35  Adelaide     860    2012      1          1  Australian Grand Prix   \n",
       "36  Adelaide     860    2012      1          1  Australian Grand Prix   \n",
       "37  Adelaide     860    2012      1          1  Australian Grand Prix   \n",
       "38  Adelaide     860    2012      1          1  Australian Grand Prix   \n",
       "39  Adelaide     860    2012      1          1  Australian Grand Prix   \n",
       "\n",
       "          date      time weather_category  \n",
       "0   2012-03-18  06:00:00     weather_warm  \n",
       "1   2012-03-18  06:00:00     weather_warm  \n",
       "2   2012-03-18  06:00:00     weather_warm  \n",
       "3   2012-03-18  06:00:00     weather_warm  \n",
       "4   2012-03-18  06:00:00     weather_warm  \n",
       "5   2012-03-18  06:00:00     weather_warm  \n",
       "6   2012-03-18  06:00:00     weather_warm  \n",
       "7   2012-03-18  06:00:00     weather_warm  \n",
       "8   2012-03-18  06:00:00     weather_warm  \n",
       "9   2012-03-18  06:00:00     weather_warm  \n",
       "10  2012-03-18  06:00:00     weather_warm  \n",
       "11  2012-03-18  06:00:00     weather_warm  \n",
       "12  2012-03-18  06:00:00     weather_warm  \n",
       "13  2012-03-18  06:00:00     weather_warm  \n",
       "14  2012-03-18  06:00:00     weather_warm  \n",
       "15  2012-03-18  06:00:00     weather_warm  \n",
       "16  2012-03-18  06:00:00     weather_warm  \n",
       "17  2012-03-18  06:00:00     weather_warm  \n",
       "18  2012-03-18  06:00:00     weather_warm  \n",
       "19  2012-03-18  06:00:00     weather_warm  \n",
       "20  2012-03-18  06:00:00     weather_warm  \n",
       "21  2012-03-18  06:00:00     weather_warm  \n",
       "22  2012-03-18  06:00:00     weather_warm  \n",
       "23  2012-03-18  06:00:00     weather_warm  \n",
       "24  2012-03-18  06:00:00     weather_warm  \n",
       "25  2012-03-18  06:00:00     weather_warm  \n",
       "26  2012-03-18  06:00:00     weather_warm  \n",
       "27  2012-03-18  06:00:00     weather_warm  \n",
       "28  2012-03-18  06:00:00     weather_warm  \n",
       "29  2012-03-18  06:00:00     weather_warm  \n",
       "30  2012-03-18  06:00:00     weather_warm  \n",
       "31  2012-03-18  06:00:00     weather_warm  \n",
       "32  2012-03-18  06:00:00     weather_warm  \n",
       "33  2012-03-18  06:00:00     weather_warm  \n",
       "34  2012-03-18  06:00:00     weather_warm  \n",
       "35  2012-03-18  06:00:00     weather_warm  \n",
       "36  2012-03-18  06:00:00     weather_warm  \n",
       "37  2012-03-18  06:00:00     weather_warm  \n",
       "38  2012-03-18  06:00:00     weather_warm  \n",
       "39  2012-03-18  06:00:00     weather_warm  "
      ]
     },
     "execution_count": 135,
     "metadata": {},
     "output_type": "execute_result"
    }
   ],
   "source": [
    "merged_new_tyre_weather.head(40)"
   ]
  },
  {
   "cell_type": "code",
   "execution_count": 136,
   "metadata": {},
   "outputs": [
    {
     "name": "stdout",
     "output_type": "stream",
     "text": [
      "<class 'pandas.core.frame.DataFrame'>\n",
      "RangeIndex: 13302 entries, 0 to 13301\n",
      "Data columns (total 16 columns):\n",
      " #   Column            Non-Null Count  Dtype \n",
      "---  ------            --------------  ----- \n",
      " 0   Driver            13297 non-null  object\n",
      " 1   GP                13302 non-null  object\n",
      " 2   Tyres             13302 non-null  object\n",
      " 3   From              13302 non-null  int64 \n",
      " 4   To                13302 non-null  int64 \n",
      " 5   #Laps             13302 non-null  int64 \n",
      " 6   year_x            13302 non-null  int64 \n",
      " 7   location          11353 non-null  object\n",
      " 8   raceId            13302 non-null  int64 \n",
      " 9   year_y            13302 non-null  int64 \n",
      " 10  round             13302 non-null  int64 \n",
      " 11  circuitId         13302 non-null  int64 \n",
      " 12  name              13302 non-null  object\n",
      " 13  date              13302 non-null  object\n",
      " 14  time              13302 non-null  object\n",
      " 15  weather_category  13302 non-null  object\n",
      "dtypes: int64(8), object(8)\n",
      "memory usage: 1.6+ MB\n"
     ]
    }
   ],
   "source": [
    "merged_new_tyre_weather.info()"
   ]
  },
  {
   "cell_type": "code",
   "execution_count": 137,
   "metadata": {},
   "outputs": [
    {
     "data": {
      "text/plain": [
       "13302"
      ]
     },
     "execution_count": 137,
     "metadata": {},
     "output_type": "execute_result"
    }
   ],
   "source": [
    "merged_new_tyre_weather.duplicated().count()"
   ]
  },
  {
   "cell_type": "code",
   "execution_count": 138,
   "metadata": {},
   "outputs": [
    {
     "data": {
      "text/plain": [
       "Driver              13302\n",
       "GP                  13302\n",
       "Tyres               13302\n",
       "From                13302\n",
       "To                  13302\n",
       "#Laps               13302\n",
       "year_x              13302\n",
       "location            13302\n",
       "raceId              13302\n",
       "year_y              13302\n",
       "round               13302\n",
       "circuitId           13302\n",
       "name                13302\n",
       "date                13302\n",
       "time                13302\n",
       "weather_category    13302\n",
       "dtype: int64"
      ]
     },
     "execution_count": 138,
     "metadata": {},
     "output_type": "execute_result"
    }
   ],
   "source": [
    "merged_new_tyre_weather.isna().count()"
   ]
  },
  {
   "cell_type": "code",
   "execution_count": 139,
   "metadata": {},
   "outputs": [],
   "source": [
    "# Remove \"Used\" and \"New\" from the \"tyres\" column values\n",
    "merged_new_tyre_weather['Tyres'] = merged_new_tyre_weather['Tyres'].str.replace(' Used', '').str.replace(' New', '')"
   ]
  },
  {
   "cell_type": "code",
   "execution_count": 140,
   "metadata": {},
   "outputs": [],
   "source": [
    "# Define a dictionary to map old values to new values\n",
    "tyres_mapping = {\n",
    "    'Hiper Blando Usado': 'Hyper Soft Used',\n",
    "    'Hiper Blando Nuevo': 'Hyper Soft New',\n",
    "    'Lluvia Extrema Usado': 'Full Wet',\n",
    "    'Hyper Soft Used' : 'Hyper Soft',\n",
    "    'Hyper Soft New' : 'Hyper Soft'\n",
    "}\n",
    "\n",
    "# Use the replace() method to update the values in the \"tyres\" column\n",
    "merged_new_tyre_weather['Tyres'] = merged_new_tyre_weather['Tyres'].replace(tyres_mapping)\n"
   ]
  },
  {
   "cell_type": "code",
   "execution_count": 152,
   "metadata": {},
   "outputs": [
    {
     "data": {
      "application/vnd.plotly.v1+json": {
       "config": {
        "plotlyServerURL": "https://plot.ly"
       },
       "data": [
        {
         "alignmentgroup": "True",
         "hovertemplate": "variable=weather_cloudy<br>Tyre Types=%{x}<br>value=%{y}<extra></extra>",
         "legendgroup": "weather_cloudy",
         "marker": {
          "color": "#00A08B",
          "pattern": {
           "shape": ""
          }
         },
         "name": "weather_cloudy",
         "offsetgroup": "weather_cloudy",
         "orientation": "v",
         "showlegend": true,
         "textposition": "auto",
         "type": "bar",
         "x": [
          "Full Wet",
          "Hard",
          "Hyper Soft New",
          "Hyper Soft Used",
          "Intermediate",
          "Medium",
          "Soft",
          "Supersoft",
          "Ultrasoft",
          "Wet"
         ],
         "xaxis": "x",
         "y": [
          0,
          26.834759117514633,
          4.3478260869565215,
          14.285714285714285,
          3.5211267605633805,
          27.281721493940143,
          28.829977058373697,
          28.01582069874753,
          23.449612403100776,
          0
         ],
         "yaxis": "y"
        },
        {
         "alignmentgroup": "True",
         "hovertemplate": "variable=weather_cold<br>Tyre Types=%{x}<br>value=%{y}<extra></extra>",
         "legendgroup": "weather_cold",
         "marker": {
          "color": "#00cc96",
          "pattern": {
           "shape": ""
          }
         },
         "name": "weather_cold",
         "offsetgroup": "weather_cold",
         "orientation": "v",
         "showlegend": true,
         "textposition": "auto",
         "type": "bar",
         "x": [
          "Full Wet",
          "Hard",
          "Hyper Soft New",
          "Hyper Soft Used",
          "Intermediate",
          "Medium",
          "Soft",
          "Supersoft",
          "Ultrasoft",
          "Wet"
         ],
         "xaxis": "x",
         "y": [
          0,
          0,
          0,
          0,
          0,
          0.4699480583724957,
          0.5098139179199592,
          0.13183915622940012,
          0,
          0
         ],
         "yaxis": "y"
        },
        {
         "alignmentgroup": "True",
         "hovertemplate": "variable=weather_dry<br>Tyre Types=%{x}<br>value=%{y}<extra></extra>",
         "legendgroup": "weather_dry",
         "marker": {
          "color": "#ab63fa",
          "pattern": {
           "shape": ""
          }
         },
         "name": "weather_dry",
         "offsetgroup": "weather_dry",
         "orientation": "v",
         "showlegend": true,
         "textposition": "auto",
         "type": "bar",
         "x": [
          "Full Wet",
          "Hard",
          "Hyper Soft New",
          "Hyper Soft Used",
          "Intermediate",
          "Medium",
          "Soft",
          "Supersoft",
          "Ultrasoft",
          "Wet"
         ],
         "xaxis": "x",
         "y": [
          33.33333333333333,
          8.55470508779829,
          0,
          0,
          27.464788732394368,
          10.561464259213455,
          11.394341065511089,
          13.843111404087013,
          11.434108527131782,
          32.8125
         ],
         "yaxis": "y"
        },
        {
         "alignmentgroup": "True",
         "hovertemplate": "variable=weather_unknown<br>Tyre Types=%{x}<br>value=%{y}<extra></extra>",
         "legendgroup": "weather_unknown",
         "marker": {
          "color": "#FFA15A",
          "pattern": {
           "shape": ""
          }
         },
         "name": "weather_unknown",
         "offsetgroup": "weather_unknown",
         "orientation": "v",
         "showlegend": true,
         "textposition": "auto",
         "type": "bar",
         "x": [
          "Full Wet",
          "Hard",
          "Hyper Soft New",
          "Hyper Soft Used",
          "Intermediate",
          "Medium",
          "Soft",
          "Supersoft",
          "Ultrasoft",
          "Wet"
         ],
         "xaxis": "x",
         "y": [
          0,
          2.3863124718595228,
          13.043478260869565,
          14.285714285714285,
          0,
          1.162503091763542,
          1.7843487127198572,
          2.4390243902439024,
          2.3255813953488373,
          0
         ],
         "yaxis": "y"
        },
        {
         "alignmentgroup": "True",
         "hovertemplate": "variable=weather_warm<br>Tyre Types=%{x}<br>value=%{y}<extra></extra>",
         "legendgroup": "weather_warm",
         "marker": {
          "color": "#FF5733",
          "pattern": {
           "shape": ""
          }
         },
         "name": "weather_warm",
         "offsetgroup": "weather_warm",
         "orientation": "v",
         "showlegend": true,
         "textposition": "auto",
         "type": "bar",
         "x": [
          "Full Wet",
          "Hard",
          "Hyper Soft New",
          "Hyper Soft Used",
          "Intermediate",
          "Medium",
          "Soft",
          "Supersoft",
          "Ultrasoft",
          "Wet"
         ],
         "xaxis": "x",
         "y": [
          3.9215686274509802,
          56.68617739756866,
          82.6086956521739,
          71.42857142857143,
          18.591549295774648,
          54.687113529557266,
          53.581442773387714,
          55.57020435069215,
          58.139534883720934,
          8.59375
         ],
         "yaxis": "y"
        },
        {
         "alignmentgroup": "True",
         "hovertemplate": "variable=weather_wet<br>Tyre Types=%{x}<br>value=%{y}<extra></extra>",
         "legendgroup": "weather_wet",
         "marker": {
          "color": "#19d3f3",
          "pattern": {
           "shape": ""
          }
         },
         "name": "weather_wet",
         "offsetgroup": "weather_wet",
         "orientation": "v",
         "showlegend": true,
         "textposition": "auto",
         "type": "bar",
         "x": [
          "Full Wet",
          "Hard",
          "Hyper Soft New",
          "Hyper Soft Used",
          "Intermediate",
          "Medium",
          "Soft",
          "Supersoft",
          "Ultrasoft",
          "Wet"
         ],
         "xaxis": "x",
         "y": [
          62.745098039215684,
          5.538045925258892,
          0,
          0,
          50.42253521126761,
          5.837249567153104,
          3.900076472087688,
          0,
          4.651162790697675,
          58.59375
         ],
         "yaxis": "y"
        }
       ],
       "layout": {
        "barmode": "group",
        "legend": {
         "title": {
          "text": "variable"
         },
         "tracegroupgap": 0
        },
        "template": {
         "data": {
          "bar": [
           {
            "error_x": {
             "color": "#2a3f5f"
            },
            "error_y": {
             "color": "#2a3f5f"
            },
            "marker": {
             "line": {
              "color": "#E5ECF6",
              "width": 0.5
             },
             "pattern": {
              "fillmode": "overlay",
              "size": 10,
              "solidity": 0.2
             }
            },
            "type": "bar"
           }
          ],
          "barpolar": [
           {
            "marker": {
             "line": {
              "color": "#E5ECF6",
              "width": 0.5
             },
             "pattern": {
              "fillmode": "overlay",
              "size": 10,
              "solidity": 0.2
             }
            },
            "type": "barpolar"
           }
          ],
          "carpet": [
           {
            "aaxis": {
             "endlinecolor": "#2a3f5f",
             "gridcolor": "white",
             "linecolor": "white",
             "minorgridcolor": "white",
             "startlinecolor": "#2a3f5f"
            },
            "baxis": {
             "endlinecolor": "#2a3f5f",
             "gridcolor": "white",
             "linecolor": "white",
             "minorgridcolor": "white",
             "startlinecolor": "#2a3f5f"
            },
            "type": "carpet"
           }
          ],
          "choropleth": [
           {
            "colorbar": {
             "outlinewidth": 0,
             "ticks": ""
            },
            "type": "choropleth"
           }
          ],
          "contour": [
           {
            "colorbar": {
             "outlinewidth": 0,
             "ticks": ""
            },
            "colorscale": [
             [
              0,
              "#0d0887"
             ],
             [
              0.1111111111111111,
              "#46039f"
             ],
             [
              0.2222222222222222,
              "#7201a8"
             ],
             [
              0.3333333333333333,
              "#9c179e"
             ],
             [
              0.4444444444444444,
              "#bd3786"
             ],
             [
              0.5555555555555556,
              "#d8576b"
             ],
             [
              0.6666666666666666,
              "#ed7953"
             ],
             [
              0.7777777777777778,
              "#fb9f3a"
             ],
             [
              0.8888888888888888,
              "#fdca26"
             ],
             [
              1,
              "#f0f921"
             ]
            ],
            "type": "contour"
           }
          ],
          "contourcarpet": [
           {
            "colorbar": {
             "outlinewidth": 0,
             "ticks": ""
            },
            "type": "contourcarpet"
           }
          ],
          "heatmap": [
           {
            "colorbar": {
             "outlinewidth": 0,
             "ticks": ""
            },
            "colorscale": [
             [
              0,
              "#0d0887"
             ],
             [
              0.1111111111111111,
              "#46039f"
             ],
             [
              0.2222222222222222,
              "#7201a8"
             ],
             [
              0.3333333333333333,
              "#9c179e"
             ],
             [
              0.4444444444444444,
              "#bd3786"
             ],
             [
              0.5555555555555556,
              "#d8576b"
             ],
             [
              0.6666666666666666,
              "#ed7953"
             ],
             [
              0.7777777777777778,
              "#fb9f3a"
             ],
             [
              0.8888888888888888,
              "#fdca26"
             ],
             [
              1,
              "#f0f921"
             ]
            ],
            "type": "heatmap"
           }
          ],
          "heatmapgl": [
           {
            "colorbar": {
             "outlinewidth": 0,
             "ticks": ""
            },
            "colorscale": [
             [
              0,
              "#0d0887"
             ],
             [
              0.1111111111111111,
              "#46039f"
             ],
             [
              0.2222222222222222,
              "#7201a8"
             ],
             [
              0.3333333333333333,
              "#9c179e"
             ],
             [
              0.4444444444444444,
              "#bd3786"
             ],
             [
              0.5555555555555556,
              "#d8576b"
             ],
             [
              0.6666666666666666,
              "#ed7953"
             ],
             [
              0.7777777777777778,
              "#fb9f3a"
             ],
             [
              0.8888888888888888,
              "#fdca26"
             ],
             [
              1,
              "#f0f921"
             ]
            ],
            "type": "heatmapgl"
           }
          ],
          "histogram": [
           {
            "marker": {
             "pattern": {
              "fillmode": "overlay",
              "size": 10,
              "solidity": 0.2
             }
            },
            "type": "histogram"
           }
          ],
          "histogram2d": [
           {
            "colorbar": {
             "outlinewidth": 0,
             "ticks": ""
            },
            "colorscale": [
             [
              0,
              "#0d0887"
             ],
             [
              0.1111111111111111,
              "#46039f"
             ],
             [
              0.2222222222222222,
              "#7201a8"
             ],
             [
              0.3333333333333333,
              "#9c179e"
             ],
             [
              0.4444444444444444,
              "#bd3786"
             ],
             [
              0.5555555555555556,
              "#d8576b"
             ],
             [
              0.6666666666666666,
              "#ed7953"
             ],
             [
              0.7777777777777778,
              "#fb9f3a"
             ],
             [
              0.8888888888888888,
              "#fdca26"
             ],
             [
              1,
              "#f0f921"
             ]
            ],
            "type": "histogram2d"
           }
          ],
          "histogram2dcontour": [
           {
            "colorbar": {
             "outlinewidth": 0,
             "ticks": ""
            },
            "colorscale": [
             [
              0,
              "#0d0887"
             ],
             [
              0.1111111111111111,
              "#46039f"
             ],
             [
              0.2222222222222222,
              "#7201a8"
             ],
             [
              0.3333333333333333,
              "#9c179e"
             ],
             [
              0.4444444444444444,
              "#bd3786"
             ],
             [
              0.5555555555555556,
              "#d8576b"
             ],
             [
              0.6666666666666666,
              "#ed7953"
             ],
             [
              0.7777777777777778,
              "#fb9f3a"
             ],
             [
              0.8888888888888888,
              "#fdca26"
             ],
             [
              1,
              "#f0f921"
             ]
            ],
            "type": "histogram2dcontour"
           }
          ],
          "mesh3d": [
           {
            "colorbar": {
             "outlinewidth": 0,
             "ticks": ""
            },
            "type": "mesh3d"
           }
          ],
          "parcoords": [
           {
            "line": {
             "colorbar": {
              "outlinewidth": 0,
              "ticks": ""
             }
            },
            "type": "parcoords"
           }
          ],
          "pie": [
           {
            "automargin": true,
            "type": "pie"
           }
          ],
          "scatter": [
           {
            "fillpattern": {
             "fillmode": "overlay",
             "size": 10,
             "solidity": 0.2
            },
            "type": "scatter"
           }
          ],
          "scatter3d": [
           {
            "line": {
             "colorbar": {
              "outlinewidth": 0,
              "ticks": ""
             }
            },
            "marker": {
             "colorbar": {
              "outlinewidth": 0,
              "ticks": ""
             }
            },
            "type": "scatter3d"
           }
          ],
          "scattercarpet": [
           {
            "marker": {
             "colorbar": {
              "outlinewidth": 0,
              "ticks": ""
             }
            },
            "type": "scattercarpet"
           }
          ],
          "scattergeo": [
           {
            "marker": {
             "colorbar": {
              "outlinewidth": 0,
              "ticks": ""
             }
            },
            "type": "scattergeo"
           }
          ],
          "scattergl": [
           {
            "marker": {
             "colorbar": {
              "outlinewidth": 0,
              "ticks": ""
             }
            },
            "type": "scattergl"
           }
          ],
          "scattermapbox": [
           {
            "marker": {
             "colorbar": {
              "outlinewidth": 0,
              "ticks": ""
             }
            },
            "type": "scattermapbox"
           }
          ],
          "scatterpolar": [
           {
            "marker": {
             "colorbar": {
              "outlinewidth": 0,
              "ticks": ""
             }
            },
            "type": "scatterpolar"
           }
          ],
          "scatterpolargl": [
           {
            "marker": {
             "colorbar": {
              "outlinewidth": 0,
              "ticks": ""
             }
            },
            "type": "scatterpolargl"
           }
          ],
          "scatterternary": [
           {
            "marker": {
             "colorbar": {
              "outlinewidth": 0,
              "ticks": ""
             }
            },
            "type": "scatterternary"
           }
          ],
          "surface": [
           {
            "colorbar": {
             "outlinewidth": 0,
             "ticks": ""
            },
            "colorscale": [
             [
              0,
              "#0d0887"
             ],
             [
              0.1111111111111111,
              "#46039f"
             ],
             [
              0.2222222222222222,
              "#7201a8"
             ],
             [
              0.3333333333333333,
              "#9c179e"
             ],
             [
              0.4444444444444444,
              "#bd3786"
             ],
             [
              0.5555555555555556,
              "#d8576b"
             ],
             [
              0.6666666666666666,
              "#ed7953"
             ],
             [
              0.7777777777777778,
              "#fb9f3a"
             ],
             [
              0.8888888888888888,
              "#fdca26"
             ],
             [
              1,
              "#f0f921"
             ]
            ],
            "type": "surface"
           }
          ],
          "table": [
           {
            "cells": {
             "fill": {
              "color": "#EBF0F8"
             },
             "line": {
              "color": "white"
             }
            },
            "header": {
             "fill": {
              "color": "#C8D4E3"
             },
             "line": {
              "color": "white"
             }
            },
            "type": "table"
           }
          ]
         },
         "layout": {
          "annotationdefaults": {
           "arrowcolor": "#2a3f5f",
           "arrowhead": 0,
           "arrowwidth": 1
          },
          "autotypenumbers": "strict",
          "coloraxis": {
           "colorbar": {
            "outlinewidth": 0,
            "ticks": ""
           }
          },
          "colorscale": {
           "diverging": [
            [
             0,
             "#8e0152"
            ],
            [
             0.1,
             "#c51b7d"
            ],
            [
             0.2,
             "#de77ae"
            ],
            [
             0.3,
             "#f1b6da"
            ],
            [
             0.4,
             "#fde0ef"
            ],
            [
             0.5,
             "#f7f7f7"
            ],
            [
             0.6,
             "#e6f5d0"
            ],
            [
             0.7,
             "#b8e186"
            ],
            [
             0.8,
             "#7fbc41"
            ],
            [
             0.9,
             "#4d9221"
            ],
            [
             1,
             "#276419"
            ]
           ],
           "sequential": [
            [
             0,
             "#0d0887"
            ],
            [
             0.1111111111111111,
             "#46039f"
            ],
            [
             0.2222222222222222,
             "#7201a8"
            ],
            [
             0.3333333333333333,
             "#9c179e"
            ],
            [
             0.4444444444444444,
             "#bd3786"
            ],
            [
             0.5555555555555556,
             "#d8576b"
            ],
            [
             0.6666666666666666,
             "#ed7953"
            ],
            [
             0.7777777777777778,
             "#fb9f3a"
            ],
            [
             0.8888888888888888,
             "#fdca26"
            ],
            [
             1,
             "#f0f921"
            ]
           ],
           "sequentialminus": [
            [
             0,
             "#0d0887"
            ],
            [
             0.1111111111111111,
             "#46039f"
            ],
            [
             0.2222222222222222,
             "#7201a8"
            ],
            [
             0.3333333333333333,
             "#9c179e"
            ],
            [
             0.4444444444444444,
             "#bd3786"
            ],
            [
             0.5555555555555556,
             "#d8576b"
            ],
            [
             0.6666666666666666,
             "#ed7953"
            ],
            [
             0.7777777777777778,
             "#fb9f3a"
            ],
            [
             0.8888888888888888,
             "#fdca26"
            ],
            [
             1,
             "#f0f921"
            ]
           ]
          },
          "colorway": [
           "#636efa",
           "#EF553B",
           "#00cc96",
           "#ab63fa",
           "#FFA15A",
           "#19d3f3",
           "#FF6692",
           "#B6E880",
           "#FF97FF",
           "#FECB52"
          ],
          "font": {
           "color": "#2a3f5f"
          },
          "geo": {
           "bgcolor": "white",
           "lakecolor": "white",
           "landcolor": "#E5ECF6",
           "showlakes": true,
           "showland": true,
           "subunitcolor": "white"
          },
          "hoverlabel": {
           "align": "left"
          },
          "hovermode": "closest",
          "mapbox": {
           "style": "light"
          },
          "paper_bgcolor": "white",
          "plot_bgcolor": "#E5ECF6",
          "polar": {
           "angularaxis": {
            "gridcolor": "white",
            "linecolor": "white",
            "ticks": ""
           },
           "bgcolor": "#E5ECF6",
           "radialaxis": {
            "gridcolor": "white",
            "linecolor": "white",
            "ticks": ""
           }
          },
          "scene": {
           "xaxis": {
            "backgroundcolor": "#E5ECF6",
            "gridcolor": "white",
            "gridwidth": 2,
            "linecolor": "white",
            "showbackground": true,
            "ticks": "",
            "zerolinecolor": "white"
           },
           "yaxis": {
            "backgroundcolor": "#E5ECF6",
            "gridcolor": "white",
            "gridwidth": 2,
            "linecolor": "white",
            "showbackground": true,
            "ticks": "",
            "zerolinecolor": "white"
           },
           "zaxis": {
            "backgroundcolor": "#E5ECF6",
            "gridcolor": "white",
            "gridwidth": 2,
            "linecolor": "white",
            "showbackground": true,
            "ticks": "",
            "zerolinecolor": "white"
           }
          },
          "shapedefaults": {
           "line": {
            "color": "#2a3f5f"
           }
          },
          "ternary": {
           "aaxis": {
            "gridcolor": "white",
            "linecolor": "white",
            "ticks": ""
           },
           "baxis": {
            "gridcolor": "white",
            "linecolor": "white",
            "ticks": ""
           },
           "bgcolor": "#E5ECF6",
           "caxis": {
            "gridcolor": "white",
            "linecolor": "white",
            "ticks": ""
           }
          },
          "title": {
           "x": 0.05
          },
          "xaxis": {
           "automargin": true,
           "gridcolor": "white",
           "linecolor": "white",
           "ticks": "",
           "title": {
            "standoff": 15
           },
           "zerolinecolor": "white",
           "zerolinewidth": 2
          },
          "yaxis": {
           "automargin": true,
           "gridcolor": "white",
           "linecolor": "white",
           "ticks": "",
           "title": {
            "standoff": 15
           },
           "zerolinecolor": "white",
           "zerolinewidth": 2
          }
         }
        },
        "title": {
         "font": {
          "size": 24
         },
         "text": "Distribution of Tyre Types Used by Weather Category"
        },
        "xaxis": {
         "anchor": "y",
         "domain": [
          0,
          1
         ],
         "title": {
          "font": {
           "size": 18
          },
          "text": "Tyre Types"
         }
        },
        "yaxis": {
         "anchor": "x",
         "domain": [
          0,
          1
         ],
         "title": {
          "font": {
           "size": 18
          },
          "text": "Percentage"
         }
        }
       }
      }
     },
     "metadata": {},
     "output_type": "display_data"
    }
   ],
   "source": [
    "import plotly.express as px\n",
    "import pandas as pd\n",
    "\n",
    "# Assuming you have a DataFrame named merged_new_tyre_weather\n",
    "# Extract the 'Tyres' and 'weather_category' columns\n",
    "df_for_plot = merged_new_tyre_weather[['Tyres', 'weather_category']]\n",
    "\n",
    "# Calculate the percentages\n",
    "df_percentages = df_for_plot.groupby(['Tyres', 'weather_category']).size().unstack(fill_value=0)\n",
    "df_percentages = df_percentages.div(df_percentages.sum(axis=1), axis=0) * 100\n",
    "\n",
    "# Reset the index to make 'Tyres' a column again\n",
    "df_percentages.reset_index(inplace=True)\n",
    "\n",
    "# Define a custom color scale for the renamed columns\n",
    "custom_color_scale = {\n",
    "    'weather_warm': '#FF5733',    # Custom color for 'weather_warm'\n",
    "    'weather_cloudy': '#00A08B',  # Custom color for 'weather_cloudy'\n",
    "    # Add more custom colors for other categories as needed\n",
    "}\n",
    "\n",
    "# Create a grouped bar chart using Plotly Express with the custom color scale\n",
    "fig = px.bar(df_percentages, x='Tyres', y=df_percentages.columns[1:],\n",
    "             title='Distribution of Tyre Types Used by Weather Category',\n",
    "             labels={'Tyres': 'Tyre Types', 'weather_warm': 'Weather Warm', 'weather_cloudy': 'Weather Cloudy'},\n",
    "             color_discrete_map=custom_color_scale)  # Use the custom color scale\n",
    "\n",
    "# Customize the layout, including font sizes for titles\n",
    "fig.update_layout(xaxis_title='Tyre Types', yaxis_title='Percentage', barmode='group',\n",
    "                  title_font=dict(size=24),  # Set the title font size to 24\n",
    "                  xaxis_title_font=dict(size=18),  # Set the x-axis title font size to 18\n",
    "                  yaxis_title_font=dict(size=18))  # Set the y-axis title font size to 18\n",
    "\n",
    "# Show the interactive plot\n",
    "fig.show()\n"
   ]
  }
 ],
 "metadata": {
  "kernelspec": {
   "display_name": ".venv",
   "language": "python",
   "name": "python3"
  },
  "language_info": {
   "codemirror_mode": {
    "name": "ipython",
    "version": 3
   },
   "file_extension": ".py",
   "mimetype": "text/x-python",
   "name": "python",
   "nbconvert_exporter": "python",
   "pygments_lexer": "ipython3",
   "version": "3.11.3"
  },
  "orig_nbformat": 4
 },
 "nbformat": 4,
 "nbformat_minor": 2
}
