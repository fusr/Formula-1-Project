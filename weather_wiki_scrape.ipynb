{
 "cells": [
  {
   "cell_type": "code",
   "execution_count": 8,
   "metadata": {},
   "outputs": [],
   "source": [
    "import pandas as pd\n",
    "from selenium import webdriver\n",
    "\n",
    "# Read the CSV file\n",
    "races_df = pd.read_csv('data/races.csv')\n",
    "\n",
    "weather_info = []\n",
    "\n",
    "# Set up the weather dictionary\n",
    "weather_dict = {\n",
    "    'weather_warm': ['soleggiato', 'clear', 'warm', 'hot', 'sunny', 'fine', 'mild', 'sereno'],\n",
    "    'weather_cold': ['cold', 'fresh', 'chilly', 'cool'],\n",
    "    'weather_dry': ['dry', 'asciutto'],\n",
    "    'weather_wet': ['showers', 'wet', 'rain', 'pioggia', 'damp', 'thunderstorms', 'rainy'],\n",
    "    'weather_cloudy': ['overcast', 'nuvoloso', 'clouds', 'cloudy', 'grey', 'coperto']\n",
    "}\n",
    "\n",
    "# Set up the Chrome webdriver\n",
    "driver = webdriver.Chrome()\n",
    "\n",
    "# Loop through the URLs in the CSV file\n",
    "for link in races_df['url']:\n",
    "    try:\n",
    "        driver.get(link)\n",
    "\n",
    "        # Find the language button and click it\n",
    "        button = driver.find_element_by_link_text('Italiano')\n",
    "        button.click()\n",
    "\n",
    "        # Find the weather information in Italian with Selenium\n",
    "        clima_element = driver.find_element_by_xpath('//*[@id=\"mw-content-text\"]/div/table[1]/tbody/tr[11]/td')\n",
    "        clima = clima_element.text\n",
    "        weather_info.append(clima)\n",
    "    except:\n",
    "        weather_info.append('not found')\n",
    "\n",
    "# Close the webdriver\n",
    "driver.quit()\n",
    "\n",
    "# Append the weather information to the DataFrame\n",
    "races_df['weather'] = weather_info\n",
    "\n",
    "# Map the weather information to weather categories\n",
    "weather_df = pd.DataFrame(columns=weather_dict.keys())\n",
    "for col in weather_df:\n",
    "    weather_df[col] = races_df['weather'].map(lambda x: 1 if any(i in weather_dict[col] for i in x.lower().split()) else 0)\n",
    "\n",
    "# Concatenate the weather information DataFrame to the original DataFrame\n",
    "weather_info = pd.concat([races_df, weather_df], axis=1)\n",
    "\n",
    "# Save the final DataFrame to a new CSV file\n",
    "weather_info.to_csv('data/weather_info.csv', index=False)\n",
    "\n"
   ]
  },
  {
   "cell_type": "markdown",
   "metadata": {},
   "source": [
    "check if path changed?! right elements chosen to get data from? tried td11 instead td9 -> regex?!"
   ]
  },
  {
   "cell_type": "code",
   "execution_count": 7,
   "metadata": {},
   "outputs": [
    {
     "data": {
      "text/plain": [
       "array(['not found'], dtype=object)"
      ]
     },
     "execution_count": 7,
     "metadata": {},
     "output_type": "execute_result"
    }
   ],
   "source": [
    "races_df[\"weather\"].unique()"
   ]
  }
 ],
 "metadata": {
  "kernelspec": {
   "display_name": ".venv",
   "language": "python",
   "name": "python3"
  },
  "language_info": {
   "codemirror_mode": {
    "name": "ipython",
    "version": 3
   },
   "file_extension": ".py",
   "mimetype": "text/x-python",
   "name": "python",
   "nbconvert_exporter": "python",
   "pygments_lexer": "ipython3",
   "version": "3.9.8"
  },
  "orig_nbformat": 4
 },
 "nbformat": 4,
 "nbformat_minor": 2
}
