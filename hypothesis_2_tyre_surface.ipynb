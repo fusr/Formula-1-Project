{
 "cells": [
  {
   "cell_type": "code",
   "execution_count": 138,
   "metadata": {},
   "outputs": [],
   "source": [
    "# importing required libraries \n",
    "\n",
    "import pandas as pd\n",
    "import seaborn as sns\n",
    "import plotly.express as px\n",
    "import plotly.figure_factory as ff\n",
    "import plotly.graph_objects as go\n",
    "import matplotlib.pyplot as plt \n",
    "import numpy as np\n",
    "from sklearn.model_selection import train_test_split\n",
    "import warnings\n",
    "warnings.simplefilter(\"ignore\")\n",
    "pd.set_option('display.max_columns', None)"
   ]
  },
  {
   "cell_type": "code",
   "execution_count": 139,
   "metadata": {},
   "outputs": [],
   "source": [
    "tyre_data_df = pd.read_csv(\"data/tyre_data.csv\")"
   ]
  },
  {
   "cell_type": "code",
   "execution_count": 140,
   "metadata": {},
   "outputs": [
    {
     "data": {
      "text/html": [
       "<div>\n",
       "<style scoped>\n",
       "    .dataframe tbody tr th:only-of-type {\n",
       "        vertical-align: middle;\n",
       "    }\n",
       "\n",
       "    .dataframe tbody tr th {\n",
       "        vertical-align: top;\n",
       "    }\n",
       "\n",
       "    .dataframe thead th {\n",
       "        text-align: right;\n",
       "    }\n",
       "</style>\n",
       "<table border=\"1\" class=\"dataframe\">\n",
       "  <thead>\n",
       "    <tr style=\"text-align: right;\">\n",
       "      <th></th>\n",
       "      <th>Unnamed: 0</th>\n",
       "      <th>Driver</th>\n",
       "      <th>GP</th>\n",
       "      <th>Tyres</th>\n",
       "      <th>From</th>\n",
       "      <th>To</th>\n",
       "      <th>#Laps</th>\n",
       "      <th>year</th>\n",
       "    </tr>\n",
       "  </thead>\n",
       "  <tbody>\n",
       "    <tr>\n",
       "      <th>0</th>\n",
       "      <td>0</td>\n",
       "      <td>Jenson Button</td>\n",
       "      <td>Australia</td>\n",
       "      <td>Soft Used</td>\n",
       "      <td>1</td>\n",
       "      <td>16</td>\n",
       "      <td>16</td>\n",
       "      <td>2012</td>\n",
       "    </tr>\n",
       "    <tr>\n",
       "      <th>1</th>\n",
       "      <td>1</td>\n",
       "      <td>Jenson Button</td>\n",
       "      <td>Australia</td>\n",
       "      <td>Medium New</td>\n",
       "      <td>17</td>\n",
       "      <td>36</td>\n",
       "      <td>20</td>\n",
       "      <td>2012</td>\n",
       "    </tr>\n",
       "    <tr>\n",
       "      <th>2</th>\n",
       "      <td>2</td>\n",
       "      <td>Jenson Button</td>\n",
       "      <td>Australia</td>\n",
       "      <td>Medium New</td>\n",
       "      <td>37</td>\n",
       "      <td>58</td>\n",
       "      <td>22</td>\n",
       "      <td>2012</td>\n",
       "    </tr>\n",
       "    <tr>\n",
       "      <th>3</th>\n",
       "      <td>3</td>\n",
       "      <td>Sebastian Vettel</td>\n",
       "      <td>Australia</td>\n",
       "      <td>Soft Used</td>\n",
       "      <td>1</td>\n",
       "      <td>16</td>\n",
       "      <td>16</td>\n",
       "      <td>2012</td>\n",
       "    </tr>\n",
       "    <tr>\n",
       "      <th>4</th>\n",
       "      <td>4</td>\n",
       "      <td>Sebastian Vettel</td>\n",
       "      <td>Australia</td>\n",
       "      <td>Soft Used</td>\n",
       "      <td>17</td>\n",
       "      <td>37</td>\n",
       "      <td>21</td>\n",
       "      <td>2012</td>\n",
       "    </tr>\n",
       "  </tbody>\n",
       "</table>\n",
       "</div>"
      ],
      "text/plain": [
       "   Unnamed: 0            Driver         GP       Tyres  From  To  #Laps  year\n",
       "0           0     Jenson Button  Australia   Soft Used     1  16     16  2012\n",
       "1           1     Jenson Button  Australia  Medium New    17  36     20  2012\n",
       "2           2     Jenson Button  Australia  Medium New    37  58     22  2012\n",
       "3           3  Sebastian Vettel  Australia   Soft Used     1  16     16  2012\n",
       "4           4  Sebastian Vettel  Australia   Soft Used    17  37     21  2012"
      ]
     },
     "execution_count": 140,
     "metadata": {},
     "output_type": "execute_result"
    }
   ],
   "source": [
    "tyre_data_df.head()"
   ]
  },
  {
   "cell_type": "code",
   "execution_count": 141,
   "metadata": {},
   "outputs": [
    {
     "name": "stdout",
     "output_type": "stream",
     "text": [
      "<class 'pandas.core.frame.DataFrame'>\n",
      "RangeIndex: 13302 entries, 0 to 13301\n",
      "Data columns (total 8 columns):\n",
      " #   Column      Non-Null Count  Dtype \n",
      "---  ------      --------------  ----- \n",
      " 0   Unnamed: 0  13302 non-null  int64 \n",
      " 1   Driver      13297 non-null  object\n",
      " 2   GP          13302 non-null  object\n",
      " 3   Tyres       13302 non-null  object\n",
      " 4   From        13302 non-null  int64 \n",
      " 5   To          13302 non-null  int64 \n",
      " 6   #Laps       13302 non-null  int64 \n",
      " 7   year        13302 non-null  int64 \n",
      "dtypes: int64(5), object(3)\n",
      "memory usage: 831.5+ KB\n"
     ]
    }
   ],
   "source": [
    "tyre_data_df.info()"
   ]
  },
  {
   "cell_type": "code",
   "execution_count": 142,
   "metadata": {},
   "outputs": [
    {
     "data": {
      "text/plain": [
       "Unnamed: 0    0\n",
       "Driver        5\n",
       "GP            0\n",
       "Tyres         0\n",
       "From          0\n",
       "To            0\n",
       "#Laps         0\n",
       "year          0\n",
       "dtype: int64"
      ]
     },
     "execution_count": 142,
     "metadata": {},
     "output_type": "execute_result"
    }
   ],
   "source": [
    "tyre_data_df.isna().sum()"
   ]
  },
  {
   "cell_type": "code",
   "execution_count": 143,
   "metadata": {},
   "outputs": [
    {
     "data": {
      "text/plain": [
       "array([2012, 2013, 2014, 2015, 2016, 2017, 2018, 2019, 2020, 2021, 2022,\n",
       "       2023])"
      ]
     },
     "execution_count": 143,
     "metadata": {},
     "output_type": "execute_result"
    }
   ],
   "source": [
    "tyre_data_df.year.unique()"
   ]
  },
  {
   "cell_type": "code",
   "execution_count": 144,
   "metadata": {},
   "outputs": [],
   "source": [
    "tyre_data_df = tyre_data_df.drop(\"Unnamed: 0\", axis=1)"
   ]
  },
  {
   "cell_type": "code",
   "execution_count": 145,
   "metadata": {},
   "outputs": [],
   "source": [
    "tyre_data_df.columns = tyre_data_df.columns.str.lower()"
   ]
  },
  {
   "cell_type": "code",
   "execution_count": 146,
   "metadata": {},
   "outputs": [
    {
     "data": {
      "text/html": [
       "<div>\n",
       "<style scoped>\n",
       "    .dataframe tbody tr th:only-of-type {\n",
       "        vertical-align: middle;\n",
       "    }\n",
       "\n",
       "    .dataframe tbody tr th {\n",
       "        vertical-align: top;\n",
       "    }\n",
       "\n",
       "    .dataframe thead th {\n",
       "        text-align: right;\n",
       "    }\n",
       "</style>\n",
       "<table border=\"1\" class=\"dataframe\">\n",
       "  <thead>\n",
       "    <tr style=\"text-align: right;\">\n",
       "      <th></th>\n",
       "      <th>driver</th>\n",
       "      <th>gp</th>\n",
       "      <th>tyres</th>\n",
       "      <th>from</th>\n",
       "      <th>to</th>\n",
       "      <th>#laps</th>\n",
       "      <th>year</th>\n",
       "    </tr>\n",
       "  </thead>\n",
       "  <tbody>\n",
       "    <tr>\n",
       "      <th>0</th>\n",
       "      <td>Jenson Button</td>\n",
       "      <td>Australia</td>\n",
       "      <td>Soft Used</td>\n",
       "      <td>1</td>\n",
       "      <td>16</td>\n",
       "      <td>16</td>\n",
       "      <td>2012</td>\n",
       "    </tr>\n",
       "    <tr>\n",
       "      <th>1</th>\n",
       "      <td>Jenson Button</td>\n",
       "      <td>Australia</td>\n",
       "      <td>Medium New</td>\n",
       "      <td>17</td>\n",
       "      <td>36</td>\n",
       "      <td>20</td>\n",
       "      <td>2012</td>\n",
       "    </tr>\n",
       "    <tr>\n",
       "      <th>2</th>\n",
       "      <td>Jenson Button</td>\n",
       "      <td>Australia</td>\n",
       "      <td>Medium New</td>\n",
       "      <td>37</td>\n",
       "      <td>58</td>\n",
       "      <td>22</td>\n",
       "      <td>2012</td>\n",
       "    </tr>\n",
       "    <tr>\n",
       "      <th>3</th>\n",
       "      <td>Sebastian Vettel</td>\n",
       "      <td>Australia</td>\n",
       "      <td>Soft Used</td>\n",
       "      <td>1</td>\n",
       "      <td>16</td>\n",
       "      <td>16</td>\n",
       "      <td>2012</td>\n",
       "    </tr>\n",
       "    <tr>\n",
       "      <th>4</th>\n",
       "      <td>Sebastian Vettel</td>\n",
       "      <td>Australia</td>\n",
       "      <td>Soft Used</td>\n",
       "      <td>17</td>\n",
       "      <td>37</td>\n",
       "      <td>21</td>\n",
       "      <td>2012</td>\n",
       "    </tr>\n",
       "  </tbody>\n",
       "</table>\n",
       "</div>"
      ],
      "text/plain": [
       "             driver         gp       tyres  from  to  #laps  year\n",
       "0     Jenson Button  Australia   Soft Used     1  16     16  2012\n",
       "1     Jenson Button  Australia  Medium New    17  36     20  2012\n",
       "2     Jenson Button  Australia  Medium New    37  58     22  2012\n",
       "3  Sebastian Vettel  Australia   Soft Used     1  16     16  2012\n",
       "4  Sebastian Vettel  Australia   Soft Used    17  37     21  2012"
      ]
     },
     "execution_count": 146,
     "metadata": {},
     "output_type": "execute_result"
    }
   ],
   "source": [
    "tyre_data_df.head()"
   ]
  },
  {
   "cell_type": "code",
   "execution_count": 147,
   "metadata": {},
   "outputs": [
    {
     "data": {
      "text/plain": [
       "array(['Soft Used', 'Medium New', 'Soft New', 'Medium Used',\n",
       "       'Intermediate New', 'Wet New', 'Hard New', 'Intermediate Used',\n",
       "       'Lluvia Extrema Usado', 'Hard Used', 'Supersoft Used',\n",
       "       'Supersoft New', 'Ultrasoft New', 'Ultrasoft Used',\n",
       "       'Hiper Blando Usado', 'Hiper Blando Nuevo'], dtype=object)"
      ]
     },
     "execution_count": 147,
     "metadata": {},
     "output_type": "execute_result"
    }
   ],
   "source": [
    "tyre_data_df.tyres.unique()"
   ]
  },
  {
   "cell_type": "code",
   "execution_count": 148,
   "metadata": {},
   "outputs": [],
   "source": [
    "# Remove \"Used\" and \"New\" from the \"tyres\" column values\n",
    "#tyre_data_df['tyres'] = tyre_data_df['tyres'].str.replace(' Used', '').str.replace(' New', '')\n"
   ]
  },
  {
   "cell_type": "code",
   "execution_count": 149,
   "metadata": {},
   "outputs": [
    {
     "name": "stdout",
     "output_type": "stream",
     "text": [
      "                 driver           gp         tyres  from  to  #laps  year\n",
      "0         Jenson Button    Australia          Soft     1  16     16  2012\n",
      "1         Jenson Button    Australia        Medium    17  36     20  2012\n",
      "2         Jenson Button    Australia        Medium    37  58     22  2012\n",
      "3      Sebastian Vettel    Australia          Soft     1  16     16  2012\n",
      "4      Sebastian Vettel    Australia          Soft    17  37     21  2012\n",
      "...                 ...          ...           ...   ...  ..    ...   ...\n",
      "13297       Zhou Guanyu  Netherlands          Soft    38  60     23  2023\n",
      "13298    Logan Sargeant  Netherlands          Soft     1  14     14  2023\n",
      "13299    Max Verstappen  Netherlands  Intermediate    65  72      8  2023\n",
      "13300      Pierre Gasly  Netherlands          Soft    47  60     14  2023\n",
      "13301   Nico Hulkenberg  Netherlands        Medium    17  48     32  2023\n",
      "\n",
      "[13302 rows x 7 columns]\n"
     ]
    }
   ],
   "source": [
    "# Remove \" Used\" and \" New\" from the 'tyres' column\n",
    "tyre_data_df['tyres'] = tyre_data_df['tyres'].str.replace(' Used', '').str.replace(' New', '')\n",
    "\n",
    "# Print the DataFrame to verify the changes\n",
    "print(tyre_data_df)\n"
   ]
  },
  {
   "cell_type": "code",
   "execution_count": 150,
   "metadata": {},
   "outputs": [
    {
     "data": {
      "text/plain": [
       "array(['Soft', 'Medium', 'Intermediate', 'Wet', 'Hard',\n",
       "       'Lluvia Extrema Usado', 'Supersoft', 'Ultrasoft',\n",
       "       'Hiper Blando Usado', 'Hiper Blando Nuevo'], dtype=object)"
      ]
     },
     "execution_count": 150,
     "metadata": {},
     "output_type": "execute_result"
    }
   ],
   "source": [
    "tyre_data_df.tyres.unique()"
   ]
  },
  {
   "cell_type": "code",
   "execution_count": 151,
   "metadata": {},
   "outputs": [],
   "source": [
    "# Define a dictionary to map old values to new values\n",
    "tyres_mapping = {\n",
    "    'Hiper Blando Usado': 'Hyper Soft',\n",
    "    'Hiper Blando Nuevo': 'Hyper Soft',\n",
    "    'Lluvia Extrema Usado': 'Full Wet'\n",
    "}\n",
    "\n",
    "# Use the replace() method to update the values in the \"tyres\" column\n",
    "tyre_data_df['tyres'] = tyre_data_df['tyres'].replace(tyres_mapping)\n"
   ]
  },
  {
   "cell_type": "code",
   "execution_count": 152,
   "metadata": {},
   "outputs": [],
   "source": [
    "tyred_data_df = tyre_data_df"
   ]
  },
  {
   "cell_type": "code",
   "execution_count": 153,
   "metadata": {},
   "outputs": [
    {
     "data": {
      "text/plain": [
       "array(['Soft', 'Medium', 'Intermediate', 'Wet', 'Hard', 'Full Wet',\n",
       "       'Supersoft', 'Ultrasoft', 'Hyper Soft'], dtype=object)"
      ]
     },
     "execution_count": 153,
     "metadata": {},
     "output_type": "execute_result"
    }
   ],
   "source": [
    "tyre_data_df.tyres.unique()"
   ]
  },
  {
   "cell_type": "code",
   "execution_count": 154,
   "metadata": {},
   "outputs": [
    {
     "data": {
      "text/plain": [
       "array(['Australia', 'Malaysia', 'China', 'Bahrain', 'Spain', 'Monaco',\n",
       "       'Canada', 'Europa', 'Great Britain', 'Germany', 'Hungary',\n",
       "       'Belgium', 'Italy', 'Singapore', 'Japan', 'Korea', 'India',\n",
       "       'Abu Dhabi', 'United States', 'Brazil', 'Austria', 'Russia',\n",
       "       'Mexico', 'Europe', 'Azerbaijan', 'France', 'Styria',\n",
       "       '70TH Anniversary', 'Tuscany', 'Russian', 'Portugal', 'Imola',\n",
       "       'Turkey', 'Sakhir', 'Netherlands', 'Qatar', 'Saudi Arabia',\n",
       "       'Italia', 'Miami', 'Francia'], dtype=object)"
      ]
     },
     "execution_count": 154,
     "metadata": {},
     "output_type": "execute_result"
    }
   ],
   "source": [
    "tyre_data_df.gp.unique()"
   ]
  },
  {
   "cell_type": "code",
   "execution_count": 155,
   "metadata": {},
   "outputs": [
    {
     "data": {
      "text/plain": [
       "40"
      ]
     },
     "execution_count": 155,
     "metadata": {},
     "output_type": "execute_result"
    }
   ],
   "source": [
    "tyre_data_df.gp.nunique()"
   ]
  },
  {
   "cell_type": "markdown",
   "metadata": {},
   "source": [
    "USA Grand Prix is in Austin"
   ]
  },
  {
   "cell_type": "code",
   "execution_count": 156,
   "metadata": {},
   "outputs": [
    {
     "name": "stdout",
     "output_type": "stream",
     "text": [
      "               driver      gp      tyres  from  to  #laps  year\n",
      "530   Fernando Alonso  Europa       Soft     1  15     15  2012\n",
      "531   Fernando Alonso  Europa       Soft    16  28     13  2012\n",
      "532   Fernando Alonso  Europa     Medium    29  57     29  2012\n",
      "533    Kimi Räikkönen  Europa       Soft     1  14     14  2012\n",
      "534    Kimi Räikkönen  Europa       Soft    15  28     14  2012\n",
      "...               ...     ...        ...   ...  ..    ...   ...\n",
      "5538  Pascal Wehrlein  Europe       Soft     1  29     29  2016\n",
      "5539  Pascal Wehrlein  Europe     Medium    30  39     10  2016\n",
      "5540     Carlos Sainz  Europe       Soft     5  27     23  2016\n",
      "5541     Carlos Sainz  Europe  Supersoft    28  31      4  2016\n",
      "5542  Marcus Ericsson  Europe  Supersoft    17  25      9  2016\n",
      "\n",
      "[125 rows x 7 columns]\n"
     ]
    }
   ],
   "source": [
    "desired_values = ['Europa', 'Europe']\n",
    "\n",
    "# Create a boolean mask to filter rows where the 'gp' column matches the desired values\n",
    "mask = tyre_data_df['gp'].isin(desired_values)\n",
    "\n",
    "# Use the mask to select the rows and print them\n",
    "filtered_rows = tyre_data_df[mask]\n",
    "print(filtered_rows)\n"
   ]
  },
  {
   "cell_type": "code",
   "execution_count": 157,
   "metadata": {},
   "outputs": [
    {
     "name": "stdout",
     "output_type": "stream",
     "text": [
      "Year 2012:\n",
      "['Australia' 'Malaysia' 'China' 'Bahrain' 'Spain' 'Monaco' 'Canada'\n",
      " 'Europa' 'Great Britain' 'Germany' 'Hungary' 'Belgium' 'Italy'\n",
      " 'Singapore' 'Japan' 'Korea' 'India' 'Abu Dhabi' 'United States' 'Brazil']\n",
      "\n",
      "Year 2013:\n",
      "['Australia' 'Malaysia' 'China' 'Bahrain' 'Spain' 'Monaco' 'Canada'\n",
      " 'Great Britain' 'Germany' 'Hungary' 'Belgium' 'Italy' 'Singapore' 'Korea'\n",
      " 'Japan' 'India' 'Abu Dhabi' 'United States' 'Brazil']\n",
      "\n",
      "Year 2014:\n",
      "['Australia' 'Malaysia' 'Bahrain' 'China' 'Spain' 'Monaco' 'Canada'\n",
      " 'Austria' 'Great Britain' 'Germany' 'Hungary' 'Belgium' 'Italy'\n",
      " 'Singapore' 'Japan' 'Russia' 'United States' 'Brazil' 'Abu Dhabi']\n",
      "\n",
      "Year 2015:\n",
      "['Australia' 'Malaysia' 'China' 'Bahrain' 'Spain' 'Monaco' 'Canada'\n",
      " 'Austria' 'Great Britain' 'Hungary' 'Belgium' 'Italy' 'Singapore' 'Japan'\n",
      " 'Russia' 'United States' 'Mexico' 'Brazil' 'Abu Dhabi']\n",
      "\n",
      "Year 2016:\n",
      "['Australia' 'Bahrain' 'China' 'Russia' 'Spain' 'Monaco' 'Canada' 'Europe'\n",
      " 'Austria' 'Great Britain' 'Hungary' 'Germany' 'Belgium' 'Italy'\n",
      " 'Singapore' 'Japan' 'Malaysia' 'United States' 'Mexico' 'Brazil'\n",
      " 'Abu Dhabi']\n",
      "\n"
     ]
    }
   ],
   "source": [
    "# List of years from 2012 to 2016\n",
    "years = [2012, 2013, 2014, 2015, 2016]\n",
    "\n",
    "# Loop through the years and print unique values for each year\n",
    "for year in years:\n",
    "    # Filter the DataFrame for the current year\n",
    "    tyre_data_year = tyre_data_df[tyre_data_df['year'] == year]\n",
    "    \n",
    "    # Get the unique values from the \"gp\" column for the current year\n",
    "    unique_gp_values = tyre_data_year['gp'].unique()\n",
    "    \n",
    "    # Print the year and its unique values\n",
    "    print(f\"Year {year}:\")\n",
    "    print(unique_gp_values)\n",
    "    print()\n"
   ]
  },
  {
   "cell_type": "markdown",
   "metadata": {},
   "source": [
    "Click [here](https://en.wikipedia.org/wiki/European_Grand_Prix) If you want to know more about the Grand Prix of \"Europe\" "
   ]
  },
  {
   "cell_type": "markdown",
   "metadata": {},
   "source": [
    "Click [here](https://en.wikipedia.org/wiki/70th_Anniversary_Grand_Prix) to know more about the '70TH Anniversary' Grand Prix."
   ]
  },
  {
   "cell_type": "code",
   "execution_count": 158,
   "metadata": {},
   "outputs": [
    {
     "data": {
      "application/vnd.plotly.v1+json": {
       "config": {
        "plotlyServerURL": "https://plot.ly"
       },
       "data": [
        {
         "alignmentgroup": "True",
         "bingroup": "x",
         "hovertemplate": "Street Circuit=Australia<br>Tyre Types=%{x}<br>count=%{y}<extra></extra>",
         "legendgroup": "Australia",
         "marker": {
          "color": "#636efa",
          "pattern": {
           "shape": ""
          }
         },
         "name": "Australia",
         "offsetgroup": "Australia",
         "orientation": "v",
         "showlegend": true,
         "type": "histogram",
         "x": [
          "Soft",
          "Medium",
          "Medium",
          "Soft",
          "Soft",
          "Medium",
          "Soft",
          "Medium",
          "Medium",
          "Soft",
          "Medium",
          "Medium",
          "Medium",
          "Medium",
          "Soft",
          "Soft",
          "Medium",
          "Soft",
          "Soft",
          "Soft",
          "Medium",
          "Medium",
          "Soft",
          "Soft",
          "Medium",
          "Soft",
          "Soft",
          "Soft",
          "Soft",
          "Medium",
          "Medium",
          "Soft",
          "Soft",
          "Soft",
          "Soft",
          "Medium",
          "Soft",
          "Soft",
          "Medium",
          "Medium",
          "Soft",
          "Medium",
          "Medium",
          "Soft",
          "Medium",
          "Medium",
          "Medium",
          "Medium",
          "Medium",
          "Soft",
          "Soft",
          "Soft",
          "Medium",
          "Medium",
          "Soft",
          "Medium",
          "Medium",
          "Medium",
          "Medium",
          "Medium",
          "Soft",
          "Soft",
          "Soft",
          "Supersoft",
          "Medium",
          "Medium",
          "Medium",
          "Supersoft",
          "Medium",
          "Medium",
          "Supersoft",
          "Medium",
          "Medium",
          "Medium",
          "Supersoft",
          "Medium",
          "Medium",
          "Medium",
          "Supersoft",
          "Medium",
          "Medium",
          "Medium",
          "Supersoft",
          "Medium",
          "Medium",
          "Medium",
          "Medium",
          "Medium",
          "Supersoft",
          "Supersoft",
          "Medium",
          "Medium",
          "Supersoft",
          "Medium",
          "Medium",
          "Medium",
          "Supersoft",
          "Medium",
          "Medium",
          "Medium",
          "Medium",
          "Supersoft",
          "Medium",
          "Medium",
          "Supersoft",
          "Medium",
          "Medium",
          "Medium",
          "Supersoft",
          "Medium",
          "Medium",
          "Supersoft",
          "Medium",
          "Medium",
          "Medium",
          "Supersoft",
          "Medium",
          "Medium",
          "Supersoft",
          "Supersoft",
          "Medium",
          "Supersoft",
          "Medium",
          "Medium",
          "Medium",
          "Medium",
          "Supersoft",
          "Medium",
          "Medium",
          "Medium",
          "Medium",
          "Medium",
          "Supersoft",
          "Supersoft",
          "Medium",
          "Medium",
          "Medium",
          "Soft",
          "Soft",
          "Medium",
          "Soft",
          "Soft",
          "Medium",
          "Soft",
          "Soft",
          "Medium",
          "Soft",
          "Soft",
          "Medium",
          "Soft",
          "Soft",
          "Medium",
          "Soft",
          "Soft",
          "Medium",
          "Soft",
          "Soft",
          "Medium",
          "Soft",
          "Soft",
          "Medium",
          "Soft",
          "Soft",
          "Medium",
          "Soft",
          "Medium",
          "Soft",
          "Soft",
          "Medium",
          "Soft",
          "Soft",
          "Soft",
          "Medium",
          "Medium",
          "Soft",
          "Soft",
          "Soft",
          "Soft",
          "Medium",
          "Soft",
          "Soft",
          "Medium",
          "Soft",
          "Soft",
          "Soft",
          "Soft",
          "Soft",
          "Soft",
          "Medium",
          "Soft",
          "Soft",
          "Soft",
          "Medium",
          "Soft",
          "Medium",
          "Soft",
          "Medium",
          "Soft",
          "Medium",
          "Soft",
          "Medium",
          "Soft",
          "Medium",
          "Soft",
          "Medium",
          "Soft",
          "Medium",
          "Soft",
          "Soft",
          "Soft",
          "Soft",
          "Medium",
          "Medium",
          "Soft",
          "Soft",
          "Medium",
          "Soft",
          "Soft",
          "Medium",
          "Medium",
          "Soft",
          "Soft",
          "Soft",
          "Supersoft",
          "Soft",
          "Medium",
          "Supersoft",
          "Medium",
          "Supersoft",
          "Supersoft",
          "Soft",
          "Supersoft",
          "Supersoft",
          "Soft",
          "Supersoft",
          "Supersoft",
          "Soft",
          "Medium",
          "Soft",
          "Medium",
          "Soft",
          "Medium",
          "Soft",
          "Medium",
          "Supersoft",
          "Soft",
          "Soft",
          "Medium",
          "Supersoft",
          "Soft",
          "Soft",
          "Medium",
          "Supersoft",
          "Soft",
          "Medium",
          "Soft",
          "Medium",
          "Soft",
          "Soft",
          "Supersoft",
          "Medium",
          "Supersoft",
          "Soft",
          "Medium",
          "Supersoft",
          "Soft",
          "Soft",
          "Medium",
          "Supersoft",
          "Soft",
          "Medium",
          "Medium",
          "Supersoft",
          "Supersoft",
          "Supersoft",
          "Soft",
          "Supersoft",
          "Soft",
          "Soft",
          "Supersoft",
          "Medium",
          "Ultrasoft",
          "Soft",
          "Ultrasoft",
          "Soft",
          "Ultrasoft",
          "Soft",
          "Ultrasoft",
          "Soft",
          "Ultrasoft",
          "Supersoft",
          "Ultrasoft",
          "Supersoft",
          "Ultrasoft",
          "Soft",
          "Ultrasoft",
          "Soft",
          "Ultrasoft",
          "Supersoft",
          "Ultrasoft",
          "Ultrasoft",
          "Soft",
          "Ultrasoft",
          "Soft",
          "Ultrasoft",
          "Ultrasoft",
          "Soft",
          "Ultrasoft",
          "Supersoft",
          "Soft",
          "Supersoft",
          "Ultrasoft",
          "Supersoft",
          "Ultrasoft",
          "Ultrasoft",
          "Ultrasoft",
          "Supersoft",
          "Soft",
          "Ultrasoft",
          "Soft",
          "Supersoft",
          "Ultrasoft",
          "Soft",
          "Ultrasoft",
          "Soft",
          "Ultrasoft",
          "Soft",
          "Supersoft",
          "Soft",
          "Ultrasoft",
          "Soft",
          "Supersoft",
          "Soft",
          "Ultrasoft",
          "Soft",
          "Ultrasoft",
          "Supersoft",
          "Ultrasoft",
          "Supersoft",
          "Ultrasoft",
          "Soft",
          "Ultrasoft",
          "Soft",
          "Ultrasoft",
          "Soft",
          "Supersoft",
          "Soft",
          "Ultrasoft",
          "Supersoft",
          "Soft",
          "Ultrasoft",
          "Supersoft",
          "Soft",
          "Ultrasoft",
          "Ultrasoft",
          "Supersoft",
          "Ultrasoft",
          "Supersoft",
          "Ultrasoft",
          "Supersoft",
          "Supersoft",
          "Soft",
          "Medium",
          "Soft",
          "Medium",
          "Soft",
          "Medium",
          "Soft",
          "Medium",
          "Soft",
          "Soft",
          "Medium",
          "Soft",
          "Soft",
          "Medium",
          "Medium",
          "Medium",
          "Soft",
          "Soft",
          "Soft",
          "Medium",
          "Soft",
          "Hard",
          "Medium",
          "Hard",
          "Hard",
          "Soft",
          "Hard",
          "Hard",
          "Medium",
          "Medium",
          "Soft",
          "Hard",
          "Hard",
          "Medium",
          "Soft",
          "Soft",
          "Soft",
          "Medium",
          "Soft",
          "Soft",
          "Hard",
          "Hard",
          "Medium",
          "Hard",
          "Medium",
          "Hard",
          "Medium",
          "Hard",
          "Medium",
          "Hard",
          "Medium",
          "Hard",
          "Medium",
          "Hard",
          "Medium",
          "Hard",
          "Medium",
          "Hard",
          "Medium",
          "Hard",
          "Hard",
          "Soft",
          "Medium",
          "Hard",
          "Hard",
          "Medium",
          "Hard",
          "Hard",
          "Medium",
          "Hard",
          "Hard",
          "Medium",
          "Medium",
          "Hard",
          "Medium",
          "Hard",
          "Hard",
          "Hard",
          "Medium",
          "Medium",
          "Medium",
          "Hard",
          "Hard",
          "Hard",
          "Medium",
          "Hard",
          "Soft",
          "Soft",
          "Medium",
          "Hard",
          "Soft",
          "Soft",
          "Medium",
          "Hard",
          "Soft",
          "Soft",
          "Medium",
          "Hard",
          "Soft",
          "Soft",
          "Hard",
          "Hard",
          "Hard",
          "Soft",
          "Soft",
          "Medium",
          "Hard",
          "Soft",
          "Soft",
          "Medium",
          "Hard",
          "Soft",
          "Soft",
          "Medium",
          "Hard",
          "Soft",
          "Soft",
          "Hard",
          "Soft",
          "Soft",
          "Medium",
          "Hard",
          "Soft",
          "Soft",
          "Soft",
          "Hard",
          "Soft",
          "Medium",
          "Hard",
          "Soft",
          "Soft",
          "Soft",
          "Hard",
          "Soft",
          "Soft",
          "Hard",
          "Soft",
          "Hard",
          "Medium",
          "Soft",
          "Soft",
          "Hard",
          "Hard",
          "Medium",
          "Hard",
          "Soft",
          "Medium",
          "Hard",
          "Medium",
          "Hard",
          "Medium",
          "Medium"
         ],
         "xaxis": "x",
         "yaxis": "y"
        },
        {
         "alignmentgroup": "True",
         "bingroup": "x",
         "hovertemplate": "Street Circuit=Monaco<br>Tyre Types=%{x}<br>count=%{y}<extra></extra>",
         "legendgroup": "Monaco",
         "marker": {
          "color": "#EF553B",
          "pattern": {
           "shape": ""
          }
         },
         "name": "Monaco",
         "offsetgroup": "Monaco",
         "orientation": "v",
         "showlegend": true,
         "type": "histogram",
         "x": [
          "Supersoft",
          "Soft",
          "Supersoft",
          "Soft",
          "Supersoft",
          "Soft",
          "Soft",
          "Supersoft",
          "Supersoft",
          "Soft",
          "Supersoft",
          "Soft",
          "Soft",
          "Supersoft",
          "Supersoft",
          "Soft",
          "Supersoft",
          "Soft",
          "Supersoft",
          "Soft",
          "Supersoft",
          "Supersoft",
          "Soft",
          "Supersoft",
          "Soft",
          "Supersoft",
          "Soft",
          "Intermediate",
          "Supersoft",
          "Soft",
          "Soft",
          "Supersoft",
          "Supersoft",
          "Soft",
          "Soft",
          "Supersoft",
          "Supersoft",
          "Soft",
          "Supersoft",
          "Soft",
          "Supersoft",
          "Soft",
          "Soft",
          "Soft",
          "Supersoft",
          "Soft",
          "Supersoft",
          "Soft",
          "Supersoft",
          "Supersoft",
          "Soft",
          "Supersoft",
          "Supersoft",
          "Soft",
          "Supersoft",
          "Supersoft",
          "Soft",
          "Supersoft",
          "Supersoft",
          "Soft",
          "Supersoft",
          "Supersoft",
          "Soft",
          "Supersoft",
          "Supersoft",
          "Soft",
          "Supersoft",
          "Supersoft",
          "Soft",
          "Supersoft",
          "Supersoft",
          "Soft",
          "Supersoft",
          "Supersoft",
          "Soft",
          "Supersoft",
          "Supersoft",
          "Soft",
          "Soft",
          "Supersoft",
          "Supersoft",
          "Soft",
          "Soft",
          "Supersoft",
          "Soft",
          "Supersoft",
          "Soft",
          "Supersoft",
          "Supersoft",
          "Supersoft",
          "Supersoft",
          "Soft",
          "Soft",
          "Supersoft",
          "Supersoft",
          "Supersoft",
          "Soft",
          "Soft",
          "Soft",
          "Supersoft",
          "Soft",
          "Supersoft",
          "Soft",
          "Supersoft",
          "Supersoft",
          "Supersoft",
          "Supersoft",
          "Soft",
          "Soft",
          "Soft",
          "Supersoft",
          "Supersoft",
          "Supersoft",
          "Supersoft",
          "Soft",
          "Soft",
          "Supersoft",
          "Supersoft",
          "Supersoft",
          "Soft",
          "Supersoft",
          "Soft",
          "Supersoft",
          "Soft",
          "Supersoft",
          "Soft",
          "Supersoft",
          "Supersoft",
          "Soft",
          "Supersoft",
          "Soft",
          "Supersoft",
          "Soft",
          "Supersoft",
          "Soft",
          "Supersoft",
          "Supersoft",
          "Soft",
          "Soft",
          "Supersoft",
          "Supersoft",
          "Supersoft",
          "Soft",
          "Soft",
          "Supersoft",
          "Supersoft",
          "Soft",
          "Supersoft",
          "Soft",
          "Supersoft",
          "Supersoft",
          "Supersoft",
          "Supersoft",
          "Soft",
          "Supersoft",
          "Soft",
          "Supersoft",
          "Soft",
          "Soft",
          "Supersoft",
          "Supersoft",
          "Supersoft",
          "Soft",
          "Supersoft",
          "Soft",
          "Soft",
          "Supersoft",
          "Soft",
          "Supersoft",
          "Soft",
          "Supersoft",
          "Soft",
          "Supersoft",
          "Supersoft",
          "Soft",
          "Supersoft",
          "Soft",
          "Supersoft",
          "Supersoft",
          "Soft",
          "Supersoft",
          "Soft",
          "Supersoft",
          "Supersoft",
          "Soft",
          "Supersoft",
          "Supersoft",
          "Soft",
          "Supersoft",
          "Supersoft",
          "Soft",
          "Soft",
          "Supersoft",
          "Soft",
          "Supersoft",
          "Soft",
          "Supersoft",
          "Soft",
          "Supersoft",
          "Supersoft",
          "Soft",
          "Supersoft",
          "Supersoft",
          "Supersoft",
          "Soft",
          "Supersoft",
          "Supersoft",
          "Soft",
          "Supersoft",
          "Soft",
          "Supersoft",
          "Supersoft",
          "Soft",
          "Supersoft",
          "Soft",
          "Supersoft",
          "Supersoft",
          "Wet",
          "Ultrasoft",
          "Wet",
          "Intermediate",
          "Supersoft",
          "Wet",
          "Intermediate",
          "Soft",
          "Wet",
          "Intermediate",
          "Soft",
          "Wet",
          "Intermediate",
          "Supersoft",
          "Wet",
          "Intermediate",
          "Soft",
          "Wet",
          "Intermediate",
          "Ultrasoft",
          "Wet",
          "Intermediate",
          "Supersoft",
          "Wet",
          "Intermediate",
          "Supersoft",
          "Wet",
          "Intermediate",
          "Supersoft",
          "Wet",
          "Intermediate",
          "Supersoft",
          "Ultrasoft",
          "Wet",
          "Intermediate",
          "Ultrasoft",
          "Wet",
          "Ultrasoft",
          "Wet",
          "Intermediate",
          "Ultrasoft",
          "Wet",
          "Intermediate",
          "Ultrasoft",
          "Ultrasoft",
          "Wet",
          "Intermediate",
          "Ultrasoft",
          "Wet",
          "Intermediate",
          "Ultrasoft",
          "Wet",
          "Intermediate",
          "Soft",
          "Wet",
          "Intermediate",
          "Intermediate",
          "Supersoft",
          "Ultrasoft",
          "Wet",
          "Intermediate",
          "Wet",
          "Wet",
          "Ultrasoft",
          "Supersoft",
          "Ultrasoft",
          "Supersoft",
          "Ultrasoft",
          "Supersoft",
          "Ultrasoft",
          "Supersoft",
          "Ultrasoft",
          "Supersoft",
          "Ultrasoft",
          "Ultrasoft",
          "Supersoft",
          "Ultrasoft",
          "Supersoft",
          "Ultrasoft",
          "Supersoft",
          "Ultrasoft",
          "Supersoft",
          "Ultrasoft",
          "Ultrasoft",
          "Supersoft",
          "Ultrasoft",
          "Ultrasoft",
          "Supersoft",
          "Ultrasoft",
          "Supersoft",
          "Ultrasoft",
          "Ultrasoft",
          "Ultrasoft",
          "Supersoft",
          "Ultrasoft",
          "Ultrasoft",
          "Ultrasoft",
          "Supersoft",
          "Ultrasoft",
          "Supersoft",
          "Supersoft",
          "Ultrasoft",
          "Supersoft",
          "Supersoft",
          "Ultrasoft",
          "Supersoft",
          "Ultrasoft",
          "Ultrasoft",
          "Ultrasoft",
          "Supersoft",
          "Ultrasoft",
          "Hyper Soft",
          "Ultrasoft",
          "Hyper Soft",
          "Ultrasoft",
          "Hyper Soft",
          "Hyper Soft",
          "Ultrasoft",
          "Hyper Soft",
          "Supersoft",
          "Hyper Soft",
          "Supersoft",
          "Hyper Soft",
          "Supersoft",
          "Ultrasoft",
          "Hyper Soft",
          "Ultrasoft",
          "Hyper Soft",
          "Hyper Soft",
          "Ultrasoft",
          "Ultrasoft",
          "Supersoft",
          "Hyper Soft",
          "Supersoft",
          "Ultrasoft",
          "Supersoft",
          "Ultrasoft",
          "Supersoft",
          "Hyper Soft",
          "Hyper Soft",
          "Supersoft",
          "Hyper Soft",
          "Hyper Soft",
          "Ultrasoft",
          "Supersoft",
          "Ultrasoft",
          "Supersoft",
          "Hyper Soft",
          "Hyper Soft",
          "Ultrasoft",
          "Supersoft",
          "Hyper Soft",
          "Ultrasoft",
          "Hyper Soft",
          "Supersoft",
          "Ultrasoft",
          "Soft",
          "Medium",
          "Soft",
          "Hard",
          "Soft",
          "Medium",
          "Hard",
          "Soft",
          "Hard",
          "Soft",
          "Medium",
          "Soft",
          "Soft",
          "Medium",
          "Soft",
          "Medium",
          "Soft",
          "Medium",
          "Soft",
          "Medium",
          "Soft",
          "Medium",
          "Soft",
          "Medium",
          "Medium",
          "Hard",
          "Medium",
          "Hard",
          "Medium",
          "Hard",
          "Medium",
          "Hard",
          "Soft",
          "Medium",
          "Medium",
          "Hard",
          "Medium",
          "Medium",
          "Hard",
          "Soft",
          "Soft",
          "Soft",
          "Medium",
          "Soft",
          "Hard",
          "Soft",
          "Hard",
          "Soft",
          "Hard",
          "Soft",
          "Hard",
          "Soft",
          "Hard",
          "Soft",
          "Hard",
          "Soft",
          "Hard",
          "Soft",
          "Hard",
          "Soft",
          "Soft",
          "Medium",
          "Soft",
          "Hard",
          "Medium",
          "Hard",
          "Medium",
          "Hard",
          "Medium",
          "Soft",
          "Medium",
          "Hard",
          "Medium",
          "Hard",
          "Soft",
          "Soft",
          "Hard",
          "Soft",
          "Hard",
          "Soft",
          "Hard",
          "Wet",
          "Intermediate",
          "Hard",
          "Medium",
          "Wet",
          "Hard",
          "Wet",
          "Intermediate",
          "Hard",
          "Medium",
          "Wet",
          "Intermediate",
          "Hard",
          "Wet",
          "Hard",
          "Medium",
          "Wet",
          "Intermediate",
          "Hard",
          "Medium",
          "Wet",
          "Hard",
          "Medium",
          "Wet",
          "Intermediate",
          "Hard",
          "Medium",
          "Wet",
          "Hard",
          "Wet",
          "Intermediate",
          "Hard",
          "Wet",
          "Intermediate",
          "Hard",
          "Wet",
          "Hard",
          "Medium",
          "Wet",
          "Hard",
          "Wet",
          "Wet",
          "Intermediate",
          "Hard",
          "Wet",
          "Wet",
          "Intermediate",
          "Hard",
          "Medium",
          "Wet",
          "Hard",
          "Medium",
          "Wet",
          "Intermediate",
          "Hard",
          "Medium",
          "Soft",
          "Wet",
          "Hard",
          "Medium",
          "Wet",
          "Intermediate",
          "Hard",
          "Wet",
          "Medium",
          "Intermediate",
          "Hard",
          "Medium",
          "Intermediate",
          "Medium",
          "Hard",
          "Intermediate",
          "Medium",
          "Hard",
          "Intermediate",
          "Hard",
          "Intermediate",
          "Hard",
          "Medium",
          "Intermediate",
          "Hard",
          "Medium",
          "Intermediate",
          "Hard",
          "Medium",
          "Intermediate",
          "Medium",
          "Hard",
          "Intermediate",
          "Hard",
          "Intermediate",
          "Hard",
          "Intermediate",
          "Medium",
          "Intermediate",
          "Soft",
          "Hard",
          "Intermediate",
          "Medium",
          "Hard",
          "Intermediate",
          "Medium",
          "Intermediate",
          "Medium",
          "Hard",
          "Intermediate",
          "Wet",
          "Intermediate",
          "Medium",
          "Medium",
          "Hard",
          "Intermediate",
          "Wet",
          "Medium",
          "Hard",
          "Soft",
          "Intermediate",
          "Hard",
          "Wet",
          "Hard",
          "Intermediate"
         ],
         "xaxis": "x",
         "yaxis": "y"
        },
        {
         "alignmentgroup": "True",
         "bingroup": "x",
         "hovertemplate": "Street Circuit=Canada<br>Tyre Types=%{x}<br>count=%{y}<extra></extra>",
         "legendgroup": "Canada",
         "marker": {
          "color": "#00cc96",
          "pattern": {
           "shape": ""
          }
         },
         "name": "Canada",
         "offsetgroup": "Canada",
         "orientation": "v",
         "showlegend": true,
         "type": "histogram",
         "x": [
          "Supersoft",
          "Soft",
          "Soft",
          "Supersoft",
          "Soft",
          "Soft",
          "Supersoft",
          "Supersoft",
          "Soft",
          "Supersoft",
          "Supersoft",
          "Supersoft",
          "Soft",
          "Soft",
          "Supersoft",
          "Soft",
          "Supersoft",
          "Soft",
          "Supersoft",
          "Supersoft",
          "Soft",
          "Soft",
          "Supersoft",
          "Soft",
          "Supersoft",
          "Supersoft",
          "Soft",
          "Soft",
          "Soft",
          "Supersoft",
          "Soft",
          "Soft",
          "Supersoft",
          "Supersoft",
          "Soft",
          "Supersoft",
          "Supersoft",
          "Soft",
          "Soft",
          "Soft",
          "Supersoft",
          "Soft",
          "Soft",
          "Supersoft",
          "Soft",
          "Supersoft",
          "Soft",
          "Soft",
          "Supersoft",
          "Soft",
          "Supersoft",
          "Soft",
          "Soft",
          "Supersoft",
          "Soft",
          "Supersoft",
          "Soft",
          "Soft",
          "Supersoft",
          "Soft",
          "Supersoft",
          "Medium",
          "Medium",
          "Supersoft",
          "Medium",
          "Medium",
          "Supersoft",
          "Medium",
          "Medium",
          "Supersoft",
          "Medium",
          "Medium",
          "Supersoft",
          "Supersoft",
          "Medium",
          "Medium",
          "Supersoft",
          "Medium",
          "Supersoft",
          "Medium",
          "Supersoft",
          "Supersoft",
          "Supersoft",
          "Medium",
          "Supersoft",
          "Medium",
          "Supersoft",
          "Medium",
          "Medium",
          "Supersoft",
          "Medium",
          "Medium",
          "Supersoft",
          "Medium",
          "Medium",
          "Supersoft",
          "Medium",
          "Supersoft",
          "Medium",
          "Medium",
          "Supersoft",
          "Medium",
          "Medium",
          "Supersoft",
          "Medium",
          "Medium",
          "Medium",
          "Supersoft",
          "Supersoft",
          "Medium",
          "Medium",
          "Medium",
          "Supersoft",
          "Supersoft",
          "Medium",
          "Supersoft",
          "Supersoft",
          "Medium",
          "Medium",
          "Supersoft",
          "Medium",
          "Medium",
          "Medium",
          "Supersoft",
          "Soft",
          "Soft",
          "Supersoft",
          "Soft",
          "Soft",
          "Supersoft",
          "Soft",
          "Soft",
          "Supersoft",
          "Soft",
          "Soft",
          "Soft",
          "Supersoft",
          "Supersoft",
          "Soft",
          "Soft",
          "Supersoft",
          "Soft",
          "Soft",
          "Supersoft",
          "Soft",
          "Soft",
          "Supersoft",
          "Soft",
          "Soft",
          "Supersoft",
          "Soft",
          "Soft",
          "Supersoft",
          "Soft",
          "Supersoft",
          "Soft",
          "Soft",
          "Supersoft",
          "Soft",
          "Soft",
          "Soft",
          "Supersoft",
          "Soft",
          "Soft",
          "Supersoft",
          "Soft",
          "Soft",
          "Soft",
          "Supersoft",
          "Soft",
          "Supersoft",
          "Soft",
          "Soft",
          "Supersoft",
          "Soft",
          "Soft",
          "Soft",
          "Soft",
          "Supersoft",
          "Soft",
          "Supersoft",
          "Soft",
          "Supersoft",
          "Soft",
          "Supersoft",
          "Soft",
          "Supersoft",
          "Supersoft",
          "Soft",
          "Soft",
          "Soft",
          "Supersoft",
          "Supersoft",
          "Soft",
          "Supersoft",
          "Soft",
          "Supersoft",
          "Soft",
          "Supersoft",
          "Soft",
          "Soft",
          "Supersoft",
          "Soft",
          "Supersoft",
          "Soft",
          "Supersoft",
          "Soft",
          "Supersoft",
          "Soft",
          "Soft",
          "Supersoft",
          "Supersoft",
          "Soft",
          "Soft",
          "Supersoft",
          "Supersoft",
          "Soft",
          "Supersoft",
          "Soft",
          "Supersoft",
          "Supersoft",
          "Soft",
          "Ultrasoft",
          "Soft",
          "Ultrasoft",
          "Supersoft",
          "Soft",
          "Ultrasoft",
          "Soft",
          "Ultrasoft",
          "Soft",
          "Ultrasoft",
          "Ultrasoft",
          "Supersoft",
          "Soft",
          "Ultrasoft",
          "Soft",
          "Soft",
          "Ultrasoft",
          "Soft",
          "Soft",
          "Ultrasoft",
          "Soft",
          "Ultrasoft",
          "Soft",
          "Supersoft",
          "Soft",
          "Ultrasoft",
          "Soft",
          "Supersoft",
          "Soft",
          "Ultrasoft",
          "Ultrasoft",
          "Soft",
          "Ultrasoft",
          "Ultrasoft",
          "Soft",
          "Ultrasoft",
          "Ultrasoft",
          "Ultrasoft",
          "Soft",
          "Soft",
          "Soft",
          "Ultrasoft",
          "Ultrasoft",
          "Soft",
          "Soft",
          "Ultrasoft",
          "Soft",
          "Soft",
          "Supersoft",
          "Soft",
          "Soft",
          "Ultrasoft",
          "Soft",
          "Ultrasoft",
          "Ultrasoft",
          "Supersoft",
          "Soft",
          "Supersoft",
          "Ultrasoft",
          "Supersoft",
          "Ultrasoft",
          "Soft",
          "Ultrasoft",
          "Soft",
          "Ultrasoft",
          "Supersoft",
          "Ultrasoft",
          "Ultrasoft",
          "Supersoft",
          "Ultrasoft",
          "Supersoft",
          "Ultrasoft",
          "Supersoft",
          "Ultrasoft",
          "Ultrasoft",
          "Supersoft",
          "Ultrasoft",
          "Supersoft",
          "Ultrasoft",
          "Supersoft",
          "Ultrasoft",
          "Supersoft",
          "Supersoft",
          "Ultrasoft",
          "Ultrasoft",
          "Supersoft",
          "Ultrasoft",
          "Supersoft",
          "Supersoft",
          "Ultrasoft",
          "Ultrasoft",
          "Ultrasoft",
          "Supersoft",
          "Ultrasoft",
          "Soft",
          "Ultrasoft",
          "Ultrasoft",
          "Ultrasoft",
          "Ultrasoft",
          "Supersoft",
          "Hyper Soft",
          "Supersoft",
          "Hyper Soft",
          "Supersoft",
          "Ultrasoft",
          "Supersoft",
          "Ultrasoft",
          "Supersoft",
          "Hyper Soft",
          "Supersoft",
          "Hyper Soft",
          "Supersoft",
          "Hyper Soft",
          "Supersoft",
          "Supersoft",
          "Ultrasoft",
          "Hyper Soft",
          "Supersoft",
          "Ultrasoft",
          "Supersoft",
          "Ultrasoft",
          "Supersoft",
          "Hyper Soft",
          "Supersoft",
          "Supersoft",
          "Ultrasoft",
          "Supersoft",
          "Ultrasoft",
          "Supersoft",
          "Hyper Soft",
          "Supersoft",
          "Ultrasoft",
          "Ultrasoft",
          "Supersoft",
          "Ultrasoft",
          "Hyper Soft",
          "Ultrasoft",
          "Supersoft",
          "Medium",
          "Hard",
          "Medium",
          "Hard",
          "Medium",
          "Hard",
          "Medium",
          "Hard",
          "Medium",
          "Soft",
          "Hard",
          "Soft",
          "Hard",
          "Soft",
          "Hard",
          "Hard",
          "Medium",
          "Medium",
          "Hard",
          "Hard",
          "Soft",
          "Soft",
          "Hard",
          "Medium",
          "Hard",
          "Hard",
          "Medium",
          "Medium",
          "Hard",
          "Medium",
          "Hard",
          "Soft",
          "Medium",
          "Hard",
          "Hard",
          "Medium",
          "Medium",
          "Hard",
          "Hard",
          "Medium",
          "Hard",
          "Soft",
          "Medium",
          "Hard",
          "Hard",
          "Medium",
          "Hard",
          "Hard",
          "Medium",
          "Hard",
          "Hard",
          "Medium",
          "Hard",
          "Hard",
          "Medium",
          "Medium",
          "Hard",
          "Medium",
          "Medium",
          "Hard",
          "Medium",
          "Hard",
          "Medium",
          "Medium",
          "Hard",
          "Hard",
          "Hard",
          "Medium",
          "Medium",
          "Hard",
          "Hard",
          "Medium",
          "Hard",
          "Hard",
          "Medium",
          "Hard",
          "Hard",
          "Medium",
          "Hard",
          "Hard",
          "Hard",
          "Hard",
          "Medium",
          "Medium",
          "Hard",
          "Hard",
          "Medium",
          "Hard",
          "Medium",
          "Hard",
          "Medium",
          "Hard",
          "Hard",
          "Medium",
          "Hard",
          "Medium",
          "Medium",
          "Hard",
          "Hard",
          "Medium",
          "Hard",
          "Medium",
          "Medium",
          "Hard",
          "Medium",
          "Hard",
          "Hard",
          "Medium",
          "Soft",
          "Medium",
          "Hard",
          "Medium",
          "Hard",
          "Hard",
          "Medium",
          "Hard",
          "Hard",
          "Hard",
          "Medium",
          "Medium",
          "Hard",
          "Hard",
          "Soft",
          "Hard",
          "Hard",
          "Medium",
          "Hard",
          "Medium",
          "Hard",
          "Hard",
          "Medium",
          "Hard",
          "Hard",
          "Medium",
          "Hard",
          "Hard",
          "Hard",
          "Medium",
          "Medium",
          "Medium",
          "Hard",
          "Hard",
          "Medium",
          "Hard",
          "Medium",
          "Hard"
         ],
         "xaxis": "x",
         "yaxis": "y"
        },
        {
         "alignmentgroup": "True",
         "bingroup": "x",
         "hovertemplate": "Street Circuit=Singapore<br>Tyre Types=%{x}<br>count=%{y}<extra></extra>",
         "legendgroup": "Singapore",
         "marker": {
          "color": "#ab63fa",
          "pattern": {
           "shape": ""
          }
         },
         "name": "Singapore",
         "offsetgroup": "Singapore",
         "orientation": "v",
         "showlegend": true,
         "type": "histogram",
         "x": [
          "Supersoft",
          "Soft",
          "Soft",
          "Supersoft",
          "Soft",
          "Soft",
          "Supersoft",
          "Soft",
          "Soft",
          "Supersoft",
          "Soft",
          "Soft",
          "Supersoft",
          "Soft",
          "Soft",
          "Supersoft",
          "Soft",
          "Soft",
          "Supersoft",
          "Soft",
          "Soft",
          "Supersoft",
          "Soft",
          "Soft",
          "Supersoft",
          "Supersoft",
          "Soft",
          "Soft",
          "Supersoft",
          "Soft",
          "Supersoft",
          "Soft",
          "Soft",
          "Soft",
          "Supersoft",
          "Soft",
          "Supersoft",
          "Soft",
          "Soft",
          "Soft",
          "Supersoft",
          "Supersoft",
          "Soft",
          "Soft",
          "Supersoft",
          "Supersoft",
          "Supersoft",
          "Soft",
          "Supersoft",
          "Supersoft",
          "Soft",
          "Soft",
          "Supersoft",
          "Soft",
          "Supersoft",
          "Soft",
          "Supersoft",
          "Supersoft",
          "Soft",
          "Supersoft",
          "Soft",
          "Supersoft",
          "Soft",
          "Supersoft",
          "Supersoft",
          "Soft",
          "Soft",
          "Soft",
          "Supersoft",
          "Supersoft",
          "Soft",
          "Soft",
          "Supersoft",
          "Soft",
          "Supersoft",
          "Soft",
          "Supersoft",
          "Soft",
          "Supersoft",
          "Soft",
          "Supersoft",
          "Medium",
          "Supersoft",
          "Supersoft",
          "Medium",
          "Medium",
          "Supersoft",
          "Supersoft",
          "Medium",
          "Supersoft",
          "Medium",
          "Medium",
          "Supersoft",
          "Medium",
          "Medium",
          "Supersoft",
          "Medium",
          "Supersoft",
          "Medium",
          "Supersoft",
          "Supersoft",
          "Medium",
          "Supersoft",
          "Supersoft",
          "Medium",
          "Supersoft",
          "Supersoft",
          "Medium",
          "Medium",
          "Supersoft",
          "Supersoft",
          "Supersoft",
          "Supersoft",
          "Supersoft",
          "Medium",
          "Supersoft",
          "Supersoft",
          "Supersoft",
          "Medium",
          "Supersoft",
          "Supersoft",
          "Medium",
          "Supersoft",
          "Supersoft",
          "Medium",
          "Medium",
          "Supersoft",
          "Supersoft",
          "Medium",
          "Medium",
          "Supersoft",
          "Medium",
          "Medium",
          "Medium",
          "Supersoft",
          "Supersoft",
          "Medium",
          "Medium",
          "Supersoft",
          "Supersoft",
          "Supersoft",
          "Medium",
          "Medium",
          "Supersoft",
          "Medium",
          "Medium",
          "Supersoft",
          "Supersoft",
          "Supersoft",
          "Medium",
          "Supersoft",
          "Supersoft",
          "Medium",
          "Medium",
          "Supersoft",
          "Medium",
          "Supersoft",
          "Supersoft",
          "Supersoft",
          "Soft",
          "Supersoft",
          "Supersoft",
          "Soft",
          "Supersoft",
          "Supersoft",
          "Soft",
          "Supersoft",
          "Supersoft",
          "Supersoft",
          "Soft",
          "Supersoft",
          "Supersoft",
          "Soft",
          "Supersoft",
          "Supersoft",
          "Supersoft",
          "Soft",
          "Supersoft",
          "Soft",
          "Supersoft",
          "Soft",
          "Supersoft",
          "Supersoft",
          "Supersoft",
          "Supersoft",
          "Soft",
          "Supersoft",
          "Supersoft",
          "Soft",
          "Soft",
          "Supersoft",
          "Soft",
          "Supersoft",
          "Supersoft",
          "Supersoft",
          "Supersoft",
          "Soft",
          "Supersoft",
          "Supersoft",
          "Supersoft",
          "Supersoft",
          "Soft",
          "Supersoft",
          "Supersoft",
          "Supersoft",
          "Soft",
          "Supersoft",
          "Soft",
          "Supersoft",
          "Soft",
          "Supersoft",
          "Supersoft",
          "Soft",
          "Supersoft",
          "Supersoft",
          "Soft",
          "Supersoft",
          "Supersoft",
          "Supersoft",
          "Soft",
          "Supersoft",
          "Supersoft",
          "Soft",
          "Soft",
          "Supersoft",
          "Supersoft",
          "Soft",
          "Supersoft",
          "Supersoft",
          "Soft",
          "Supersoft",
          "Supersoft",
          "Supersoft",
          "Soft",
          "Supersoft",
          "Supersoft",
          "Soft",
          "Supersoft",
          "Supersoft",
          "Soft",
          "Supersoft",
          "Soft",
          "Soft",
          "Supersoft",
          "Supersoft",
          "Soft",
          "Supersoft",
          "Supersoft",
          "Soft",
          "Supersoft",
          "Soft",
          "Soft",
          "Supersoft",
          "Soft",
          "Supersoft",
          "Supersoft",
          "Soft",
          "Supersoft",
          "Supersoft",
          "Supersoft",
          "Soft",
          "Soft",
          "Supersoft",
          "Soft",
          "Supersoft",
          "Soft",
          "Supersoft",
          "Supersoft",
          "Soft",
          "Supersoft",
          "Supersoft",
          "Soft",
          "Soft",
          "Supersoft",
          "Soft",
          "Supersoft",
          "Supersoft",
          "Soft",
          "Supersoft",
          "Supersoft",
          "Soft",
          "Soft",
          "Supersoft",
          "Supersoft",
          "Soft",
          "Supersoft",
          "Soft",
          "Supersoft",
          "Supersoft",
          "Soft",
          "Supersoft",
          "Soft",
          "Ultrasoft",
          "Soft",
          "Soft",
          "Supersoft",
          "Supersoft",
          "Soft",
          "Supersoft",
          "Ultrasoft",
          "Soft",
          "Soft",
          "Supersoft",
          "Ultrasoft",
          "Supersoft",
          "Soft",
          "Ultrasoft",
          "Soft",
          "Ultrasoft",
          "Ultrasoft",
          "Supersoft",
          "Supersoft",
          "Supersoft",
          "Soft",
          "Ultrasoft",
          "Supersoft",
          "Soft",
          "Soft",
          "Soft",
          "Ultrasoft",
          "Supersoft",
          "Supersoft",
          "Ultrasoft",
          "Supersoft",
          "Supersoft",
          "Ultrasoft",
          "Ultrasoft",
          "Soft",
          "Ultrasoft",
          "Supersoft",
          "Ultrasoft",
          "Ultrasoft",
          "Supersoft",
          "Supersoft",
          "Soft",
          "Ultrasoft",
          "Supersoft",
          "Soft",
          "Ultrasoft",
          "Supersoft",
          "Supersoft",
          "Soft",
          "Ultrasoft",
          "Supersoft",
          "Soft",
          "Ultrasoft",
          "Supersoft",
          "Ultrasoft",
          "Soft",
          "Ultrasoft",
          "Ultrasoft",
          "Supersoft",
          "Supersoft",
          "Ultrasoft",
          "Supersoft",
          "Ultrasoft",
          "Soft",
          "Ultrasoft",
          "Soft",
          "Supersoft",
          "Supersoft",
          "Supersoft",
          "Ultrasoft",
          "Ultrasoft",
          "Intermediate",
          "Ultrasoft",
          "Intermediate",
          "Intermediate",
          "Ultrasoft",
          "Intermediate",
          "Ultrasoft",
          "Intermediate",
          "Supersoft",
          "Wet",
          "Intermediate",
          "Ultrasoft",
          "Wet",
          "Intermediate",
          "Ultrasoft",
          "Wet",
          "Intermediate",
          "Ultrasoft",
          "Intermediate",
          "Ultrasoft",
          "Intermediate",
          "Ultrasoft",
          "Wet",
          "Intermediate",
          "Ultrasoft",
          "Ultrasoft",
          "Wet",
          "Intermediate",
          "Ultrasoft",
          "Ultrasoft",
          "Wet",
          "Wet",
          "Intermediate",
          "Ultrasoft",
          "Ultrasoft",
          "Wet",
          "Intermediate",
          "Ultrasoft",
          "Ultrasoft",
          "Wet",
          "Intermediate",
          "Ultrasoft",
          "Ultrasoft",
          "Wet",
          "Wet",
          "Intermediate",
          "Soft",
          "Ultrasoft",
          "Intermediate",
          "Wet",
          "Intermediate",
          "Intermediate",
          "Intermediate",
          "Hyper Soft",
          "Soft",
          "Hyper Soft",
          "Soft",
          "Hyper Soft",
          "Ultrasoft",
          "Hyper Soft",
          "Soft",
          "Hyper Soft",
          "Soft",
          "Hyper Soft",
          "Ultrasoft",
          "Ultrasoft",
          "Soft",
          "Ultrasoft",
          "Soft",
          "Ultrasoft",
          "Hyper Soft",
          "Hyper Soft",
          "Ultrasoft",
          "Ultrasoft",
          "Hyper Soft",
          "Ultrasoft",
          "Soft",
          "Hyper Soft",
          "Ultrasoft",
          "Soft",
          "Ultrasoft",
          "Hyper Soft",
          "Soft",
          "Hyper Soft",
          "Ultrasoft",
          "Soft",
          "Hyper Soft",
          "Ultrasoft",
          "Hyper Soft",
          "Ultrasoft",
          "Soft",
          "Hyper Soft",
          "Hyper Soft",
          "Ultrasoft",
          "Soft",
          "Hyper Soft",
          "Hyper Soft",
          "Soft",
          "Hard",
          "Soft",
          "Hard",
          "Soft",
          "Hard",
          "Soft",
          "Hard",
          "Soft",
          "Hard",
          "Soft",
          "Hard",
          "Soft",
          "Hard",
          "Hard",
          "Medium",
          "Soft",
          "Hard",
          "Medium",
          "Medium",
          "Hard",
          "Soft",
          "Medium",
          "Hard",
          "Soft",
          "Soft",
          "Hard",
          "Medium",
          "Hard",
          "Soft",
          "Soft",
          "Medium",
          "Medium",
          "Hard",
          "Soft",
          "Hard",
          "Medium",
          "Medium",
          "Hard",
          "Medium",
          "Hard",
          "Medium",
          "Hard",
          "Medium",
          "Hard",
          "Medium",
          "Hard",
          "Medium",
          "Soft",
          "Intermediate",
          "Medium",
          "Intermediate",
          "Medium",
          "Intermediate",
          "Medium",
          "Intermediate",
          "Medium",
          "Intermediate",
          "Intermediate",
          "Medium",
          "Intermediate",
          "Medium",
          "Soft",
          "Intermediate",
          "Medium",
          "Medium",
          "Intermediate",
          "Medium",
          "Soft",
          "Intermediate",
          "Intermediate",
          "Medium",
          "Intermediate",
          "Medium",
          "Soft",
          "Intermediate",
          "Medium",
          "Medium",
          "Soft",
          "Soft",
          "Intermediate",
          "Medium",
          "Intermediate",
          "Intermediate",
          "Intermediate",
          "Intermediate",
          "Intermediate",
          "Intermediate",
          "Intermediate",
          "Soft"
         ],
         "xaxis": "x",
         "yaxis": "y"
        },
        {
         "alignmentgroup": "True",
         "bingroup": "x",
         "hovertemplate": "Street Circuit=Russia<br>Tyre Types=%{x}<br>count=%{y}<extra></extra>",
         "legendgroup": "Russia",
         "marker": {
          "color": "#FFA15A",
          "pattern": {
           "shape": ""
          }
         },
         "name": "Russia",
         "offsetgroup": "Russia",
         "orientation": "v",
         "showlegend": true,
         "type": "histogram",
         "x": [
          "Soft",
          "Soft",
          "Soft",
          "Soft",
          "Soft",
          "Soft",
          "Soft",
          "Soft",
          "Soft",
          "Medium",
          "Soft",
          "Medium",
          "Medium",
          "Medium",
          "Medium",
          "Medium",
          "Medium",
          "Medium",
          "Medium",
          "Medium",
          "Soft",
          "Soft",
          "Medium",
          "Soft",
          "Soft",
          "Medium",
          "Soft",
          "Medium",
          "Soft",
          "Soft",
          "Medium",
          "Medium",
          "Soft",
          "Soft",
          "Medium",
          "Medium",
          "Soft",
          "Soft",
          "Medium",
          "Soft",
          "Medium",
          "Medium",
          "Soft",
          "Medium",
          "Supersoft",
          "Soft",
          "Supersoft",
          "Soft",
          "Supersoft",
          "Soft",
          "Soft",
          "Supersoft",
          "Supersoft",
          "Soft",
          "Supersoft",
          "Soft",
          "Supersoft",
          "Soft",
          "Soft",
          "Supersoft",
          "Supersoft",
          "Soft",
          "Soft",
          "Supersoft",
          "Supersoft",
          "Soft",
          "Supersoft",
          "Supersoft",
          "Soft",
          "Supersoft",
          "Soft",
          "Supersoft",
          "Soft",
          "Supersoft",
          "Supersoft",
          "Soft",
          "Supersoft",
          "Soft",
          "Supersoft",
          "Soft",
          "Supersoft",
          "Supersoft",
          "Soft",
          "Supersoft",
          "Soft",
          "Supersoft",
          "Soft",
          "Supersoft",
          "Soft",
          "Supersoft",
          "Soft",
          "Supersoft",
          "Soft",
          "Supersoft",
          "Supersoft",
          "Soft",
          "Supersoft",
          "Soft",
          "Supersoft",
          "Soft",
          "Supersoft",
          "Soft",
          "Soft",
          "Supersoft",
          "Soft",
          "Supersoft",
          "Medium",
          "Soft",
          "Supersoft",
          "Soft",
          "Supersoft",
          "Soft",
          "Soft",
          "Supersoft",
          "Supersoft",
          "Supersoft",
          "Medium",
          "Supersoft",
          "Soft",
          "Soft",
          "Medium",
          "Supersoft",
          "Soft",
          "Supersoft",
          "Supersoft",
          "Soft",
          "Supersoft",
          "Soft",
          "Supersoft",
          "Ultrasoft",
          "Supersoft",
          "Ultrasoft",
          "Supersoft",
          "Ultrasoft",
          "Supersoft",
          "Ultrasoft",
          "Supersoft",
          "Ultrasoft",
          "Supersoft",
          "Ultrasoft",
          "Supersoft",
          "Ultrasoft",
          "Supersoft",
          "Ultrasoft",
          "Supersoft",
          "Ultrasoft",
          "Supersoft",
          "Ultrasoft",
          "Ultrasoft",
          "Supersoft",
          "Ultrasoft",
          "Supersoft",
          "Ultrasoft",
          "Supersoft",
          "Ultrasoft",
          "Supersoft",
          "Supersoft",
          "Ultrasoft",
          "Ultrasoft",
          "Supersoft",
          "Ultrasoft",
          "Ultrasoft",
          "Supersoft",
          "Ultrasoft",
          "Ultrasoft",
          "Ultrasoft",
          "Ultrasoft",
          "Ultrasoft",
          "Ultrasoft",
          "Soft",
          "Ultrasoft",
          "Soft",
          "Ultrasoft",
          "Soft",
          "Ultrasoft",
          "Soft",
          "Soft",
          "Ultrasoft",
          "Soft",
          "Ultrasoft",
          "Hyper Soft",
          "Soft",
          "Hyper Soft",
          "Soft",
          "Hyper Soft",
          "Soft",
          "Hyper Soft",
          "Soft",
          "Hyper Soft",
          "Soft",
          "Soft",
          "Ultrasoft",
          "Hyper Soft",
          "Soft",
          "Ultrasoft",
          "Ultrasoft",
          "Soft",
          "Ultrasoft",
          "Soft",
          "Ultrasoft",
          "Soft",
          "Soft",
          "Ultrasoft",
          "Ultrasoft",
          "Soft",
          "Soft",
          "Hyper Soft",
          "Soft",
          "Medium",
          "Soft",
          "Medium",
          "Soft",
          "Soft",
          "Medium",
          "Soft",
          "Soft",
          "Medium",
          "Medium",
          "Soft",
          "Soft",
          "Soft",
          "Medium",
          "Soft",
          "Medium",
          "Soft",
          "Medium",
          "Soft",
          "Medium",
          "Soft",
          "Soft",
          "Medium",
          "Hard",
          "Soft",
          "Soft",
          "Medium",
          "Soft",
          "Medium",
          "Soft",
          "Soft",
          "Hard",
          "Medium",
          "Medium",
          "Hard",
          "Medium",
          "Medium",
          "Soft",
          "Soft",
          "Medium",
          "Soft",
          "Medium",
          "Soft",
          "Medium",
          "Medium",
          "Hard",
          "Intermediate",
          "Hard",
          "Medium",
          "Intermediate",
          "Medium",
          "Hard",
          "Medium",
          "Hard",
          "Hard",
          "Medium",
          "Intermediate",
          "Hard",
          "Medium",
          "Intermediate",
          "Hard",
          "Medium",
          "Hard",
          "Intermediate",
          "Hard",
          "Medium",
          "Intermediate",
          "Medium",
          "Hard",
          "Intermediate",
          "Intermediate",
          "Intermediate",
          "Intermediate",
          "Medium",
          "Hard",
          "Intermediate",
          "Medium",
          "Hard",
          "Intermediate",
          "Hard",
          "Medium",
          "Intermediate",
          "Medium",
          "Hard",
          "Intermediate",
          "Hard",
          "Medium",
          "Intermediate",
          "Hard",
          "Medium",
          "Intermediate",
          "Medium",
          "Hard",
          "Soft",
          "Intermediate",
          "Medium",
          "Hard",
          "Intermediate",
          "Medium",
          "Hard",
          "Medium",
          "Hard",
          "Medium"
         ],
         "xaxis": "x",
         "yaxis": "y"
        },
        {
         "alignmentgroup": "True",
         "bingroup": "x",
         "hovertemplate": "Street Circuit=Azerbaijan<br>Tyre Types=%{x}<br>count=%{y}<extra></extra>",
         "legendgroup": "Azerbaijan",
         "marker": {
          "color": "#19d3f3",
          "pattern": {
           "shape": ""
          }
         },
         "name": "Azerbaijan",
         "offsetgroup": "Azerbaijan",
         "orientation": "v",
         "showlegend": true,
         "type": "histogram",
         "x": [
          "Supersoft",
          "Soft",
          "Supersoft",
          "Supersoft",
          "Supersoft",
          "Soft",
          "Supersoft",
          "Supersoft",
          "Supersoft",
          "Soft",
          "Supersoft",
          "Supersoft",
          "Soft",
          "Supersoft",
          "Supersoft",
          "Soft",
          "Supersoft",
          "Supersoft",
          "Soft",
          "Supersoft",
          "Supersoft",
          "Supersoft",
          "Soft",
          "Supersoft",
          "Supersoft",
          "Soft",
          "Supersoft",
          "Supersoft",
          "Soft",
          "Supersoft",
          "Supersoft",
          "Soft",
          "Supersoft",
          "Supersoft",
          "Soft",
          "Supersoft",
          "Supersoft",
          "Supersoft",
          "Supersoft",
          "Supersoft",
          "Soft",
          "Supersoft",
          "Supersoft",
          "Supersoft",
          "Supersoft",
          "Supersoft",
          "Soft",
          "Supersoft",
          "Supersoft",
          "Supersoft",
          "Supersoft",
          "Soft",
          "Supersoft",
          "Supersoft",
          "Soft",
          "Supersoft",
          "Supersoft",
          "Supersoft",
          "Supersoft",
          "Soft",
          "Soft",
          "Supersoft",
          "Soft",
          "Ultrasoft",
          "Ultrasoft",
          "Soft",
          "Ultrasoft",
          "Ultrasoft",
          "Soft",
          "Supersoft",
          "Ultrasoft",
          "Soft",
          "Ultrasoft",
          "Supersoft",
          "Soft",
          "Ultrasoft",
          "Supersoft",
          "Soft",
          "Ultrasoft",
          "Supersoft",
          "Soft",
          "Ultrasoft",
          "Supersoft",
          "Soft",
          "Ultrasoft",
          "Supersoft",
          "Soft",
          "Ultrasoft",
          "Ultrasoft",
          "Ultrasoft",
          "Soft",
          "Supersoft",
          "Ultrasoft",
          "Ultrasoft",
          "Supersoft",
          "Soft",
          "Ultrasoft",
          "Ultrasoft",
          "Ultrasoft",
          "Soft",
          "Ultrasoft",
          "Supersoft",
          "Soft",
          "Ultrasoft",
          "Supersoft",
          "Ultrasoft",
          "Soft",
          "Supersoft",
          "Ultrasoft",
          "Supersoft",
          "Ultrasoft",
          "Supersoft",
          "Ultrasoft",
          "Ultrasoft",
          "Ultrasoft",
          "Supersoft",
          "Soft",
          "Medium",
          "Soft",
          "Medium",
          "Soft",
          "Medium",
          "Soft",
          "Medium",
          "Medium",
          "Soft",
          "Soft",
          "Soft",
          "Medium",
          "Medium",
          "Soft",
          "Medium",
          "Soft",
          "Soft",
          "Soft",
          "Medium",
          "Soft",
          "Medium",
          "Soft",
          "Medium",
          "Soft",
          "Medium",
          "Soft",
          "Medium",
          "Soft",
          "Soft",
          "Medium",
          "Soft",
          "Medium",
          "Medium",
          "Soft",
          "Medium",
          "Medium",
          "Soft",
          "Medium",
          "Medium",
          "Soft",
          "Soft",
          "Medium",
          "Soft",
          "Medium",
          "Soft",
          "Hard",
          "Soft",
          "Soft",
          "Hard",
          "Soft",
          "Soft",
          "Soft",
          "Soft",
          "Hard",
          "Soft",
          "Soft",
          "Hard",
          "Soft",
          "Soft",
          "Hard",
          "Soft",
          "Soft",
          "Soft",
          "Hard",
          "Soft",
          "Hard",
          "Soft",
          "Soft",
          "Soft",
          "Hard",
          "Soft",
          "Medium",
          "Hard",
          "Soft",
          "Soft",
          "Hard",
          "Hard",
          "Soft",
          "Hard",
          "Soft",
          "Soft",
          "Soft",
          "Soft",
          "Soft",
          "Soft",
          "Hard",
          "Soft",
          "Soft",
          "Soft",
          "Soft",
          "Hard",
          "Soft",
          "Medium",
          "Hard",
          "Soft",
          "Medium",
          "Hard",
          "Hard",
          "Soft",
          "Hard",
          "Hard",
          "Soft",
          "Hard",
          "Soft",
          "Hard",
          "Soft",
          "Soft",
          "Medium",
          "Hard",
          "Hard",
          "Medium",
          "Hard",
          "Hard",
          "Medium",
          "Hard",
          "Hard",
          "Medium",
          "Hard",
          "Hard",
          "Medium",
          "Hard",
          "Medium",
          "Hard",
          "Medium",
          "Hard",
          "Hard",
          "Medium",
          "Medium",
          "Hard",
          "Hard",
          "Medium",
          "Hard",
          "Medium",
          "Hard",
          "Hard",
          "Medium",
          "Hard",
          "Soft",
          "Hard",
          "Medium",
          "Hard",
          "Medium",
          "Hard",
          "Hard",
          "Medium",
          "Medium",
          "Hard",
          "Medium",
          "Hard",
          "Medium",
          "Hard",
          "Medium",
          "Medium",
          "Medium",
          "Hard",
          "Medium",
          "Hard",
          "Medium",
          "Hard",
          "Medium",
          "Hard",
          "Medium",
          "Hard",
          "Medium",
          "Hard",
          "Medium",
          "Hard",
          "Medium",
          "Hard",
          "Soft",
          "Medium",
          "Hard",
          "Medium",
          "Medium",
          "Hard",
          "Medium",
          "Hard",
          "Medium",
          "Hard",
          "Medium",
          "Hard",
          "Hard",
          "Hard",
          "Soft",
          "Medium",
          "Hard",
          "Hard",
          "Medium",
          "Hard",
          "Hard",
          "Medium",
          "Medium",
          "Hard",
          "Hard",
          "Soft",
          "Hard"
         ],
         "xaxis": "x",
         "yaxis": "y"
        },
        {
         "alignmentgroup": "True",
         "bingroup": "x",
         "hovertemplate": "Street Circuit=Saudi Arabia<br>Tyre Types=%{x}<br>count=%{y}<extra></extra>",
         "legendgroup": "Saudi Arabia",
         "marker": {
          "color": "#FF6692",
          "pattern": {
           "shape": ""
          }
         },
         "name": "Saudi Arabia",
         "offsetgroup": "Saudi Arabia",
         "orientation": "v",
         "showlegend": true,
         "type": "histogram",
         "x": [
          "Medium",
          "Hard",
          "Medium",
          "Hard",
          "Medium",
          "Medium",
          "Hard",
          "Medium",
          "Medium",
          "Hard",
          "Hard",
          "Medium",
          "Medium",
          "Hard",
          "Medium",
          "Hard",
          "Hard",
          "Medium",
          "Medium",
          "Hard",
          "Soft",
          "Medium",
          "Hard",
          "Medium",
          "Medium",
          "Hard",
          "Medium",
          "Hard",
          "Medium",
          "Hard",
          "Soft",
          "Medium",
          "Hard",
          "Medium",
          "Hard",
          "Medium",
          "Hard",
          "Medium",
          "Hard",
          "Medium",
          "Medium",
          "Medium",
          "Hard",
          "Medium",
          "Medium",
          "Hard",
          "Medium",
          "Hard",
          "Medium",
          "Hard",
          "Medium",
          "Hard",
          "Medium",
          "Medium",
          "Hard",
          "Medium",
          "Hard",
          "Medium",
          "Hard",
          "Medium",
          "Hard",
          "Medium",
          "Hard",
          "Medium",
          "Hard",
          "Hard",
          "Medium",
          "Hard",
          "Medium",
          "Medium",
          "Hard",
          "Hard",
          "Medium",
          "Medium",
          "Hard",
          "Medium",
          "Hard",
          "Medium",
          "Medium",
          "Medium",
          "Hard",
          "Medium",
          "Hard",
          "Medium",
          "Hard",
          "Hard",
          "Medium",
          "Hard",
          "Medium",
          "Hard",
          "Medium",
          "Hard",
          "Medium",
          "Hard",
          "Hard",
          "Medium",
          "Medium",
          "Hard",
          "Soft",
          "Medium",
          "Hard",
          "Medium",
          "Hard",
          "Medium",
          "Hard",
          "Medium",
          "Hard",
          "Medium",
          "Hard",
          "Medium",
          "Hard",
          "Medium",
          "Medium",
          "Hard",
          "Medium",
          "Hard",
          "Hard",
          "Medium",
          "Soft",
          "Hard",
          "Medium",
          "Medium",
          "Hard",
          "Medium",
          "Soft",
          "Medium",
          "Hard",
          "Medium",
          "Hard",
          "Hard"
         ],
         "xaxis": "x",
         "yaxis": "y"
        },
        {
         "alignmentgroup": "True",
         "bingroup": "x",
         "hovertemplate": "Street Circuit=Miami<br>Tyre Types=%{x}<br>count=%{y}<extra></extra>",
         "legendgroup": "Miami",
         "marker": {
          "color": "#B6E880",
          "pattern": {
           "shape": ""
          }
         },
         "name": "Miami",
         "offsetgroup": "Miami",
         "orientation": "v",
         "showlegend": true,
         "type": "histogram",
         "x": [
          "Medium",
          "Hard",
          "Medium",
          "Hard",
          "Medium",
          "Hard",
          "Medium",
          "Hard",
          "Medium",
          "Hard",
          "Medium",
          "Medium",
          "Hard",
          "Medium",
          "Hard",
          "Hard",
          "Soft",
          "Medium",
          "Hard",
          "Medium",
          "Hard",
          "Medium",
          "Hard",
          "Soft",
          "Hard",
          "Medium",
          "Medium",
          "Hard",
          "Soft",
          "Medium",
          "Hard",
          "Medium",
          "Medium",
          "Hard",
          "Medium",
          "Hard",
          "Medium",
          "Medium",
          "Hard",
          "Soft",
          "Medium",
          "Hard",
          "Medium",
          "Hard",
          "Medium",
          "Hard",
          "Medium",
          "Medium",
          "Hard",
          "Medium",
          "Hard",
          "Medium",
          "Hard",
          "Medium",
          "Hard",
          "Hard",
          "Medium",
          "Medium",
          "Hard",
          "Medium",
          "Hard",
          "Hard",
          "Medium",
          "Medium",
          "Hard",
          "Hard",
          "Medium",
          "Hard",
          "Medium",
          "Medium",
          "Hard",
          "Medium",
          "Hard",
          "Hard",
          "Medium",
          "Hard",
          "Medium",
          "Soft",
          "Hard",
          "Medium",
          "Hard",
          "Soft",
          "Hard",
          "Medium",
          "Hard"
         ],
         "xaxis": "x",
         "yaxis": "y"
        }
       ],
       "layout": {
        "barmode": "group",
        "legend": {
         "title": {
          "text": "Street Circuit"
         },
         "tracegroupgap": 0
        },
        "template": {
         "data": {
          "bar": [
           {
            "error_x": {
             "color": "#2a3f5f"
            },
            "error_y": {
             "color": "#2a3f5f"
            },
            "marker": {
             "line": {
              "color": "#E5ECF6",
              "width": 0.5
             },
             "pattern": {
              "fillmode": "overlay",
              "size": 10,
              "solidity": 0.2
             }
            },
            "type": "bar"
           }
          ],
          "barpolar": [
           {
            "marker": {
             "line": {
              "color": "#E5ECF6",
              "width": 0.5
             },
             "pattern": {
              "fillmode": "overlay",
              "size": 10,
              "solidity": 0.2
             }
            },
            "type": "barpolar"
           }
          ],
          "carpet": [
           {
            "aaxis": {
             "endlinecolor": "#2a3f5f",
             "gridcolor": "white",
             "linecolor": "white",
             "minorgridcolor": "white",
             "startlinecolor": "#2a3f5f"
            },
            "baxis": {
             "endlinecolor": "#2a3f5f",
             "gridcolor": "white",
             "linecolor": "white",
             "minorgridcolor": "white",
             "startlinecolor": "#2a3f5f"
            },
            "type": "carpet"
           }
          ],
          "choropleth": [
           {
            "colorbar": {
             "outlinewidth": 0,
             "ticks": ""
            },
            "type": "choropleth"
           }
          ],
          "contour": [
           {
            "colorbar": {
             "outlinewidth": 0,
             "ticks": ""
            },
            "colorscale": [
             [
              0,
              "#0d0887"
             ],
             [
              0.1111111111111111,
              "#46039f"
             ],
             [
              0.2222222222222222,
              "#7201a8"
             ],
             [
              0.3333333333333333,
              "#9c179e"
             ],
             [
              0.4444444444444444,
              "#bd3786"
             ],
             [
              0.5555555555555556,
              "#d8576b"
             ],
             [
              0.6666666666666666,
              "#ed7953"
             ],
             [
              0.7777777777777778,
              "#fb9f3a"
             ],
             [
              0.8888888888888888,
              "#fdca26"
             ],
             [
              1,
              "#f0f921"
             ]
            ],
            "type": "contour"
           }
          ],
          "contourcarpet": [
           {
            "colorbar": {
             "outlinewidth": 0,
             "ticks": ""
            },
            "type": "contourcarpet"
           }
          ],
          "heatmap": [
           {
            "colorbar": {
             "outlinewidth": 0,
             "ticks": ""
            },
            "colorscale": [
             [
              0,
              "#0d0887"
             ],
             [
              0.1111111111111111,
              "#46039f"
             ],
             [
              0.2222222222222222,
              "#7201a8"
             ],
             [
              0.3333333333333333,
              "#9c179e"
             ],
             [
              0.4444444444444444,
              "#bd3786"
             ],
             [
              0.5555555555555556,
              "#d8576b"
             ],
             [
              0.6666666666666666,
              "#ed7953"
             ],
             [
              0.7777777777777778,
              "#fb9f3a"
             ],
             [
              0.8888888888888888,
              "#fdca26"
             ],
             [
              1,
              "#f0f921"
             ]
            ],
            "type": "heatmap"
           }
          ],
          "heatmapgl": [
           {
            "colorbar": {
             "outlinewidth": 0,
             "ticks": ""
            },
            "colorscale": [
             [
              0,
              "#0d0887"
             ],
             [
              0.1111111111111111,
              "#46039f"
             ],
             [
              0.2222222222222222,
              "#7201a8"
             ],
             [
              0.3333333333333333,
              "#9c179e"
             ],
             [
              0.4444444444444444,
              "#bd3786"
             ],
             [
              0.5555555555555556,
              "#d8576b"
             ],
             [
              0.6666666666666666,
              "#ed7953"
             ],
             [
              0.7777777777777778,
              "#fb9f3a"
             ],
             [
              0.8888888888888888,
              "#fdca26"
             ],
             [
              1,
              "#f0f921"
             ]
            ],
            "type": "heatmapgl"
           }
          ],
          "histogram": [
           {
            "marker": {
             "pattern": {
              "fillmode": "overlay",
              "size": 10,
              "solidity": 0.2
             }
            },
            "type": "histogram"
           }
          ],
          "histogram2d": [
           {
            "colorbar": {
             "outlinewidth": 0,
             "ticks": ""
            },
            "colorscale": [
             [
              0,
              "#0d0887"
             ],
             [
              0.1111111111111111,
              "#46039f"
             ],
             [
              0.2222222222222222,
              "#7201a8"
             ],
             [
              0.3333333333333333,
              "#9c179e"
             ],
             [
              0.4444444444444444,
              "#bd3786"
             ],
             [
              0.5555555555555556,
              "#d8576b"
             ],
             [
              0.6666666666666666,
              "#ed7953"
             ],
             [
              0.7777777777777778,
              "#fb9f3a"
             ],
             [
              0.8888888888888888,
              "#fdca26"
             ],
             [
              1,
              "#f0f921"
             ]
            ],
            "type": "histogram2d"
           }
          ],
          "histogram2dcontour": [
           {
            "colorbar": {
             "outlinewidth": 0,
             "ticks": ""
            },
            "colorscale": [
             [
              0,
              "#0d0887"
             ],
             [
              0.1111111111111111,
              "#46039f"
             ],
             [
              0.2222222222222222,
              "#7201a8"
             ],
             [
              0.3333333333333333,
              "#9c179e"
             ],
             [
              0.4444444444444444,
              "#bd3786"
             ],
             [
              0.5555555555555556,
              "#d8576b"
             ],
             [
              0.6666666666666666,
              "#ed7953"
             ],
             [
              0.7777777777777778,
              "#fb9f3a"
             ],
             [
              0.8888888888888888,
              "#fdca26"
             ],
             [
              1,
              "#f0f921"
             ]
            ],
            "type": "histogram2dcontour"
           }
          ],
          "mesh3d": [
           {
            "colorbar": {
             "outlinewidth": 0,
             "ticks": ""
            },
            "type": "mesh3d"
           }
          ],
          "parcoords": [
           {
            "line": {
             "colorbar": {
              "outlinewidth": 0,
              "ticks": ""
             }
            },
            "type": "parcoords"
           }
          ],
          "pie": [
           {
            "automargin": true,
            "type": "pie"
           }
          ],
          "scatter": [
           {
            "fillpattern": {
             "fillmode": "overlay",
             "size": 10,
             "solidity": 0.2
            },
            "type": "scatter"
           }
          ],
          "scatter3d": [
           {
            "line": {
             "colorbar": {
              "outlinewidth": 0,
              "ticks": ""
             }
            },
            "marker": {
             "colorbar": {
              "outlinewidth": 0,
              "ticks": ""
             }
            },
            "type": "scatter3d"
           }
          ],
          "scattercarpet": [
           {
            "marker": {
             "colorbar": {
              "outlinewidth": 0,
              "ticks": ""
             }
            },
            "type": "scattercarpet"
           }
          ],
          "scattergeo": [
           {
            "marker": {
             "colorbar": {
              "outlinewidth": 0,
              "ticks": ""
             }
            },
            "type": "scattergeo"
           }
          ],
          "scattergl": [
           {
            "marker": {
             "colorbar": {
              "outlinewidth": 0,
              "ticks": ""
             }
            },
            "type": "scattergl"
           }
          ],
          "scattermapbox": [
           {
            "marker": {
             "colorbar": {
              "outlinewidth": 0,
              "ticks": ""
             }
            },
            "type": "scattermapbox"
           }
          ],
          "scatterpolar": [
           {
            "marker": {
             "colorbar": {
              "outlinewidth": 0,
              "ticks": ""
             }
            },
            "type": "scatterpolar"
           }
          ],
          "scatterpolargl": [
           {
            "marker": {
             "colorbar": {
              "outlinewidth": 0,
              "ticks": ""
             }
            },
            "type": "scatterpolargl"
           }
          ],
          "scatterternary": [
           {
            "marker": {
             "colorbar": {
              "outlinewidth": 0,
              "ticks": ""
             }
            },
            "type": "scatterternary"
           }
          ],
          "surface": [
           {
            "colorbar": {
             "outlinewidth": 0,
             "ticks": ""
            },
            "colorscale": [
             [
              0,
              "#0d0887"
             ],
             [
              0.1111111111111111,
              "#46039f"
             ],
             [
              0.2222222222222222,
              "#7201a8"
             ],
             [
              0.3333333333333333,
              "#9c179e"
             ],
             [
              0.4444444444444444,
              "#bd3786"
             ],
             [
              0.5555555555555556,
              "#d8576b"
             ],
             [
              0.6666666666666666,
              "#ed7953"
             ],
             [
              0.7777777777777778,
              "#fb9f3a"
             ],
             [
              0.8888888888888888,
              "#fdca26"
             ],
             [
              1,
              "#f0f921"
             ]
            ],
            "type": "surface"
           }
          ],
          "table": [
           {
            "cells": {
             "fill": {
              "color": "#EBF0F8"
             },
             "line": {
              "color": "white"
             }
            },
            "header": {
             "fill": {
              "color": "#C8D4E3"
             },
             "line": {
              "color": "white"
             }
            },
            "type": "table"
           }
          ]
         },
         "layout": {
          "annotationdefaults": {
           "arrowcolor": "#2a3f5f",
           "arrowhead": 0,
           "arrowwidth": 1
          },
          "autotypenumbers": "strict",
          "coloraxis": {
           "colorbar": {
            "outlinewidth": 0,
            "ticks": ""
           }
          },
          "colorscale": {
           "diverging": [
            [
             0,
             "#8e0152"
            ],
            [
             0.1,
             "#c51b7d"
            ],
            [
             0.2,
             "#de77ae"
            ],
            [
             0.3,
             "#f1b6da"
            ],
            [
             0.4,
             "#fde0ef"
            ],
            [
             0.5,
             "#f7f7f7"
            ],
            [
             0.6,
             "#e6f5d0"
            ],
            [
             0.7,
             "#b8e186"
            ],
            [
             0.8,
             "#7fbc41"
            ],
            [
             0.9,
             "#4d9221"
            ],
            [
             1,
             "#276419"
            ]
           ],
           "sequential": [
            [
             0,
             "#0d0887"
            ],
            [
             0.1111111111111111,
             "#46039f"
            ],
            [
             0.2222222222222222,
             "#7201a8"
            ],
            [
             0.3333333333333333,
             "#9c179e"
            ],
            [
             0.4444444444444444,
             "#bd3786"
            ],
            [
             0.5555555555555556,
             "#d8576b"
            ],
            [
             0.6666666666666666,
             "#ed7953"
            ],
            [
             0.7777777777777778,
             "#fb9f3a"
            ],
            [
             0.8888888888888888,
             "#fdca26"
            ],
            [
             1,
             "#f0f921"
            ]
           ],
           "sequentialminus": [
            [
             0,
             "#0d0887"
            ],
            [
             0.1111111111111111,
             "#46039f"
            ],
            [
             0.2222222222222222,
             "#7201a8"
            ],
            [
             0.3333333333333333,
             "#9c179e"
            ],
            [
             0.4444444444444444,
             "#bd3786"
            ],
            [
             0.5555555555555556,
             "#d8576b"
            ],
            [
             0.6666666666666666,
             "#ed7953"
            ],
            [
             0.7777777777777778,
             "#fb9f3a"
            ],
            [
             0.8888888888888888,
             "#fdca26"
            ],
            [
             1,
             "#f0f921"
            ]
           ]
          },
          "colorway": [
           "#636efa",
           "#EF553B",
           "#00cc96",
           "#ab63fa",
           "#FFA15A",
           "#19d3f3",
           "#FF6692",
           "#B6E880",
           "#FF97FF",
           "#FECB52"
          ],
          "font": {
           "color": "#2a3f5f"
          },
          "geo": {
           "bgcolor": "white",
           "lakecolor": "white",
           "landcolor": "#E5ECF6",
           "showlakes": true,
           "showland": true,
           "subunitcolor": "white"
          },
          "hoverlabel": {
           "align": "left"
          },
          "hovermode": "closest",
          "mapbox": {
           "style": "light"
          },
          "paper_bgcolor": "white",
          "plot_bgcolor": "#E5ECF6",
          "polar": {
           "angularaxis": {
            "gridcolor": "white",
            "linecolor": "white",
            "ticks": ""
           },
           "bgcolor": "#E5ECF6",
           "radialaxis": {
            "gridcolor": "white",
            "linecolor": "white",
            "ticks": ""
           }
          },
          "scene": {
           "xaxis": {
            "backgroundcolor": "#E5ECF6",
            "gridcolor": "white",
            "gridwidth": 2,
            "linecolor": "white",
            "showbackground": true,
            "ticks": "",
            "zerolinecolor": "white"
           },
           "yaxis": {
            "backgroundcolor": "#E5ECF6",
            "gridcolor": "white",
            "gridwidth": 2,
            "linecolor": "white",
            "showbackground": true,
            "ticks": "",
            "zerolinecolor": "white"
           },
           "zaxis": {
            "backgroundcolor": "#E5ECF6",
            "gridcolor": "white",
            "gridwidth": 2,
            "linecolor": "white",
            "showbackground": true,
            "ticks": "",
            "zerolinecolor": "white"
           }
          },
          "shapedefaults": {
           "line": {
            "color": "#2a3f5f"
           }
          },
          "ternary": {
           "aaxis": {
            "gridcolor": "white",
            "linecolor": "white",
            "ticks": ""
           },
           "baxis": {
            "gridcolor": "white",
            "linecolor": "white",
            "ticks": ""
           },
           "bgcolor": "#E5ECF6",
           "caxis": {
            "gridcolor": "white",
            "linecolor": "white",
            "ticks": ""
           }
          },
          "title": {
           "x": 0.05
          },
          "xaxis": {
           "automargin": true,
           "gridcolor": "white",
           "linecolor": "white",
           "ticks": "",
           "title": {
            "standoff": 15
           },
           "zerolinecolor": "white",
           "zerolinewidth": 2
          },
          "yaxis": {
           "automargin": true,
           "gridcolor": "white",
           "linecolor": "white",
           "ticks": "",
           "title": {
            "standoff": 15
           },
           "zerolinecolor": "white",
           "zerolinewidth": 2
          }
         }
        },
        "title": {
         "text": "Tire Type Distribution on Street Circuits"
        },
        "xaxis": {
         "anchor": "y",
         "domain": [
          0,
          1
         ],
         "tickangle": -45,
         "title": {}
        },
        "yaxis": {
         "anchor": "x",
         "domain": [
          0,
          1
         ],
         "title": {
          "text": "Count"
         }
        }
       }
      }
     },
     "metadata": {},
     "output_type": "display_data"
    }
   ],
   "source": [
    "import plotly.express as px\n",
    "\n",
    "# List of street circuit names\n",
    "street_circuits = ['Monaco', 'Australia', 'Singapore', 'Russia', 'Azerbaijan','Miami', 'Saudi Arabia', 'Canada']\n",
    "\n",
    "# Filter the DataFrame to select rows where the \"gp\" column is in the list of street circuits\n",
    "street_circuit_rows = tyre_data_df[tyre_data_df['gp'].isin(street_circuits)]\n",
    "\n",
    "# Create a non-stacked histogram to visualize the distribution of updated tire types\n",
    "fig = px.histogram(street_circuit_rows, x='tyres', color='gp', title='Tire Type Distribution on Street Circuits',\n",
    "                   labels={'tyres': 'Tyre Types', 'gp': 'Street Circuit'},\n",
    "                   barmode='group')  # Set barmode to 'group' for non-stacked bars\n",
    "\n",
    "# Customize the layout\n",
    "fig.update_layout(xaxis_tickangle=-45, xaxis_title=None, yaxis_title='Count')\n",
    "\n",
    "# Show the plot\n",
    "fig.show()\n"
   ]
  },
  {
   "cell_type": "code",
   "execution_count": 159,
   "metadata": {},
   "outputs": [
    {
     "data": {
      "application/vnd.plotly.v1+json": {
       "config": {
        "plotlyServerURL": "https://plot.ly"
       },
       "data": [
        {
         "alignmentgroup": "True",
         "hovertemplate": "Tyre Types=%{x}<br>Percentage (%)=%{y}<br>text=%{text}<extra></extra>",
         "legendgroup": "",
         "marker": {
          "color": "#00A08B",
          "line": {
           "color": "black",
           "width": 1
          },
          "pattern": {
           "shape": ""
          }
         },
         "name": "",
         "offsetgroup": "",
         "orientation": "v",
         "showlegend": false,
         "text": [
          "27%",
          "22%",
          "21%",
          "13%",
          "9%",
          "4%",
          "2%",
          "2%"
         ],
         "textposition": "auto",
         "type": "bar",
         "x": [
          "Soft",
          "Supersoft",
          "Medium",
          "Hard",
          "Ultrasoft",
          "Intermediate",
          "Wet",
          "Hyper Soft"
         ],
         "xaxis": "x",
         "y": [
          27.07774798927614,
          22.319034852546917,
          20.676943699731904,
          13.471849865951743,
          9.014745308310992,
          3.686327077747989,
          1.9772117962466487,
          1.7761394101876677
         ],
         "yaxis": "y"
        }
       ],
       "layout": {
        "barmode": "relative",
        "legend": {
         "tracegroupgap": 0
        },
        "template": {
         "data": {
          "bar": [
           {
            "error_x": {
             "color": "#2a3f5f"
            },
            "error_y": {
             "color": "#2a3f5f"
            },
            "marker": {
             "line": {
              "color": "#E5ECF6",
              "width": 0.5
             },
             "pattern": {
              "fillmode": "overlay",
              "size": 10,
              "solidity": 0.2
             }
            },
            "type": "bar"
           }
          ],
          "barpolar": [
           {
            "marker": {
             "line": {
              "color": "#E5ECF6",
              "width": 0.5
             },
             "pattern": {
              "fillmode": "overlay",
              "size": 10,
              "solidity": 0.2
             }
            },
            "type": "barpolar"
           }
          ],
          "carpet": [
           {
            "aaxis": {
             "endlinecolor": "#2a3f5f",
             "gridcolor": "white",
             "linecolor": "white",
             "minorgridcolor": "white",
             "startlinecolor": "#2a3f5f"
            },
            "baxis": {
             "endlinecolor": "#2a3f5f",
             "gridcolor": "white",
             "linecolor": "white",
             "minorgridcolor": "white",
             "startlinecolor": "#2a3f5f"
            },
            "type": "carpet"
           }
          ],
          "choropleth": [
           {
            "colorbar": {
             "outlinewidth": 0,
             "ticks": ""
            },
            "type": "choropleth"
           }
          ],
          "contour": [
           {
            "colorbar": {
             "outlinewidth": 0,
             "ticks": ""
            },
            "colorscale": [
             [
              0,
              "#0d0887"
             ],
             [
              0.1111111111111111,
              "#46039f"
             ],
             [
              0.2222222222222222,
              "#7201a8"
             ],
             [
              0.3333333333333333,
              "#9c179e"
             ],
             [
              0.4444444444444444,
              "#bd3786"
             ],
             [
              0.5555555555555556,
              "#d8576b"
             ],
             [
              0.6666666666666666,
              "#ed7953"
             ],
             [
              0.7777777777777778,
              "#fb9f3a"
             ],
             [
              0.8888888888888888,
              "#fdca26"
             ],
             [
              1,
              "#f0f921"
             ]
            ],
            "type": "contour"
           }
          ],
          "contourcarpet": [
           {
            "colorbar": {
             "outlinewidth": 0,
             "ticks": ""
            },
            "type": "contourcarpet"
           }
          ],
          "heatmap": [
           {
            "colorbar": {
             "outlinewidth": 0,
             "ticks": ""
            },
            "colorscale": [
             [
              0,
              "#0d0887"
             ],
             [
              0.1111111111111111,
              "#46039f"
             ],
             [
              0.2222222222222222,
              "#7201a8"
             ],
             [
              0.3333333333333333,
              "#9c179e"
             ],
             [
              0.4444444444444444,
              "#bd3786"
             ],
             [
              0.5555555555555556,
              "#d8576b"
             ],
             [
              0.6666666666666666,
              "#ed7953"
             ],
             [
              0.7777777777777778,
              "#fb9f3a"
             ],
             [
              0.8888888888888888,
              "#fdca26"
             ],
             [
              1,
              "#f0f921"
             ]
            ],
            "type": "heatmap"
           }
          ],
          "heatmapgl": [
           {
            "colorbar": {
             "outlinewidth": 0,
             "ticks": ""
            },
            "colorscale": [
             [
              0,
              "#0d0887"
             ],
             [
              0.1111111111111111,
              "#46039f"
             ],
             [
              0.2222222222222222,
              "#7201a8"
             ],
             [
              0.3333333333333333,
              "#9c179e"
             ],
             [
              0.4444444444444444,
              "#bd3786"
             ],
             [
              0.5555555555555556,
              "#d8576b"
             ],
             [
              0.6666666666666666,
              "#ed7953"
             ],
             [
              0.7777777777777778,
              "#fb9f3a"
             ],
             [
              0.8888888888888888,
              "#fdca26"
             ],
             [
              1,
              "#f0f921"
             ]
            ],
            "type": "heatmapgl"
           }
          ],
          "histogram": [
           {
            "marker": {
             "pattern": {
              "fillmode": "overlay",
              "size": 10,
              "solidity": 0.2
             }
            },
            "type": "histogram"
           }
          ],
          "histogram2d": [
           {
            "colorbar": {
             "outlinewidth": 0,
             "ticks": ""
            },
            "colorscale": [
             [
              0,
              "#0d0887"
             ],
             [
              0.1111111111111111,
              "#46039f"
             ],
             [
              0.2222222222222222,
              "#7201a8"
             ],
             [
              0.3333333333333333,
              "#9c179e"
             ],
             [
              0.4444444444444444,
              "#bd3786"
             ],
             [
              0.5555555555555556,
              "#d8576b"
             ],
             [
              0.6666666666666666,
              "#ed7953"
             ],
             [
              0.7777777777777778,
              "#fb9f3a"
             ],
             [
              0.8888888888888888,
              "#fdca26"
             ],
             [
              1,
              "#f0f921"
             ]
            ],
            "type": "histogram2d"
           }
          ],
          "histogram2dcontour": [
           {
            "colorbar": {
             "outlinewidth": 0,
             "ticks": ""
            },
            "colorscale": [
             [
              0,
              "#0d0887"
             ],
             [
              0.1111111111111111,
              "#46039f"
             ],
             [
              0.2222222222222222,
              "#7201a8"
             ],
             [
              0.3333333333333333,
              "#9c179e"
             ],
             [
              0.4444444444444444,
              "#bd3786"
             ],
             [
              0.5555555555555556,
              "#d8576b"
             ],
             [
              0.6666666666666666,
              "#ed7953"
             ],
             [
              0.7777777777777778,
              "#fb9f3a"
             ],
             [
              0.8888888888888888,
              "#fdca26"
             ],
             [
              1,
              "#f0f921"
             ]
            ],
            "type": "histogram2dcontour"
           }
          ],
          "mesh3d": [
           {
            "colorbar": {
             "outlinewidth": 0,
             "ticks": ""
            },
            "type": "mesh3d"
           }
          ],
          "parcoords": [
           {
            "line": {
             "colorbar": {
              "outlinewidth": 0,
              "ticks": ""
             }
            },
            "type": "parcoords"
           }
          ],
          "pie": [
           {
            "automargin": true,
            "type": "pie"
           }
          ],
          "scatter": [
           {
            "fillpattern": {
             "fillmode": "overlay",
             "size": 10,
             "solidity": 0.2
            },
            "type": "scatter"
           }
          ],
          "scatter3d": [
           {
            "line": {
             "colorbar": {
              "outlinewidth": 0,
              "ticks": ""
             }
            },
            "marker": {
             "colorbar": {
              "outlinewidth": 0,
              "ticks": ""
             }
            },
            "type": "scatter3d"
           }
          ],
          "scattercarpet": [
           {
            "marker": {
             "colorbar": {
              "outlinewidth": 0,
              "ticks": ""
             }
            },
            "type": "scattercarpet"
           }
          ],
          "scattergeo": [
           {
            "marker": {
             "colorbar": {
              "outlinewidth": 0,
              "ticks": ""
             }
            },
            "type": "scattergeo"
           }
          ],
          "scattergl": [
           {
            "marker": {
             "colorbar": {
              "outlinewidth": 0,
              "ticks": ""
             }
            },
            "type": "scattergl"
           }
          ],
          "scattermapbox": [
           {
            "marker": {
             "colorbar": {
              "outlinewidth": 0,
              "ticks": ""
             }
            },
            "type": "scattermapbox"
           }
          ],
          "scatterpolar": [
           {
            "marker": {
             "colorbar": {
              "outlinewidth": 0,
              "ticks": ""
             }
            },
            "type": "scatterpolar"
           }
          ],
          "scatterpolargl": [
           {
            "marker": {
             "colorbar": {
              "outlinewidth": 0,
              "ticks": ""
             }
            },
            "type": "scatterpolargl"
           }
          ],
          "scatterternary": [
           {
            "marker": {
             "colorbar": {
              "outlinewidth": 0,
              "ticks": ""
             }
            },
            "type": "scatterternary"
           }
          ],
          "surface": [
           {
            "colorbar": {
             "outlinewidth": 0,
             "ticks": ""
            },
            "colorscale": [
             [
              0,
              "#0d0887"
             ],
             [
              0.1111111111111111,
              "#46039f"
             ],
             [
              0.2222222222222222,
              "#7201a8"
             ],
             [
              0.3333333333333333,
              "#9c179e"
             ],
             [
              0.4444444444444444,
              "#bd3786"
             ],
             [
              0.5555555555555556,
              "#d8576b"
             ],
             [
              0.6666666666666666,
              "#ed7953"
             ],
             [
              0.7777777777777778,
              "#fb9f3a"
             ],
             [
              0.8888888888888888,
              "#fdca26"
             ],
             [
              1,
              "#f0f921"
             ]
            ],
            "type": "surface"
           }
          ],
          "table": [
           {
            "cells": {
             "fill": {
              "color": "#EBF0F8"
             },
             "line": {
              "color": "white"
             }
            },
            "header": {
             "fill": {
              "color": "#C8D4E3"
             },
             "line": {
              "color": "white"
             }
            },
            "type": "table"
           }
          ]
         },
         "layout": {
          "annotationdefaults": {
           "arrowcolor": "#2a3f5f",
           "arrowhead": 0,
           "arrowwidth": 1
          },
          "autotypenumbers": "strict",
          "coloraxis": {
           "colorbar": {
            "outlinewidth": 0,
            "ticks": ""
           }
          },
          "colorscale": {
           "diverging": [
            [
             0,
             "#8e0152"
            ],
            [
             0.1,
             "#c51b7d"
            ],
            [
             0.2,
             "#de77ae"
            ],
            [
             0.3,
             "#f1b6da"
            ],
            [
             0.4,
             "#fde0ef"
            ],
            [
             0.5,
             "#f7f7f7"
            ],
            [
             0.6,
             "#e6f5d0"
            ],
            [
             0.7,
             "#b8e186"
            ],
            [
             0.8,
             "#7fbc41"
            ],
            [
             0.9,
             "#4d9221"
            ],
            [
             1,
             "#276419"
            ]
           ],
           "sequential": [
            [
             0,
             "#0d0887"
            ],
            [
             0.1111111111111111,
             "#46039f"
            ],
            [
             0.2222222222222222,
             "#7201a8"
            ],
            [
             0.3333333333333333,
             "#9c179e"
            ],
            [
             0.4444444444444444,
             "#bd3786"
            ],
            [
             0.5555555555555556,
             "#d8576b"
            ],
            [
             0.6666666666666666,
             "#ed7953"
            ],
            [
             0.7777777777777778,
             "#fb9f3a"
            ],
            [
             0.8888888888888888,
             "#fdca26"
            ],
            [
             1,
             "#f0f921"
            ]
           ],
           "sequentialminus": [
            [
             0,
             "#0d0887"
            ],
            [
             0.1111111111111111,
             "#46039f"
            ],
            [
             0.2222222222222222,
             "#7201a8"
            ],
            [
             0.3333333333333333,
             "#9c179e"
            ],
            [
             0.4444444444444444,
             "#bd3786"
            ],
            [
             0.5555555555555556,
             "#d8576b"
            ],
            [
             0.6666666666666666,
             "#ed7953"
            ],
            [
             0.7777777777777778,
             "#fb9f3a"
            ],
            [
             0.8888888888888888,
             "#fdca26"
            ],
            [
             1,
             "#f0f921"
            ]
           ]
          },
          "colorway": [
           "#636efa",
           "#EF553B",
           "#00cc96",
           "#ab63fa",
           "#FFA15A",
           "#19d3f3",
           "#FF6692",
           "#B6E880",
           "#FF97FF",
           "#FECB52"
          ],
          "font": {
           "color": "#2a3f5f"
          },
          "geo": {
           "bgcolor": "white",
           "lakecolor": "white",
           "landcolor": "#E5ECF6",
           "showlakes": true,
           "showland": true,
           "subunitcolor": "white"
          },
          "hoverlabel": {
           "align": "left"
          },
          "hovermode": "closest",
          "mapbox": {
           "style": "light"
          },
          "paper_bgcolor": "white",
          "plot_bgcolor": "#E5ECF6",
          "polar": {
           "angularaxis": {
            "gridcolor": "white",
            "linecolor": "white",
            "ticks": ""
           },
           "bgcolor": "#E5ECF6",
           "radialaxis": {
            "gridcolor": "white",
            "linecolor": "white",
            "ticks": ""
           }
          },
          "scene": {
           "xaxis": {
            "backgroundcolor": "#E5ECF6",
            "gridcolor": "white",
            "gridwidth": 2,
            "linecolor": "white",
            "showbackground": true,
            "ticks": "",
            "zerolinecolor": "white"
           },
           "yaxis": {
            "backgroundcolor": "#E5ECF6",
            "gridcolor": "white",
            "gridwidth": 2,
            "linecolor": "white",
            "showbackground": true,
            "ticks": "",
            "zerolinecolor": "white"
           },
           "zaxis": {
            "backgroundcolor": "#E5ECF6",
            "gridcolor": "white",
            "gridwidth": 2,
            "linecolor": "white",
            "showbackground": true,
            "ticks": "",
            "zerolinecolor": "white"
           }
          },
          "shapedefaults": {
           "line": {
            "color": "#2a3f5f"
           }
          },
          "ternary": {
           "aaxis": {
            "gridcolor": "white",
            "linecolor": "white",
            "ticks": ""
           },
           "baxis": {
            "gridcolor": "white",
            "linecolor": "white",
            "ticks": ""
           },
           "bgcolor": "#E5ECF6",
           "caxis": {
            "gridcolor": "white",
            "linecolor": "white",
            "ticks": ""
           }
          },
          "title": {
           "x": 0.05
          },
          "xaxis": {
           "automargin": true,
           "gridcolor": "white",
           "linecolor": "white",
           "ticks": "",
           "title": {
            "standoff": 15
           },
           "zerolinecolor": "white",
           "zerolinewidth": 2
          },
          "yaxis": {
           "automargin": true,
           "gridcolor": "white",
           "linecolor": "white",
           "ticks": "",
           "title": {
            "standoff": 15
           },
           "zerolinecolor": "white",
           "zerolinewidth": 2
          }
         }
        },
        "title": {
         "font": {
          "size": 24
         },
         "text": "Tyre Type Distribution on Street Circuits 2012-2023<br><sup>Street Circuits: Monaco, Australia, Singapore, Russia, Azerbaijan, Saudi Arabia, Miami and Canada</sup>"
        },
        "xaxis": {
         "anchor": "y",
         "domain": [
          0,
          1
         ],
         "title": {
          "font": {
           "size": 18
          },
          "text": "Tyre Types"
         }
        },
        "yaxis": {
         "anchor": "x",
         "domain": [
          0,
          1
         ],
         "title": {
          "font": {
           "size": 18
          },
          "text": "Percentage (%)"
         }
        }
       }
      }
     },
     "metadata": {},
     "output_type": "display_data"
    }
   ],
   "source": [
    "import plotly.express as px\n",
    "\n",
    "# List of street circuit names\n",
    "street_circuits = ['Monaco', 'Australia', 'Singapore', 'Russia', 'Azerbaijan','Miami', 'Saudi Arabia','Canada']\n",
    "\n",
    "# Filter the DataFrame to select rows where the \"gp\" column is in the list of street circuits\n",
    "street_circuit_rows = tyre_data_df[tyre_data_df['gp'].isin(street_circuits)]\n",
    "\n",
    "# Calculate the percentage distribution of tire types\n",
    "percentage_distribution = street_circuit_rows['tyres'].value_counts(normalize=True) * 100\n",
    "\n",
    "# Create a DataFrame with the calculated percentages\n",
    "percentage_df = percentage_distribution.reset_index()\n",
    "percentage_df.columns = ['Tyre Types', 'Percentage (%)']\n",
    "\n",
    "# Create a bar chart to visualize the percentage distribution of updated tire types\n",
    "fig = px.bar(percentage_df, x='Tyre Types', y='Percentage (%)',\n",
    "             title='Tyre Type Distribution on Street Circuits 2012-2023<br><sup>Street Circuits: Monaco, Australia, Singapore, Russia, Azerbaijan, Saudi Arabia, Miami and Canada</sup>',\n",
    "             color_discrete_sequence=[\"#00A08B\"],\n",
    "             text=percentage_df['Percentage (%)'].apply(lambda x: f'{x:.0f}%'))\n",
    "\n",
    "# Update marker properties for the bars\n",
    "fig.update_traces(\n",
    "    marker=dict(line=dict(width=1, color='black'))\n",
    ")\n",
    "\n",
    "# Increase title font size\n",
    "fig.update_layout(\n",
    "    title_font=dict(size=24),\n",
    "    xaxis_title_font=dict(size=18),  # Increase x-axis label font size\n",
    "    yaxis_title_font=dict(size=18)   # Increase y-axis label font size\n",
    ")\n",
    "\n",
    "# Show the plot\n",
    "fig.show()\n"
   ]
  },
  {
   "cell_type": "code",
   "execution_count": 161,
   "metadata": {},
   "outputs": [
    {
     "data": {
      "application/vnd.plotly.v1+json": {
       "config": {
        "plotlyServerURL": "https://plot.ly"
       },
       "data": [
        {
         "alignmentgroup": "True",
         "hovertemplate": "Tyre Types=%{x}<br>Percentage (%)=%{y}<br>text=%{text}<extra></extra>",
         "legendgroup": "",
         "marker": {
          "color": "#00A08B",
          "line": {
           "color": "black",
           "width": 1
          },
          "pattern": {
           "shape": ""
          }
         },
         "name": "",
         "offsetgroup": "",
         "orientation": "v",
         "showlegend": false,
         "text": [
          "33%",
          "30%",
          "18%",
          "8%",
          "6%",
          "2%",
          "2%",
          "0%",
          "0%"
         ],
         "textposition": "auto",
         "type": "bar",
         "x": [
          "Medium",
          "Soft",
          "Hard",
          "Supersoft",
          "Intermediate",
          "Ultrasoft",
          "Wet",
          "Full Wet",
          "Hyper Soft"
         ],
         "xaxis": "x",
         "y": [
          33.20410932351231,
          30.189959294436907,
          17.6293855398333,
          8.247722426826904,
          5.8150804419461135,
          2.3938747819344837,
          1.9092847451056407,
          0.49428183756541966,
          0.11630160883892228
         ],
         "yaxis": "y"
        }
       ],
       "layout": {
        "barmode": "relative",
        "legend": {
         "tracegroupgap": 0
        },
        "template": {
         "data": {
          "bar": [
           {
            "error_x": {
             "color": "#2a3f5f"
            },
            "error_y": {
             "color": "#2a3f5f"
            },
            "marker": {
             "line": {
              "color": "#E5ECF6",
              "width": 0.5
             },
             "pattern": {
              "fillmode": "overlay",
              "size": 10,
              "solidity": 0.2
             }
            },
            "type": "bar"
           }
          ],
          "barpolar": [
           {
            "marker": {
             "line": {
              "color": "#E5ECF6",
              "width": 0.5
             },
             "pattern": {
              "fillmode": "overlay",
              "size": 10,
              "solidity": 0.2
             }
            },
            "type": "barpolar"
           }
          ],
          "carpet": [
           {
            "aaxis": {
             "endlinecolor": "#2a3f5f",
             "gridcolor": "white",
             "linecolor": "white",
             "minorgridcolor": "white",
             "startlinecolor": "#2a3f5f"
            },
            "baxis": {
             "endlinecolor": "#2a3f5f",
             "gridcolor": "white",
             "linecolor": "white",
             "minorgridcolor": "white",
             "startlinecolor": "#2a3f5f"
            },
            "type": "carpet"
           }
          ],
          "choropleth": [
           {
            "colorbar": {
             "outlinewidth": 0,
             "ticks": ""
            },
            "type": "choropleth"
           }
          ],
          "contour": [
           {
            "colorbar": {
             "outlinewidth": 0,
             "ticks": ""
            },
            "colorscale": [
             [
              0,
              "#0d0887"
             ],
             [
              0.1111111111111111,
              "#46039f"
             ],
             [
              0.2222222222222222,
              "#7201a8"
             ],
             [
              0.3333333333333333,
              "#9c179e"
             ],
             [
              0.4444444444444444,
              "#bd3786"
             ],
             [
              0.5555555555555556,
              "#d8576b"
             ],
             [
              0.6666666666666666,
              "#ed7953"
             ],
             [
              0.7777777777777778,
              "#fb9f3a"
             ],
             [
              0.8888888888888888,
              "#fdca26"
             ],
             [
              1,
              "#f0f921"
             ]
            ],
            "type": "contour"
           }
          ],
          "contourcarpet": [
           {
            "colorbar": {
             "outlinewidth": 0,
             "ticks": ""
            },
            "type": "contourcarpet"
           }
          ],
          "heatmap": [
           {
            "colorbar": {
             "outlinewidth": 0,
             "ticks": ""
            },
            "colorscale": [
             [
              0,
              "#0d0887"
             ],
             [
              0.1111111111111111,
              "#46039f"
             ],
             [
              0.2222222222222222,
              "#7201a8"
             ],
             [
              0.3333333333333333,
              "#9c179e"
             ],
             [
              0.4444444444444444,
              "#bd3786"
             ],
             [
              0.5555555555555556,
              "#d8576b"
             ],
             [
              0.6666666666666666,
              "#ed7953"
             ],
             [
              0.7777777777777778,
              "#fb9f3a"
             ],
             [
              0.8888888888888888,
              "#fdca26"
             ],
             [
              1,
              "#f0f921"
             ]
            ],
            "type": "heatmap"
           }
          ],
          "heatmapgl": [
           {
            "colorbar": {
             "outlinewidth": 0,
             "ticks": ""
            },
            "colorscale": [
             [
              0,
              "#0d0887"
             ],
             [
              0.1111111111111111,
              "#46039f"
             ],
             [
              0.2222222222222222,
              "#7201a8"
             ],
             [
              0.3333333333333333,
              "#9c179e"
             ],
             [
              0.4444444444444444,
              "#bd3786"
             ],
             [
              0.5555555555555556,
              "#d8576b"
             ],
             [
              0.6666666666666666,
              "#ed7953"
             ],
             [
              0.7777777777777778,
              "#fb9f3a"
             ],
             [
              0.8888888888888888,
              "#fdca26"
             ],
             [
              1,
              "#f0f921"
             ]
            ],
            "type": "heatmapgl"
           }
          ],
          "histogram": [
           {
            "marker": {
             "pattern": {
              "fillmode": "overlay",
              "size": 10,
              "solidity": 0.2
             }
            },
            "type": "histogram"
           }
          ],
          "histogram2d": [
           {
            "colorbar": {
             "outlinewidth": 0,
             "ticks": ""
            },
            "colorscale": [
             [
              0,
              "#0d0887"
             ],
             [
              0.1111111111111111,
              "#46039f"
             ],
             [
              0.2222222222222222,
              "#7201a8"
             ],
             [
              0.3333333333333333,
              "#9c179e"
             ],
             [
              0.4444444444444444,
              "#bd3786"
             ],
             [
              0.5555555555555556,
              "#d8576b"
             ],
             [
              0.6666666666666666,
              "#ed7953"
             ],
             [
              0.7777777777777778,
              "#fb9f3a"
             ],
             [
              0.8888888888888888,
              "#fdca26"
             ],
             [
              1,
              "#f0f921"
             ]
            ],
            "type": "histogram2d"
           }
          ],
          "histogram2dcontour": [
           {
            "colorbar": {
             "outlinewidth": 0,
             "ticks": ""
            },
            "colorscale": [
             [
              0,
              "#0d0887"
             ],
             [
              0.1111111111111111,
              "#46039f"
             ],
             [
              0.2222222222222222,
              "#7201a8"
             ],
             [
              0.3333333333333333,
              "#9c179e"
             ],
             [
              0.4444444444444444,
              "#bd3786"
             ],
             [
              0.5555555555555556,
              "#d8576b"
             ],
             [
              0.6666666666666666,
              "#ed7953"
             ],
             [
              0.7777777777777778,
              "#fb9f3a"
             ],
             [
              0.8888888888888888,
              "#fdca26"
             ],
             [
              1,
              "#f0f921"
             ]
            ],
            "type": "histogram2dcontour"
           }
          ],
          "mesh3d": [
           {
            "colorbar": {
             "outlinewidth": 0,
             "ticks": ""
            },
            "type": "mesh3d"
           }
          ],
          "parcoords": [
           {
            "line": {
             "colorbar": {
              "outlinewidth": 0,
              "ticks": ""
             }
            },
            "type": "parcoords"
           }
          ],
          "pie": [
           {
            "automargin": true,
            "type": "pie"
           }
          ],
          "scatter": [
           {
            "fillpattern": {
             "fillmode": "overlay",
             "size": 10,
             "solidity": 0.2
            },
            "type": "scatter"
           }
          ],
          "scatter3d": [
           {
            "line": {
             "colorbar": {
              "outlinewidth": 0,
              "ticks": ""
             }
            },
            "marker": {
             "colorbar": {
              "outlinewidth": 0,
              "ticks": ""
             }
            },
            "type": "scatter3d"
           }
          ],
          "scattercarpet": [
           {
            "marker": {
             "colorbar": {
              "outlinewidth": 0,
              "ticks": ""
             }
            },
            "type": "scattercarpet"
           }
          ],
          "scattergeo": [
           {
            "marker": {
             "colorbar": {
              "outlinewidth": 0,
              "ticks": ""
             }
            },
            "type": "scattergeo"
           }
          ],
          "scattergl": [
           {
            "marker": {
             "colorbar": {
              "outlinewidth": 0,
              "ticks": ""
             }
            },
            "type": "scattergl"
           }
          ],
          "scattermapbox": [
           {
            "marker": {
             "colorbar": {
              "outlinewidth": 0,
              "ticks": ""
             }
            },
            "type": "scattermapbox"
           }
          ],
          "scatterpolar": [
           {
            "marker": {
             "colorbar": {
              "outlinewidth": 0,
              "ticks": ""
             }
            },
            "type": "scatterpolar"
           }
          ],
          "scatterpolargl": [
           {
            "marker": {
             "colorbar": {
              "outlinewidth": 0,
              "ticks": ""
             }
            },
            "type": "scatterpolargl"
           }
          ],
          "scatterternary": [
           {
            "marker": {
             "colorbar": {
              "outlinewidth": 0,
              "ticks": ""
             }
            },
            "type": "scatterternary"
           }
          ],
          "surface": [
           {
            "colorbar": {
             "outlinewidth": 0,
             "ticks": ""
            },
            "colorscale": [
             [
              0,
              "#0d0887"
             ],
             [
              0.1111111111111111,
              "#46039f"
             ],
             [
              0.2222222222222222,
              "#7201a8"
             ],
             [
              0.3333333333333333,
              "#9c179e"
             ],
             [
              0.4444444444444444,
              "#bd3786"
             ],
             [
              0.5555555555555556,
              "#d8576b"
             ],
             [
              0.6666666666666666,
              "#ed7953"
             ],
             [
              0.7777777777777778,
              "#fb9f3a"
             ],
             [
              0.8888888888888888,
              "#fdca26"
             ],
             [
              1,
              "#f0f921"
             ]
            ],
            "type": "surface"
           }
          ],
          "table": [
           {
            "cells": {
             "fill": {
              "color": "#EBF0F8"
             },
             "line": {
              "color": "white"
             }
            },
            "header": {
             "fill": {
              "color": "#C8D4E3"
             },
             "line": {
              "color": "white"
             }
            },
            "type": "table"
           }
          ]
         },
         "layout": {
          "annotationdefaults": {
           "arrowcolor": "#2a3f5f",
           "arrowhead": 0,
           "arrowwidth": 1
          },
          "autotypenumbers": "strict",
          "coloraxis": {
           "colorbar": {
            "outlinewidth": 0,
            "ticks": ""
           }
          },
          "colorscale": {
           "diverging": [
            [
             0,
             "#8e0152"
            ],
            [
             0.1,
             "#c51b7d"
            ],
            [
             0.2,
             "#de77ae"
            ],
            [
             0.3,
             "#f1b6da"
            ],
            [
             0.4,
             "#fde0ef"
            ],
            [
             0.5,
             "#f7f7f7"
            ],
            [
             0.6,
             "#e6f5d0"
            ],
            [
             0.7,
             "#b8e186"
            ],
            [
             0.8,
             "#7fbc41"
            ],
            [
             0.9,
             "#4d9221"
            ],
            [
             1,
             "#276419"
            ]
           ],
           "sequential": [
            [
             0,
             "#0d0887"
            ],
            [
             0.1111111111111111,
             "#46039f"
            ],
            [
             0.2222222222222222,
             "#7201a8"
            ],
            [
             0.3333333333333333,
             "#9c179e"
            ],
            [
             0.4444444444444444,
             "#bd3786"
            ],
            [
             0.5555555555555556,
             "#d8576b"
            ],
            [
             0.6666666666666666,
             "#ed7953"
            ],
            [
             0.7777777777777778,
             "#fb9f3a"
            ],
            [
             0.8888888888888888,
             "#fdca26"
            ],
            [
             1,
             "#f0f921"
            ]
           ],
           "sequentialminus": [
            [
             0,
             "#0d0887"
            ],
            [
             0.1111111111111111,
             "#46039f"
            ],
            [
             0.2222222222222222,
             "#7201a8"
            ],
            [
             0.3333333333333333,
             "#9c179e"
            ],
            [
             0.4444444444444444,
             "#bd3786"
            ],
            [
             0.5555555555555556,
             "#d8576b"
            ],
            [
             0.6666666666666666,
             "#ed7953"
            ],
            [
             0.7777777777777778,
             "#fb9f3a"
            ],
            [
             0.8888888888888888,
             "#fdca26"
            ],
            [
             1,
             "#f0f921"
            ]
           ]
          },
          "colorway": [
           "#636efa",
           "#EF553B",
           "#00cc96",
           "#ab63fa",
           "#FFA15A",
           "#19d3f3",
           "#FF6692",
           "#B6E880",
           "#FF97FF",
           "#FECB52"
          ],
          "font": {
           "color": "#2a3f5f"
          },
          "geo": {
           "bgcolor": "white",
           "lakecolor": "white",
           "landcolor": "#E5ECF6",
           "showlakes": true,
           "showland": true,
           "subunitcolor": "white"
          },
          "hoverlabel": {
           "align": "left"
          },
          "hovermode": "closest",
          "mapbox": {
           "style": "light"
          },
          "paper_bgcolor": "white",
          "plot_bgcolor": "#E5ECF6",
          "polar": {
           "angularaxis": {
            "gridcolor": "white",
            "linecolor": "white",
            "ticks": ""
           },
           "bgcolor": "#E5ECF6",
           "radialaxis": {
            "gridcolor": "white",
            "linecolor": "white",
            "ticks": ""
           }
          },
          "scene": {
           "xaxis": {
            "backgroundcolor": "#E5ECF6",
            "gridcolor": "white",
            "gridwidth": 2,
            "linecolor": "white",
            "showbackground": true,
            "ticks": "",
            "zerolinecolor": "white"
           },
           "yaxis": {
            "backgroundcolor": "#E5ECF6",
            "gridcolor": "white",
            "gridwidth": 2,
            "linecolor": "white",
            "showbackground": true,
            "ticks": "",
            "zerolinecolor": "white"
           },
           "zaxis": {
            "backgroundcolor": "#E5ECF6",
            "gridcolor": "white",
            "gridwidth": 2,
            "linecolor": "white",
            "showbackground": true,
            "ticks": "",
            "zerolinecolor": "white"
           }
          },
          "shapedefaults": {
           "line": {
            "color": "#2a3f5f"
           }
          },
          "ternary": {
           "aaxis": {
            "gridcolor": "white",
            "linecolor": "white",
            "ticks": ""
           },
           "baxis": {
            "gridcolor": "white",
            "linecolor": "white",
            "ticks": ""
           },
           "bgcolor": "#E5ECF6",
           "caxis": {
            "gridcolor": "white",
            "linecolor": "white",
            "ticks": ""
           }
          },
          "title": {
           "x": 0.05
          },
          "xaxis": {
           "automargin": true,
           "gridcolor": "white",
           "linecolor": "white",
           "ticks": "",
           "title": {
            "standoff": 15
           },
           "zerolinecolor": "white",
           "zerolinewidth": 2
          },
          "yaxis": {
           "automargin": true,
           "gridcolor": "white",
           "linecolor": "white",
           "ticks": "",
           "title": {
            "standoff": 15
           },
           "zerolinecolor": "white",
           "zerolinewidth": 2
          }
         }
        },
        "title": {
         "font": {
          "size": 24
         },
         "text": "Tyre Type Distribution on Race Circuits 2012-2023"
        },
        "xaxis": {
         "anchor": "y",
         "domain": [
          0,
          1
         ],
         "title": {
          "font": {
           "size": 18
          },
          "text": "Tyre Types"
         }
        },
        "yaxis": {
         "anchor": "x",
         "domain": [
          0,
          1
         ],
         "title": {
          "font": {
           "size": 18
          },
          "text": "Percentage (%)"
         }
        }
       }
      }
     },
     "metadata": {},
     "output_type": "display_data"
    }
   ],
   "source": [
    "race_circuits = ['Malaysia', 'China', 'Bahrain', 'Spain',\n",
    "       'Europa', 'Great Britain', 'Germany', 'Hungary',\n",
    "       'Belgium', 'Italy','Japan', 'Korea', 'India',\n",
    "       'Abu Dhabi', 'United States', 'Brazil', 'Austria',\n",
    "       'Mexico', 'Europe','France', 'Styria',\n",
    "       '70TH Anniversary', 'Tuscany', 'Russian', 'Portugal', 'Imola',\n",
    "       'Turkey', 'Sakhir', 'Netherlands', 'Qatar',\n",
    "       'Italia', 'Francia']\n",
    "\n",
    "# Filter the DataFrame to select rows where the \"gp\" column is in the list of street circuits\n",
    "race_circuit_rows = tyre_data_df[tyre_data_df['gp'].isin(race_circuits)]\n",
    "\n",
    "# Calculate the percentage distribution of tire types\n",
    "percentage_distribution = race_circuit_rows['tyres'].value_counts(normalize=True) * 100\n",
    "\n",
    "# Create a DataFrame with the calculated percentages\n",
    "percentage_df = percentage_distribution.reset_index()\n",
    "percentage_df.columns = ['Tyre Types', 'Percentage (%)']\n",
    "\n",
    "# Create a bar chart to visualize the percentage distribution of updated tire types\n",
    "fig = px.bar(percentage_df, x='Tyre Types', y='Percentage (%)',\n",
    "             title='Tyre Type Distribution on Race Circuits 2012-2023',\n",
    "             color_discrete_sequence=[\"#00A08B\"],\n",
    "             text=percentage_df['Percentage (%)'].apply(lambda x: f'{x:.0f}%'))\n",
    "\n",
    "# Update marker properties for the bars\n",
    "fig.update_traces(\n",
    "    marker=dict(line=dict(width=1, color='black'))\n",
    ")\n",
    "\n",
    "# Increase title font size\n",
    "fig.update_layout(\n",
    "    title_font=dict(size=24),\n",
    "    xaxis_title_font=dict(size=18),  # Increase x-axis label font size\n",
    "    yaxis_title_font=dict(size=18)   # Increase y-axis label font size\n",
    ")\n",
    "\n",
    "# Show the plot\n",
    "fig.show()"
   ]
  },
  {
   "cell_type": "code",
   "execution_count": 163,
   "metadata": {},
   "outputs": [],
   "source": [
    "# Export the cleaned DataFrame to a CSV file\n",
    "tyre_data_df.to_csv('tyre_data_df_cleaned.csv', index=False)\n",
    "\n",
    "# The 'index=False' argument ensures that the index column is not included in the CSV file"
   ]
  },
  {
   "cell_type": "code",
   "execution_count": 164,
   "metadata": {},
   "outputs": [
    {
     "data": {
      "text/html": [
       "<div>\n",
       "<style scoped>\n",
       "    .dataframe tbody tr th:only-of-type {\n",
       "        vertical-align: middle;\n",
       "    }\n",
       "\n",
       "    .dataframe tbody tr th {\n",
       "        vertical-align: top;\n",
       "    }\n",
       "\n",
       "    .dataframe thead th {\n",
       "        text-align: right;\n",
       "    }\n",
       "</style>\n",
       "<table border=\"1\" class=\"dataframe\">\n",
       "  <thead>\n",
       "    <tr style=\"text-align: right;\">\n",
       "      <th></th>\n",
       "      <th>driver</th>\n",
       "      <th>gp</th>\n",
       "      <th>tyres</th>\n",
       "      <th>from</th>\n",
       "      <th>to</th>\n",
       "      <th>#laps</th>\n",
       "      <th>year</th>\n",
       "    </tr>\n",
       "  </thead>\n",
       "  <tbody>\n",
       "    <tr>\n",
       "      <th>0</th>\n",
       "      <td>Jenson Button</td>\n",
       "      <td>Australia</td>\n",
       "      <td>Soft</td>\n",
       "      <td>1</td>\n",
       "      <td>16</td>\n",
       "      <td>16</td>\n",
       "      <td>2012</td>\n",
       "    </tr>\n",
       "    <tr>\n",
       "      <th>1</th>\n",
       "      <td>Jenson Button</td>\n",
       "      <td>Australia</td>\n",
       "      <td>Medium</td>\n",
       "      <td>17</td>\n",
       "      <td>36</td>\n",
       "      <td>20</td>\n",
       "      <td>2012</td>\n",
       "    </tr>\n",
       "    <tr>\n",
       "      <th>2</th>\n",
       "      <td>Jenson Button</td>\n",
       "      <td>Australia</td>\n",
       "      <td>Medium</td>\n",
       "      <td>37</td>\n",
       "      <td>58</td>\n",
       "      <td>22</td>\n",
       "      <td>2012</td>\n",
       "    </tr>\n",
       "    <tr>\n",
       "      <th>3</th>\n",
       "      <td>Sebastian Vettel</td>\n",
       "      <td>Australia</td>\n",
       "      <td>Soft</td>\n",
       "      <td>1</td>\n",
       "      <td>16</td>\n",
       "      <td>16</td>\n",
       "      <td>2012</td>\n",
       "    </tr>\n",
       "    <tr>\n",
       "      <th>4</th>\n",
       "      <td>Sebastian Vettel</td>\n",
       "      <td>Australia</td>\n",
       "      <td>Soft</td>\n",
       "      <td>17</td>\n",
       "      <td>37</td>\n",
       "      <td>21</td>\n",
       "      <td>2012</td>\n",
       "    </tr>\n",
       "  </tbody>\n",
       "</table>\n",
       "</div>"
      ],
      "text/plain": [
       "             driver         gp   tyres  from  to  #laps  year\n",
       "0     Jenson Button  Australia    Soft     1  16     16  2012\n",
       "1     Jenson Button  Australia  Medium    17  36     20  2012\n",
       "2     Jenson Button  Australia  Medium    37  58     22  2012\n",
       "3  Sebastian Vettel  Australia    Soft     1  16     16  2012\n",
       "4  Sebastian Vettel  Australia    Soft    17  37     21  2012"
      ]
     },
     "execution_count": 164,
     "metadata": {},
     "output_type": "execute_result"
    }
   ],
   "source": [
    "tyre_data_df.head()"
   ]
  },
  {
   "cell_type": "code",
   "execution_count": 165,
   "metadata": {},
   "outputs": [
    {
     "name": "stdout",
     "output_type": "stream",
     "text": [
      "                gp         tyres  from  to  #laps  year   forename     surname\n",
      "0        Australia          Soft     1  16     16  2012     Jenson      Button\n",
      "1        Australia        Medium    17  36     20  2012     Jenson      Button\n",
      "2        Australia        Medium    37  58     22  2012     Jenson      Button\n",
      "3        Australia          Soft     1  16     16  2012  Sebastian      Vettel\n",
      "4        Australia          Soft    17  37     21  2012  Sebastian      Vettel\n",
      "...            ...           ...   ...  ..    ...   ...        ...         ...\n",
      "13297  Netherlands          Soft    38  60     23  2023       Zhou      Guanyu\n",
      "13298  Netherlands          Soft     1  14     14  2023      Logan    Sargeant\n",
      "13299  Netherlands  Intermediate    65  72      8  2023        Max  Verstappen\n",
      "13300  Netherlands          Soft    47  60     14  2023     Pierre       Gasly\n",
      "13301  Netherlands        Medium    17  48     32  2023       Nico  Hulkenberg\n",
      "\n",
      "[13302 rows x 8 columns]\n"
     ]
    }
   ],
   "source": [
    "# Split the \"Driver\" column into \"Forename\" and \"Surname\"\n",
    "tyre_data_df[['forename', 'surname']] = tyre_data_df['driver'].str.split(' ', n=1, expand=True)\n",
    "\n",
    "# Drop the original \"Driver\" column\n",
    "tyre_data_df.drop('driver', axis=1, inplace=True)\n",
    "\n",
    "# Print the updated DataFrame\n",
    "print(tyre_data_df)\n"
   ]
  },
  {
   "cell_type": "code",
   "execution_count": 166,
   "metadata": {},
   "outputs": [
    {
     "data": {
      "text/html": [
       "<div>\n",
       "<style scoped>\n",
       "    .dataframe tbody tr th:only-of-type {\n",
       "        vertical-align: middle;\n",
       "    }\n",
       "\n",
       "    .dataframe tbody tr th {\n",
       "        vertical-align: top;\n",
       "    }\n",
       "\n",
       "    .dataframe thead th {\n",
       "        text-align: right;\n",
       "    }\n",
       "</style>\n",
       "<table border=\"1\" class=\"dataframe\">\n",
       "  <thead>\n",
       "    <tr style=\"text-align: right;\">\n",
       "      <th></th>\n",
       "      <th>gp</th>\n",
       "      <th>tyres</th>\n",
       "      <th>from</th>\n",
       "      <th>to</th>\n",
       "      <th>#laps</th>\n",
       "      <th>year</th>\n",
       "      <th>forename</th>\n",
       "      <th>surname</th>\n",
       "    </tr>\n",
       "  </thead>\n",
       "  <tbody>\n",
       "    <tr>\n",
       "      <th>0</th>\n",
       "      <td>Australia</td>\n",
       "      <td>Soft</td>\n",
       "      <td>1</td>\n",
       "      <td>16</td>\n",
       "      <td>16</td>\n",
       "      <td>2012</td>\n",
       "      <td>Jenson</td>\n",
       "      <td>Button</td>\n",
       "    </tr>\n",
       "    <tr>\n",
       "      <th>1</th>\n",
       "      <td>Australia</td>\n",
       "      <td>Medium</td>\n",
       "      <td>17</td>\n",
       "      <td>36</td>\n",
       "      <td>20</td>\n",
       "      <td>2012</td>\n",
       "      <td>Jenson</td>\n",
       "      <td>Button</td>\n",
       "    </tr>\n",
       "    <tr>\n",
       "      <th>2</th>\n",
       "      <td>Australia</td>\n",
       "      <td>Medium</td>\n",
       "      <td>37</td>\n",
       "      <td>58</td>\n",
       "      <td>22</td>\n",
       "      <td>2012</td>\n",
       "      <td>Jenson</td>\n",
       "      <td>Button</td>\n",
       "    </tr>\n",
       "    <tr>\n",
       "      <th>3</th>\n",
       "      <td>Australia</td>\n",
       "      <td>Soft</td>\n",
       "      <td>1</td>\n",
       "      <td>16</td>\n",
       "      <td>16</td>\n",
       "      <td>2012</td>\n",
       "      <td>Sebastian</td>\n",
       "      <td>Vettel</td>\n",
       "    </tr>\n",
       "    <tr>\n",
       "      <th>4</th>\n",
       "      <td>Australia</td>\n",
       "      <td>Soft</td>\n",
       "      <td>17</td>\n",
       "      <td>37</td>\n",
       "      <td>21</td>\n",
       "      <td>2012</td>\n",
       "      <td>Sebastian</td>\n",
       "      <td>Vettel</td>\n",
       "    </tr>\n",
       "  </tbody>\n",
       "</table>\n",
       "</div>"
      ],
      "text/plain": [
       "          gp   tyres  from  to  #laps  year   forename surname\n",
       "0  Australia    Soft     1  16     16  2012     Jenson  Button\n",
       "1  Australia  Medium    17  36     20  2012     Jenson  Button\n",
       "2  Australia  Medium    37  58     22  2012     Jenson  Button\n",
       "3  Australia    Soft     1  16     16  2012  Sebastian  Vettel\n",
       "4  Australia    Soft    17  37     21  2012  Sebastian  Vettel"
      ]
     },
     "execution_count": 166,
     "metadata": {},
     "output_type": "execute_result"
    }
   ],
   "source": [
    "tyre_data_df.head()"
   ]
  },
  {
   "cell_type": "code",
   "execution_count": 167,
   "metadata": {},
   "outputs": [],
   "source": [
    "# Export the cleaned DataFrame to a CSV file\n",
    "tyre_data_df.to_csv('tyre_data_df_cleaned.csv', index=False)\n",
    "\n",
    "# The 'index=False' argument ensures that the index column is not included in the CSV file"
   ]
  }
 ],
 "metadata": {
  "kernelspec": {
   "display_name": ".venv",
   "language": "python",
   "name": "python3"
  },
  "language_info": {
   "codemirror_mode": {
    "name": "ipython",
    "version": 3
   },
   "file_extension": ".py",
   "mimetype": "text/x-python",
   "name": "python",
   "nbconvert_exporter": "python",
   "pygments_lexer": "ipython3",
   "version": "3.11.3"
  },
  "orig_nbformat": 4
 },
 "nbformat": 4,
 "nbformat_minor": 2
}
