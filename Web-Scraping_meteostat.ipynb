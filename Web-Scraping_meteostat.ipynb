{
 "cells": [
  {
   "cell_type": "markdown",
   "metadata": {},
   "source": [
    "# Web Scraping"
   ]
  },
  {
   "cell_type": "code",
   "execution_count": 1,
   "metadata": {},
   "outputs": [],
   "source": [
    "import pandas as pd\n",
    "import requests\n",
    "from bs4 import BeautifulSoup\n",
    "# Import Meteostat library and dependencies\n",
    "from datetime import datetime\n",
    "from meteostat import Hourly"
   ]
  },
  {
   "cell_type": "code",
   "execution_count": null,
   "metadata": {},
   "outputs": [],
   "source": [
    "circuits = [\"94866\",\"48647\",\"58362\",\"08181\",\"07690\",\"71612\",\"08284\",\"EGTC0\",\"10734\",\"12840\",\"06490\",\"16080\",\"48698\",\"47684\",\"47156\",\"42182\",\"72254\",\"10510\",\"11240\",\"41170\",\"06209\",\"07678\",\"16170\",\"40415\",\"76679\",\"83781\",\"41024\",\"41217\",\"37864\",\"8554\",\"16140\"]\n",
    "\n",
    "for c in circuits:\n",
    "  \n",
    "    # Set time period\n",
    "    start = datetime(2012, 3, 1)\n",
    "    end = datetime(2022, 11, 30, 23, 59)\n",
    "\n",
    "\n",
    "# Get hourly data\n",
    "    data = Hourly({circuits}, start, end)\n",
    "    data = data.fetch()\n",
    "\n",
    "# Print DataFrame\n",
    "    print(data)"
   ]
  },
  {
   "cell_type": "code",
   "execution_count": null,
   "metadata": {},
   "outputs": [],
   "source": []
  },
  {
   "cell_type": "code",
   "execution_count": 3,
   "metadata": {},
   "outputs": [
    {
     "ename": "TypeError",
     "evalue": "unhashable type: 'list'",
     "output_type": "error",
     "traceback": [
      "\u001b[0;31m---------------------------------------------------------------------------\u001b[0m",
      "\u001b[0;31mTypeError\u001b[0m                                 Traceback (most recent call last)",
      "Cell \u001b[0;32mIn[3], line 10\u001b[0m\n\u001b[1;32m      6\u001b[0m end \u001b[39m=\u001b[39m datetime(\u001b[39m2022\u001b[39m, \u001b[39m11\u001b[39m, \u001b[39m30\u001b[39m, \u001b[39m23\u001b[39m, \u001b[39m59\u001b[39m)\n\u001b[1;32m      8\u001b[0m \u001b[39mfor\u001b[39;00m circuit \u001b[39min\u001b[39;00m circuits:\n\u001b[1;32m      9\u001b[0m     \u001b[39m# Get hourly data for the current circuit\u001b[39;00m\n\u001b[0;32m---> 10\u001b[0m     data \u001b[39m=\u001b[39m Hourly({circuits}, start, end)\n\u001b[1;32m     11\u001b[0m     data \u001b[39m=\u001b[39m data\u001b[39m.\u001b[39mfetch()\n\u001b[1;32m     13\u001b[0m     \u001b[39m# Print DataFrame for the current circuit\u001b[39;00m\n",
      "\u001b[0;31mTypeError\u001b[0m: unhashable type: 'list'"
     ]
    }
   ],
   "source": [
    "\n",
    "\n",
    "# List of circuit IDs\n",
    "circuits = [\"94866\", \"48647\", \"58362\", \"08181\", \"07690\", \"71612\", \"08284\", \"03560\", \"10734\", \"12840\", \"06490\", \"16080\", \"48698\", \"47684\", \"47156\", \"42182\", \"72254\", \"10510\", \"11240\", \"41170\", \"06209\", \"07678\", \"16170\", \"40415\", \"76679\", \"83781\", \"41024\", \"41217\", \"37864\", \"8554\", \"16140\"]\n",
    "\n",
    "# Set time period\n",
    "start = datetime(2012, 3, 1)\n",
    "end = datetime(2022, 11, 30, 23, 59)\n",
    "\n",
    "for circuit in circuits:\n",
    "    # Get hourly data for the current circuit\n",
    "    data = Hourly({circuits}, start, end)\n",
    "    data = data.fetch()\n",
    "\n",
    "    # Print DataFrame for the current circuit\n",
    "    print(f\"Weather data for circuit {circuit}:\")\n",
    "    print(data)\n",
    "    print(\"=\" * 50)  # Just for separation between circuit data\n"
   ]
  }
 ],
 "metadata": {
  "kernelspec": {
   "display_name": ".venv",
   "language": "python",
   "name": "python3"
  },
  "language_info": {
   "codemirror_mode": {
    "name": "ipython",
    "version": 3
   },
   "file_extension": ".py",
   "mimetype": "text/x-python",
   "name": "python",
   "nbconvert_exporter": "python",
   "pygments_lexer": "ipython3",
   "version": "3.9.8"
  },
  "orig_nbformat": 4
 },
 "nbformat": 4,
 "nbformat_minor": 2
}
