{
 "cells": [
  {
   "cell_type": "markdown",
   "metadata": {},
   "source": [
    "# Web Scraping"
   ]
  },
  {
   "cell_type": "code",
   "execution_count": 1,
   "metadata": {},
   "outputs": [],
   "source": [
    "import pandas as pd\n",
    "import requests\n",
    "from bs4 import BeautifulSoup\n",
    "from datetime import datetime\n",
    "from meteostat import Hourly"
   ]
  },
  {
   "cell_type": "code",
   "execution_count": 2,
   "metadata": {},
   "outputs": [
    {
     "name": "stdout",
     "output_type": "stream",
     "text": [
      "DataFrame for year 2012:\n",
      "                Driver         GP        Tyres From  To #Laps\n",
      "0        Jenson Button  Australia    Soft Used    1  16    16\n",
      "1        Jenson Button  Australia   Medium New   17  36    20\n",
      "2        Jenson Button  Australia   Medium New   37  58    22\n",
      "3     Sebastian Vettel  Australia    Soft Used    1  16    16\n",
      "4     Sebastian Vettel  Australia    Soft Used   17  37    21\n",
      "...                ...        ...          ...  ...  ..   ...\n",
      "1392    Lewis Hamilton     Brazil     Hard New   19  54    36\n",
      "1393   Romain Grosjean     Brazil     Hard New    1   5     5\n",
      "1394  Pastor Maldonado     Brazil  Medium Used    1   2     2\n",
      "1395       Bruno Senna     Brazil   Medium New    1   1     1\n",
      "1396      Sergio Perez     Brazil   Medium New    1   1     1\n",
      "\n",
      "[1397 rows x 6 columns]\n"
     ]
    }
   ],
   "source": [
    "\n",
    "# List of URLs for different years\n",
    "years = [\n",
    "    \"2012\", \"2013\", \"2014\", \"2015\", \"2016\", \"2017\",\n",
    "    \"2018\", \"2019\", \"2020\", \"2021\", \"2022\", \"2023\"\n",
    "]\n",
    "\n",
    "# Dictionary to store DataFrames for each year\n",
    "dataframes_by_year = {}\n",
    "\n",
    "# Iterate through each year's URL\n",
    "for year in years:\n",
    "    url = f\"https://www.f1cfa.com/f1-tyres-statistics.asp?t={year}&gpn=All&tipo=All&driver=All\"\n",
    "    \n",
    "    # Send an HTTP GET request and get the content\n",
    "    response = requests.get(url)\n",
    "    html = response.content\n",
    "\n",
    "    # Create a BeautifulSoup object to parse the HTML\n",
    "    soup = BeautifulSoup(html, 'html.parser')\n",
    "\n",
    "    # Find the table with the specified id\n",
    "    table = soup.find('table', {'id': 'circuitos'})\n",
    "\n",
    "    # Check if the table was found\n",
    "    if table:\n",
    "        # Extract table data into a list of lists\n",
    "        table_data = []\n",
    "        for row in table.find_all('tr'):\n",
    "            row_data = [cell.get_text(strip=True) for cell in row.find_all(['th', 'td'])]\n",
    "            table_data.append(row_data)\n",
    "\n",
    "        # Convert the list of lists into a pandas DataFrame\n",
    "        headers = table_data[0]\n",
    "        data = table_data[1:]\n",
    "        df = pd.DataFrame(data, columns=headers)\n",
    "        \n",
    "        # Store the DataFrame in the dictionary\n",
    "        dataframes_by_year[year] = df\n",
    "    else:\n",
    "        print(f\"Table with id 'circuitos' not found for year {year}.\")\n",
    "\n",
    "# Access the DataFrame for a specific year\n",
    "print(\"DataFrame for year 2012:\")\n",
    "print(dataframes_by_year[\"2012\"])"
   ]
  },
  {
   "cell_type": "code",
   "execution_count": 3,
   "metadata": {},
   "outputs": [
    {
     "name": "stdout",
     "output_type": "stream",
     "text": [
      "Info for year 2012:\n",
      "<class 'pandas.core.frame.DataFrame'>\n",
      "RangeIndex: 1397 entries, 0 to 1396\n",
      "Data columns (total 6 columns):\n",
      " #   Column  Non-Null Count  Dtype \n",
      "---  ------  --------------  ----- \n",
      " 0   Driver  1397 non-null   object\n",
      " 1   GP      1397 non-null   object\n",
      " 2   Tyres   1397 non-null   object\n",
      " 3   From    1397 non-null   object\n",
      " 4   To      1397 non-null   object\n",
      " 5   #Laps   1397 non-null   object\n",
      "dtypes: object(6)\n",
      "memory usage: 65.6+ KB\n",
      "None\n"
     ]
    }
   ],
   "source": [
    "print(\"Info for year 2012:\")\n",
    "print(dataframes_by_year[\"2012\"].info())"
   ]
  },
  {
   "cell_type": "code",
   "execution_count": null,
   "metadata": {},
   "outputs": [],
   "source": [
    "print(dataframes_by_year[\"2012\"].info())"
   ]
  },
  {
   "cell_type": "code",
   "execution_count": null,
   "metadata": {},
   "outputs": [],
   "source": []
  },
  {
   "cell_type": "markdown",
   "metadata": {},
   "source": [
    "``````\n",
    "Round\t  Race\t             Circuit\t                                     Date\t\n",
    "1\t  Australian         Grand Prix\tAlbert Park\t                        March 16 – 18\t\n",
    "2\t  Malaysian          Grand Prix\tSepang International Circuit\t    March 23 – 25\t\n",
    "3\t  Chinese            Grand Prix\tShanghai International Circuit\t    April 13 – 15\t\n",
    "4\t  Bahrain            Grand Prix\tBahrain International Circuit\t    April 20 – 22\t\n",
    "5\t  Spanish            Grand Prix\tCircuit de Catalunya\t            May 11 – 13\t\n",
    "6\t  Monaco             Grand Prix\tMonte-Carlo\t                        May 24 – 27\t\n",
    "7\t  Canadian           Grand Prix\tCircuit Gilles Villeneuve\t        June 8 – 10\t\n",
    "8\t  European           Grand Prix\tValencia Street Circuit\t            June 22 – 24\t\n",
    "9\t  British            Grand Prix\tSilverstone\t                        July 6 – 8\t\n",
    "10\t  German             Grand Prix\tHockenheimring\t                    July 20 – 22\t\n",
    "11\t  Hungarian          Grand Prix\tHungaroring\t                        July 27 – 29\t\n",
    "12\t  Belgian            Grand Prix\tSpa-Francorchamps\t                August 31 – September 2\t\n",
    "13\t  Italian            Grand Prix\tMonza\t                            September 7 – 9\t\n",
    "14\t  Singapore          Grand Prix\tSingapore\t                        September 21 – 23\t\n",
    "15\t  Japanese           Grand Prix\tSuzuka\t                            October 5 – 7\t\n",
    "16\t  Korean             Grand Prix\tKorean International Circuit\t    October 12 – 14\t\n",
    "17\t  Indian             Grand Prix\tBuddh International Circuit\t        October 26 – 28\t\n",
    "18\t  Abu Dhabi          Grand Prix\tYas Marina\t                        November 2 – 4\t\n",
    "19\t  United States      Grand Prix\tCircuit of the Americas\t            November 16 – 18\t\n",
    "20\t  Brazilian          Grand Prix\tInterlagos\t                        November 23 – 25\t\n",
    "``````"
   ]
  },
  {
   "cell_type": "code",
   "execution_count": 4,
   "metadata": {},
   "outputs": [
    {
     "name": "stdout",
     "output_type": "stream",
     "text": [
      "               Driver         GP           Tyres From  To #Laps\n",
      "0     Fernando Alonso  Australia  Supersoft Used    1   9     9\n",
      "1     Fernando Alonso  Australia      Medium New   10  20    11\n",
      "2     Fernando Alonso  Australia      Medium New   21  39    19\n",
      "3     Fernando Alonso  Australia      Medium New   40  58    19\n",
      "4      Kimi Räikkönen  Australia  Supersoft Used    1   9     9\n",
      "...               ...        ...             ...  ...  ..   ...\n",
      "1352      Charles Pic     Brazil        Hard New   26  58    33\n",
      "1353  Valtteri Bottas     Brazil      Medium New    1  17    17\n",
      "1354  Valtteri Bottas     Brazil        Hard New   18  41    24\n",
      "1355  Valtteri Bottas     Brazil      Medium New   42  45     4\n",
      "1356  Romain Grosjean     Brazil      Medium New    1   3     3\n",
      "\n",
      "[1357 rows x 6 columns]\n"
     ]
    }
   ],
   "source": [
    "print(dataframes_by_year[\"2013\"])"
   ]
  },
  {
   "cell_type": "code",
   "execution_count": 5,
   "metadata": {},
   "outputs": [
    {
     "name": "stdout",
     "output_type": "stream",
     "text": [
      "Info for year 2013:\n",
      "<class 'pandas.core.frame.DataFrame'>\n",
      "RangeIndex: 1357 entries, 0 to 1356\n",
      "Data columns (total 6 columns):\n",
      " #   Column  Non-Null Count  Dtype \n",
      "---  ------  --------------  ----- \n",
      " 0   Driver  1357 non-null   object\n",
      " 1   GP      1357 non-null   object\n",
      " 2   Tyres   1357 non-null   object\n",
      " 3   From    1357 non-null   object\n",
      " 4   To      1357 non-null   object\n",
      " 5   #Laps   1357 non-null   object\n",
      "dtypes: object(6)\n",
      "memory usage: 63.7+ KB\n",
      "None\n"
     ]
    }
   ],
   "source": [
    "print(\"Info for year 2013:\")\n",
    "print(dataframes_by_year[\"2013\"].info())"
   ]
  },
  {
   "cell_type": "markdown",
   "metadata": {},
   "source": [
    "``````\n",
    "Round\t    Race\t            Circuit\t                                         Date\t\n",
    "1\t   Australian             Grand Prix\tAlbert Park                 \t    March 15 – 17\t\n",
    "2\t   Malaysian              Grand Prix\tSepang International Circuit\t    March 22 – 24\t\n",
    "3\t   Chinese                Grand Prix\tShanghai International Circuit\t    April 12 – 14\t\n",
    "4\t   Bahrain                Grand Prix\tBahrain International Circuit\t    April 19 – 21\t\n",
    "5\t   Spanish                Grand Prix\tCircuit de Catalunya\t            May 10 – 12\t\n",
    "6\t   Monaco                 Grand Prix\tMonte-Carlo\t                        May 23 – 26\t\n",
    "7\t   Canadian               Grand Prix\tCircuit Gilles Villeneuve\t        June 7 – 9\t\n",
    "8\t   British                Grand Prix\tSilverstone\t                        June 28 – 30\t\n",
    "9\t   German                 Grand Prix\tNurburgring\t                        July 5 – 7\t\n",
    "10\t   Hungarian              Grand Prix\tHungaroring\t                        July 26 – 28\t\n",
    "11\t   Belgian                Grand Prix\tSpa-Francorchamps\t                August 23 – 25\t\n",
    "12\t   Italian                Grand Prix\tMonza\t                            September 6 – 8\t\n",
    "13\t   Singapore              Grand Prix\tSingapore\t                        September 20 – 22\t\n",
    "14\t   Korean                 Grand Prix\tKorean International Circuit\t    October 4 – 6\t\n",
    "15\t   Japanese               Grand Prix\tSuzuka\t                            October 11 – 13\t\n",
    "16\t   Indian                 Grand Prix\tBuddh International Circuit\t        October 25 – 27\t\n",
    "17\t   Abu Dhabi              Grand Prix\tYas Marina\t                        November 1 – 3\t\n",
    "18\t   United States          Grand Prix\tCircuit of the Americas\t            November 15 – 17\t\n",
    "19\t   Brazilian              Grand Prix\tInterlagos\t                         November 22 – 24\t\n",
    "``````"
   ]
  },
  {
   "cell_type": "code",
   "execution_count": 6,
   "metadata": {},
   "outputs": [
    {
     "name": "stdout",
     "output_type": "stream",
     "text": [
      "                Driver         GP          Tyres From  To #Laps\n",
      "0         Nico Rosberg  Australia       Soft New    1  12    12\n",
      "1         Nico Rosberg  Australia       Soft New   13  38    26\n",
      "2         Nico Rosberg  Australia     Medium New   39  57    19\n",
      "3     Daniel Ricciardo  Australia       Soft New    1  12    12\n",
      "4     Daniel Ricciardo  Australia       Soft New   13  36    24\n",
      "...                ...        ...            ...  ...  ..   ...\n",
      "1212     Jenson Button  Abu Dhabi       Soft New    7  28    22\n",
      "1213     Jenson Button  Abu Dhabi       Soft New   29  55    27\n",
      "1214   Nico Hulkenberg  Abu Dhabi       Soft New   16  37    22\n",
      "1215   Nico Hulkenberg  Abu Dhabi  Supersoft New   38  55    18\n",
      "1216    Lewis Hamilton     Russia     Medium New   28  53    26\n",
      "\n",
      "[1217 rows x 6 columns]\n"
     ]
    }
   ],
   "source": [
    "print(dataframes_by_year[\"2014\"])"
   ]
  },
  {
   "cell_type": "code",
   "execution_count": 7,
   "metadata": {},
   "outputs": [
    {
     "name": "stdout",
     "output_type": "stream",
     "text": [
      "Info for year 2014:\n",
      "<class 'pandas.core.frame.DataFrame'>\n",
      "RangeIndex: 1217 entries, 0 to 1216\n",
      "Data columns (total 6 columns):\n",
      " #   Column  Non-Null Count  Dtype \n",
      "---  ------  --------------  ----- \n",
      " 0   Driver  1217 non-null   object\n",
      " 1   GP      1217 non-null   object\n",
      " 2   Tyres   1217 non-null   object\n",
      " 3   From    1217 non-null   object\n",
      " 4   To      1217 non-null   object\n",
      " 5   #Laps   1217 non-null   object\n",
      "dtypes: object(6)\n",
      "memory usage: 57.2+ KB\n",
      "None\n"
     ]
    }
   ],
   "source": [
    "print(\"Info for year 2014:\")\n",
    "print(dataframes_by_year[\"2014\"].info())"
   ]
  },
  {
   "cell_type": "code",
   "execution_count": 8,
   "metadata": {},
   "outputs": [
    {
     "name": "stdout",
     "output_type": "stream",
     "text": [
      "                Driver             GP           Tyres From  To #Laps\n",
      "0       Lewis Hamilton      Australia       Soft Used    1  25    25\n",
      "1       Lewis Hamilton      Australia      Medium New   26  58    33\n",
      "2         Nico Rosberg      Australia       Soft Used    1  26    26\n",
      "3         Nico Rosberg      Australia      Medium New   27  58    32\n",
      "4     Sebastian Vettel      Australia       Soft Used    1  24    24\n",
      "...                ...            ...             ...  ...  ..   ...\n",
      "1058   Valtteri Bottas        Austria  Supersoft Used    1  26    26\n",
      "1059   Valtteri Bottas        Austria        Soft New   27  71    45\n",
      "1060   Marcus Ericsson  Great Britain     Medium Used   42  42     1\n",
      "1061   Valtteri Bottas      Abu Dhabi        Soft New    9  10     2\n",
      "1062   Valtteri Bottas      Abu Dhabi        Soft New   11  29    19\n",
      "\n",
      "[1063 rows x 6 columns]\n"
     ]
    }
   ],
   "source": [
    "print(dataframes_by_year[\"2015\"])"
   ]
  },
  {
   "cell_type": "code",
   "execution_count": 9,
   "metadata": {},
   "outputs": [
    {
     "name": "stdout",
     "output_type": "stream",
     "text": [
      "Info for year 2015:\n",
      "<class 'pandas.core.frame.DataFrame'>\n",
      "RangeIndex: 1063 entries, 0 to 1062\n",
      "Data columns (total 6 columns):\n",
      " #   Column  Non-Null Count  Dtype \n",
      "---  ------  --------------  ----- \n",
      " 0   Driver  1063 non-null   object\n",
      " 1   GP      1063 non-null   object\n",
      " 2   Tyres   1063 non-null   object\n",
      " 3   From    1063 non-null   object\n",
      " 4   To      1063 non-null   object\n",
      " 5   #Laps   1063 non-null   object\n",
      "dtypes: object(6)\n",
      "memory usage: 50.0+ KB\n",
      "None\n"
     ]
    }
   ],
   "source": [
    "print(\"Info for year 2015:\")\n",
    "print(dataframes_by_year[\"2015\"].info())"
   ]
  },
  {
   "cell_type": "code",
   "execution_count": 10,
   "metadata": {},
   "outputs": [
    {
     "name": "stdout",
     "output_type": "stream",
     "text": [
      "                 Driver         GP           Tyres From  To #Laps\n",
      "0          Nico Rosberg  Australia  Supersoft Used    1  12    12\n",
      "1          Nico Rosberg  Australia        Soft New   13  18     6\n",
      "2          Nico Rosberg  Australia      Medium New   19  57    39\n",
      "3        Lewis Hamilton  Australia  Supersoft Used    1  16    16\n",
      "4        Lewis Hamilton  Australia      Medium New   17  57    41\n",
      "...                 ...        ...             ...  ...  ..   ...\n",
      "1360      Jenson Button  Abu Dhabi        Soft New    1  12    12\n",
      "1361    Valtteri Bottas  Abu Dhabi   Ultrasoft New    1   6     6\n",
      "1362    Kevin Magnussen  Abu Dhabi        Soft New    1   1     1\n",
      "1363    Kevin Magnussen  Abu Dhabi        Soft New    2   5     4\n",
      "1364  Esteban Gutierrez  Abu Dhabi        Soft New    9  28    20\n",
      "\n",
      "[1365 rows x 6 columns]\n"
     ]
    }
   ],
   "source": [
    "print(dataframes_by_year[\"2016\"])"
   ]
  },
  {
   "cell_type": "code",
   "execution_count": 11,
   "metadata": {},
   "outputs": [
    {
     "name": "stdout",
     "output_type": "stream",
     "text": [
      "Info for year 2016:\n",
      "<class 'pandas.core.frame.DataFrame'>\n",
      "RangeIndex: 1365 entries, 0 to 1364\n",
      "Data columns (total 6 columns):\n",
      " #   Column  Non-Null Count  Dtype \n",
      "---  ------  --------------  ----- \n",
      " 0   Driver  1365 non-null   object\n",
      " 1   GP      1365 non-null   object\n",
      " 2   Tyres   1365 non-null   object\n",
      " 3   From    1365 non-null   object\n",
      " 4   To      1365 non-null   object\n",
      " 5   #Laps   1365 non-null   object\n",
      "dtypes: object(6)\n",
      "memory usage: 64.1+ KB\n",
      "None\n"
     ]
    }
   ],
   "source": [
    "print(\"Info for year 2016:\")\n",
    "print(dataframes_by_year[\"2016\"].info())"
   ]
  },
  {
   "cell_type": "code",
   "execution_count": 12,
   "metadata": {},
   "outputs": [
    {
     "name": "stdout",
     "output_type": "stream",
     "text": [
      "               Driver         GP           Tyres From  To #Laps\n",
      "0    Sebastian Vettel  Australia  Ultrasoft Used    1  23    23\n",
      "1    Sebastian Vettel  Australia        Soft New   24  57    34\n",
      "2      Lewis Hamilton  Australia  Ultrasoft Used    1  17    17\n",
      "3      Lewis Hamilton  Australia        Soft New   18  57    40\n",
      "4     Valtteri Bottas  Australia  Ultrasoft Used    1  25    25\n",
      "..                ...        ...             ...  ...  ..   ...\n",
      "913      Carlos Sainz  Abu Dhabi   Ultrasoft New    1  31    31\n",
      "914      Carlos Sainz  Abu Dhabi   Supersoft New   32  32     1\n",
      "915  Daniel Ricciardo  Abu Dhabi  Ultrasoft Used    1  19    19\n",
      "916  Daniel Ricciardo  Abu Dhabi   Supersoft New   20  20     1\n",
      "917    Lewis Hamilton  Abu Dhabi   Supersoft New   25  55    31\n",
      "\n",
      "[918 rows x 6 columns]\n"
     ]
    }
   ],
   "source": [
    "print(dataframes_by_year[\"2017\"])"
   ]
  },
  {
   "cell_type": "code",
   "execution_count": 13,
   "metadata": {},
   "outputs": [
    {
     "name": "stdout",
     "output_type": "stream",
     "text": [
      "Info for year 2017:\n",
      "<class 'pandas.core.frame.DataFrame'>\n",
      "RangeIndex: 918 entries, 0 to 917\n",
      "Data columns (total 6 columns):\n",
      " #   Column  Non-Null Count  Dtype \n",
      "---  ------  --------------  ----- \n",
      " 0   Driver  918 non-null    object\n",
      " 1   GP      918 non-null    object\n",
      " 2   Tyres   918 non-null    object\n",
      " 3   From    918 non-null    object\n",
      " 4   To      918 non-null    object\n",
      " 5   #Laps   918 non-null    object\n",
      "dtypes: object(6)\n",
      "memory usage: 43.2+ KB\n",
      "None\n"
     ]
    }
   ],
   "source": [
    "print(\"Info for year 2017:\")\n",
    "print(dataframes_by_year[\"2017\"].info())"
   ]
  },
  {
   "cell_type": "code",
   "execution_count": 14,
   "metadata": {},
   "outputs": [
    {
     "name": "stdout",
     "output_type": "stream",
     "text": [
      "               Driver         GP               Tyres From  To #Laps\n",
      "0    Sebastian Vettel  Australia      Ultrasoft Used    1  26    26\n",
      "1    Sebastian Vettel  Australia            Soft New   27  58    32\n",
      "2      Lewis Hamilton  Australia      Ultrasoft Used    1  19    19\n",
      "3      Lewis Hamilton  Australia            Soft New   20  58    39\n",
      "4      Kimi Räikkönen  Australia      Ultrasoft Used    1  18    18\n",
      "..                ...        ...                 ...  ...  ..   ...\n",
      "930      Esteban Ocon  Abu Dhabi  Hiper Blando Usado    1  18    18\n",
      "931      Esteban Ocon  Abu Dhabi       Supersoft New   19  44    26\n",
      "932   Marcus Ericsson  Abu Dhabi       Supersoft New    1  24    24\n",
      "933    Kimi Räikkönen  Abu Dhabi      Ultrasoft Used    1   6     6\n",
      "934   Nico Hulkenberg  Abu Dhabi  Hiper Blando Usado    1   1     1\n",
      "\n",
      "[935 rows x 6 columns]\n"
     ]
    }
   ],
   "source": [
    "print(dataframes_by_year[\"2018\"])"
   ]
  },
  {
   "cell_type": "code",
   "execution_count": null,
   "metadata": {},
   "outputs": [],
   "source": []
  },
  {
   "cell_type": "code",
   "execution_count": 15,
   "metadata": {},
   "outputs": [
    {
     "name": "stdout",
     "output_type": "stream",
     "text": [
      "Info for year 2018:\n",
      "<class 'pandas.core.frame.DataFrame'>\n",
      "RangeIndex: 935 entries, 0 to 934\n",
      "Data columns (total 6 columns):\n",
      " #   Column  Non-Null Count  Dtype \n",
      "---  ------  --------------  ----- \n",
      " 0   Driver  935 non-null    object\n",
      " 1   GP      935 non-null    object\n",
      " 2   Tyres   935 non-null    object\n",
      " 3   From    935 non-null    object\n",
      " 4   To      935 non-null    object\n",
      " 5   #Laps   935 non-null    object\n",
      "dtypes: object(6)\n",
      "memory usage: 44.0+ KB\n",
      "None\n"
     ]
    }
   ],
   "source": [
    "print(\"Info for year 2018:\")\n",
    "print(dataframes_by_year[\"2018\"].info())"
   ]
  },
  {
   "cell_type": "code",
   "execution_count": 16,
   "metadata": {},
   "outputs": [
    {
     "name": "stdout",
     "output_type": "stream",
     "text": [
      "               Driver         GP       Tyres From  To #Laps\n",
      "0     Valtteri Bottas  Australia   Soft Used    1  23    23\n",
      "1     Valtteri Bottas  Australia  Medium New   24  58    35\n",
      "2      Lewis Hamilton  Australia   Soft Used    1  15    15\n",
      "3      Lewis Hamilton  Australia  Medium New   16  58    43\n",
      "4      Max Verstappen  Australia   Soft Used    1  25    25\n",
      "...               ...        ...         ...  ...  ..   ...\n",
      "1060    Robert Kubica  Abu Dhabi  Medium New   25  53    29\n",
      "1061     Lance Stroll  Abu Dhabi  Medium New    1   5     5\n",
      "1062     Lance Stroll  Abu Dhabi    Hard New    6  23    18\n",
      "1063     Lance Stroll  Abu Dhabi    Soft New   24  45    22\n",
      "1064    Robert Kubica  Abu Dhabi    Hard New    1  24    24\n",
      "\n",
      "[1065 rows x 6 columns]\n"
     ]
    }
   ],
   "source": [
    "print(dataframes_by_year[\"2019\"])"
   ]
  },
  {
   "cell_type": "code",
   "execution_count": 17,
   "metadata": {},
   "outputs": [
    {
     "name": "stdout",
     "output_type": "stream",
     "text": [
      "Info for year 2019:\n",
      "<class 'pandas.core.frame.DataFrame'>\n",
      "RangeIndex: 1065 entries, 0 to 1064\n",
      "Data columns (total 6 columns):\n",
      " #   Column  Non-Null Count  Dtype \n",
      "---  ------  --------------  ----- \n",
      " 0   Driver  1065 non-null   object\n",
      " 1   GP      1065 non-null   object\n",
      " 2   Tyres   1065 non-null   object\n",
      " 3   From    1065 non-null   object\n",
      " 4   To      1065 non-null   object\n",
      " 5   #Laps   1065 non-null   object\n",
      "dtypes: object(6)\n",
      "memory usage: 50.1+ KB\n",
      "None\n"
     ]
    }
   ],
   "source": [
    "print(\"Info for year 2019:\")\n",
    "print(dataframes_by_year[\"2019\"].info())"
   ]
  },
  {
   "cell_type": "code",
   "execution_count": 18,
   "metadata": {},
   "outputs": [
    {
     "name": "stdout",
     "output_type": "stream",
     "text": [
      "                Driver         GP       Tyres From  To #Laps\n",
      "0      Valtteri Bottas    Austria   Soft Used    1  26    26\n",
      "1      Valtteri Bottas    Austria    Hard New   27  56    30\n",
      "2      Valtteri Bottas    Austria    Hard New   57  71    15\n",
      "3      Charles Leclerc    Austria   Soft Used    1  26    26\n",
      "4      Charles Leclerc    Austria    Hard New   27  51    25\n",
      "..                 ...        ...         ...  ...  ..   ...\n",
      "907  Pietro Fittipaldi  Abu Dhabi  Medium New    1  10    10\n",
      "908  Pietro Fittipaldi  Abu Dhabi    Hard New   11  34    24\n",
      "909  Pietro Fittipaldi  Abu Dhabi  Medium New   35  48    14\n",
      "910  Pietro Fittipaldi  Abu Dhabi   Soft Used   49  53     5\n",
      "911       Sergio Perez  Abu Dhabi    Hard New    1   8     8\n",
      "\n",
      "[912 rows x 6 columns]\n"
     ]
    }
   ],
   "source": [
    "print(dataframes_by_year[\"2020\"])"
   ]
  },
  {
   "cell_type": "code",
   "execution_count": 19,
   "metadata": {},
   "outputs": [
    {
     "name": "stdout",
     "output_type": "stream",
     "text": [
      "Info for year 2020:\n",
      "<class 'pandas.core.frame.DataFrame'>\n",
      "RangeIndex: 912 entries, 0 to 911\n",
      "Data columns (total 6 columns):\n",
      " #   Column  Non-Null Count  Dtype \n",
      "---  ------  --------------  ----- \n",
      " 0   Driver  912 non-null    object\n",
      " 1   GP      912 non-null    object\n",
      " 2   Tyres   912 non-null    object\n",
      " 3   From    912 non-null    object\n",
      " 4   To      912 non-null    object\n",
      " 5   #Laps   912 non-null    object\n",
      "dtypes: object(6)\n",
      "memory usage: 42.9+ KB\n",
      "None\n"
     ]
    }
   ],
   "source": [
    "print(\"Info for year 2020:\")\n",
    "print(dataframes_by_year[\"2020\"].info())"
   ]
  },
  {
   "cell_type": "code",
   "execution_count": 20,
   "metadata": {},
   "outputs": [
    {
     "name": "stdout",
     "output_type": "stream",
     "text": [
      "               Driver         GP        Tyres From  To #Laps\n",
      "0      Lewis Hamilton    Bahrain  Medium Used    1  13    13\n",
      "1      Lewis Hamilton    Bahrain     Hard New   14  28    15\n",
      "2      Lewis Hamilton    Bahrain     Hard New   29  56    28\n",
      "3      Max Verstappen    Bahrain  Medium Used    1  17    17\n",
      "4      Max Verstappen    Bahrain   Medium New   18  39    22\n",
      "...               ...        ...          ...  ...  ..   ...\n",
      "1087     Pierre Gasly  Abu Dhabi  Medium Used   37  54    18\n",
      "1088     Carlos Sainz  Abu Dhabi    Soft Used    1  19    19\n",
      "1089   Lewis Hamilton  Abu Dhabi    Hard Used   15  58    44\n",
      "1090  Valtteri Bottas  Abu Dhabi    Hard Used   31  58    28\n",
      "1091     Esteban Ocon  Abu Dhabi    Hard Used   16  58    43\n",
      "\n",
      "[1092 rows x 6 columns]\n"
     ]
    }
   ],
   "source": [
    "print(dataframes_by_year[\"2021\"])"
   ]
  },
  {
   "cell_type": "code",
   "execution_count": 21,
   "metadata": {},
   "outputs": [
    {
     "name": "stdout",
     "output_type": "stream",
     "text": [
      "Info for year 2021:\n",
      "<class 'pandas.core.frame.DataFrame'>\n",
      "RangeIndex: 1092 entries, 0 to 1091\n",
      "Data columns (total 6 columns):\n",
      " #   Column  Non-Null Count  Dtype \n",
      "---  ------  --------------  ----- \n",
      " 0   Driver  1092 non-null   object\n",
      " 1   GP      1092 non-null   object\n",
      " 2   Tyres   1092 non-null   object\n",
      " 3   From    1092 non-null   object\n",
      " 4   To      1092 non-null   object\n",
      " 5   #Laps   1092 non-null   object\n",
      "dtypes: object(6)\n",
      "memory usage: 51.3+ KB\n",
      "None\n"
     ]
    }
   ],
   "source": [
    "print(\"Info for year 2021:\")\n",
    "print(dataframes_by_year[\"2021\"].info())"
   ]
  },
  {
   "cell_type": "code",
   "execution_count": 22,
   "metadata": {},
   "outputs": [
    {
     "name": "stdout",
     "output_type": "stream",
     "text": [
      "               Driver         GP       Tyres From  To #Laps\n",
      "0     Charles Leclerc    Bahrain    Soft New    1  15    15\n",
      "1     Charles Leclerc    Bahrain   Soft Used   16  31    16\n",
      "2     Charles Leclerc    Bahrain  Medium New   32  46    15\n",
      "3     Charles Leclerc    Bahrain   Soft Used   47  57    11\n",
      "4        Carlos Sainz    Bahrain   Soft Used    1  14    14\n",
      "...               ...        ...         ...  ...  ..   ...\n",
      "1208  Nicholas Latifi  Abu Dhabi  Medium New    1  15    15\n",
      "1209  Nicholas Latifi  Abu Dhabi    Hard New   16  38    23\n",
      "1210  Nicholas Latifi  Abu Dhabi  Medium New   39  55    17\n",
      "1211  Fernando Alonso  Abu Dhabi  Medium New    1  19    19\n",
      "1212  Fernando Alonso  Abu Dhabi    Hard New   20  27     8\n",
      "\n",
      "[1213 rows x 6 columns]\n"
     ]
    }
   ],
   "source": [
    "print(dataframes_by_year[\"2022\"])"
   ]
  },
  {
   "cell_type": "code",
   "execution_count": 23,
   "metadata": {},
   "outputs": [
    {
     "name": "stdout",
     "output_type": "stream",
     "text": [
      "Info for year 2022:\n",
      "<class 'pandas.core.frame.DataFrame'>\n",
      "RangeIndex: 1213 entries, 0 to 1212\n",
      "Data columns (total 6 columns):\n",
      " #   Column  Non-Null Count  Dtype \n",
      "---  ------  --------------  ----- \n",
      " 0   Driver  1213 non-null   object\n",
      " 1   GP      1213 non-null   object\n",
      " 2   Tyres   1213 non-null   object\n",
      " 3   From    1213 non-null   object\n",
      " 4   To      1213 non-null   object\n",
      " 5   #Laps   1213 non-null   object\n",
      "dtypes: object(6)\n",
      "memory usage: 57.0+ KB\n",
      "None\n"
     ]
    }
   ],
   "source": [
    "print(\"Info for year 2022:\")\n",
    "print(dataframes_by_year[\"2022\"].info())"
   ]
  },
  {
   "cell_type": "code",
   "execution_count": 24,
   "metadata": {},
   "outputs": [
    {
     "name": "stdout",
     "output_type": "stream",
     "text": [
      "              Driver       GP       Tyres From  To #Laps\n",
      "0     Max Verstappen  Bahrain   Soft Used    1  14    14\n",
      "1     Max Verstappen  Bahrain   Soft Used   15  36    22\n",
      "2     Max Verstappen  Bahrain    Hard New   37  57    21\n",
      "3       Sergio Perez  Bahrain   Soft Used    1  17    17\n",
      "4       Sergio Perez  Bahrain   Soft Used   18  34    17\n",
      "..               ...      ...         ...  ...  ..   ...\n",
      "654     Carlos Sainz  Belgium  Medium New    8  23    16\n",
      "655    Oscar Piastri  Belgium  Medium New    1   1     1\n",
      "656  Charles Leclerc  Belgium    Soft New    1  13    13\n",
      "657  Charles Leclerc  Belgium  Medium New   14  28    15\n",
      "658  Charles Leclerc  Belgium    Soft New   29  44    16\n",
      "\n",
      "[659 rows x 6 columns]\n"
     ]
    }
   ],
   "source": [
    "print(dataframes_by_year[\"2023\"])"
   ]
  },
  {
   "cell_type": "code",
   "execution_count": 25,
   "metadata": {},
   "outputs": [
    {
     "name": "stdout",
     "output_type": "stream",
     "text": [
      "Info for year 2023:\n",
      "<class 'pandas.core.frame.DataFrame'>\n",
      "RangeIndex: 659 entries, 0 to 658\n",
      "Data columns (total 6 columns):\n",
      " #   Column  Non-Null Count  Dtype \n",
      "---  ------  --------------  ----- \n",
      " 0   Driver  659 non-null    object\n",
      " 1   GP      659 non-null    object\n",
      " 2   Tyres   659 non-null    object\n",
      " 3   From    659 non-null    object\n",
      " 4   To      659 non-null    object\n",
      " 5   #Laps   659 non-null    object\n",
      "dtypes: object(6)\n",
      "memory usage: 31.0+ KB\n",
      "None\n"
     ]
    }
   ],
   "source": [
    "print(\"Info for year 2023:\")\n",
    "print(dataframes_by_year[\"2023\"].info())"
   ]
  }
 ],
 "metadata": {
  "kernelspec": {
   "display_name": ".venv",
   "language": "python",
   "name": "python3"
  },
  "language_info": {
   "codemirror_mode": {
    "name": "ipython",
    "version": 3
   },
   "file_extension": ".py",
   "mimetype": "text/x-python",
   "name": "python",
   "nbconvert_exporter": "python",
   "pygments_lexer": "ipython3",
   "version": "3.11.3"
  },
  "orig_nbformat": 4
 },
 "nbformat": 4,
 "nbformat_minor": 2
}
