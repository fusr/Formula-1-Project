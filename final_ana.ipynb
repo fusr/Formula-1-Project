{
 "cells": [
  {
   "cell_type": "code",
   "execution_count": 1,
   "metadata": {},
   "outputs": [],
   "source": [
    "import pandas as pd\n",
    "import numpy as np"
   ]
  },
  {
   "cell_type": "markdown",
   "metadata": {},
   "source": [
    "List of dfs needed:\n",
    "\n",
    "1. tyre_data_new_df x\n",
    "2. circuits_df x\n",
    "3. drivers_df x\n",
    "4. lap_times_df\n",
    "5. pit_stops_df x\n",
    "6. races_with_dummies (included weather data in dummie variables) x\n",
    "7. results_df x\n",
    "\n",
    "Optional:\n",
    "\n",
    "1. constructor_results_df\n",
    "2. constructors_df\n",
    "3. status_df"
   ]
  },
  {
   "cell_type": "code",
   "execution_count": 3,
   "metadata": {},
   "outputs": [],
   "source": [
    "circuits_df = pd.read_csv(\"data/circuits.csv\")\n",
    "drivers_df = pd.read_csv(\"data/drivers.csv\")\n",
    "pit_stops_df = pd.read_csv(\"data/pit_stops.csv\")\n",
    "races_with_dummies_df = pd.read_csv(\"data/races_with_dummies.csv\")\n",
    "results_df = pd.read_csv(\"data/results.csv\")\n",
    "tyre_data_ID_df = pd.read_csv(\"data/tyre_data_drRef.csv\")\n",
    "lap_times_df = pd.read_csv(\"data/lap_times.csv\")"
   ]
  },
  {
   "cell_type": "code",
   "execution_count": 4,
   "metadata": {},
   "outputs": [
    {
     "name": "stdout",
     "output_type": "stream",
     "text": [
      "<class 'pandas.core.frame.DataFrame'>\n",
      "RangeIndex: 13302 entries, 0 to 13301\n",
      "Data columns (total 12 columns):\n",
      " #   Column      Non-Null Count  Dtype  \n",
      "---  ------      --------------  -----  \n",
      " 0   Unnamed: 0  13302 non-null  int64  \n",
      " 1   Driver      13297 non-null  object \n",
      " 2   GP          13302 non-null  object \n",
      " 3   Tyres       13302 non-null  object \n",
      " 4   From        13302 non-null  int64  \n",
      " 5   To          13302 non-null  int64  \n",
      " 6   #Laps       13302 non-null  int64  \n",
      " 7   year        13302 non-null  int64  \n",
      " 8   location    11353 non-null  object \n",
      " 9   raceId      13302 non-null  int64  \n",
      " 10  driverId    13164 non-null  float64\n",
      " 11  driverRef   13297 non-null  object \n",
      "dtypes: float64(1), int64(6), object(5)\n",
      "memory usage: 1.2+ MB\n"
     ]
    }
   ],
   "source": [
    "tyre_data_ID_df.info()"
   ]
  },
  {
   "cell_type": "markdown",
   "metadata": {},
   "source": [
    "#### Cleaning\n",
    "\n",
    "__Tyre_data_Id_df__"
   ]
  },
  {
   "cell_type": "code",
   "execution_count": 6,
   "metadata": {},
   "outputs": [],
   "source": [
    "tyres_mapping = {\n",
    "    'Hiper Blando Usado': 'Hyper Soft',\n",
    "    'Hiper Blando Nuevo': 'Hyper Soft',\n",
    "    'Lluvia Extrema Usado': 'Full Wet'\n",
    "}\n",
    "\n",
    "# Use the replace() method to update the values in the \"tyres\" column\n",
    "tyre_data_ID_df['Tyres'] = tyre_data_ID_df['Tyres'].replace(tyres_mapping)\n"
   ]
  },
  {
   "cell_type": "code",
   "execution_count": 7,
   "metadata": {},
   "outputs": [
    {
     "name": "stdout",
     "output_type": "stream",
     "text": [
      "       Unnamed: 0            Driver           GP         Tyres  From  To   \n",
      "0               0     Jenson Button    Australia          Soft     1  16  \\\n",
      "1               1     Jenson Button    Australia        Medium    17  36   \n",
      "2               2     Jenson Button    Australia        Medium    37  58   \n",
      "3               3  Sebastian Vettel    Australia          Soft     1  16   \n",
      "4               4  Sebastian Vettel    Australia          Soft    17  37   \n",
      "...           ...               ...          ...           ...   ...  ..   \n",
      "13297       13297       Zhou Guanyu  Netherlands          Soft    38  60   \n",
      "13298       13298    Logan Sargeant  Netherlands          Soft     1  14   \n",
      "13299       13299    Max Verstappen  Netherlands  Intermediate    65  72   \n",
      "13300       13300      Pierre Gasly  Netherlands          Soft    47  60   \n",
      "13301       13301   Nico Hulkenberg  Netherlands        Medium    17  48   \n",
      "\n",
      "       #Laps  year   location  raceId  driverId   driverRef  \n",
      "0         16  2012   Adelaide     860      18.0      button  \n",
      "1         20  2012   Adelaide     860      18.0      button  \n",
      "2         22  2012   Adelaide     860      18.0      button  \n",
      "3         16  2012   Adelaide     860      20.0      vettel  \n",
      "4         21  2012   Adelaide     860      20.0      vettel  \n",
      "...      ...   ...        ...     ...       ...         ...  \n",
      "13297     23  2023  Zandvoort    1111       NaN      guanyu  \n",
      "13298     14  2023  Zandvoort    1111     858.0    sargeant  \n",
      "13299      8  2023  Zandvoort    1111      50.0  verstappen  \n",
      "13300     14  2023  Zandvoort    1111     842.0       gasly  \n",
      "13301     32  2023  Zandvoort    1111     807.0  hulkenberg  \n",
      "\n",
      "[13302 rows x 12 columns]\n"
     ]
    }
   ],
   "source": [
    "tyre_data_ID_df['Tyres'] = tyre_data_ID_df['Tyres'].str.replace(' Used', '').str.replace(' New', '')\n",
    "\n",
    "# Print the DataFrame to verify the changes\n",
    "print(tyre_data_ID_df)"
   ]
  },
  {
   "cell_type": "code",
   "execution_count": 8,
   "metadata": {},
   "outputs": [
    {
     "data": {
      "text/plain": [
       "array(['Soft', 'Medium', 'Intermediate', 'Wet', 'Hard', 'Full Wet',\n",
       "       'Supersoft', 'Ultrasoft', 'Hyper Soft'], dtype=object)"
      ]
     },
     "execution_count": 8,
     "metadata": {},
     "output_type": "execute_result"
    }
   ],
   "source": [
    "tyre_data_ID_df.Tyres.unique()"
   ]
  },
  {
   "cell_type": "code",
   "execution_count": 10,
   "metadata": {},
   "outputs": [
    {
     "ename": "AttributeError",
     "evalue": "Can only use .str accessor with string values!",
     "output_type": "error",
     "traceback": [
      "\u001b[0;31m---------------------------------------------------------------------------\u001b[0m",
      "\u001b[0;31mAttributeError\u001b[0m                            Traceback (most recent call last)",
      "Cell \u001b[0;32mIn[10], line 7\u001b[0m\n\u001b[1;32m      4\u001b[0m tyre_data_ID_df[\u001b[39m'\u001b[39m\u001b[39mTyres\u001b[39m\u001b[39m'\u001b[39m] \u001b[39m=\u001b[39m tyre_data_ID_df[\u001b[39m'\u001b[39m\u001b[39mTyres\u001b[39m\u001b[39m'\u001b[39m]\u001b[39m.\u001b[39mstr\u001b[39m.\u001b[39msplit(\u001b[39m'\u001b[39m\u001b[39m, \u001b[39m\u001b[39m'\u001b[39m)\n\u001b[1;32m      6\u001b[0m \u001b[39m# Split the 'From' column\u001b[39;00m\n\u001b[0;32m----> 7\u001b[0m tyre_data_ID_df[\u001b[39m'\u001b[39m\u001b[39mFrom\u001b[39m\u001b[39m'\u001b[39m] \u001b[39m=\u001b[39m tyre_data_ID_df[\u001b[39m'\u001b[39;49m\u001b[39mFrom\u001b[39;49m\u001b[39m'\u001b[39;49m]\u001b[39m.\u001b[39;49mstr\u001b[39m.\u001b[39msplit(\u001b[39m'\u001b[39m\u001b[39m, \u001b[39m\u001b[39m'\u001b[39m)\n\u001b[1;32m      9\u001b[0m \u001b[39m# Split the 'To' column\u001b[39;00m\n\u001b[1;32m     10\u001b[0m tyre_data_ID_df[\u001b[39m'\u001b[39m\u001b[39mTo\u001b[39m\u001b[39m'\u001b[39m] \u001b[39m=\u001b[39m tyre_data_ID_df[\u001b[39m'\u001b[39m\u001b[39mTo\u001b[39m\u001b[39m'\u001b[39m]\u001b[39m.\u001b[39mstr\u001b[39m.\u001b[39msplit(\u001b[39m'\u001b[39m\u001b[39m, \u001b[39m\u001b[39m'\u001b[39m)\n",
      "File \u001b[0;32m~/neuefische/Formula-1-Project/.venv/lib/python3.11/site-packages/pandas/core/generic.py:5989\u001b[0m, in \u001b[0;36mNDFrame.__getattr__\u001b[0;34m(self, name)\u001b[0m\n\u001b[1;32m   5982\u001b[0m \u001b[39mif\u001b[39;00m (\n\u001b[1;32m   5983\u001b[0m     name \u001b[39mnot\u001b[39;00m \u001b[39min\u001b[39;00m \u001b[39mself\u001b[39m\u001b[39m.\u001b[39m_internal_names_set\n\u001b[1;32m   5984\u001b[0m     \u001b[39mand\u001b[39;00m name \u001b[39mnot\u001b[39;00m \u001b[39min\u001b[39;00m \u001b[39mself\u001b[39m\u001b[39m.\u001b[39m_metadata\n\u001b[1;32m   5985\u001b[0m     \u001b[39mand\u001b[39;00m name \u001b[39mnot\u001b[39;00m \u001b[39min\u001b[39;00m \u001b[39mself\u001b[39m\u001b[39m.\u001b[39m_accessors\n\u001b[1;32m   5986\u001b[0m     \u001b[39mand\u001b[39;00m \u001b[39mself\u001b[39m\u001b[39m.\u001b[39m_info_axis\u001b[39m.\u001b[39m_can_hold_identifiers_and_holds_name(name)\n\u001b[1;32m   5987\u001b[0m ):\n\u001b[1;32m   5988\u001b[0m     \u001b[39mreturn\u001b[39;00m \u001b[39mself\u001b[39m[name]\n\u001b[0;32m-> 5989\u001b[0m \u001b[39mreturn\u001b[39;00m \u001b[39mobject\u001b[39;49m\u001b[39m.\u001b[39;49m\u001b[39m__getattribute__\u001b[39;49m(\u001b[39mself\u001b[39;49m, name)\n",
      "File \u001b[0;32m~/neuefische/Formula-1-Project/.venv/lib/python3.11/site-packages/pandas/core/accessor.py:224\u001b[0m, in \u001b[0;36mCachedAccessor.__get__\u001b[0;34m(self, obj, cls)\u001b[0m\n\u001b[1;32m    221\u001b[0m \u001b[39mif\u001b[39;00m obj \u001b[39mis\u001b[39;00m \u001b[39mNone\u001b[39;00m:\n\u001b[1;32m    222\u001b[0m     \u001b[39m# we're accessing the attribute of the class, i.e., Dataset.geo\u001b[39;00m\n\u001b[1;32m    223\u001b[0m     \u001b[39mreturn\u001b[39;00m \u001b[39mself\u001b[39m\u001b[39m.\u001b[39m_accessor\n\u001b[0;32m--> 224\u001b[0m accessor_obj \u001b[39m=\u001b[39m \u001b[39mself\u001b[39;49m\u001b[39m.\u001b[39;49m_accessor(obj)\n\u001b[1;32m    225\u001b[0m \u001b[39m# Replace the property with the accessor object. Inspired by:\u001b[39;00m\n\u001b[1;32m    226\u001b[0m \u001b[39m# https://www.pydanny.com/cached-property.html\u001b[39;00m\n\u001b[1;32m    227\u001b[0m \u001b[39m# We need to use object.__setattr__ because we overwrite __setattr__ on\u001b[39;00m\n\u001b[1;32m    228\u001b[0m \u001b[39m# NDFrame\u001b[39;00m\n\u001b[1;32m    229\u001b[0m \u001b[39mobject\u001b[39m\u001b[39m.\u001b[39m\u001b[39m__setattr__\u001b[39m(obj, \u001b[39mself\u001b[39m\u001b[39m.\u001b[39m_name, accessor_obj)\n",
      "File \u001b[0;32m~/neuefische/Formula-1-Project/.venv/lib/python3.11/site-packages/pandas/core/strings/accessor.py:181\u001b[0m, in \u001b[0;36mStringMethods.__init__\u001b[0;34m(self, data)\u001b[0m\n\u001b[1;32m    178\u001b[0m \u001b[39mdef\u001b[39;00m \u001b[39m__init__\u001b[39m(\u001b[39mself\u001b[39m, data) \u001b[39m-\u001b[39m\u001b[39m>\u001b[39m \u001b[39mNone\u001b[39;00m:\n\u001b[1;32m    179\u001b[0m     \u001b[39mfrom\u001b[39;00m \u001b[39mpandas\u001b[39;00m\u001b[39m.\u001b[39;00m\u001b[39mcore\u001b[39;00m\u001b[39m.\u001b[39;00m\u001b[39marrays\u001b[39;00m\u001b[39m.\u001b[39;00m\u001b[39mstring_\u001b[39;00m \u001b[39mimport\u001b[39;00m StringDtype\n\u001b[0;32m--> 181\u001b[0m     \u001b[39mself\u001b[39m\u001b[39m.\u001b[39m_inferred_dtype \u001b[39m=\u001b[39m \u001b[39mself\u001b[39;49m\u001b[39m.\u001b[39;49m_validate(data)\n\u001b[1;32m    182\u001b[0m     \u001b[39mself\u001b[39m\u001b[39m.\u001b[39m_is_categorical \u001b[39m=\u001b[39m is_categorical_dtype(data\u001b[39m.\u001b[39mdtype)\n\u001b[1;32m    183\u001b[0m     \u001b[39mself\u001b[39m\u001b[39m.\u001b[39m_is_string \u001b[39m=\u001b[39m \u001b[39misinstance\u001b[39m(data\u001b[39m.\u001b[39mdtype, StringDtype)\n",
      "File \u001b[0;32m~/neuefische/Formula-1-Project/.venv/lib/python3.11/site-packages/pandas/core/strings/accessor.py:235\u001b[0m, in \u001b[0;36mStringMethods._validate\u001b[0;34m(data)\u001b[0m\n\u001b[1;32m    232\u001b[0m inferred_dtype \u001b[39m=\u001b[39m lib\u001b[39m.\u001b[39minfer_dtype(values, skipna\u001b[39m=\u001b[39m\u001b[39mTrue\u001b[39;00m)\n\u001b[1;32m    234\u001b[0m \u001b[39mif\u001b[39;00m inferred_dtype \u001b[39mnot\u001b[39;00m \u001b[39min\u001b[39;00m allowed_types:\n\u001b[0;32m--> 235\u001b[0m     \u001b[39mraise\u001b[39;00m \u001b[39mAttributeError\u001b[39;00m(\u001b[39m\"\u001b[39m\u001b[39mCan only use .str accessor with string values!\u001b[39m\u001b[39m\"\u001b[39m)\n\u001b[1;32m    236\u001b[0m \u001b[39mreturn\u001b[39;00m inferred_dtype\n",
      "\u001b[0;31mAttributeError\u001b[0m: Can only use .str accessor with string values!"
     ]
    }
   ],
   "source": [
    "tyre_data_ID_df = pd.DataFrame(tyre_data_ID_df)\n",
    "\n",
    "# Split the 'Tyres' column\n",
    "tyre_data_ID_df['Tyres'] = tyre_data_ID_df['Tyres'].str.split(', ')\n",
    "\n",
    "# Split the 'From' column\n",
    "tyre_data_ID_df['From'] = tyre_data_ID_df['From'].str.split(', ')\n",
    "\n",
    "# Split the 'To' column\n",
    "tyre_data_ID_df['To'] = tyre_data_ID_df['To'].str.split(', ')\n",
    "\n",
    "# Expand the columns without specifying 'Tyres' since it no longer exists\n",
    "tyres_columns = tyre_data_ID_df['Tyres'].apply(pd.Series)\n",
    "from_columns = tyre_data_ID_df['From'].apply(pd.Series)\n",
    "to_columns = tyre_data_ID_df['To'].apply(pd.Series)\n",
    "\n",
    "# Rename the expanded columns\n",
    "tyres_columns.columns = [f'Tyres_{i+1}' for i in range(tyres_columns.shape[1])]\n",
    "from_columns.columns = [f'From_{i+1}' for i in range(from_columns.shape[1])]\n",
    "to_columns.columns = [f'To_{i+1}' for i in range(to_columns.shape[1])]\n",
    "\n",
    "# Concatenate the expanded columns with the original DataFrame\n",
    "tyre_data_ID_df = pd.concat([tyre_data_ID_df, tyres_columns, from_columns, to_columns], axis=1)\n",
    "\n",
    "# Drop the original 'Tyres,' 'From,' and 'To' columns\n",
    "tyre_data_ID_df = tyre_data_ID_df.drop(['Tyres', 'From', 'To'], axis=1)\n",
    "\n",
    "# Print the resulting DataFrame\n",
    "print(tyre_data_ID_df)"
   ]
  },
  {
   "cell_type": "code",
   "execution_count": null,
   "metadata": {},
   "outputs": [],
   "source": [
    "import pandas as pd\n",
    "\n",
    "# Replace 'your_data.csv' with the actual path to your data file\n",
    "tyre_data_ID_df = pd.read_csv('your_data.csv')\n",
    "\n",
    "# Split the 'Tyres' column\n",
    "tyre_data_ID_df['Tyres'] = tyre_data_ID_df['Tyres'].str.split(', ')\n",
    "\n",
    "# Split the 'From' column\n",
    "tyre_data_ID_df['From'] = tyre_data_ID_df['From'].str.split(', ')\n",
    "\n",
    "# Split the 'To' column\n",
    "tyre_data_ID_df['To'] = tyre_data_ID_df['To'].str.split(', ')\n",
    "\n",
    "# Expand the columns without specifying 'Tyres' since it no longer exists\n",
    "tyres_columns = tyre_data_ID_df['Tyres'].apply(pd.Series)\n",
    "from_columns = tyre_data_ID_df['From'].apply(pd.Series)\n",
    "to_columns = tyre_data_ID_df['To'].apply(pd.Series)\n",
    "\n",
    "# Rename the expanded columns\n",
    "tyres_columns.columns = [f'Tyres_{i+1}' for i in range(tyres_columns.shape[1])]\n",
    "from_columns.columns = [f'From_{i+1}' for i in range(from_columns.shape[1])]\n",
    "to_columns.columns = [f'To_{i+1}' for i in range(to_columns.shape[1])]\n",
    "\n",
    "# Concatenate the expanded columns with the original DataFrame\n",
    "tyre_data_ID_df = pd.concat([tyre_data_ID_df, tyres_columns, from_columns, to_columns], axis=1)\n",
    "\n",
    "# Drop the original 'Tyres,' 'From,' and 'To' columns\n",
    "tyre_data_ID_df = tyre_data_ID_df.drop(['Tyres', 'From', 'To'], axis=1)\n",
    "\n",
    "# Print the resulting DataFrame\n",
    "print(tyre_data_ID_df)\n"
   ]
  }
 ],
 "metadata": {
  "kernelspec": {
   "display_name": ".venv",
   "language": "python",
   "name": "python3"
  },
  "language_info": {
   "codemirror_mode": {
    "name": "ipython",
    "version": 3
   },
   "file_extension": ".py",
   "mimetype": "text/x-python",
   "name": "python",
   "nbconvert_exporter": "python",
   "pygments_lexer": "ipython3",
   "version": "3.11.3"
  },
  "orig_nbformat": 4
 },
 "nbformat": 4,
 "nbformat_minor": 2
}
